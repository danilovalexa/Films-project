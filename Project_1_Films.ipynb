{
 "cells": [
  {
   "cell_type": "markdown",
   "metadata": {
    "id": "sIfNaMOxgFyK"
   },
   "source": [
    "## Исследование данных о российском кинопрокате\n",
    "\n"
   ]
  },
  {
   "cell_type": "markdown",
   "metadata": {},
   "source": [
    "\n",
    "В нашем распоряжении данные, опубликованные на портале данных Министерства культуры. Набор данных содержит информацию о прокатных удостоверениях, сборах и государственной поддержке фильмов, а также информацию с сайта КиноПоиск.\n",
    " \n",
    "Необходимо изучить рынок российского кинопроката и выявить текущие тренды. \n"
   ]
  },
  {
   "cell_type": "markdown",
   "metadata": {
    "id": "3bSlkCsbgFyL"
   },
   "source": [
    "### Шаг 1. Откройте файлы с данными и объедините их в один датафрейм. \n",
    "\n",
    "Объедините данные таким образом, чтобы все объекты из датасета `mkrf_movies` обязательно вошли в получившийся датафрейм. \n",
    "\n",
    "<div id=\"accordion\">\n",
    "    <div class=\"card\">\n",
    "        <div class=\"card-header\" id=\"headingThree\">\n",
    "            <button class=\"btn btn-link collapsed\" data-toggle=\"collapse\" data-target=\"#collapseHint_0\" aria-expanded=\"false\" aria-controls=\"collapseHint_0\">Подсказка</button>\n",
    "        </div>\n",
    "        <div id=\"collapseHint_0\" class=\"collapse\" aria-labelledby=\"headingThree\" data-parent=\"#accordion\">\n",
    "            <div class=\"card-body\">\n",
    "Обратите внимание на тип данных столбца, по которому будете соединять датафреймы. Тип данных этих столбцов должен быть одинаковым в обоих датафреймах.\n",
    "            </div>\n",
    "        </div>\n",
    "    </div>\n",
    "</div>"
   ]
  },
  {
   "cell_type": "markdown",
   "metadata": {},
   "source": [
    "У нас имеется два листа с данными: данные о прокатных удостоверениях `mkrf_movies`, данные о прокате в российских кинотеатрах `mkrf_shows`.\n",
    "\n",
    "Таблица `mkrf_movies` содержит информацию из реестра прокатных удостоверений. У одного фильма может быть несколько прокатных удостоверений.\n",
    "\n",
    "- title — название фильма;\n",
    "- puNumber — номер прокатного удостоверения;\n",
    "- show_start_date — дата премьеры фильма;\n",
    "- type — тип фильма;\n",
    "- film_studio — студия-производитель;\n",
    "- production_country — страна-производитель;\n",
    "- director — режиссёр;\n",
    "- producer — продюсер;\n",
    "- age_restriction — возрастная категория;\n",
    "- refundable_support — объём возвратных средств государственной поддержки;\n",
    "- nonrefundable_support — объём невозвратных средств государственной поддержки;\n",
    "- financing_source — источник государственного финансирования;\n",
    "- budget — общий бюджет фильма;\n",
    "- ratings — рейтинг фильма на КиноПоиске;\n",
    "- genres — жанр фильма.\n",
    "\n",
    "Столбец `budget` уже включает в себя полный объём государственной поддержки. Данные в этом столбце указаны только для тех фильмов, которые получили государственную поддержку.\n",
    "\n",
    "Таблица `mkrf_shows` содержит сведения о показах фильмов в российских кинотеатрах.\n",
    "- puNumber — номер прокатного удостоверения;\n",
    "- box_office — сборы в рублях.\n"
   ]
  },
  {
   "cell_type": "code",
   "execution_count": 377,
   "metadata": {
    "id": "dw87FlzMgFyM"
   },
   "outputs": [],
   "source": [
    "import pandas as pd\n",
    "import matplotlib.pyplot as plt\n",
    "#импорт библиотек"
   ]
  },
  {
   "cell_type": "markdown",
   "metadata": {},
   "source": [
    "Посмотрим информацию о данных в первом дата-сете. Выведем несколько первых строк дата-сета а также несколько рандомных строк из всей выборки.\n"
   ]
  },
  {
   "cell_type": "code",
   "execution_count": 378,
   "metadata": {},
   "outputs": [
    {
     "name": "stdout",
     "output_type": "stream",
     "text": [
      "<class 'pandas.core.frame.DataFrame'>\n",
      "RangeIndex: 7486 entries, 0 to 7485\n",
      "Data columns (total 15 columns):\n",
      "title                    7486 non-null object\n",
      "puNumber                 7486 non-null object\n",
      "show_start_date          7486 non-null object\n",
      "type                     7486 non-null object\n",
      "film_studio              7468 non-null object\n",
      "production_country       7484 non-null object\n",
      "director                 7477 non-null object\n",
      "producer                 6918 non-null object\n",
      "age_restriction          7486 non-null object\n",
      "refundable_support       332 non-null float64\n",
      "nonrefundable_support    332 non-null float64\n",
      "budget                   332 non-null float64\n",
      "financing_source         332 non-null object\n",
      "ratings                  6519 non-null object\n",
      "genres                   6510 non-null object\n",
      "dtypes: float64(3), object(12)\n",
      "memory usage: 877.4+ KB\n"
     ]
    }
   ],
   "source": [
    "data_1 = pd.read_csv('/datasets/mkrf_movies.csv')\n",
    "data_1.info()"
   ]
  },
  {
   "cell_type": "code",
   "execution_count": 379,
   "metadata": {},
   "outputs": [
    {
     "data": {
      "text/html": [
       "<div>\n",
       "<style scoped>\n",
       "    .dataframe tbody tr th:only-of-type {\n",
       "        vertical-align: middle;\n",
       "    }\n",
       "\n",
       "    .dataframe tbody tr th {\n",
       "        vertical-align: top;\n",
       "    }\n",
       "\n",
       "    .dataframe thead th {\n",
       "        text-align: right;\n",
       "    }\n",
       "</style>\n",
       "<table border=\"1\" class=\"dataframe\">\n",
       "  <thead>\n",
       "    <tr style=\"text-align: right;\">\n",
       "      <th></th>\n",
       "      <th>title</th>\n",
       "      <th>puNumber</th>\n",
       "      <th>show_start_date</th>\n",
       "      <th>type</th>\n",
       "      <th>film_studio</th>\n",
       "      <th>production_country</th>\n",
       "      <th>director</th>\n",
       "      <th>producer</th>\n",
       "      <th>age_restriction</th>\n",
       "      <th>refundable_support</th>\n",
       "      <th>nonrefundable_support</th>\n",
       "      <th>budget</th>\n",
       "      <th>financing_source</th>\n",
       "      <th>ratings</th>\n",
       "      <th>genres</th>\n",
       "    </tr>\n",
       "  </thead>\n",
       "  <tbody>\n",
       "    <tr>\n",
       "      <td>0</td>\n",
       "      <td>Открытый простор</td>\n",
       "      <td>221048915</td>\n",
       "      <td>2015-11-27T12:00:00.000Z</td>\n",
       "      <td>Художественный</td>\n",
       "      <td>Тачстоун Пикчерз, Кобальт Пикчерз, Бикон Пикче...</td>\n",
       "      <td>США</td>\n",
       "      <td>Кевин Костнер</td>\n",
       "      <td>Дэвид Валдес, Кевин Костнер, Джейк Эбертс</td>\n",
       "      <td>«18+» - запрещено для детей</td>\n",
       "      <td>NaN</td>\n",
       "      <td>NaN</td>\n",
       "      <td>NaN</td>\n",
       "      <td>NaN</td>\n",
       "      <td>7.2</td>\n",
       "      <td>боевик,драма,мелодрама</td>\n",
       "    </tr>\n",
       "    <tr>\n",
       "      <td>1</td>\n",
       "      <td>Особо важное задание</td>\n",
       "      <td>111013716</td>\n",
       "      <td>2016-09-13T12:00:00.000Z</td>\n",
       "      <td>Художественный</td>\n",
       "      <td>Киностудия \"Мосфильм\"</td>\n",
       "      <td>СССР</td>\n",
       "      <td>Е.Матвеев</td>\n",
       "      <td>NaN</td>\n",
       "      <td>«6+» - для детей старше 6 лет</td>\n",
       "      <td>NaN</td>\n",
       "      <td>NaN</td>\n",
       "      <td>NaN</td>\n",
       "      <td>NaN</td>\n",
       "      <td>6.6</td>\n",
       "      <td>драма,военный</td>\n",
       "    </tr>\n",
       "    <tr>\n",
       "      <td>2</td>\n",
       "      <td>Особо опасен</td>\n",
       "      <td>221038416</td>\n",
       "      <td>2016-10-10T12:00:00.000Z</td>\n",
       "      <td>Художественный</td>\n",
       "      <td>Юниверсал Пикчерз, Кикстарт Продакшнз, Марк Пл...</td>\n",
       "      <td>США</td>\n",
       "      <td>Тимур Бекмамбетов</td>\n",
       "      <td>Джим Лемли, Джейсон Нетер, Марк Е.Платт, Яйн Смит</td>\n",
       "      <td>«18+» - запрещено для детей</td>\n",
       "      <td>NaN</td>\n",
       "      <td>NaN</td>\n",
       "      <td>NaN</td>\n",
       "      <td>NaN</td>\n",
       "      <td>6.8</td>\n",
       "      <td>фантастика,боевик,триллер</td>\n",
       "    </tr>\n",
       "  </tbody>\n",
       "</table>\n",
       "</div>"
      ],
      "text/plain": [
       "                  title   puNumber           show_start_date            type  \\\n",
       "0      Открытый простор  221048915  2015-11-27T12:00:00.000Z  Художественный   \n",
       "1  Особо важное задание  111013716  2016-09-13T12:00:00.000Z  Художественный   \n",
       "2          Особо опасен  221038416  2016-10-10T12:00:00.000Z  Художественный   \n",
       "\n",
       "                                         film_studio production_country  \\\n",
       "0  Тачстоун Пикчерз, Кобальт Пикчерз, Бикон Пикче...                США   \n",
       "1                              Киностудия \"Мосфильм\"               СССР   \n",
       "2  Юниверсал Пикчерз, Кикстарт Продакшнз, Марк Пл...                США   \n",
       "\n",
       "            director                                           producer  \\\n",
       "0      Кевин Костнер          Дэвид Валдес, Кевин Костнер, Джейк Эбертс   \n",
       "1          Е.Матвеев                                                NaN   \n",
       "2  Тимур Бекмамбетов  Джим Лемли, Джейсон Нетер, Марк Е.Платт, Яйн Смит   \n",
       "\n",
       "                 age_restriction  refundable_support  nonrefundable_support  \\\n",
       "0    «18+» - запрещено для детей                 NaN                    NaN   \n",
       "1  «6+» - для детей старше 6 лет                 NaN                    NaN   \n",
       "2    «18+» - запрещено для детей                 NaN                    NaN   \n",
       "\n",
       "   budget financing_source ratings                     genres  \n",
       "0     NaN              NaN     7.2     боевик,драма,мелодрама  \n",
       "1     NaN              NaN     6.6              драма,военный  \n",
       "2     NaN              NaN     6.8  фантастика,боевик,триллер  "
      ]
     },
     "execution_count": 379,
     "metadata": {},
     "output_type": "execute_result"
    }
   ],
   "source": [
    "data_1.head(3)"
   ]
  },
  {
   "cell_type": "code",
   "execution_count": 380,
   "metadata": {},
   "outputs": [
    {
     "data": {
      "text/html": [
       "<div>\n",
       "<style scoped>\n",
       "    .dataframe tbody tr th:only-of-type {\n",
       "        vertical-align: middle;\n",
       "    }\n",
       "\n",
       "    .dataframe tbody tr th {\n",
       "        vertical-align: top;\n",
       "    }\n",
       "\n",
       "    .dataframe thead th {\n",
       "        text-align: right;\n",
       "    }\n",
       "</style>\n",
       "<table border=\"1\" class=\"dataframe\">\n",
       "  <thead>\n",
       "    <tr style=\"text-align: right;\">\n",
       "      <th></th>\n",
       "      <th>title</th>\n",
       "      <th>puNumber</th>\n",
       "      <th>show_start_date</th>\n",
       "      <th>type</th>\n",
       "      <th>film_studio</th>\n",
       "      <th>production_country</th>\n",
       "      <th>director</th>\n",
       "      <th>producer</th>\n",
       "      <th>age_restriction</th>\n",
       "      <th>refundable_support</th>\n",
       "      <th>nonrefundable_support</th>\n",
       "      <th>budget</th>\n",
       "      <th>financing_source</th>\n",
       "      <th>ratings</th>\n",
       "      <th>genres</th>\n",
       "    </tr>\n",
       "  </thead>\n",
       "  <tbody>\n",
       "    <tr>\n",
       "      <td>3232</td>\n",
       "      <td>Не стучи дважды</td>\n",
       "      <td>121035116</td>\n",
       "      <td>2016-12-30T12:00:00.000Z</td>\n",
       "      <td>Художественный</td>\n",
       "      <td>Рэд энд Блэк Филмз, Сэймур Филмз</td>\n",
       "      <td>Великобритания</td>\n",
       "      <td>Карадог В. Джеймс</td>\n",
       "      <td>Джон Джива-Аму, Клэйр Морсом</td>\n",
       "      <td>«16+» - для детей старше 16 лет</td>\n",
       "      <td>NaN</td>\n",
       "      <td>NaN</td>\n",
       "      <td>NaN</td>\n",
       "      <td>NaN</td>\n",
       "      <td>4.8</td>\n",
       "      <td>ужасы,фэнтези,триллер</td>\n",
       "    </tr>\n",
       "    <tr>\n",
       "      <td>5901</td>\n",
       "      <td>От семьи не убежишь</td>\n",
       "      <td>121011118</td>\n",
       "      <td>2018-05-31T12:00:00.000Z</td>\n",
       "      <td>Художественный</td>\n",
       "      <td>Ле Продюксьон дю Шими, Патэ</td>\n",
       "      <td>Франция</td>\n",
       "      <td>Дэни Бун</td>\n",
       "      <td>Дэни Бун, Эрик Юбер</td>\n",
       "      <td>«16+» - для детей старше 16 лет</td>\n",
       "      <td>NaN</td>\n",
       "      <td>NaN</td>\n",
       "      <td>NaN</td>\n",
       "      <td>NaN</td>\n",
       "      <td>6.6</td>\n",
       "      <td>комедия</td>\n",
       "    </tr>\n",
       "    <tr>\n",
       "      <td>2506</td>\n",
       "      <td>Акт убийства</td>\n",
       "      <td>126001515</td>\n",
       "      <td>2015-05-25T12:00:00.000Z</td>\n",
       "      <td>Прочие</td>\n",
       "      <td>Финал Кат Фор Риал, Пирайа Фильм, Новая Земля,...</td>\n",
       "      <td>Дания - Норвегия - Великобритания</td>\n",
       "      <td>Джошуа Оппенхаймер, Кристина Синн</td>\n",
       "      <td>Анне Кёнке, Синье Бридж Серенсен, Кристина Син...</td>\n",
       "      <td>«16+» - для детей старше 16 лет</td>\n",
       "      <td>NaN</td>\n",
       "      <td>NaN</td>\n",
       "      <td>NaN</td>\n",
       "      <td>NaN</td>\n",
       "      <td>7.5</td>\n",
       "      <td>документальный,криминал,военный</td>\n",
       "    </tr>\n",
       "  </tbody>\n",
       "</table>\n",
       "</div>"
      ],
      "text/plain": [
       "                    title   puNumber           show_start_date  \\\n",
       "3232      Не стучи дважды  121035116  2016-12-30T12:00:00.000Z   \n",
       "5901  От семьи не убежишь  121011118  2018-05-31T12:00:00.000Z   \n",
       "2506         Акт убийства  126001515  2015-05-25T12:00:00.000Z   \n",
       "\n",
       "                 type                                        film_studio  \\\n",
       "3232   Художественный                   Рэд энд Блэк Филмз, Сэймур Филмз   \n",
       "5901   Художественный                        Ле Продюксьон дю Шими, Патэ   \n",
       "2506           Прочие  Финал Кат Фор Риал, Пирайа Фильм, Новая Земля,...   \n",
       "\n",
       "                     production_country                           director  \\\n",
       "3232                     Великобритания                  Карадог В. Джеймс   \n",
       "5901                            Франция                           Дэни Бун   \n",
       "2506  Дания - Норвегия - Великобритания  Джошуа Оппенхаймер, Кристина Синн   \n",
       "\n",
       "                                               producer  \\\n",
       "3232                       Джон Джива-Аму, Клэйр Морсом   \n",
       "5901                                Дэни Бун, Эрик Юбер   \n",
       "2506  Анне Кёнке, Синье Бридж Серенсен, Кристина Син...   \n",
       "\n",
       "                      age_restriction  refundable_support  \\\n",
       "3232  «16+» - для детей старше 16 лет                 NaN   \n",
       "5901  «16+» - для детей старше 16 лет                 NaN   \n",
       "2506  «16+» - для детей старше 16 лет                 NaN   \n",
       "\n",
       "      nonrefundable_support  budget financing_source ratings  \\\n",
       "3232                    NaN     NaN              NaN     4.8   \n",
       "5901                    NaN     NaN              NaN     6.6   \n",
       "2506                    NaN     NaN              NaN     7.5   \n",
       "\n",
       "                               genres  \n",
       "3232            ужасы,фэнтези,триллер  \n",
       "5901                          комедия  \n",
       "2506  документальный,криминал,военный  "
      ]
     },
     "execution_count": 380,
     "metadata": {},
     "output_type": "execute_result"
    }
   ],
   "source": [
    "random_state_number = 10\n",
    "sample_size_number = 3\n",
    "data_1.sample(n=sample_size_number, random_state=random_state_number)"
   ]
  },
  {
   "cell_type": "markdown",
   "metadata": {},
   "source": [
    " В первом дата-сете видим 15 столбцов. Три из которых относятся к типу `float64` остальные к типу `object`. Имеются пропущенные значения."
   ]
  },
  {
   "cell_type": "markdown",
   "metadata": {},
   "source": [
    "Посмотрим информацию о данных во втором дата-сете. Выведем первые пять строк дата-сета."
   ]
  },
  {
   "cell_type": "code",
   "execution_count": 381,
   "metadata": {},
   "outputs": [
    {
     "data": {
      "text/html": [
       "<div>\n",
       "<style scoped>\n",
       "    .dataframe tbody tr th:only-of-type {\n",
       "        vertical-align: middle;\n",
       "    }\n",
       "\n",
       "    .dataframe tbody tr th {\n",
       "        vertical-align: top;\n",
       "    }\n",
       "\n",
       "    .dataframe thead th {\n",
       "        text-align: right;\n",
       "    }\n",
       "</style>\n",
       "<table border=\"1\" class=\"dataframe\">\n",
       "  <thead>\n",
       "    <tr style=\"text-align: right;\">\n",
       "      <th></th>\n",
       "      <th>puNumber</th>\n",
       "      <th>box_office</th>\n",
       "    </tr>\n",
       "  </thead>\n",
       "  <tbody>\n",
       "    <tr>\n",
       "      <td>0</td>\n",
       "      <td>111000113</td>\n",
       "      <td>2.450000e+03</td>\n",
       "    </tr>\n",
       "    <tr>\n",
       "      <td>1</td>\n",
       "      <td>111000115</td>\n",
       "      <td>6.104000e+04</td>\n",
       "    </tr>\n",
       "    <tr>\n",
       "      <td>2</td>\n",
       "      <td>111000116</td>\n",
       "      <td>1.530300e+08</td>\n",
       "    </tr>\n",
       "    <tr>\n",
       "      <td>3</td>\n",
       "      <td>111000117</td>\n",
       "      <td>1.226096e+07</td>\n",
       "    </tr>\n",
       "    <tr>\n",
       "      <td>4</td>\n",
       "      <td>111000118</td>\n",
       "      <td>1.636841e+08</td>\n",
       "    </tr>\n",
       "  </tbody>\n",
       "</table>\n",
       "</div>"
      ],
      "text/plain": [
       "    puNumber    box_office\n",
       "0  111000113  2.450000e+03\n",
       "1  111000115  6.104000e+04\n",
       "2  111000116  1.530300e+08\n",
       "3  111000117  1.226096e+07\n",
       "4  111000118  1.636841e+08"
      ]
     },
     "execution_count": 381,
     "metadata": {},
     "output_type": "execute_result"
    }
   ],
   "source": [
    "data_2 = pd.read_csv('/datasets/mkrf_shows.csv')\n",
    "data_2.head(5)"
   ]
  },
  {
   "cell_type": "markdown",
   "metadata": {},
   "source": [
    "Объединим данные по столбцу 'puNumber'. Поменяем тип данных на строки."
   ]
  },
  {
   "cell_type": "code",
   "execution_count": 382,
   "metadata": {},
   "outputs": [
    {
     "name": "stdout",
     "output_type": "stream",
     "text": [
      "<class 'pandas.core.frame.DataFrame'>\n",
      "Int64Index: 7486 entries, 0 to 7485\n",
      "Data columns (total 16 columns):\n",
      "title                    7486 non-null object\n",
      "puNumber                 7486 non-null object\n",
      "show_start_date          7486 non-null object\n",
      "type                     7486 non-null object\n",
      "film_studio              7468 non-null object\n",
      "production_country       7484 non-null object\n",
      "director                 7477 non-null object\n",
      "producer                 6918 non-null object\n",
      "age_restriction          7486 non-null object\n",
      "refundable_support       332 non-null float64\n",
      "nonrefundable_support    332 non-null float64\n",
      "budget                   332 non-null float64\n",
      "financing_source         332 non-null object\n",
      "ratings                  6519 non-null object\n",
      "genres                   6510 non-null object\n",
      "box_office               3158 non-null float64\n",
      "dtypes: float64(4), object(12)\n",
      "memory usage: 994.2+ KB\n"
     ]
    }
   ],
   "source": [
    "data_2['puNumber'] = data_2['puNumber'].astype('str') \n",
    "data = data_1.merge(data_2, on='puNumber', how='left')\n",
    "data.info()\n"
   ]
  },
  {
   "cell_type": "markdown",
   "metadata": {},
   "source": [
    "Проверим по нескольким номерам прокатного удостоверения, что данные о сборах подтянулись корректно."
   ]
  },
  {
   "cell_type": "code",
   "execution_count": 383,
   "metadata": {},
   "outputs": [
    {
     "data": {
      "text/html": [
       "<div>\n",
       "<style scoped>\n",
       "    .dataframe tbody tr th:only-of-type {\n",
       "        vertical-align: middle;\n",
       "    }\n",
       "\n",
       "    .dataframe tbody tr th {\n",
       "        vertical-align: top;\n",
       "    }\n",
       "\n",
       "    .dataframe thead th {\n",
       "        text-align: right;\n",
       "    }\n",
       "</style>\n",
       "<table border=\"1\" class=\"dataframe\">\n",
       "  <thead>\n",
       "    <tr style=\"text-align: right;\">\n",
       "      <th></th>\n",
       "      <th>title</th>\n",
       "      <th>puNumber</th>\n",
       "      <th>show_start_date</th>\n",
       "      <th>type</th>\n",
       "      <th>film_studio</th>\n",
       "      <th>production_country</th>\n",
       "      <th>director</th>\n",
       "      <th>producer</th>\n",
       "      <th>age_restriction</th>\n",
       "      <th>refundable_support</th>\n",
       "      <th>nonrefundable_support</th>\n",
       "      <th>budget</th>\n",
       "      <th>financing_source</th>\n",
       "      <th>ratings</th>\n",
       "      <th>genres</th>\n",
       "      <th>box_office</th>\n",
       "    </tr>\n",
       "  </thead>\n",
       "  <tbody>\n",
       "    <tr>\n",
       "      <td>1128</td>\n",
       "      <td>Тайна перевала Дятлова</td>\n",
       "      <td>111000113</td>\n",
       "      <td>2013-01-17T12:00:00.000Z</td>\n",
       "      <td>Художественный</td>\n",
       "      <td>ООО \"Нон-Стоп Продакшн\"</td>\n",
       "      <td>Россия</td>\n",
       "      <td>Ренни Харлин</td>\n",
       "      <td>А.Роднянский, С.Мелькумов, С.Беспалов, Киа Джэм</td>\n",
       "      <td>«16+» - для детей старше 16 лет</td>\n",
       "      <td>NaN</td>\n",
       "      <td>NaN</td>\n",
       "      <td>NaN</td>\n",
       "      <td>NaN</td>\n",
       "      <td>5.1</td>\n",
       "      <td>ужасы,фантастика</td>\n",
       "      <td>2450.0</td>\n",
       "    </tr>\n",
       "    <tr>\n",
       "      <td>2397</td>\n",
       "      <td>Небесный верблюд</td>\n",
       "      <td>111000115</td>\n",
       "      <td>2015-01-14T12:00:00.000Z</td>\n",
       "      <td>Художественный</td>\n",
       "      <td>ООО Продюсерский центр \"Всё хорошо\"</td>\n",
       "      <td>Россия</td>\n",
       "      <td>Ю.Фетинг</td>\n",
       "      <td>И.Плиско</td>\n",
       "      <td>«0+» - для любой зрительской аудитории</td>\n",
       "      <td>0.0</td>\n",
       "      <td>34000000.0</td>\n",
       "      <td>49280496.0</td>\n",
       "      <td>Министерство культуры</td>\n",
       "      <td>6.7</td>\n",
       "      <td>детский,семейный</td>\n",
       "      <td>61040.0</td>\n",
       "    </tr>\n",
       "  </tbody>\n",
       "</table>\n",
       "</div>"
      ],
      "text/plain": [
       "                       title   puNumber           show_start_date  \\\n",
       "1128  Тайна перевала Дятлова  111000113  2013-01-17T12:00:00.000Z   \n",
       "2397        Небесный верблюд  111000115  2015-01-14T12:00:00.000Z   \n",
       "\n",
       "                type                          film_studio production_country  \\\n",
       "1128  Художественный              ООО \"Нон-Стоп Продакшн\"             Россия   \n",
       "2397  Художественный  ООО Продюсерский центр \"Всё хорошо\"             Россия   \n",
       "\n",
       "          director                                         producer  \\\n",
       "1128  Ренни Харлин  А.Роднянский, С.Мелькумов, С.Беспалов, Киа Джэм   \n",
       "2397      Ю.Фетинг                                         И.Плиско   \n",
       "\n",
       "                             age_restriction  refundable_support  \\\n",
       "1128         «16+» - для детей старше 16 лет                 NaN   \n",
       "2397  «0+» - для любой зрительской аудитории                 0.0   \n",
       "\n",
       "      nonrefundable_support      budget       financing_source ratings  \\\n",
       "1128                    NaN         NaN                    NaN     5.1   \n",
       "2397             34000000.0  49280496.0  Министерство культуры     6.7   \n",
       "\n",
       "                genres  box_office  \n",
       "1128  ужасы,фантастика      2450.0  \n",
       "2397  детский,семейный     61040.0  "
      ]
     },
     "execution_count": 383,
     "metadata": {},
     "output_type": "execute_result"
    }
   ],
   "source": [
    "data[(data['puNumber'] == '111000113') | (data['puNumber'] == '111000115')]\n"
   ]
  },
  {
   "cell_type": "markdown",
   "metadata": {
    "id": "KLDGpPG0gFyM"
   },
   "source": [
    "### Шаг 2. Предобработка данных"
   ]
  },
  {
   "cell_type": "markdown",
   "metadata": {
    "id": "ssWwKXsxgFyO"
   },
   "source": [
    "#### Шаг 2.1. Проверьте типы данных\n",
    "\n",
    "- Проверьте типы данных в датафрейме и преобразуйте их там, где это необходимо."
   ]
  },
  {
   "cell_type": "markdown",
   "metadata": {},
   "source": [
    "После объединения данных в итоговой таблице с данными 16 столбцов. Мы наблюдаем 2 вида данных - `float64` и `object`."
   ]
  },
  {
   "cell_type": "code",
   "execution_count": 384,
   "metadata": {
    "id": "kVGSplJOgFyO"
   },
   "outputs": [
    {
     "name": "stdout",
     "output_type": "stream",
     "text": [
      "<class 'pandas.core.frame.DataFrame'>\n",
      "Int64Index: 7486 entries, 0 to 7485\n",
      "Data columns (total 16 columns):\n",
      "title                    7486 non-null object\n",
      "puNumber                 7486 non-null object\n",
      "show_start_date          7486 non-null object\n",
      "type                     7486 non-null object\n",
      "film_studio              7468 non-null object\n",
      "production_country       7484 non-null object\n",
      "director                 7477 non-null object\n",
      "producer                 6918 non-null object\n",
      "age_restriction          7486 non-null object\n",
      "refundable_support       332 non-null float64\n",
      "nonrefundable_support    332 non-null float64\n",
      "budget                   332 non-null float64\n",
      "financing_source         332 non-null object\n",
      "ratings                  6519 non-null object\n",
      "genres                   6510 non-null object\n",
      "box_office               3158 non-null float64\n",
      "dtypes: float64(4), object(12)\n",
      "memory usage: 994.2+ KB\n"
     ]
    }
   ],
   "source": [
    "data.info()"
   ]
  },
  {
   "cell_type": "markdown",
   "metadata": {},
   "source": [
    "1. Заменим данные в столбцах на float32."
   ]
  },
  {
   "cell_type": "code",
   "execution_count": 385,
   "metadata": {},
   "outputs": [],
   "source": [
    "data = data.astype({'refundable_support': 'float32',\n",
    "                    'nonrefundable_support': 'float32',\n",
    "                    'budget': 'float32',\n",
    "                    'box_office': 'float32'\n",
    "                   })"
   ]
  },
  {
   "cell_type": "markdown",
   "metadata": {},
   "source": [
    "2. Заменим тип данных в столбце с датой 'show_start_date'."
   ]
  },
  {
   "cell_type": "code",
   "execution_count": 386,
   "metadata": {},
   "outputs": [],
   "source": [
    "data['show_start_date'] = pd.to_datetime(data['show_start_date'], format = '%Y-%m-%dT%H:%M:%S')\n"
   ]
  },
  {
   "cell_type": "code",
   "execution_count": 387,
   "metadata": {},
   "outputs": [
    {
     "data": {
      "text/html": [
       "<div>\n",
       "<style scoped>\n",
       "    .dataframe tbody tr th:only-of-type {\n",
       "        vertical-align: middle;\n",
       "    }\n",
       "\n",
       "    .dataframe tbody tr th {\n",
       "        vertical-align: top;\n",
       "    }\n",
       "\n",
       "    .dataframe thead th {\n",
       "        text-align: right;\n",
       "    }\n",
       "</style>\n",
       "<table border=\"1\" class=\"dataframe\">\n",
       "  <thead>\n",
       "    <tr style=\"text-align: right;\">\n",
       "      <th></th>\n",
       "      <th>title</th>\n",
       "      <th>puNumber</th>\n",
       "      <th>show_start_date</th>\n",
       "      <th>type</th>\n",
       "      <th>film_studio</th>\n",
       "      <th>production_country</th>\n",
       "      <th>director</th>\n",
       "      <th>producer</th>\n",
       "      <th>age_restriction</th>\n",
       "      <th>refundable_support</th>\n",
       "      <th>nonrefundable_support</th>\n",
       "      <th>budget</th>\n",
       "      <th>financing_source</th>\n",
       "      <th>ratings</th>\n",
       "      <th>genres</th>\n",
       "      <th>box_office</th>\n",
       "    </tr>\n",
       "  </thead>\n",
       "  <tbody>\n",
       "    <tr>\n",
       "      <td>0</td>\n",
       "      <td>Открытый простор</td>\n",
       "      <td>221048915</td>\n",
       "      <td>2015-11-27 12:00:00+00:00</td>\n",
       "      <td>Художественный</td>\n",
       "      <td>Тачстоун Пикчерз, Кобальт Пикчерз, Бикон Пикче...</td>\n",
       "      <td>США</td>\n",
       "      <td>Кевин Костнер</td>\n",
       "      <td>Дэвид Валдес, Кевин Костнер, Джейк Эбертс</td>\n",
       "      <td>«18+» - запрещено для детей</td>\n",
       "      <td>NaN</td>\n",
       "      <td>NaN</td>\n",
       "      <td>NaN</td>\n",
       "      <td>NaN</td>\n",
       "      <td>7.2</td>\n",
       "      <td>боевик,драма,мелодрама</td>\n",
       "      <td>NaN</td>\n",
       "    </tr>\n",
       "    <tr>\n",
       "      <td>1</td>\n",
       "      <td>Особо важное задание</td>\n",
       "      <td>111013716</td>\n",
       "      <td>2016-09-13 12:00:00+00:00</td>\n",
       "      <td>Художественный</td>\n",
       "      <td>Киностудия \"Мосфильм\"</td>\n",
       "      <td>СССР</td>\n",
       "      <td>Е.Матвеев</td>\n",
       "      <td>NaN</td>\n",
       "      <td>«6+» - для детей старше 6 лет</td>\n",
       "      <td>NaN</td>\n",
       "      <td>NaN</td>\n",
       "      <td>NaN</td>\n",
       "      <td>NaN</td>\n",
       "      <td>6.6</td>\n",
       "      <td>драма,военный</td>\n",
       "      <td>NaN</td>\n",
       "    </tr>\n",
       "    <tr>\n",
       "      <td>2</td>\n",
       "      <td>Особо опасен</td>\n",
       "      <td>221038416</td>\n",
       "      <td>2016-10-10 12:00:00+00:00</td>\n",
       "      <td>Художественный</td>\n",
       "      <td>Юниверсал Пикчерз, Кикстарт Продакшнз, Марк Пл...</td>\n",
       "      <td>США</td>\n",
       "      <td>Тимур Бекмамбетов</td>\n",
       "      <td>Джим Лемли, Джейсон Нетер, Марк Е.Платт, Яйн Смит</td>\n",
       "      <td>«18+» - запрещено для детей</td>\n",
       "      <td>NaN</td>\n",
       "      <td>NaN</td>\n",
       "      <td>NaN</td>\n",
       "      <td>NaN</td>\n",
       "      <td>6.8</td>\n",
       "      <td>фантастика,боевик,триллер</td>\n",
       "      <td>NaN</td>\n",
       "    </tr>\n",
       "  </tbody>\n",
       "</table>\n",
       "</div>"
      ],
      "text/plain": [
       "                  title   puNumber           show_start_date            type  \\\n",
       "0      Открытый простор  221048915 2015-11-27 12:00:00+00:00  Художественный   \n",
       "1  Особо важное задание  111013716 2016-09-13 12:00:00+00:00  Художественный   \n",
       "2          Особо опасен  221038416 2016-10-10 12:00:00+00:00  Художественный   \n",
       "\n",
       "                                         film_studio production_country  \\\n",
       "0  Тачстоун Пикчерз, Кобальт Пикчерз, Бикон Пикче...                США   \n",
       "1                              Киностудия \"Мосфильм\"               СССР   \n",
       "2  Юниверсал Пикчерз, Кикстарт Продакшнз, Марк Пл...                США   \n",
       "\n",
       "            director                                           producer  \\\n",
       "0      Кевин Костнер          Дэвид Валдес, Кевин Костнер, Джейк Эбертс   \n",
       "1          Е.Матвеев                                                NaN   \n",
       "2  Тимур Бекмамбетов  Джим Лемли, Джейсон Нетер, Марк Е.Платт, Яйн Смит   \n",
       "\n",
       "                 age_restriction  refundable_support  nonrefundable_support  \\\n",
       "0    «18+» - запрещено для детей                 NaN                    NaN   \n",
       "1  «6+» - для детей старше 6 лет                 NaN                    NaN   \n",
       "2    «18+» - запрещено для детей                 NaN                    NaN   \n",
       "\n",
       "   budget financing_source ratings                     genres  box_office  \n",
       "0     NaN              NaN     7.2     боевик,драма,мелодрама         NaN  \n",
       "1     NaN              NaN     6.6              драма,военный         NaN  \n",
       "2     NaN              NaN     6.8  фантастика,боевик,триллер         NaN  "
      ]
     },
     "execution_count": 387,
     "metadata": {},
     "output_type": "execute_result"
    }
   ],
   "source": [
    "data.head(3)"
   ]
  },
  {
   "cell_type": "markdown",
   "metadata": {},
   "source": [
    "3. В столбце с рейтингом видим, что имеются пропущенные значения, а также рейтинг, указанный в %."
   ]
  },
  {
   "cell_type": "code",
   "execution_count": 388,
   "metadata": {},
   "outputs": [
    {
     "data": {
      "text/plain": [
       "array(['7.2', '6.6', '6.8', '7.7', '8.3', '8.0', '7.8', '8.1', '7.1',\n",
       "       '6.0', '7.4', '5.8', '8.7', '6.3', '6.9', '5.0', '4.3', '7.3',\n",
       "       '7.0', '6.4', nan, '8.2', '7.5', '6.7', '7.9', '5.9', '6.2', '5.6',\n",
       "       '6.5', '2.4', '7.6', '6.1', '8.6', '8.5', '8.8', '5.5', '5.1',\n",
       "       '5.7', '5.4', '99%', '4.4', '4.5', '5.3', '4.1', '8.4', '2.6',\n",
       "       '3.8', '4.6', '4.8', '4.0', '3.0', '1.6', '4.2', '5.2', '4.7',\n",
       "       '4.9', '3.9', '2.7', '3.3', '2.9', '28%', '3.7', '1.4', '3.1',\n",
       "       '97%', '3.5', '3.2', '2.8', '1.5', '2.1', '2.5', '9.2', '3.4',\n",
       "       '1.1', '3.6', '83%', '64%', '91%', '94%', '62%', '79%', '90%',\n",
       "       '19%', '88%', '1.0', '89%', '1.3', '1.9', '1.8', '1.2', '1.7',\n",
       "       '9.0', '98%', '8.9', '9.1'], dtype=object)"
      ]
     },
     "execution_count": 388,
     "metadata": {},
     "output_type": "execute_result"
    }
   ],
   "source": [
    "data['ratings'].unique()"
   ]
  },
  {
   "cell_type": "markdown",
   "metadata": {},
   "source": [
    "Заменим в данных, которые указаны проценты знак процента, далее заполним пропуски на нулевые значения и напишем фунцкцию, которая возвращает рейтинг в корректной шкале."
   ]
  },
  {
   "cell_type": "code",
   "execution_count": 389,
   "metadata": {},
   "outputs": [],
   "source": [
    "data['ratings'] = data['ratings'].str.replace('%','').fillna(0).astype('float64')\n",
    "\n",
    "def correct_rating(row):\n",
    "    rating = row['ratings']\n",
    "    if rating > 10:\n",
    "        rating = rating/10\n",
    "    return rating\n",
    "\n",
    "data['ratings'] = data.apply(correct_rating, axis=1)\n"
   ]
  },
  {
   "cell_type": "code",
   "execution_count": 390,
   "metadata": {},
   "outputs": [
    {
     "name": "stdout",
     "output_type": "stream",
     "text": [
      "<class 'pandas.core.frame.DataFrame'>\n",
      "Int64Index: 7486 entries, 0 to 7485\n",
      "Data columns (total 16 columns):\n",
      "title                    7486 non-null object\n",
      "puNumber                 7486 non-null object\n",
      "show_start_date          7486 non-null datetime64[ns, UTC]\n",
      "type                     7486 non-null object\n",
      "film_studio              7468 non-null object\n",
      "production_country       7484 non-null object\n",
      "director                 7477 non-null object\n",
      "producer                 6918 non-null object\n",
      "age_restriction          7486 non-null object\n",
      "refundable_support       332 non-null float32\n",
      "nonrefundable_support    332 non-null float32\n",
      "budget                   332 non-null float32\n",
      "financing_source         332 non-null object\n",
      "ratings                  7486 non-null float64\n",
      "genres                   6510 non-null object\n",
      "box_office               3158 non-null float32\n",
      "dtypes: datetime64[ns, UTC](1), float32(4), float64(1), object(10)\n",
      "memory usage: 877.3+ KB\n"
     ]
    }
   ],
   "source": [
    "data.info()"
   ]
  },
  {
   "cell_type": "code",
   "execution_count": 391,
   "metadata": {},
   "outputs": [
    {
     "data": {
      "text/plain": [
       "array([7.2, 6.6, 6.8, 7.7, 8.3, 8. , 7.8, 8.1, 7.1, 6. , 7.4, 5.8, 8.7,\n",
       "       6.3, 6.9, 5. , 4.3, 7.3, 7. , 6.4, 0. , 8.2, 7.5, 6.7, 7.9, 5.9,\n",
       "       6.2, 5.6, 6.5, 2.4, 7.6, 6.1, 8.6, 8.5, 8.8, 5.5, 5.1, 5.7, 5.4,\n",
       "       9.9, 4.4, 4.5, 5.3, 4.1, 8.4, 2.6, 3.8, 4.6, 4.8, 4. , 3. , 1.6,\n",
       "       4.2, 5.2, 4.7, 4.9, 3.9, 2.7, 3.3, 2.9, 2.8, 3.7, 1.4, 3.1, 9.7,\n",
       "       3.5, 3.2, 1.5, 2.1, 2.5, 9.2, 3.4, 1.1, 3.6, 9.1, 9.4, 9. , 1.9,\n",
       "       1. , 8.9, 1.3, 1.8, 1.2, 1.7, 9.8])"
      ]
     },
     "execution_count": 391,
     "metadata": {},
     "output_type": "execute_result"
    }
   ],
   "source": [
    "data['ratings'].unique()"
   ]
  },
  {
   "cell_type": "markdown",
   "metadata": {
    "id": "i0MOLbF-gFyP"
   },
   "source": [
    "#### Шаг 2.2. Изучите пропуски в датафрейме\n",
    "\n",
    "- Объясните, почему заполнили пропуски определённым образом или почему не стали этого делать."
   ]
  },
  {
   "cell_type": "markdown",
   "metadata": {
    "id": "8MJD_lkngFyP"
   },
   "source": [
    "Рассмотрим пропуски в финальном дата-фрейме."
   ]
  },
  {
   "cell_type": "code",
   "execution_count": 392,
   "metadata": {},
   "outputs": [
    {
     "name": "stdout",
     "output_type": "stream",
     "text": [
      "title                     0.000000\n",
      "puNumber                  0.000000\n",
      "show_start_date           0.000000\n",
      "type                      0.000000\n",
      "age_restriction           0.000000\n",
      "ratings                   0.000000\n",
      "production_country        0.026717\n",
      "director                  0.120224\n",
      "film_studio               0.240449\n",
      "producer                  7.587497\n",
      "genres                   13.037670\n",
      "box_office               57.814587\n",
      "refundable_support       95.565055\n",
      "nonrefundable_support    95.565055\n",
      "budget                   95.565055\n",
      "financing_source         95.565055\n",
      "dtype: float64\n"
     ]
    }
   ],
   "source": [
    "print(data.isna().sum().sort_values()/len(data)*100)"
   ]
  },
  {
   "cell_type": "markdown",
   "metadata": {},
   "source": [
    "Видим, что количество пропусков достаточно большое. Пропуски в формате `NaN`. Заменим пропуски в столбцах: `production_country`, `director`,`film_studio`, `producer`, `genres` на значения `unknown`."
   ]
  },
  {
   "cell_type": "code",
   "execution_count": 393,
   "metadata": {},
   "outputs": [],
   "source": [
    "columns_to_replace = ['production_country', 'director', 'film_studio', 'producer', 'genres']\n",
    "\n",
    "for item in columns_to_replace:\n",
    "      data[item] = data[item].fillna('unknown')"
   ]
  },
  {
   "cell_type": "markdown",
   "metadata": {},
   "source": [
    "Проверим количество пропущенных значений в дата-фрейме после замены пропусков/"
   ]
  },
  {
   "cell_type": "code",
   "execution_count": 394,
   "metadata": {},
   "outputs": [
    {
     "name": "stdout",
     "output_type": "stream",
     "text": [
      "title                     0.000000\n",
      "puNumber                  0.000000\n",
      "show_start_date           0.000000\n",
      "type                      0.000000\n",
      "film_studio               0.000000\n",
      "production_country        0.000000\n",
      "director                  0.000000\n",
      "producer                  0.000000\n",
      "age_restriction           0.000000\n",
      "ratings                   0.000000\n",
      "genres                    0.000000\n",
      "box_office               57.814587\n",
      "refundable_support       95.565055\n",
      "nonrefundable_support    95.565055\n",
      "budget                   95.565055\n",
      "financing_source         95.565055\n",
      "dtype: float64\n"
     ]
    }
   ],
   "source": [
    "print(data.isna().sum().sort_values()/len(data)*100)"
   ]
  },
  {
   "cell_type": "markdown",
   "metadata": {},
   "source": [
    "По количественным значениям пропуски заполнять не будем. Так как каждое значение отвечает индивидуально рассмотренному фильму."
   ]
  },
  {
   "cell_type": "markdown",
   "metadata": {
    "id": "4c6k1t9ygFyQ"
   },
   "source": [
    "#### Шаг 2.3. Изучите дубликаты в датафрейме\n",
    "- Проверьте, есть ли в данных дубликаты. Опишите причины, которые могли повлиять на появление дублей."
   ]
  },
  {
   "cell_type": "markdown",
   "metadata": {
    "id": "aKck8RIdgFyQ"
   },
   "source": [
    "Рассмотрим дубликаты в двух первых столбцах:\n",
    "\n",
    "- title — название фильма;\n",
    "- puNumber — номер прокатного удостоверения.\n",
    "\n",
    "В остальных столбцах дубликаты допустимы.\n"
   ]
  },
  {
   "cell_type": "code",
   "execution_count": 395,
   "metadata": {},
   "outputs": [
    {
     "name": "stdout",
     "output_type": "stream",
     "text": [
      "День святого Валентина_                 5\n",
      "Безумцы                                 4\n",
      "Начало_                                 4\n",
      "Белоснежка и охотник                    4\n",
      "Код доступа \"Кейптаун\"                  4\n",
      "                                       ..\n",
      "Болевой порог                           1\n",
      "Ловец снов /По роману Стивена Кинга/    1\n",
      "Импрессионисты                          1\n",
      "Кольца мира. Часть первая               1\n",
      "12 месяцев                              1\n",
      "Name: title, Length: 6772, dtype: int64\n"
     ]
    }
   ],
   "source": [
    "print(data['title'].value_counts())"
   ]
  },
  {
   "cell_type": "markdown",
   "metadata": {},
   "source": [
    "Из данных выше видим, что наименования фильмов повторяются. Но вероятно, что фильмы просто являются ремейками или другими частями, тк по остальным столбцам возможно данные отличаются. Проверим данную гипотизу."
   ]
  },
  {
   "cell_type": "code",
   "execution_count": 396,
   "metadata": {},
   "outputs": [
    {
     "data": {
      "text/html": [
       "<div>\n",
       "<style scoped>\n",
       "    .dataframe tbody tr th:only-of-type {\n",
       "        vertical-align: middle;\n",
       "    }\n",
       "\n",
       "    .dataframe tbody tr th {\n",
       "        vertical-align: top;\n",
       "    }\n",
       "\n",
       "    .dataframe thead th {\n",
       "        text-align: right;\n",
       "    }\n",
       "</style>\n",
       "<table border=\"1\" class=\"dataframe\">\n",
       "  <thead>\n",
       "    <tr style=\"text-align: right;\">\n",
       "      <th></th>\n",
       "      <th>title</th>\n",
       "      <th>puNumber</th>\n",
       "      <th>show_start_date</th>\n",
       "      <th>type</th>\n",
       "      <th>film_studio</th>\n",
       "      <th>production_country</th>\n",
       "      <th>director</th>\n",
       "      <th>producer</th>\n",
       "      <th>age_restriction</th>\n",
       "      <th>refundable_support</th>\n",
       "      <th>nonrefundable_support</th>\n",
       "      <th>budget</th>\n",
       "      <th>financing_source</th>\n",
       "      <th>ratings</th>\n",
       "      <th>genres</th>\n",
       "      <th>box_office</th>\n",
       "    </tr>\n",
       "  </thead>\n",
       "  <tbody>\n",
       "    <tr>\n",
       "      <td>3</td>\n",
       "      <td>Особо опасен</td>\n",
       "      <td>221026916</td>\n",
       "      <td>2016-06-10 12:00:00+00:00</td>\n",
       "      <td>Художественный</td>\n",
       "      <td>Юниверсал Пикчерз, Кикстарт Продакшнз, Марк Пл...</td>\n",
       "      <td>США</td>\n",
       "      <td>Тимур Бекмамбетов</td>\n",
       "      <td>Джим Лемли, Джейсон Нетер, Марк Е.Платт, Яйн Смит</td>\n",
       "      <td>«18+» - запрещено для детей</td>\n",
       "      <td>NaN</td>\n",
       "      <td>NaN</td>\n",
       "      <td>NaN</td>\n",
       "      <td>NaN</td>\n",
       "      <td>6.8</td>\n",
       "      <td>фантастика,боевик,триллер</td>\n",
       "      <td>NaN</td>\n",
       "    </tr>\n",
       "    <tr>\n",
       "      <td>4</td>\n",
       "      <td>Особо опасен</td>\n",
       "      <td>221030815</td>\n",
       "      <td>2015-07-29 12:00:00+00:00</td>\n",
       "      <td>Художественный</td>\n",
       "      <td>Юниверсал Пикчерз, Кикстарт Продакшнз, Марк Пл...</td>\n",
       "      <td>США</td>\n",
       "      <td>Тимур Бекмамбетов</td>\n",
       "      <td>Джим Лемли, Джейсон Нетер, Марк Е.Платт, Яйн Смит</td>\n",
       "      <td>«18+» - запрещено для детей</td>\n",
       "      <td>NaN</td>\n",
       "      <td>NaN</td>\n",
       "      <td>NaN</td>\n",
       "      <td>NaN</td>\n",
       "      <td>6.8</td>\n",
       "      <td>фантастика,боевик,триллер</td>\n",
       "      <td>NaN</td>\n",
       "    </tr>\n",
       "    <tr>\n",
       "      <td>41</td>\n",
       "      <td>Алекс и Эмма</td>\n",
       "      <td>221004616</td>\n",
       "      <td>2016-02-09 12:00:00+00:00</td>\n",
       "      <td>Художественный</td>\n",
       "      <td>Эскейп Артистс, Франчайз Пикчерз, Рейнер-Грэйс...</td>\n",
       "      <td>США</td>\n",
       "      <td>Роб Райнер</td>\n",
       "      <td>Тодд Блэк, Элан Грейсман, Джереми Левен, Роб Р...</td>\n",
       "      <td>«16+» - для детей старше 16 лет</td>\n",
       "      <td>NaN</td>\n",
       "      <td>NaN</td>\n",
       "      <td>NaN</td>\n",
       "      <td>NaN</td>\n",
       "      <td>6.4</td>\n",
       "      <td>мелодрама,комедия</td>\n",
       "      <td>NaN</td>\n",
       "    </tr>\n",
       "    <tr>\n",
       "      <td>110</td>\n",
       "      <td>Гарри Поттер и орден Феникса /По роману Дж.К.Р...</td>\n",
       "      <td>121026316</td>\n",
       "      <td>2016-09-23 12:00:00+00:00</td>\n",
       "      <td>Художественный</td>\n",
       "      <td>Уорнер Бразерс, Хэйдей Филмз</td>\n",
       "      <td>США - Великобритания</td>\n",
       "      <td>Дэвид Йетс</td>\n",
       "      <td>Дэйвид Баррон, Дэйвид Хейман</td>\n",
       "      <td>«16+» - для детей старше 16 лет</td>\n",
       "      <td>NaN</td>\n",
       "      <td>NaN</td>\n",
       "      <td>NaN</td>\n",
       "      <td>NaN</td>\n",
       "      <td>7.7</td>\n",
       "      <td>фэнтези,приключения,семейный</td>\n",
       "      <td>7.595260e+05</td>\n",
       "    </tr>\n",
       "    <tr>\n",
       "      <td>113</td>\n",
       "      <td>Гарри Поттер и узник Азкабана /По роману Дж.К....</td>\n",
       "      <td>121026116</td>\n",
       "      <td>2016-09-23 12:00:00+00:00</td>\n",
       "      <td>Художественный</td>\n",
       "      <td>Хэйдей Филмз, 1492 Пикчерз, Уорнер Бразерс</td>\n",
       "      <td>США</td>\n",
       "      <td>Альфонсо Куарон</td>\n",
       "      <td>Майкл Барната</td>\n",
       "      <td>«12+» - для детей старше 12 лет</td>\n",
       "      <td>NaN</td>\n",
       "      <td>NaN</td>\n",
       "      <td>NaN</td>\n",
       "      <td>NaN</td>\n",
       "      <td>8.2</td>\n",
       "      <td>фэнтези,приключения,семейный</td>\n",
       "      <td>1.125302e+06</td>\n",
       "    </tr>\n",
       "    <tr>\n",
       "      <td>...</td>\n",
       "      <td>...</td>\n",
       "      <td>...</td>\n",
       "      <td>...</td>\n",
       "      <td>...</td>\n",
       "      <td>...</td>\n",
       "      <td>...</td>\n",
       "      <td>...</td>\n",
       "      <td>...</td>\n",
       "      <td>...</td>\n",
       "      <td>...</td>\n",
       "      <td>...</td>\n",
       "      <td>...</td>\n",
       "      <td>...</td>\n",
       "      <td>...</td>\n",
       "      <td>...</td>\n",
       "      <td>...</td>\n",
       "    </tr>\n",
       "    <tr>\n",
       "      <td>7369</td>\n",
       "      <td>Невиновен</td>\n",
       "      <td>111019319</td>\n",
       "      <td>2019-11-07 12:00:00+00:00</td>\n",
       "      <td>Художественный</td>\n",
       "      <td>ООО \"Кавказфильм\"</td>\n",
       "      <td>Россия</td>\n",
       "      <td>А.Емкужев</td>\n",
       "      <td>А.Емкужев, А.Хуажева, ООО \"Корпорация Русская ...</td>\n",
       "      <td>«16+» - для детей старше 16 лет</td>\n",
       "      <td>NaN</td>\n",
       "      <td>NaN</td>\n",
       "      <td>NaN</td>\n",
       "      <td>NaN</td>\n",
       "      <td>7.5</td>\n",
       "      <td>триллер,детектив,криминал</td>\n",
       "      <td>NaN</td>\n",
       "    </tr>\n",
       "    <tr>\n",
       "      <td>7416</td>\n",
       "      <td>Отель \"Гранд Будапешт\"</td>\n",
       "      <td>121035119</td>\n",
       "      <td>2019-12-13 12:00:00+00:00</td>\n",
       "      <td>Художественный</td>\n",
       "      <td>Американ Эмпирикал, Индиан Пэинтбраш, Скотт Ру...</td>\n",
       "      <td>Германия, США</td>\n",
       "      <td>Уэс Андерсен</td>\n",
       "      <td>Уэс Андерсон, Джереми Доусон, Стивен Рейлс</td>\n",
       "      <td>«16+» - для детей старше 16 лет</td>\n",
       "      <td>NaN</td>\n",
       "      <td>NaN</td>\n",
       "      <td>NaN</td>\n",
       "      <td>NaN</td>\n",
       "      <td>7.9</td>\n",
       "      <td>комедия,приключения,детектив</td>\n",
       "      <td>NaN</td>\n",
       "    </tr>\n",
       "    <tr>\n",
       "      <td>7438</td>\n",
       "      <td>Зверь</td>\n",
       "      <td>121035919</td>\n",
       "      <td>2019-12-05 12:00:00+00:00</td>\n",
       "      <td>Художественный</td>\n",
       "      <td>Студио энд Нью</td>\n",
       "      <td>Южная Корея</td>\n",
       "      <td>Ли Джон-хо</td>\n",
       "      <td>Чан Гён-ик, Чон Джи-хун, Пэк Кён сук</td>\n",
       "      <td>«18+» - запрещено для детей</td>\n",
       "      <td>NaN</td>\n",
       "      <td>NaN</td>\n",
       "      <td>NaN</td>\n",
       "      <td>NaN</td>\n",
       "      <td>6.5</td>\n",
       "      <td>триллер,драма</td>\n",
       "      <td>1.750035e+05</td>\n",
       "    </tr>\n",
       "    <tr>\n",
       "      <td>7450</td>\n",
       "      <td>В тихом омуте</td>\n",
       "      <td>121036919</td>\n",
       "      <td>2019-12-09 12:00:00+00:00</td>\n",
       "      <td>Художественный</td>\n",
       "      <td>Хэд Гир Филмз, Крео Филмз, Локал Хироу, Метрол...</td>\n",
       "      <td>США</td>\n",
       "      <td>Адам Рэндолл</td>\n",
       "      <td>Мэтт Уолдек</td>\n",
       "      <td>«18+» - запрещено для детей</td>\n",
       "      <td>NaN</td>\n",
       "      <td>NaN</td>\n",
       "      <td>NaN</td>\n",
       "      <td>NaN</td>\n",
       "      <td>6.8</td>\n",
       "      <td>триллер,криминал,детектив</td>\n",
       "      <td>NaN</td>\n",
       "    </tr>\n",
       "    <tr>\n",
       "      <td>7474</td>\n",
       "      <td>Вторжение</td>\n",
       "      <td>111022519</td>\n",
       "      <td>2019-12-23 12:00:00+00:00</td>\n",
       "      <td>Художественный</td>\n",
       "      <td>ООО \"Арт Пикчерс Студия\", ООО \"Водород 2011\"</td>\n",
       "      <td>Россия</td>\n",
       "      <td>Ф.Бондарчук</td>\n",
       "      <td>Ф.Бондарчук, М.Врубель, А.Андрющенко, Д.Рудовский</td>\n",
       "      <td>«12+» - для детей старше 12 лет</td>\n",
       "      <td>100000000.0</td>\n",
       "      <td>400000000.0</td>\n",
       "      <td>944000000.0</td>\n",
       "      <td>Фонд кино</td>\n",
       "      <td>5.7</td>\n",
       "      <td>фантастика,боевик</td>\n",
       "      <td>NaN</td>\n",
       "    </tr>\n",
       "  </tbody>\n",
       "</table>\n",
       "<p>714 rows × 16 columns</p>\n",
       "</div>"
      ],
      "text/plain": [
       "                                                  title   puNumber  \\\n",
       "3                                          Особо опасен  221026916   \n",
       "4                                          Особо опасен  221030815   \n",
       "41                                         Алекс и Эмма  221004616   \n",
       "110   Гарри Поттер и орден Феникса /По роману Дж.К.Р...  121026316   \n",
       "113   Гарри Поттер и узник Азкабана /По роману Дж.К....  121026116   \n",
       "...                                                 ...        ...   \n",
       "7369                                          Невиновен  111019319   \n",
       "7416                             Отель \"Гранд Будапешт\"  121035119   \n",
       "7438                                              Зверь  121035919   \n",
       "7450                                      В тихом омуте  121036919   \n",
       "7474                                          Вторжение  111022519   \n",
       "\n",
       "               show_start_date             type  \\\n",
       "3    2016-06-10 12:00:00+00:00   Художественный   \n",
       "4    2015-07-29 12:00:00+00:00   Художественный   \n",
       "41   2016-02-09 12:00:00+00:00   Художественный   \n",
       "110  2016-09-23 12:00:00+00:00   Художественный   \n",
       "113  2016-09-23 12:00:00+00:00   Художественный   \n",
       "...                        ...              ...   \n",
       "7369 2019-11-07 12:00:00+00:00   Художественный   \n",
       "7416 2019-12-13 12:00:00+00:00   Художественный   \n",
       "7438 2019-12-05 12:00:00+00:00   Художественный   \n",
       "7450 2019-12-09 12:00:00+00:00   Художественный   \n",
       "7474 2019-12-23 12:00:00+00:00   Художественный   \n",
       "\n",
       "                                            film_studio    production_country  \\\n",
       "3     Юниверсал Пикчерз, Кикстарт Продакшнз, Марк Пл...                   США   \n",
       "4     Юниверсал Пикчерз, Кикстарт Продакшнз, Марк Пл...                   США   \n",
       "41    Эскейп Артистс, Франчайз Пикчерз, Рейнер-Грэйс...                   США   \n",
       "110                        Уорнер Бразерс, Хэйдей Филмз  США - Великобритания   \n",
       "113          Хэйдей Филмз, 1492 Пикчерз, Уорнер Бразерс                   США   \n",
       "...                                                 ...                   ...   \n",
       "7369                                  ООО \"Кавказфильм\"                Россия   \n",
       "7416  Американ Эмпирикал, Индиан Пэинтбраш, Скотт Ру...         Германия, США   \n",
       "7438                                     Студио энд Нью           Южная Корея   \n",
       "7450  Хэд Гир Филмз, Крео Филмз, Локал Хироу, Метрол...                   США   \n",
       "7474       ООО \"Арт Пикчерс Студия\", ООО \"Водород 2011\"                Россия   \n",
       "\n",
       "               director                                           producer  \\\n",
       "3     Тимур Бекмамбетов  Джим Лемли, Джейсон Нетер, Марк Е.Платт, Яйн Смит   \n",
       "4     Тимур Бекмамбетов  Джим Лемли, Джейсон Нетер, Марк Е.Платт, Яйн Смит   \n",
       "41           Роб Райнер  Тодд Блэк, Элан Грейсман, Джереми Левен, Роб Р...   \n",
       "110          Дэвид Йетс                       Дэйвид Баррон, Дэйвид Хейман   \n",
       "113     Альфонсо Куарон                                      Майкл Барната   \n",
       "...                 ...                                                ...   \n",
       "7369          А.Емкужев  А.Емкужев, А.Хуажева, ООО \"Корпорация Русская ...   \n",
       "7416       Уэс Андерсен         Уэс Андерсон, Джереми Доусон, Стивен Рейлс   \n",
       "7438         Ли Джон-хо               Чан Гён-ик, Чон Джи-хун, Пэк Кён сук   \n",
       "7450       Адам Рэндолл                                        Мэтт Уолдек   \n",
       "7474        Ф.Бондарчук  Ф.Бондарчук, М.Врубель, А.Андрющенко, Д.Рудовский   \n",
       "\n",
       "                      age_restriction  refundable_support  \\\n",
       "3         «18+» - запрещено для детей                 NaN   \n",
       "4         «18+» - запрещено для детей                 NaN   \n",
       "41    «16+» - для детей старше 16 лет                 NaN   \n",
       "110   «16+» - для детей старше 16 лет                 NaN   \n",
       "113   «12+» - для детей старше 12 лет                 NaN   \n",
       "...                               ...                 ...   \n",
       "7369  «16+» - для детей старше 16 лет                 NaN   \n",
       "7416  «16+» - для детей старше 16 лет                 NaN   \n",
       "7438      «18+» - запрещено для детей                 NaN   \n",
       "7450      «18+» - запрещено для детей                 NaN   \n",
       "7474  «12+» - для детей старше 12 лет         100000000.0   \n",
       "\n",
       "      nonrefundable_support       budget financing_source  ratings  \\\n",
       "3                       NaN          NaN              NaN      6.8   \n",
       "4                       NaN          NaN              NaN      6.8   \n",
       "41                      NaN          NaN              NaN      6.4   \n",
       "110                     NaN          NaN              NaN      7.7   \n",
       "113                     NaN          NaN              NaN      8.2   \n",
       "...                     ...          ...              ...      ...   \n",
       "7369                    NaN          NaN              NaN      7.5   \n",
       "7416                    NaN          NaN              NaN      7.9   \n",
       "7438                    NaN          NaN              NaN      6.5   \n",
       "7450                    NaN          NaN              NaN      6.8   \n",
       "7474            400000000.0  944000000.0        Фонд кино      5.7   \n",
       "\n",
       "                            genres    box_office  \n",
       "3        фантастика,боевик,триллер           NaN  \n",
       "4        фантастика,боевик,триллер           NaN  \n",
       "41               мелодрама,комедия           NaN  \n",
       "110   фэнтези,приключения,семейный  7.595260e+05  \n",
       "113   фэнтези,приключения,семейный  1.125302e+06  \n",
       "...                            ...           ...  \n",
       "7369     триллер,детектив,криминал           NaN  \n",
       "7416  комедия,приключения,детектив           NaN  \n",
       "7438                 триллер,драма  1.750035e+05  \n",
       "7450     триллер,криминал,детектив           NaN  \n",
       "7474             фантастика,боевик           NaN  \n",
       "\n",
       "[714 rows x 16 columns]"
      ]
     },
     "execution_count": 396,
     "metadata": {},
     "output_type": "execute_result"
    }
   ],
   "source": [
    "data[data.duplicated('title')]"
   ]
  },
  {
   "cell_type": "markdown",
   "metadata": {},
   "source": [
    "Видим, что точно имеется дубликат по фильму \"Особо опасен\". Удалим его."
   ]
  },
  {
   "cell_type": "code",
   "execution_count": 397,
   "metadata": {},
   "outputs": [
    {
     "data": {
      "text/html": [
       "<div>\n",
       "<style scoped>\n",
       "    .dataframe tbody tr th:only-of-type {\n",
       "        vertical-align: middle;\n",
       "    }\n",
       "\n",
       "    .dataframe tbody tr th {\n",
       "        vertical-align: top;\n",
       "    }\n",
       "\n",
       "    .dataframe thead th {\n",
       "        text-align: right;\n",
       "    }\n",
       "</style>\n",
       "<table border=\"1\" class=\"dataframe\">\n",
       "  <thead>\n",
       "    <tr style=\"text-align: right;\">\n",
       "      <th></th>\n",
       "      <th>title</th>\n",
       "      <th>puNumber</th>\n",
       "      <th>show_start_date</th>\n",
       "      <th>type</th>\n",
       "      <th>film_studio</th>\n",
       "      <th>production_country</th>\n",
       "      <th>director</th>\n",
       "      <th>producer</th>\n",
       "      <th>age_restriction</th>\n",
       "      <th>refundable_support</th>\n",
       "      <th>nonrefundable_support</th>\n",
       "      <th>budget</th>\n",
       "      <th>financing_source</th>\n",
       "      <th>ratings</th>\n",
       "      <th>genres</th>\n",
       "      <th>box_office</th>\n",
       "    </tr>\n",
       "  </thead>\n",
       "  <tbody>\n",
       "    <tr>\n",
       "      <td>2</td>\n",
       "      <td>Особо опасен</td>\n",
       "      <td>221038416</td>\n",
       "      <td>2016-10-10 12:00:00+00:00</td>\n",
       "      <td>Художественный</td>\n",
       "      <td>Юниверсал Пикчерз, Кикстарт Продакшнз, Марк Пл...</td>\n",
       "      <td>США</td>\n",
       "      <td>Тимур Бекмамбетов</td>\n",
       "      <td>Джим Лемли, Джейсон Нетер, Марк Е.Платт, Яйн Смит</td>\n",
       "      <td>«18+» - запрещено для детей</td>\n",
       "      <td>NaN</td>\n",
       "      <td>NaN</td>\n",
       "      <td>NaN</td>\n",
       "      <td>NaN</td>\n",
       "      <td>6.8</td>\n",
       "      <td>фантастика,боевик,триллер</td>\n",
       "      <td>NaN</td>\n",
       "    </tr>\n",
       "    <tr>\n",
       "      <td>3</td>\n",
       "      <td>Особо опасен</td>\n",
       "      <td>221026916</td>\n",
       "      <td>2016-06-10 12:00:00+00:00</td>\n",
       "      <td>Художественный</td>\n",
       "      <td>Юниверсал Пикчерз, Кикстарт Продакшнз, Марк Пл...</td>\n",
       "      <td>США</td>\n",
       "      <td>Тимур Бекмамбетов</td>\n",
       "      <td>Джим Лемли, Джейсон Нетер, Марк Е.Платт, Яйн Смит</td>\n",
       "      <td>«18+» - запрещено для детей</td>\n",
       "      <td>NaN</td>\n",
       "      <td>NaN</td>\n",
       "      <td>NaN</td>\n",
       "      <td>NaN</td>\n",
       "      <td>6.8</td>\n",
       "      <td>фантастика,боевик,триллер</td>\n",
       "      <td>NaN</td>\n",
       "    </tr>\n",
       "    <tr>\n",
       "      <td>4</td>\n",
       "      <td>Особо опасен</td>\n",
       "      <td>221030815</td>\n",
       "      <td>2015-07-29 12:00:00+00:00</td>\n",
       "      <td>Художественный</td>\n",
       "      <td>Юниверсал Пикчерз, Кикстарт Продакшнз, Марк Пл...</td>\n",
       "      <td>США</td>\n",
       "      <td>Тимур Бекмамбетов</td>\n",
       "      <td>Джим Лемли, Джейсон Нетер, Марк Е.Платт, Яйн Смит</td>\n",
       "      <td>«18+» - запрещено для детей</td>\n",
       "      <td>NaN</td>\n",
       "      <td>NaN</td>\n",
       "      <td>NaN</td>\n",
       "      <td>NaN</td>\n",
       "      <td>6.8</td>\n",
       "      <td>фантастика,боевик,триллер</td>\n",
       "      <td>NaN</td>\n",
       "    </tr>\n",
       "  </tbody>\n",
       "</table>\n",
       "</div>"
      ],
      "text/plain": [
       "          title   puNumber           show_start_date            type  \\\n",
       "2  Особо опасен  221038416 2016-10-10 12:00:00+00:00  Художественный   \n",
       "3  Особо опасен  221026916 2016-06-10 12:00:00+00:00  Художественный   \n",
       "4  Особо опасен  221030815 2015-07-29 12:00:00+00:00  Художественный   \n",
       "\n",
       "                                         film_studio production_country  \\\n",
       "2  Юниверсал Пикчерз, Кикстарт Продакшнз, Марк Пл...                США   \n",
       "3  Юниверсал Пикчерз, Кикстарт Продакшнз, Марк Пл...                США   \n",
       "4  Юниверсал Пикчерз, Кикстарт Продакшнз, Марк Пл...                США   \n",
       "\n",
       "            director                                           producer  \\\n",
       "2  Тимур Бекмамбетов  Джим Лемли, Джейсон Нетер, Марк Е.Платт, Яйн Смит   \n",
       "3  Тимур Бекмамбетов  Джим Лемли, Джейсон Нетер, Марк Е.Платт, Яйн Смит   \n",
       "4  Тимур Бекмамбетов  Джим Лемли, Джейсон Нетер, Марк Е.Платт, Яйн Смит   \n",
       "\n",
       "               age_restriction  refundable_support  nonrefundable_support  \\\n",
       "2  «18+» - запрещено для детей                 NaN                    NaN   \n",
       "3  «18+» - запрещено для детей                 NaN                    NaN   \n",
       "4  «18+» - запрещено для детей                 NaN                    NaN   \n",
       "\n",
       "   budget financing_source  ratings                     genres  box_office  \n",
       "2     NaN              NaN      6.8  фантастика,боевик,триллер         NaN  \n",
       "3     NaN              NaN      6.8  фантастика,боевик,триллер         NaN  \n",
       "4     NaN              NaN      6.8  фантастика,боевик,триллер         NaN  "
      ]
     },
     "execution_count": 397,
     "metadata": {},
     "output_type": "execute_result"
    }
   ],
   "source": [
    "data[data['title'] == 'Особо опасен']"
   ]
  },
  {
   "cell_type": "code",
   "execution_count": 398,
   "metadata": {},
   "outputs": [],
   "source": [
    "data.drop([3, 4], inplace=True)"
   ]
  },
  {
   "cell_type": "code",
   "execution_count": 399,
   "metadata": {},
   "outputs": [
    {
     "data": {
      "text/html": [
       "<div>\n",
       "<style scoped>\n",
       "    .dataframe tbody tr th:only-of-type {\n",
       "        vertical-align: middle;\n",
       "    }\n",
       "\n",
       "    .dataframe tbody tr th {\n",
       "        vertical-align: top;\n",
       "    }\n",
       "\n",
       "    .dataframe thead th {\n",
       "        text-align: right;\n",
       "    }\n",
       "</style>\n",
       "<table border=\"1\" class=\"dataframe\">\n",
       "  <thead>\n",
       "    <tr style=\"text-align: right;\">\n",
       "      <th></th>\n",
       "      <th>title</th>\n",
       "      <th>puNumber</th>\n",
       "      <th>show_start_date</th>\n",
       "      <th>type</th>\n",
       "      <th>film_studio</th>\n",
       "      <th>production_country</th>\n",
       "      <th>director</th>\n",
       "      <th>producer</th>\n",
       "      <th>age_restriction</th>\n",
       "      <th>refundable_support</th>\n",
       "      <th>nonrefundable_support</th>\n",
       "      <th>budget</th>\n",
       "      <th>financing_source</th>\n",
       "      <th>ratings</th>\n",
       "      <th>genres</th>\n",
       "      <th>box_office</th>\n",
       "    </tr>\n",
       "  </thead>\n",
       "  <tbody>\n",
       "    <tr>\n",
       "      <td>2</td>\n",
       "      <td>Особо опасен</td>\n",
       "      <td>221038416</td>\n",
       "      <td>2016-10-10 12:00:00+00:00</td>\n",
       "      <td>Художественный</td>\n",
       "      <td>Юниверсал Пикчерз, Кикстарт Продакшнз, Марк Пл...</td>\n",
       "      <td>США</td>\n",
       "      <td>Тимур Бекмамбетов</td>\n",
       "      <td>Джим Лемли, Джейсон Нетер, Марк Е.Платт, Яйн Смит</td>\n",
       "      <td>«18+» - запрещено для детей</td>\n",
       "      <td>NaN</td>\n",
       "      <td>NaN</td>\n",
       "      <td>NaN</td>\n",
       "      <td>NaN</td>\n",
       "      <td>6.8</td>\n",
       "      <td>фантастика,боевик,триллер</td>\n",
       "      <td>NaN</td>\n",
       "    </tr>\n",
       "  </tbody>\n",
       "</table>\n",
       "</div>"
      ],
      "text/plain": [
       "          title   puNumber           show_start_date            type  \\\n",
       "2  Особо опасен  221038416 2016-10-10 12:00:00+00:00  Художественный   \n",
       "\n",
       "                                         film_studio production_country  \\\n",
       "2  Юниверсал Пикчерз, Кикстарт Продакшнз, Марк Пл...                США   \n",
       "\n",
       "            director                                           producer  \\\n",
       "2  Тимур Бекмамбетов  Джим Лемли, Джейсон Нетер, Марк Е.Платт, Яйн Смит   \n",
       "\n",
       "               age_restriction  refundable_support  nonrefundable_support  \\\n",
       "2  «18+» - запрещено для детей                 NaN                    NaN   \n",
       "\n",
       "   budget financing_source  ratings                     genres  box_office  \n",
       "2     NaN              NaN      6.8  фантастика,боевик,триллер         NaN  "
      ]
     },
     "execution_count": 399,
     "metadata": {},
     "output_type": "execute_result"
    }
   ],
   "source": [
    "data[data['title'] == 'Особо опасен']"
   ]
  },
  {
   "cell_type": "code",
   "execution_count": 400,
   "metadata": {},
   "outputs": [
    {
     "name": "stdout",
     "output_type": "stream",
     "text": [
      "221054410    2\n",
      "221154310    2\n",
      "121033816    1\n",
      "121005617    1\n",
      "111003515    1\n",
      "            ..\n",
      "121024511    1\n",
      "111026518    1\n",
      "111011515    1\n",
      "221148210    1\n",
      "121033119    1\n",
      "Name: puNumber, Length: 7482, dtype: int64\n"
     ]
    }
   ],
   "source": [
    "print(data['puNumber'].value_counts())"
   ]
  },
  {
   "cell_type": "code",
   "execution_count": 401,
   "metadata": {},
   "outputs": [
    {
     "data": {
      "text/html": [
       "<div>\n",
       "<style scoped>\n",
       "    .dataframe tbody tr th:only-of-type {\n",
       "        vertical-align: middle;\n",
       "    }\n",
       "\n",
       "    .dataframe tbody tr th {\n",
       "        vertical-align: top;\n",
       "    }\n",
       "\n",
       "    .dataframe thead th {\n",
       "        text-align: right;\n",
       "    }\n",
       "</style>\n",
       "<table border=\"1\" class=\"dataframe\">\n",
       "  <thead>\n",
       "    <tr style=\"text-align: right;\">\n",
       "      <th></th>\n",
       "      <th>title</th>\n",
       "      <th>puNumber</th>\n",
       "      <th>show_start_date</th>\n",
       "      <th>type</th>\n",
       "      <th>film_studio</th>\n",
       "      <th>production_country</th>\n",
       "      <th>director</th>\n",
       "      <th>producer</th>\n",
       "      <th>age_restriction</th>\n",
       "      <th>refundable_support</th>\n",
       "      <th>nonrefundable_support</th>\n",
       "      <th>budget</th>\n",
       "      <th>financing_source</th>\n",
       "      <th>ratings</th>\n",
       "      <th>genres</th>\n",
       "      <th>box_office</th>\n",
       "    </tr>\n",
       "  </thead>\n",
       "  <tbody>\n",
       "    <tr>\n",
       "      <td>4638</td>\n",
       "      <td>Как жениться и остаться холостым</td>\n",
       "      <td>221154310</td>\n",
       "      <td>2010-12-17 12:00:00+00:00</td>\n",
       "      <td>Художественный</td>\n",
       "      <td>Ше Вам, Скрипт Ассосье, Тэ Фэ 1 Фильм Продюксь...</td>\n",
       "      <td>Франция</td>\n",
       "      <td>Эрик Лартиго</td>\n",
       "      <td>Амандин Било, Алан Шаба</td>\n",
       "      <td>«16+» - для детей старше 16 лет</td>\n",
       "      <td>NaN</td>\n",
       "      <td>NaN</td>\n",
       "      <td>NaN</td>\n",
       "      <td>NaN</td>\n",
       "      <td>7.0</td>\n",
       "      <td>мелодрама,комедия</td>\n",
       "      <td>NaN</td>\n",
       "    </tr>\n",
       "    <tr>\n",
       "      <td>4639</td>\n",
       "      <td>Иоанна - женщина на папском престоле /По роман...</td>\n",
       "      <td>221154310</td>\n",
       "      <td>2010-12-17 12:00:00+00:00</td>\n",
       "      <td>Художественный</td>\n",
       "      <td>Константин Фильм, А Эр Ди Дегето Фильм, Дюне ...</td>\n",
       "      <td>Германия - Великобритания - Италия - Испания</td>\n",
       "      <td>Зенке Вортманн</td>\n",
       "      <td>Оливер Бербен, Дорис Д.Хайнце, Фарук Элтан</td>\n",
       "      <td>«16+» - для детей старше 16 лет</td>\n",
       "      <td>NaN</td>\n",
       "      <td>NaN</td>\n",
       "      <td>NaN</td>\n",
       "      <td>NaN</td>\n",
       "      <td>7.6</td>\n",
       "      <td>драма,мелодрама,история</td>\n",
       "      <td>NaN</td>\n",
       "    </tr>\n",
       "    <tr>\n",
       "      <td>5067</td>\n",
       "      <td>Анализируй это!</td>\n",
       "      <td>221054410</td>\n",
       "      <td>2010-05-25 12:00:00+00:00</td>\n",
       "      <td>Художественный</td>\n",
       "      <td>Уорнер Бразерс, Вилладж Роудшоу Филмз ЛТД</td>\n",
       "      <td>США-Австралия</td>\n",
       "      <td>ХЭрольд Рэмис</td>\n",
       "      <td>Джейн Розенталь, Пола Уейнстейн</td>\n",
       "      <td>«16+» - для детей старше 16 лет</td>\n",
       "      <td>NaN</td>\n",
       "      <td>NaN</td>\n",
       "      <td>NaN</td>\n",
       "      <td>NaN</td>\n",
       "      <td>7.4</td>\n",
       "      <td>комедия,криминал</td>\n",
       "      <td>NaN</td>\n",
       "    </tr>\n",
       "    <tr>\n",
       "      <td>5068</td>\n",
       "      <td>Анализируй то!</td>\n",
       "      <td>221054410</td>\n",
       "      <td>2010-05-25 12:00:00+00:00</td>\n",
       "      <td>Художественный</td>\n",
       "      <td>Уорнер Бразерс, Виллидж Роадшоу Пикчерз, Эн-Пи...</td>\n",
       "      <td>США</td>\n",
       "      <td>Гарольд Реймис</td>\n",
       "      <td>Джейн Розенталь, Паул Уэйнстейн</td>\n",
       "      <td>«12+» - для детей старше 12 лет</td>\n",
       "      <td>NaN</td>\n",
       "      <td>NaN</td>\n",
       "      <td>NaN</td>\n",
       "      <td>NaN</td>\n",
       "      <td>6.8</td>\n",
       "      <td>комедия,криминал</td>\n",
       "      <td>NaN</td>\n",
       "    </tr>\n",
       "  </tbody>\n",
       "</table>\n",
       "</div>"
      ],
      "text/plain": [
       "                                                  title   puNumber  \\\n",
       "4638                   Как жениться и остаться холостым  221154310   \n",
       "4639  Иоанна - женщина на папском престоле /По роман...  221154310   \n",
       "5067                                    Анализируй это!  221054410   \n",
       "5068                                     Анализируй то!  221054410   \n",
       "\n",
       "               show_start_date            type  \\\n",
       "4638 2010-12-17 12:00:00+00:00  Художественный   \n",
       "4639 2010-12-17 12:00:00+00:00  Художественный   \n",
       "5067 2010-05-25 12:00:00+00:00  Художественный   \n",
       "5068 2010-05-25 12:00:00+00:00  Художественный   \n",
       "\n",
       "                                            film_studio  \\\n",
       "4638  Ше Вам, Скрипт Ассосье, Тэ Фэ 1 Фильм Продюксь...   \n",
       "4639   Константин Фильм, А Эр Ди Дегето Фильм, Дюне ...   \n",
       "5067          Уорнер Бразерс, Вилладж Роудшоу Филмз ЛТД   \n",
       "5068  Уорнер Бразерс, Виллидж Роадшоу Пикчерз, Эн-Пи...   \n",
       "\n",
       "                                production_country        director  \\\n",
       "4638                                       Франция    Эрик Лартиго   \n",
       "4639  Германия - Великобритания - Италия - Испания  Зенке Вортманн   \n",
       "5067                                 США-Австралия   ХЭрольд Рэмис   \n",
       "5068                                           США  Гарольд Реймис   \n",
       "\n",
       "                                        producer  \\\n",
       "4638                     Амандин Било, Алан Шаба   \n",
       "4639  Оливер Бербен, Дорис Д.Хайнце, Фарук Элтан   \n",
       "5067             Джейн Розенталь, Пола Уейнстейн   \n",
       "5068             Джейн Розенталь, Паул Уэйнстейн   \n",
       "\n",
       "                      age_restriction  refundable_support  \\\n",
       "4638  «16+» - для детей старше 16 лет                 NaN   \n",
       "4639  «16+» - для детей старше 16 лет                 NaN   \n",
       "5067  «16+» - для детей старше 16 лет                 NaN   \n",
       "5068  «12+» - для детей старше 12 лет                 NaN   \n",
       "\n",
       "      nonrefundable_support  budget financing_source  ratings  \\\n",
       "4638                    NaN     NaN              NaN      7.0   \n",
       "4639                    NaN     NaN              NaN      7.6   \n",
       "5067                    NaN     NaN              NaN      7.4   \n",
       "5068                    NaN     NaN              NaN      6.8   \n",
       "\n",
       "                       genres  box_office  \n",
       "4638        мелодрама,комедия         NaN  \n",
       "4639  драма,мелодрама,история         NaN  \n",
       "5067         комедия,криминал         NaN  \n",
       "5068         комедия,криминал         NaN  "
      ]
     },
     "execution_count": 401,
     "metadata": {},
     "output_type": "execute_result"
    }
   ],
   "source": [
    "data[(data['puNumber'] == '221154310') | (data['puNumber'] == '221054410')]"
   ]
  },
  {
   "cell_type": "code",
   "execution_count": 402,
   "metadata": {},
   "outputs": [],
   "source": [
    "data.drop([4638, 5067], inplace=True)"
   ]
  },
  {
   "cell_type": "code",
   "execution_count": 403,
   "metadata": {},
   "outputs": [
    {
     "data": {
      "text/html": [
       "<div>\n",
       "<style scoped>\n",
       "    .dataframe tbody tr th:only-of-type {\n",
       "        vertical-align: middle;\n",
       "    }\n",
       "\n",
       "    .dataframe tbody tr th {\n",
       "        vertical-align: top;\n",
       "    }\n",
       "\n",
       "    .dataframe thead th {\n",
       "        text-align: right;\n",
       "    }\n",
       "</style>\n",
       "<table border=\"1\" class=\"dataframe\">\n",
       "  <thead>\n",
       "    <tr style=\"text-align: right;\">\n",
       "      <th></th>\n",
       "      <th>title</th>\n",
       "      <th>puNumber</th>\n",
       "      <th>show_start_date</th>\n",
       "      <th>type</th>\n",
       "      <th>film_studio</th>\n",
       "      <th>production_country</th>\n",
       "      <th>director</th>\n",
       "      <th>producer</th>\n",
       "      <th>age_restriction</th>\n",
       "      <th>refundable_support</th>\n",
       "      <th>nonrefundable_support</th>\n",
       "      <th>budget</th>\n",
       "      <th>financing_source</th>\n",
       "      <th>ratings</th>\n",
       "      <th>genres</th>\n",
       "      <th>box_office</th>\n",
       "    </tr>\n",
       "  </thead>\n",
       "  <tbody>\n",
       "    <tr>\n",
       "      <td>4639</td>\n",
       "      <td>Иоанна - женщина на папском престоле /По роман...</td>\n",
       "      <td>221154310</td>\n",
       "      <td>2010-12-17 12:00:00+00:00</td>\n",
       "      <td>Художественный</td>\n",
       "      <td>Константин Фильм, А Эр Ди Дегето Фильм, Дюне ...</td>\n",
       "      <td>Германия - Великобритания - Италия - Испания</td>\n",
       "      <td>Зенке Вортманн</td>\n",
       "      <td>Оливер Бербен, Дорис Д.Хайнце, Фарук Элтан</td>\n",
       "      <td>«16+» - для детей старше 16 лет</td>\n",
       "      <td>NaN</td>\n",
       "      <td>NaN</td>\n",
       "      <td>NaN</td>\n",
       "      <td>NaN</td>\n",
       "      <td>7.6</td>\n",
       "      <td>драма,мелодрама,история</td>\n",
       "      <td>NaN</td>\n",
       "    </tr>\n",
       "    <tr>\n",
       "      <td>5068</td>\n",
       "      <td>Анализируй то!</td>\n",
       "      <td>221054410</td>\n",
       "      <td>2010-05-25 12:00:00+00:00</td>\n",
       "      <td>Художественный</td>\n",
       "      <td>Уорнер Бразерс, Виллидж Роадшоу Пикчерз, Эн-Пи...</td>\n",
       "      <td>США</td>\n",
       "      <td>Гарольд Реймис</td>\n",
       "      <td>Джейн Розенталь, Паул Уэйнстейн</td>\n",
       "      <td>«12+» - для детей старше 12 лет</td>\n",
       "      <td>NaN</td>\n",
       "      <td>NaN</td>\n",
       "      <td>NaN</td>\n",
       "      <td>NaN</td>\n",
       "      <td>6.8</td>\n",
       "      <td>комедия,криминал</td>\n",
       "      <td>NaN</td>\n",
       "    </tr>\n",
       "  </tbody>\n",
       "</table>\n",
       "</div>"
      ],
      "text/plain": [
       "                                                  title   puNumber  \\\n",
       "4639  Иоанна - женщина на папском престоле /По роман...  221154310   \n",
       "5068                                     Анализируй то!  221054410   \n",
       "\n",
       "               show_start_date            type  \\\n",
       "4639 2010-12-17 12:00:00+00:00  Художественный   \n",
       "5068 2010-05-25 12:00:00+00:00  Художественный   \n",
       "\n",
       "                                            film_studio  \\\n",
       "4639   Константин Фильм, А Эр Ди Дегето Фильм, Дюне ...   \n",
       "5068  Уорнер Бразерс, Виллидж Роадшоу Пикчерз, Эн-Пи...   \n",
       "\n",
       "                                production_country        director  \\\n",
       "4639  Германия - Великобритания - Италия - Испания  Зенке Вортманн   \n",
       "5068                                           США  Гарольд Реймис   \n",
       "\n",
       "                                        producer  \\\n",
       "4639  Оливер Бербен, Дорис Д.Хайнце, Фарук Элтан   \n",
       "5068             Джейн Розенталь, Паул Уэйнстейн   \n",
       "\n",
       "                      age_restriction  refundable_support  \\\n",
       "4639  «16+» - для детей старше 16 лет                 NaN   \n",
       "5068  «12+» - для детей старше 12 лет                 NaN   \n",
       "\n",
       "      nonrefundable_support  budget financing_source  ratings  \\\n",
       "4639                    NaN     NaN              NaN      7.6   \n",
       "5068                    NaN     NaN              NaN      6.8   \n",
       "\n",
       "                       genres  box_office  \n",
       "4639  драма,мелодрама,история         NaN  \n",
       "5068         комедия,криминал         NaN  "
      ]
     },
     "execution_count": 403,
     "metadata": {},
     "output_type": "execute_result"
    }
   ],
   "source": [
    "data[(data['puNumber'] == '221154310') | (data['puNumber'] == '221054410')]"
   ]
  },
  {
   "cell_type": "markdown",
   "metadata": {
    "id": "52fOPrEBgFyQ"
   },
   "source": [
    "#### Шаг 2.4. Изучите категориальные значения\n",
    "\n",
    "- Посмотрите, какая общая проблема встречается почти во всех категориальных столбцах;\n",
    "- Исправьте проблемные значения в поле `type`.\n",
    "\n",
    "<div id=\"accordion\">\n",
    "    <div class=\"card\">\n",
    "        <div class=\"card-header\" id=\"headingThree\">\n",
    "            <button class=\"btn btn-link collapsed\" data-toggle=\"collapse\" data-target=\"#collapseHint_1\" aria-expanded=\"false\" aria-controls=\"collapseHint_1\">Подсказка</button>\n",
    "        </div>\n",
    "        <div id=\"collapseHint_1\" class=\"collapse\" aria-labelledby=\"headingThree\" data-parent=\"#accordion\">\n",
    "            <div class=\"card-body\">\n",
    "В поле <code>type</code> есть несколько значений, у которых появился пробел в начале строки. Самый простой способ их «починить» -- использовать метод <a href=\"https://pandas.pydata.org/docs/reference/api/pandas.Series.str.strip.html#pandas.Series.str.strip\">.str.strip</a>. Этот метод удаляет все пробелы, которые встречаются в начале и в конце строки. Применяют его таким образом:<br>\n",
    "<code>df['type'].str.strip()</code>\n",
    "            </div>\n",
    "        </div>\n",
    "    </div>\n",
    "</div>"
   ]
  },
  {
   "cell_type": "markdown",
   "metadata": {},
   "source": [
    "Рассмотрим столбец `type`. Видим, что в части значений имеются пробелы вначале строк. Удалим пробелы."
   ]
  },
  {
   "cell_type": "code",
   "execution_count": 404,
   "metadata": {},
   "outputs": [
    {
     "data": {
      "text/plain": [
       "Художественный                4516\n",
       " Художественный               1389\n",
       "Анимационный                   828\n",
       "Прочие                         406\n",
       "Документальный                 288\n",
       "Научно-популярный               53\n",
       " Анимационный                    1\n",
       "Музыкально-развлекательный       1\n",
       "Name: type, dtype: int64"
      ]
     },
     "execution_count": 404,
     "metadata": {},
     "output_type": "execute_result"
    }
   ],
   "source": [
    "data['type'].value_counts()"
   ]
  },
  {
   "cell_type": "code",
   "execution_count": 405,
   "metadata": {},
   "outputs": [],
   "source": [
    "data['type'] = data['type'].str.strip()"
   ]
  },
  {
   "cell_type": "code",
   "execution_count": 406,
   "metadata": {},
   "outputs": [
    {
     "data": {
      "text/plain": [
       "Художественный                5905\n",
       "Анимационный                   829\n",
       "Прочие                         406\n",
       "Документальный                 288\n",
       "Научно-популярный               53\n",
       "Музыкально-развлекательный       1\n",
       "Name: type, dtype: int64"
      ]
     },
     "execution_count": 406,
     "metadata": {},
     "output_type": "execute_result"
    }
   ],
   "source": [
    "data['type'].value_counts()"
   ]
  },
  {
   "cell_type": "markdown",
   "metadata": {},
   "source": [
    "Для более удобного анализа оставим в столбце с возрастной категорией только возраст."
   ]
  },
  {
   "cell_type": "code",
   "execution_count": 407,
   "metadata": {},
   "outputs": [
    {
     "data": {
      "text/plain": [
       "array(['«18+» - запрещено для детей', '«6+» - для детей старше 6 лет',\n",
       "       '«12+» - для детей старше 12 лет',\n",
       "       '«16+» - для детей старше 16 лет',\n",
       "       '«0+» - для любой зрительской аудитории'], dtype=object)"
      ]
     },
     "execution_count": 407,
     "metadata": {},
     "output_type": "execute_result"
    }
   ],
   "source": [
    "data['age_restriction'].unique()"
   ]
  },
  {
   "cell_type": "code",
   "execution_count": 408,
   "metadata": {},
   "outputs": [],
   "source": [
    "def age_group(age):\n",
    "    if '«18+»' in age:\n",
    "        return 'запрещено для детей'\n",
    "    elif '«6+»' in age:\n",
    "        return 'для детей старше 6 лет'\n",
    "    elif '«12+»' in age:\n",
    "        return 'для детей старше 12 лет' \n",
    "    elif '«16+»' in age:\n",
    "        return 'для детей старше 16 лет'  \n",
    "    return 'для любой зрительской аудитории'\n",
    "\n",
    "data['age_restriction'] = data['age_restriction'].apply(age_group)"
   ]
  },
  {
   "cell_type": "markdown",
   "metadata": {},
   "source": [
    "Для целей дальнейшего анализа распределим фильмы по категориям в зависимости от рейтинга."
   ]
  },
  {
   "cell_type": "code",
   "execution_count": 409,
   "metadata": {},
   "outputs": [],
   "source": [
    "\n",
    "def rating_groups(rating):\n",
    "    if 0 <= rating <= 5:\n",
    "        return 'низкий рейтинг'\n",
    "    elif 5 < rating <= 7:\n",
    "        return 'средний рейтинг' \n",
    "    return 'высокий рейтинг'\n",
    "\n",
    "data['rating_group'] = data['ratings'].apply(rating_groups)\n",
    "\n"
   ]
  },
  {
   "cell_type": "markdown",
   "metadata": {
    "id": "XFSN5lrEgFyR"
   },
   "source": [
    "#### Шаг 2.5. Проверьте количественные значения\n",
    "\n",
    "- Проверьте, обнаружились ли в таких столбцах подозрительные данные. Как с такими данными лучше поступить?\n",
    "\n",
    "<div id=\"accordion\">\n",
    "    <div class=\"card\">\n",
    "        <div class=\"card-header\" id=\"headingThree\">\n",
    "            <button class=\"btn btn-link collapsed\" data-toggle=\"collapse\" data-target=\"#collapseHint_budget\" aria-expanded=\"false\" aria-controls=\"collapseHint_budget\">Подсказка</button>\n",
    "        </div>\n",
    "        <div id=\"collapseHint_budget\" class=\"collapse\" aria-labelledby=\"headingThree\" data-parent=\"#accordion\">\n",
    "            <div class=\"card-body\">\n",
    "Обратите внимание на описание столбца <code>budget</code>. Как этот столбец соотносится с двумя другими: <code>refundable_support</code> и <code>nonrefundable_support</code>?\n",
    "            </div>\n",
    "        </div>\n",
    "    </div>\n",
    "</div>"
   ]
  },
  {
   "cell_type": "markdown",
   "metadata": {
    "id": "YbzClBxagFyS"
   },
   "source": [
    " Cтолбец `budget` уже включает в себя полный объём государственной поддержки. Проверим, есть ли элементы выборки, в которых сумма `refundable_support` и `nonrefundable_support` больше значений в столбце `budget`."
   ]
  },
  {
   "cell_type": "markdown",
   "metadata": {},
   "source": [
    "Добавим столбец с суммарным значением поддержки."
   ]
  },
  {
   "cell_type": "code",
   "execution_count": 410,
   "metadata": {},
   "outputs": [],
   "source": [
    "data['total_support'] = data['refundable_support'] + data['nonrefundable_support']"
   ]
  },
  {
   "cell_type": "code",
   "execution_count": 411,
   "metadata": {},
   "outputs": [
    {
     "data": {
      "text/html": [
       "<div>\n",
       "<style scoped>\n",
       "    .dataframe tbody tr th:only-of-type {\n",
       "        vertical-align: middle;\n",
       "    }\n",
       "\n",
       "    .dataframe tbody tr th {\n",
       "        vertical-align: top;\n",
       "    }\n",
       "\n",
       "    .dataframe thead th {\n",
       "        text-align: right;\n",
       "    }\n",
       "</style>\n",
       "<table border=\"1\" class=\"dataframe\">\n",
       "  <thead>\n",
       "    <tr style=\"text-align: right;\">\n",
       "      <th></th>\n",
       "      <th>title</th>\n",
       "      <th>puNumber</th>\n",
       "      <th>show_start_date</th>\n",
       "      <th>type</th>\n",
       "      <th>film_studio</th>\n",
       "      <th>production_country</th>\n",
       "      <th>director</th>\n",
       "      <th>producer</th>\n",
       "      <th>age_restriction</th>\n",
       "      <th>refundable_support</th>\n",
       "      <th>nonrefundable_support</th>\n",
       "      <th>budget</th>\n",
       "      <th>financing_source</th>\n",
       "      <th>ratings</th>\n",
       "      <th>genres</th>\n",
       "      <th>box_office</th>\n",
       "      <th>rating_group</th>\n",
       "      <th>total_support</th>\n",
       "    </tr>\n",
       "  </thead>\n",
       "  <tbody>\n",
       "    <tr>\n",
       "      <td>2053</td>\n",
       "      <td>14+</td>\n",
       "      <td>111023614</td>\n",
       "      <td>2014-12-19 12:00:00+00:00</td>\n",
       "      <td>Художественный</td>\n",
       "      <td>ООО Киностудия  \"Сентябрь\"</td>\n",
       "      <td>Россия</td>\n",
       "      <td>А.Зайцев</td>\n",
       "      <td>О.Гранина, А.Зайцев</td>\n",
       "      <td>для детей старше 16 лет</td>\n",
       "      <td>0.0</td>\n",
       "      <td>23000000.0</td>\n",
       "      <td>0.0</td>\n",
       "      <td>Министерство культуры, Фонд кино</td>\n",
       "      <td>6.6</td>\n",
       "      <td>мелодрама</td>\n",
       "      <td>10234016.0</td>\n",
       "      <td>средний рейтинг</td>\n",
       "      <td>23000000.0</td>\n",
       "    </tr>\n",
       "    <tr>\n",
       "      <td>2058</td>\n",
       "      <td>Дуxless 2</td>\n",
       "      <td>111000415</td>\n",
       "      <td>2015-01-26 12:00:00+00:00</td>\n",
       "      <td>Художественный</td>\n",
       "      <td>ООО \"Киностудия \"Слово\", ООО \"Арт Пикчерс Студия\"</td>\n",
       "      <td>Россия</td>\n",
       "      <td>Р.Прыгунов</td>\n",
       "      <td>П.Ануров, Ф.Бондарчук, Д.Рудовский</td>\n",
       "      <td>для детей старше 16 лет</td>\n",
       "      <td>0.0</td>\n",
       "      <td>75000000.0</td>\n",
       "      <td>0.0</td>\n",
       "      <td>Фонд кино</td>\n",
       "      <td>6.6</td>\n",
       "      <td>драма</td>\n",
       "      <td>446163520.0</td>\n",
       "      <td>средний рейтинг</td>\n",
       "      <td>75000000.0</td>\n",
       "    </tr>\n",
       "    <tr>\n",
       "      <td>2472</td>\n",
       "      <td>Воин (2015)</td>\n",
       "      <td>111017315</td>\n",
       "      <td>2015-09-28 12:00:00+00:00</td>\n",
       "      <td>Художественный</td>\n",
       "      <td>ООО \"Форпост Продакшн\", ООО \"Арт Пикчерс Студия\"</td>\n",
       "      <td>Россия</td>\n",
       "      <td>А.Андрианов</td>\n",
       "      <td>ООО \"Арт Пикчерс Студия\"</td>\n",
       "      <td>для детей старше 12 лет</td>\n",
       "      <td>10000000.0</td>\n",
       "      <td>70000000.0</td>\n",
       "      <td>0.0</td>\n",
       "      <td>Фонд кино</td>\n",
       "      <td>7.8</td>\n",
       "      <td>боевик,драма,криминал</td>\n",
       "      <td>196572432.0</td>\n",
       "      <td>высокий рейтинг</td>\n",
       "      <td>80000000.0</td>\n",
       "    </tr>\n",
       "    <tr>\n",
       "      <td>2532</td>\n",
       "      <td>Бармен.</td>\n",
       "      <td>111009615</td>\n",
       "      <td>2015-05-26 12:00:00+00:00</td>\n",
       "      <td>Художественный</td>\n",
       "      <td>АО \"ВайТ Медиа\", ООО \"Арт Пикчерс Студия\"</td>\n",
       "      <td>Россия</td>\n",
       "      <td>Д.Штурманова</td>\n",
       "      <td>Т.Вайнштейн</td>\n",
       "      <td>для детей старше 16 лет</td>\n",
       "      <td>20000000.0</td>\n",
       "      <td>0.0</td>\n",
       "      <td>0.0</td>\n",
       "      <td>Фонд кино</td>\n",
       "      <td>6.2</td>\n",
       "      <td>комедия,фэнтези</td>\n",
       "      <td>67418976.0</td>\n",
       "      <td>средний рейтинг</td>\n",
       "      <td>20000000.0</td>\n",
       "    </tr>\n",
       "    <tr>\n",
       "      <td>2615</td>\n",
       "      <td>Савва. Сердце воина</td>\n",
       "      <td>114001715</td>\n",
       "      <td>2015-07-21 12:00:00+00:00</td>\n",
       "      <td>Анимационный</td>\n",
       "      <td>ООО \"Глюкоза Продакшн\", ООО \"Арт Пикчерс Студия\"</td>\n",
       "      <td>Россия</td>\n",
       "      <td>М.Фадеев</td>\n",
       "      <td>А.Чистяков</td>\n",
       "      <td>для детей старше 6 лет</td>\n",
       "      <td>60000000.0</td>\n",
       "      <td>100000000.0</td>\n",
       "      <td>0.0</td>\n",
       "      <td>Фонд кино</td>\n",
       "      <td>4.6</td>\n",
       "      <td>мультфильм,приключения,фэнтези</td>\n",
       "      <td>184487552.0</td>\n",
       "      <td>низкий рейтинг</td>\n",
       "      <td>160000000.0</td>\n",
       "    </tr>\n",
       "  </tbody>\n",
       "</table>\n",
       "</div>"
      ],
      "text/plain": [
       "                    title   puNumber           show_start_date  \\\n",
       "2053                  14+  111023614 2014-12-19 12:00:00+00:00   \n",
       "2058            Дуxless 2  111000415 2015-01-26 12:00:00+00:00   \n",
       "2472          Воин (2015)  111017315 2015-09-28 12:00:00+00:00   \n",
       "2532              Бармен.  111009615 2015-05-26 12:00:00+00:00   \n",
       "2615  Савва. Сердце воина  114001715 2015-07-21 12:00:00+00:00   \n",
       "\n",
       "                type                                        film_studio  \\\n",
       "2053  Художественный                         ООО Киностудия  \"Сентябрь\"   \n",
       "2058  Художественный  ООО \"Киностудия \"Слово\", ООО \"Арт Пикчерс Студия\"   \n",
       "2472  Художественный   ООО \"Форпост Продакшн\", ООО \"Арт Пикчерс Студия\"   \n",
       "2532  Художественный          АО \"ВайТ Медиа\", ООО \"Арт Пикчерс Студия\"   \n",
       "2615    Анимационный   ООО \"Глюкоза Продакшн\", ООО \"Арт Пикчерс Студия\"   \n",
       "\n",
       "     production_country      director                            producer  \\\n",
       "2053             Россия      А.Зайцев                 О.Гранина, А.Зайцев   \n",
       "2058             Россия    Р.Прыгунов  П.Ануров, Ф.Бондарчук, Д.Рудовский   \n",
       "2472             Россия   А.Андрианов            ООО \"Арт Пикчерс Студия\"   \n",
       "2532             Россия  Д.Штурманова                         Т.Вайнштейн   \n",
       "2615             Россия      М.Фадеев                          А.Чистяков   \n",
       "\n",
       "              age_restriction  refundable_support  nonrefundable_support  \\\n",
       "2053  для детей старше 16 лет                 0.0             23000000.0   \n",
       "2058  для детей старше 16 лет                 0.0             75000000.0   \n",
       "2472  для детей старше 12 лет          10000000.0             70000000.0   \n",
       "2532  для детей старше 16 лет          20000000.0                    0.0   \n",
       "2615   для детей старше 6 лет          60000000.0            100000000.0   \n",
       "\n",
       "      budget                  financing_source  ratings  \\\n",
       "2053     0.0  Министерство культуры, Фонд кино      6.6   \n",
       "2058     0.0                         Фонд кино      6.6   \n",
       "2472     0.0                         Фонд кино      7.8   \n",
       "2532     0.0                         Фонд кино      6.2   \n",
       "2615     0.0                         Фонд кино      4.6   \n",
       "\n",
       "                              genres   box_office     rating_group  \\\n",
       "2053                       мелодрама   10234016.0  средний рейтинг   \n",
       "2058                           драма  446163520.0  средний рейтинг   \n",
       "2472           боевик,драма,криминал  196572432.0  высокий рейтинг   \n",
       "2532                 комедия,фэнтези   67418976.0  средний рейтинг   \n",
       "2615  мультфильм,приключения,фэнтези  184487552.0   низкий рейтинг   \n",
       "\n",
       "      total_support  \n",
       "2053     23000000.0  \n",
       "2058     75000000.0  \n",
       "2472     80000000.0  \n",
       "2532     20000000.0  \n",
       "2615    160000000.0  "
      ]
     },
     "execution_count": 411,
     "metadata": {},
     "output_type": "execute_result"
    }
   ],
   "source": [
    "data.query('total_support >= budget').head(5)"
   ]
  },
  {
   "cell_type": "code",
   "execution_count": 412,
   "metadata": {},
   "outputs": [
    {
     "data": {
      "text/plain": [
       "17"
      ]
     },
     "execution_count": 412,
     "metadata": {},
     "output_type": "execute_result"
    }
   ],
   "source": [
    "data.query('total_support >= budget')['budget'].count()"
   ]
  },
  {
   "cell_type": "code",
   "execution_count": 413,
   "metadata": {},
   "outputs": [
    {
     "data": {
      "text/plain": [
       "array([0.])"
      ]
     },
     "execution_count": 413,
     "metadata": {},
     "output_type": "execute_result"
    }
   ],
   "source": [
    "data.query('total_support >= budget')['budget'].unique()"
   ]
  },
  {
   "cell_type": "markdown",
   "metadata": {},
   "source": [
    "Видим, что такие элементы имеются. При имеющихся значениях в столбцах `refundable_support` и `nonrefundable_support`, значения в столбце `budget` - нулевое. Возможно произошла техническая ошибка. Всего таких значений 17. Удалим их из нашего дата-сета."
   ]
  },
  {
   "cell_type": "code",
   "execution_count": 414,
   "metadata": {},
   "outputs": [],
   "source": [
    "null_budget = data[data['total_support'] >= data['budget']]\n",
    "data = data.drop(null_budget.index, axis = 0)"
   ]
  },
  {
   "cell_type": "code",
   "execution_count": 415,
   "metadata": {},
   "outputs": [
    {
     "data": {
      "text/plain": [
       "0"
      ]
     },
     "execution_count": 415,
     "metadata": {},
     "output_type": "execute_result"
    }
   ],
   "source": [
    "data.query('total_support >= budget')['budget'].count()"
   ]
  },
  {
   "cell_type": "markdown",
   "metadata": {
    "id": "Eu6oWp2CgFyS"
   },
   "source": [
    "#### Шаг 2.6. Добавьте новые столбцы\n",
    "\n",
    "\n",
    "\n"
   ]
  },
  {
   "cell_type": "markdown",
   "metadata": {
    "id": "7GgW-UpAgFyS"
   },
   "source": [
    "- Создайте столбец с информацией о годе проката. Выделите год из даты премьеры фильма."
   ]
  },
  {
   "cell_type": "code",
   "execution_count": 416,
   "metadata": {
    "id": "I-yd1DkWgFyT"
   },
   "outputs": [],
   "source": [
    "data['show_start_year'] = data['show_start_date'].dt.year\n"
   ]
  },
  {
   "cell_type": "code",
   "execution_count": 417,
   "metadata": {},
   "outputs": [
    {
     "data": {
      "text/html": [
       "<div>\n",
       "<style scoped>\n",
       "    .dataframe tbody tr th:only-of-type {\n",
       "        vertical-align: middle;\n",
       "    }\n",
       "\n",
       "    .dataframe tbody tr th {\n",
       "        vertical-align: top;\n",
       "    }\n",
       "\n",
       "    .dataframe thead th {\n",
       "        text-align: right;\n",
       "    }\n",
       "</style>\n",
       "<table border=\"1\" class=\"dataframe\">\n",
       "  <thead>\n",
       "    <tr style=\"text-align: right;\">\n",
       "      <th></th>\n",
       "      <th>title</th>\n",
       "      <th>puNumber</th>\n",
       "      <th>show_start_date</th>\n",
       "      <th>type</th>\n",
       "      <th>film_studio</th>\n",
       "      <th>production_country</th>\n",
       "      <th>director</th>\n",
       "      <th>producer</th>\n",
       "      <th>age_restriction</th>\n",
       "      <th>refundable_support</th>\n",
       "      <th>nonrefundable_support</th>\n",
       "      <th>budget</th>\n",
       "      <th>financing_source</th>\n",
       "      <th>ratings</th>\n",
       "      <th>genres</th>\n",
       "      <th>box_office</th>\n",
       "      <th>rating_group</th>\n",
       "      <th>total_support</th>\n",
       "      <th>show_start_year</th>\n",
       "    </tr>\n",
       "  </thead>\n",
       "  <tbody>\n",
       "    <tr>\n",
       "      <td>0</td>\n",
       "      <td>Открытый простор</td>\n",
       "      <td>221048915</td>\n",
       "      <td>2015-11-27 12:00:00+00:00</td>\n",
       "      <td>Художественный</td>\n",
       "      <td>Тачстоун Пикчерз, Кобальт Пикчерз, Бикон Пикче...</td>\n",
       "      <td>США</td>\n",
       "      <td>Кевин Костнер</td>\n",
       "      <td>Дэвид Валдес, Кевин Костнер, Джейк Эбертс</td>\n",
       "      <td>запрещено для детей</td>\n",
       "      <td>NaN</td>\n",
       "      <td>NaN</td>\n",
       "      <td>NaN</td>\n",
       "      <td>NaN</td>\n",
       "      <td>7.2</td>\n",
       "      <td>боевик,драма,мелодрама</td>\n",
       "      <td>NaN</td>\n",
       "      <td>высокий рейтинг</td>\n",
       "      <td>NaN</td>\n",
       "      <td>2015</td>\n",
       "    </tr>\n",
       "    <tr>\n",
       "      <td>1</td>\n",
       "      <td>Особо важное задание</td>\n",
       "      <td>111013716</td>\n",
       "      <td>2016-09-13 12:00:00+00:00</td>\n",
       "      <td>Художественный</td>\n",
       "      <td>Киностудия \"Мосфильм\"</td>\n",
       "      <td>СССР</td>\n",
       "      <td>Е.Матвеев</td>\n",
       "      <td>unknown</td>\n",
       "      <td>для детей старше 6 лет</td>\n",
       "      <td>NaN</td>\n",
       "      <td>NaN</td>\n",
       "      <td>NaN</td>\n",
       "      <td>NaN</td>\n",
       "      <td>6.6</td>\n",
       "      <td>драма,военный</td>\n",
       "      <td>NaN</td>\n",
       "      <td>средний рейтинг</td>\n",
       "      <td>NaN</td>\n",
       "      <td>2016</td>\n",
       "    </tr>\n",
       "    <tr>\n",
       "      <td>2</td>\n",
       "      <td>Особо опасен</td>\n",
       "      <td>221038416</td>\n",
       "      <td>2016-10-10 12:00:00+00:00</td>\n",
       "      <td>Художественный</td>\n",
       "      <td>Юниверсал Пикчерз, Кикстарт Продакшнз, Марк Пл...</td>\n",
       "      <td>США</td>\n",
       "      <td>Тимур Бекмамбетов</td>\n",
       "      <td>Джим Лемли, Джейсон Нетер, Марк Е.Платт, Яйн Смит</td>\n",
       "      <td>запрещено для детей</td>\n",
       "      <td>NaN</td>\n",
       "      <td>NaN</td>\n",
       "      <td>NaN</td>\n",
       "      <td>NaN</td>\n",
       "      <td>6.8</td>\n",
       "      <td>фантастика,боевик,триллер</td>\n",
       "      <td>NaN</td>\n",
       "      <td>средний рейтинг</td>\n",
       "      <td>NaN</td>\n",
       "      <td>2016</td>\n",
       "    </tr>\n",
       "  </tbody>\n",
       "</table>\n",
       "</div>"
      ],
      "text/plain": [
       "                  title   puNumber           show_start_date            type  \\\n",
       "0      Открытый простор  221048915 2015-11-27 12:00:00+00:00  Художественный   \n",
       "1  Особо важное задание  111013716 2016-09-13 12:00:00+00:00  Художественный   \n",
       "2          Особо опасен  221038416 2016-10-10 12:00:00+00:00  Художественный   \n",
       "\n",
       "                                         film_studio production_country  \\\n",
       "0  Тачстоун Пикчерз, Кобальт Пикчерз, Бикон Пикче...                США   \n",
       "1                              Киностудия \"Мосфильм\"               СССР   \n",
       "2  Юниверсал Пикчерз, Кикстарт Продакшнз, Марк Пл...                США   \n",
       "\n",
       "            director                                           producer  \\\n",
       "0      Кевин Костнер          Дэвид Валдес, Кевин Костнер, Джейк Эбертс   \n",
       "1          Е.Матвеев                                            unknown   \n",
       "2  Тимур Бекмамбетов  Джим Лемли, Джейсон Нетер, Марк Е.Платт, Яйн Смит   \n",
       "\n",
       "          age_restriction  refundable_support  nonrefundable_support  budget  \\\n",
       "0     запрещено для детей                 NaN                    NaN     NaN   \n",
       "1  для детей старше 6 лет                 NaN                    NaN     NaN   \n",
       "2     запрещено для детей                 NaN                    NaN     NaN   \n",
       "\n",
       "  financing_source  ratings                     genres  box_office  \\\n",
       "0              NaN      7.2     боевик,драма,мелодрама         NaN   \n",
       "1              NaN      6.6              драма,военный         NaN   \n",
       "2              NaN      6.8  фантастика,боевик,триллер         NaN   \n",
       "\n",
       "      rating_group  total_support  show_start_year  \n",
       "0  высокий рейтинг            NaN             2015  \n",
       "1  средний рейтинг            NaN             2016  \n",
       "2  средний рейтинг            NaN             2016  "
      ]
     },
     "execution_count": 417,
     "metadata": {},
     "output_type": "execute_result"
    }
   ],
   "source": [
    "data.head(3)"
   ]
  },
  {
   "cell_type": "markdown",
   "metadata": {
    "id": "nFTDLDYOgFyT"
   },
   "source": [
    "- Создайте два столбца: с именем и фамилией главного режиссёра и основным жанром фильма. В столбцы войдут первые значения из списка режиссёров и жанров соответственно.\n",
    "\n",
    "<div id=\"accordion\">\n",
    "    <div class=\"card\">\n",
    "        <div class=\"card-header\" id=\"headingThree\">\n",
    "            <button class=\"btn btn-link collapsed\" data-toggle=\"collapse\" data-target=\"#collapseHint_2\" aria-expanded=\"false\" aria-controls=\"collapseHint_2\">Подсказка</button>\n",
    "        </div>\n",
    "        <div id=\"collapseHint_2\" class=\"collapse\" aria-labelledby=\"headingThree\" data-parent=\"#accordion\">\n",
    "            <div class=\"card-body\">\n",
    "Чтобы создать такие столбцы, лучше всего использовать собственную функцию. Эту функцию можно применить к двум столбцам сразу. \n",
    "            </div>\n",
    "        </div>\n",
    "    </div>\n",
    "</div>"
   ]
  },
  {
   "cell_type": "code",
   "execution_count": 418,
   "metadata": {
    "id": "LSbRZKbMgFyU"
   },
   "outputs": [],
   "source": [
    "def split_row (row):\n",
    "    delimiter = ','\n",
    "    split_row = row.split(delimiter)   \n",
    "    return split_row[0]\n",
    "\n",
    "data['general_genre'] = data['genres'].apply(split_row) \n",
    "data['general_director'] = data['director'].apply(split_row)"
   ]
  },
  {
   "cell_type": "code",
   "execution_count": 419,
   "metadata": {},
   "outputs": [
    {
     "data": {
      "text/html": [
       "<div>\n",
       "<style scoped>\n",
       "    .dataframe tbody tr th:only-of-type {\n",
       "        vertical-align: middle;\n",
       "    }\n",
       "\n",
       "    .dataframe tbody tr th {\n",
       "        vertical-align: top;\n",
       "    }\n",
       "\n",
       "    .dataframe thead th {\n",
       "        text-align: right;\n",
       "    }\n",
       "</style>\n",
       "<table border=\"1\" class=\"dataframe\">\n",
       "  <thead>\n",
       "    <tr style=\"text-align: right;\">\n",
       "      <th></th>\n",
       "      <th>title</th>\n",
       "      <th>puNumber</th>\n",
       "      <th>show_start_date</th>\n",
       "      <th>type</th>\n",
       "      <th>film_studio</th>\n",
       "      <th>production_country</th>\n",
       "      <th>director</th>\n",
       "      <th>producer</th>\n",
       "      <th>age_restriction</th>\n",
       "      <th>refundable_support</th>\n",
       "      <th>...</th>\n",
       "      <th>budget</th>\n",
       "      <th>financing_source</th>\n",
       "      <th>ratings</th>\n",
       "      <th>genres</th>\n",
       "      <th>box_office</th>\n",
       "      <th>rating_group</th>\n",
       "      <th>total_support</th>\n",
       "      <th>show_start_year</th>\n",
       "      <th>general_genre</th>\n",
       "      <th>general_director</th>\n",
       "    </tr>\n",
       "  </thead>\n",
       "  <tbody>\n",
       "    <tr>\n",
       "      <td>0</td>\n",
       "      <td>Открытый простор</td>\n",
       "      <td>221048915</td>\n",
       "      <td>2015-11-27 12:00:00+00:00</td>\n",
       "      <td>Художественный</td>\n",
       "      <td>Тачстоун Пикчерз, Кобальт Пикчерз, Бикон Пикче...</td>\n",
       "      <td>США</td>\n",
       "      <td>Кевин Костнер</td>\n",
       "      <td>Дэвид Валдес, Кевин Костнер, Джейк Эбертс</td>\n",
       "      <td>запрещено для детей</td>\n",
       "      <td>NaN</td>\n",
       "      <td>...</td>\n",
       "      <td>NaN</td>\n",
       "      <td>NaN</td>\n",
       "      <td>7.2</td>\n",
       "      <td>боевик,драма,мелодрама</td>\n",
       "      <td>NaN</td>\n",
       "      <td>высокий рейтинг</td>\n",
       "      <td>NaN</td>\n",
       "      <td>2015</td>\n",
       "      <td>боевик</td>\n",
       "      <td>Кевин Костнер</td>\n",
       "    </tr>\n",
       "    <tr>\n",
       "      <td>1</td>\n",
       "      <td>Особо важное задание</td>\n",
       "      <td>111013716</td>\n",
       "      <td>2016-09-13 12:00:00+00:00</td>\n",
       "      <td>Художественный</td>\n",
       "      <td>Киностудия \"Мосфильм\"</td>\n",
       "      <td>СССР</td>\n",
       "      <td>Е.Матвеев</td>\n",
       "      <td>unknown</td>\n",
       "      <td>для детей старше 6 лет</td>\n",
       "      <td>NaN</td>\n",
       "      <td>...</td>\n",
       "      <td>NaN</td>\n",
       "      <td>NaN</td>\n",
       "      <td>6.6</td>\n",
       "      <td>драма,военный</td>\n",
       "      <td>NaN</td>\n",
       "      <td>средний рейтинг</td>\n",
       "      <td>NaN</td>\n",
       "      <td>2016</td>\n",
       "      <td>драма</td>\n",
       "      <td>Е.Матвеев</td>\n",
       "    </tr>\n",
       "    <tr>\n",
       "      <td>2</td>\n",
       "      <td>Особо опасен</td>\n",
       "      <td>221038416</td>\n",
       "      <td>2016-10-10 12:00:00+00:00</td>\n",
       "      <td>Художественный</td>\n",
       "      <td>Юниверсал Пикчерз, Кикстарт Продакшнз, Марк Пл...</td>\n",
       "      <td>США</td>\n",
       "      <td>Тимур Бекмамбетов</td>\n",
       "      <td>Джим Лемли, Джейсон Нетер, Марк Е.Платт, Яйн Смит</td>\n",
       "      <td>запрещено для детей</td>\n",
       "      <td>NaN</td>\n",
       "      <td>...</td>\n",
       "      <td>NaN</td>\n",
       "      <td>NaN</td>\n",
       "      <td>6.8</td>\n",
       "      <td>фантастика,боевик,триллер</td>\n",
       "      <td>NaN</td>\n",
       "      <td>средний рейтинг</td>\n",
       "      <td>NaN</td>\n",
       "      <td>2016</td>\n",
       "      <td>фантастика</td>\n",
       "      <td>Тимур Бекмамбетов</td>\n",
       "    </tr>\n",
       "  </tbody>\n",
       "</table>\n",
       "<p>3 rows × 21 columns</p>\n",
       "</div>"
      ],
      "text/plain": [
       "                  title   puNumber           show_start_date            type  \\\n",
       "0      Открытый простор  221048915 2015-11-27 12:00:00+00:00  Художественный   \n",
       "1  Особо важное задание  111013716 2016-09-13 12:00:00+00:00  Художественный   \n",
       "2          Особо опасен  221038416 2016-10-10 12:00:00+00:00  Художественный   \n",
       "\n",
       "                                         film_studio production_country  \\\n",
       "0  Тачстоун Пикчерз, Кобальт Пикчерз, Бикон Пикче...                США   \n",
       "1                              Киностудия \"Мосфильм\"               СССР   \n",
       "2  Юниверсал Пикчерз, Кикстарт Продакшнз, Марк Пл...                США   \n",
       "\n",
       "            director                                           producer  \\\n",
       "0      Кевин Костнер          Дэвид Валдес, Кевин Костнер, Джейк Эбертс   \n",
       "1          Е.Матвеев                                            unknown   \n",
       "2  Тимур Бекмамбетов  Джим Лемли, Джейсон Нетер, Марк Е.Платт, Яйн Смит   \n",
       "\n",
       "          age_restriction  refundable_support  ...  budget  financing_source  \\\n",
       "0     запрещено для детей                 NaN  ...     NaN               NaN   \n",
       "1  для детей старше 6 лет                 NaN  ...     NaN               NaN   \n",
       "2     запрещено для детей                 NaN  ...     NaN               NaN   \n",
       "\n",
       "  ratings                     genres box_office     rating_group  \\\n",
       "0     7.2     боевик,драма,мелодрама        NaN  высокий рейтинг   \n",
       "1     6.6              драма,военный        NaN  средний рейтинг   \n",
       "2     6.8  фантастика,боевик,триллер        NaN  средний рейтинг   \n",
       "\n",
       "  total_support  show_start_year  general_genre   general_director  \n",
       "0           NaN             2015         боевик      Кевин Костнер  \n",
       "1           NaN             2016          драма          Е.Матвеев  \n",
       "2           NaN             2016     фантастика  Тимур Бекмамбетов  \n",
       "\n",
       "[3 rows x 21 columns]"
      ]
     },
     "execution_count": 419,
     "metadata": {},
     "output_type": "execute_result"
    }
   ],
   "source": [
    "data.head(3)"
   ]
  },
  {
   "cell_type": "markdown",
   "metadata": {
    "id": "1FsCXHwdgFyU"
   },
   "source": [
    "- Посчитайте, какую долю от общего бюджета фильма составляет государственная поддержка."
   ]
  },
  {
   "cell_type": "code",
   "execution_count": 420,
   "metadata": {
    "id": "LV6qFuZLgFyV"
   },
   "outputs": [],
   "source": [
    "data['goverment_part_of_budjet'] = data['total_support'] / data['budget']"
   ]
  },
  {
   "cell_type": "code",
   "execution_count": 421,
   "metadata": {
    "scrolled": true
   },
   "outputs": [
    {
     "data": {
      "text/html": [
       "<div>\n",
       "<style scoped>\n",
       "    .dataframe tbody tr th:only-of-type {\n",
       "        vertical-align: middle;\n",
       "    }\n",
       "\n",
       "    .dataframe tbody tr th {\n",
       "        vertical-align: top;\n",
       "    }\n",
       "\n",
       "    .dataframe thead th {\n",
       "        text-align: right;\n",
       "    }\n",
       "</style>\n",
       "<table border=\"1\" class=\"dataframe\">\n",
       "  <thead>\n",
       "    <tr style=\"text-align: right;\">\n",
       "      <th></th>\n",
       "      <th>title</th>\n",
       "      <th>puNumber</th>\n",
       "      <th>show_start_date</th>\n",
       "      <th>type</th>\n",
       "      <th>film_studio</th>\n",
       "      <th>production_country</th>\n",
       "      <th>director</th>\n",
       "      <th>producer</th>\n",
       "      <th>age_restriction</th>\n",
       "      <th>refundable_support</th>\n",
       "      <th>...</th>\n",
       "      <th>financing_source</th>\n",
       "      <th>ratings</th>\n",
       "      <th>genres</th>\n",
       "      <th>box_office</th>\n",
       "      <th>rating_group</th>\n",
       "      <th>total_support</th>\n",
       "      <th>show_start_year</th>\n",
       "      <th>general_genre</th>\n",
       "      <th>general_director</th>\n",
       "      <th>goverment_part_of_budjet</th>\n",
       "    </tr>\n",
       "  </thead>\n",
       "  <tbody>\n",
       "    <tr>\n",
       "      <td>1281</td>\n",
       "      <td>Пока еще жива</td>\n",
       "      <td>111005313</td>\n",
       "      <td>2013-10-11 12:00:00+00:00</td>\n",
       "      <td>Художественный</td>\n",
       "      <td>АНО содействия развитию кинематографии \"Ангел-...</td>\n",
       "      <td>Россия</td>\n",
       "      <td>А.Атанесян</td>\n",
       "      <td>А.Атанесян, М.Бабаханов, Р.Бутко</td>\n",
       "      <td>для детей старше 16 лет</td>\n",
       "      <td>0.0</td>\n",
       "      <td>...</td>\n",
       "      <td>Министерство культуры</td>\n",
       "      <td>8.1</td>\n",
       "      <td>драма,мелодрама</td>\n",
       "      <td>3.653536e+05</td>\n",
       "      <td>высокий рейтинг</td>\n",
       "      <td>26500000.0</td>\n",
       "      <td>2013</td>\n",
       "      <td>драма</td>\n",
       "      <td>А.Атанесян</td>\n",
       "      <td>0.333703</td>\n",
       "    </tr>\n",
       "    <tr>\n",
       "      <td>1448</td>\n",
       "      <td>Бесславные придурки</td>\n",
       "      <td>111003314</td>\n",
       "      <td>2014-03-28 12:00:00+00:00</td>\n",
       "      <td>Художественный</td>\n",
       "      <td>ООО \"Компания \"АТК-Студио\"</td>\n",
       "      <td>Россия</td>\n",
       "      <td>А.Якимчук</td>\n",
       "      <td>А.Тютрюмов</td>\n",
       "      <td>для детей старше 12 лет</td>\n",
       "      <td>0.0</td>\n",
       "      <td>...</td>\n",
       "      <td>Министерство культуры</td>\n",
       "      <td>0.0</td>\n",
       "      <td>unknown</td>\n",
       "      <td>2.814000e+04</td>\n",
       "      <td>низкий рейтинг</td>\n",
       "      <td>26000000.0</td>\n",
       "      <td>2014</td>\n",
       "      <td>unknown</td>\n",
       "      <td>А.Якимчук</td>\n",
       "      <td>0.700000</td>\n",
       "    </tr>\n",
       "    <tr>\n",
       "      <td>1498</td>\n",
       "      <td>Невидимки</td>\n",
       "      <td>111004213</td>\n",
       "      <td>2013-09-10 12:00:00+00:00</td>\n",
       "      <td>Художественный</td>\n",
       "      <td>ООО \"Компания \"РЕАЛ-ДАКОТА\"</td>\n",
       "      <td>Россия</td>\n",
       "      <td>Р.Давлетьяров, С.Комаров</td>\n",
       "      <td>Р.Давлетьяров, А.Котелевский, А.Олейников</td>\n",
       "      <td>для детей старше 12 лет</td>\n",
       "      <td>0.0</td>\n",
       "      <td>...</td>\n",
       "      <td>Фонд кино</td>\n",
       "      <td>5.3</td>\n",
       "      <td>комедия,фантастика</td>\n",
       "      <td>1.995703e+07</td>\n",
       "      <td>средний рейтинг</td>\n",
       "      <td>107847944.0</td>\n",
       "      <td>2013</td>\n",
       "      <td>комедия</td>\n",
       "      <td>Р.Давлетьяров</td>\n",
       "      <td>0.612691</td>\n",
       "    </tr>\n",
       "    <tr>\n",
       "      <td>1524</td>\n",
       "      <td>БЕРЦЫ</td>\n",
       "      <td>111004314</td>\n",
       "      <td>2014-05-05 12:00:00+00:00</td>\n",
       "      <td>Художественный</td>\n",
       "      <td>ООО \"Студия \"Пассажир\"</td>\n",
       "      <td>Россия</td>\n",
       "      <td>Е.Миндадзе (псевдоним Катя Шагалова)</td>\n",
       "      <td>Л.Антонова</td>\n",
       "      <td>для детей старше 16 лет</td>\n",
       "      <td>0.0</td>\n",
       "      <td>...</td>\n",
       "      <td>Министерство культуры</td>\n",
       "      <td>4.2</td>\n",
       "      <td>драма</td>\n",
       "      <td>5.591750e+04</td>\n",
       "      <td>низкий рейтинг</td>\n",
       "      <td>28000000.0</td>\n",
       "      <td>2014</td>\n",
       "      <td>драма</td>\n",
       "      <td>Е.Миндадзе (псевдоним Катя Шагалова)</td>\n",
       "      <td>0.690095</td>\n",
       "    </tr>\n",
       "    <tr>\n",
       "      <td>1792</td>\n",
       "      <td>Братья Ч</td>\n",
       "      <td>111004414</td>\n",
       "      <td>2014-04-23 12:00:00+00:00</td>\n",
       "      <td>Художественный</td>\n",
       "      <td>ООО \"Студия \"Пассажир\"</td>\n",
       "      <td>Россия</td>\n",
       "      <td>М.Угаров</td>\n",
       "      <td>А.Миндадзе, Л.Антонова</td>\n",
       "      <td>для детей старше 16 лет</td>\n",
       "      <td>0.0</td>\n",
       "      <td>...</td>\n",
       "      <td>Министерство культуры</td>\n",
       "      <td>6.4</td>\n",
       "      <td>драма</td>\n",
       "      <td>2.321000e+05</td>\n",
       "      <td>средний рейтинг</td>\n",
       "      <td>25000000.0</td>\n",
       "      <td>2014</td>\n",
       "      <td>драма</td>\n",
       "      <td>М.Угаров</td>\n",
       "      <td>0.624764</td>\n",
       "    </tr>\n",
       "  </tbody>\n",
       "</table>\n",
       "<p>5 rows × 22 columns</p>\n",
       "</div>"
      ],
      "text/plain": [
       "                    title   puNumber           show_start_date  \\\n",
       "1281        Пока еще жива  111005313 2013-10-11 12:00:00+00:00   \n",
       "1448  Бесславные придурки  111003314 2014-03-28 12:00:00+00:00   \n",
       "1498            Невидимки  111004213 2013-09-10 12:00:00+00:00   \n",
       "1524                БЕРЦЫ  111004314 2014-05-05 12:00:00+00:00   \n",
       "1792             Братья Ч  111004414 2014-04-23 12:00:00+00:00   \n",
       "\n",
       "                type                                        film_studio  \\\n",
       "1281  Художественный  АНО содействия развитию кинематографии \"Ангел-...   \n",
       "1448  Художественный                         ООО \"Компания \"АТК-Студио\"   \n",
       "1498  Художественный                        ООО \"Компания \"РЕАЛ-ДАКОТА\"   \n",
       "1524  Художественный                             ООО \"Студия \"Пассажир\"   \n",
       "1792  Художественный                             ООО \"Студия \"Пассажир\"   \n",
       "\n",
       "     production_country                              director  \\\n",
       "1281             Россия                            А.Атанесян   \n",
       "1448             Россия                             А.Якимчук   \n",
       "1498             Россия              Р.Давлетьяров, С.Комаров   \n",
       "1524             Россия  Е.Миндадзе (псевдоним Катя Шагалова)   \n",
       "1792             Россия                              М.Угаров   \n",
       "\n",
       "                                       producer          age_restriction  \\\n",
       "1281           А.Атанесян, М.Бабаханов, Р.Бутко  для детей старше 16 лет   \n",
       "1448                                 А.Тютрюмов  для детей старше 12 лет   \n",
       "1498  Р.Давлетьяров, А.Котелевский, А.Олейников  для детей старше 12 лет   \n",
       "1524                                 Л.Антонова  для детей старше 16 лет   \n",
       "1792                     А.Миндадзе, Л.Антонова  для детей старше 16 лет   \n",
       "\n",
       "      refundable_support  ...       financing_source  ratings  \\\n",
       "1281                 0.0  ...  Министерство культуры      8.1   \n",
       "1448                 0.0  ...  Министерство культуры      0.0   \n",
       "1498                 0.0  ...              Фонд кино      5.3   \n",
       "1524                 0.0  ...  Министерство культуры      4.2   \n",
       "1792                 0.0  ...  Министерство культуры      6.4   \n",
       "\n",
       "                  genres    box_office     rating_group  total_support  \\\n",
       "1281     драма,мелодрама  3.653536e+05  высокий рейтинг     26500000.0   \n",
       "1448             unknown  2.814000e+04   низкий рейтинг     26000000.0   \n",
       "1498  комедия,фантастика  1.995703e+07  средний рейтинг    107847944.0   \n",
       "1524               драма  5.591750e+04   низкий рейтинг     28000000.0   \n",
       "1792               драма  2.321000e+05  средний рейтинг     25000000.0   \n",
       "\n",
       "     show_start_year  general_genre                      general_director  \\\n",
       "1281            2013          драма                            А.Атанесян   \n",
       "1448            2014        unknown                             А.Якимчук   \n",
       "1498            2013        комедия                         Р.Давлетьяров   \n",
       "1524            2014          драма  Е.Миндадзе (псевдоним Катя Шагалова)   \n",
       "1792            2014          драма                              М.Угаров   \n",
       "\n",
       "     goverment_part_of_budjet  \n",
       "1281                 0.333703  \n",
       "1448                 0.700000  \n",
       "1498                 0.612691  \n",
       "1524                 0.690095  \n",
       "1792                 0.624764  \n",
       "\n",
       "[5 rows x 22 columns]"
      ]
     },
     "execution_count": 421,
     "metadata": {},
     "output_type": "execute_result"
    }
   ],
   "source": [
    "data[data['goverment_part_of_budjet'] > 0].head(5)"
   ]
  },
  {
   "cell_type": "markdown",
   "metadata": {
    "id": "6t4EukPLgFyV"
   },
   "source": [
    "### Шаг 3. Проведите исследовательский анализ данных\n"
   ]
  },
  {
   "cell_type": "markdown",
   "metadata": {
    "id": "vAH8WCzugFyV"
   },
   "source": [
    "- Посмотрите, сколько фильмов выходило в прокат каждый год. Обратите внимание, что данные о прокате в кинотеатрах известны не для всех фильмов. Посчитайте, какую долю составляют фильмы с указанной информацией о прокате в кинотеатрах."
   ]
  },
  {
   "cell_type": "code",
   "execution_count": 422,
   "metadata": {
    "id": "ABeV47y7gFyW"
   },
   "outputs": [
    {
     "name": "stdout",
     "output_type": "stream",
     "text": [
      "show_start_year\n",
      "2010    0.106816\n",
      "2011    0.175241\n",
      "2012    0.215852\n",
      "2013    0.292063\n",
      "2014    0.344913\n",
      "2015    0.657593\n",
      "2016    0.642506\n",
      "2017    0.705765\n",
      "2018    0.531003\n",
      "2019    0.569429\n",
      "dtype: float64\n"
     ]
    }
   ],
   "source": [
    "number_of_films_per_year_box_office = data.groupby('show_start_year')['box_office'].count()\n",
    "total_number_of_films_per_year = data.groupby('show_start_year')['title'].count()\n",
    "#display(number_of_films_per_year_pu)\n",
    "#display(total_number_of_films_per_year)\n",
    "\n",
    "share_box_office_films = number_of_films_per_year_box_office / total_number_of_films_per_year\n",
    "print(share_box_office_films)"
   ]
  },
  {
   "cell_type": "markdown",
   "metadata": {
    "id": "BEOdcIrIgFyW"
   },
   "source": [
    "- Изучите, как менялась динамика проката по годам. В каком году сумма сборов была минимальной? А максимальной?"
   ]
  },
  {
   "cell_type": "code",
   "execution_count": 423,
   "metadata": {
    "id": "tfEhofYvgFyX"
   },
   "outputs": [
    {
     "data": {
      "image/png": "[encoded data removed]",
      "text/plain": [
       "<Figure size 432x288 with 1 Axes>"
      ]
     },
     "metadata": {
      "needs_background": "light"
     },
     "output_type": "display_data"
    }
   ],
   "source": [
    "share_box_office_films.plot(grid=True, linestyle='-', marker='o', color='C4')\n",
    "plt.xlabel('years')\n",
    "plt.ylabel('share_films_box_office')\n",
    "plt.title(\"dynamics of films at the box office per year\", fontsize=10);"
   ]
  },
  {
   "cell_type": "markdown",
   "metadata": {},
   "source": [
    "Из графика видим, что маскимальное количество фильмов, вышедших в прокат наблюдается в 2015 и 2017 годах. Минимум приходится на 2010 год."
   ]
  },
  {
   "cell_type": "code",
   "execution_count": 424,
   "metadata": {
    "scrolled": true
   },
   "outputs": [
    {
     "data": {
      "text/html": [
       "<div>\n",
       "<style scoped>\n",
       "    .dataframe tbody tr th:only-of-type {\n",
       "        vertical-align: middle;\n",
       "    }\n",
       "\n",
       "    .dataframe tbody tr th {\n",
       "        vertical-align: top;\n",
       "    }\n",
       "\n",
       "    .dataframe thead th {\n",
       "        text-align: right;\n",
       "    }\n",
       "</style>\n",
       "<table border=\"1\" class=\"dataframe\">\n",
       "  <thead>\n",
       "    <tr style=\"text-align: right;\">\n",
       "      <th></th>\n",
       "      <th>budget_box_office_films</th>\n",
       "    </tr>\n",
       "    <tr>\n",
       "      <th>show_start_year</th>\n",
       "      <th></th>\n",
       "    </tr>\n",
       "  </thead>\n",
       "  <tbody>\n",
       "    <tr>\n",
       "      <td>2010</td>\n",
       "      <td>2.428654e+06</td>\n",
       "    </tr>\n",
       "    <tr>\n",
       "      <td>2011</td>\n",
       "      <td>1.410276e+07</td>\n",
       "    </tr>\n",
       "    <tr>\n",
       "      <td>2012</td>\n",
       "      <td>6.955423e+06</td>\n",
       "    </tr>\n",
       "    <tr>\n",
       "      <td>2013</td>\n",
       "      <td>2.979971e+07</td>\n",
       "    </tr>\n",
       "    <tr>\n",
       "      <td>2014</td>\n",
       "      <td>7.434718e+09</td>\n",
       "    </tr>\n",
       "    <tr>\n",
       "      <td>2015</td>\n",
       "      <td>3.852783e+10</td>\n",
       "    </tr>\n",
       "    <tr>\n",
       "      <td>2016</td>\n",
       "      <td>4.674232e+10</td>\n",
       "    </tr>\n",
       "    <tr>\n",
       "      <td>2017</td>\n",
       "      <td>4.845815e+10</td>\n",
       "    </tr>\n",
       "    <tr>\n",
       "      <td>2018</td>\n",
       "      <td>4.925199e+10</td>\n",
       "    </tr>\n",
       "    <tr>\n",
       "      <td>2019</td>\n",
       "      <td>4.827810e+10</td>\n",
       "    </tr>\n",
       "  </tbody>\n",
       "</table>\n",
       "</div>"
      ],
      "text/plain": [
       "                 budget_box_office_films\n",
       "show_start_year                         \n",
       "2010                        2.428654e+06\n",
       "2011                        1.410276e+07\n",
       "2012                        6.955423e+06\n",
       "2013                        2.979971e+07\n",
       "2014                        7.434718e+09\n",
       "2015                        3.852783e+10\n",
       "2016                        4.674232e+10\n",
       "2017                        4.845815e+10\n",
       "2018                        4.925199e+10\n",
       "2019                        4.827810e+10"
      ]
     },
     "metadata": {},
     "output_type": "display_data"
    }
   ],
   "source": [
    "budget_box_office_films = data.pivot_table(index='show_start_year', values='box_office', aggfunc='sum')\n",
    "budget_box_office_films.columns = ['budget_box_office_films']\n",
    "display(budget_box_office_films)"
   ]
  },
  {
   "cell_type": "code",
   "execution_count": 425,
   "metadata": {},
   "outputs": [
    {
     "data": {
      "image/png": "[encoded data removed]",
      "text/plain": [
       "<Figure size 432x288 with 1 Axes>"
      ]
     },
     "metadata": {
      "needs_background": "light"
     },
     "output_type": "display_data"
    }
   ],
   "source": [
    "budget_box_office_films.plot(grid=True, linestyle='-', marker='o', color='C4', )\n",
    "plt.xlabel('years')\n",
    "plt.ylabel('budget_box_office_films')\n",
    "plt.title(\"dynamics of budget box office films per year\", fontsize=10);"
   ]
  },
  {
   "cell_type": "markdown",
   "metadata": {},
   "source": [
    "Видим, что сумма сборов до 2013 года была минимальной. В 2015 году наблюдается резкий рост. Максимум приходится на 2018 год"
   ]
  },
  {
   "cell_type": "markdown",
   "metadata": {
    "id": "G-7qS-N-gFyY"
   },
   "source": [
    "- С помощью сводной таблицы посчитайте среднюю и медианную сумму сборов для каждого года."
   ]
  },
  {
   "cell_type": "code",
   "execution_count": 426,
   "metadata": {
    "id": "jmp-rgg9gFyY"
   },
   "outputs": [
    {
     "data": {
      "text/html": [
       "<div>\n",
       "<style scoped>\n",
       "    .dataframe tbody tr th:only-of-type {\n",
       "        vertical-align: middle;\n",
       "    }\n",
       "\n",
       "    .dataframe tbody tr th {\n",
       "        vertical-align: top;\n",
       "    }\n",
       "\n",
       "    .dataframe thead th {\n",
       "        text-align: right;\n",
       "    }\n",
       "</style>\n",
       "<table border=\"1\" class=\"dataframe\">\n",
       "  <thead>\n",
       "    <tr style=\"text-align: right;\">\n",
       "      <th></th>\n",
       "      <th>mean_budget_box_office_films</th>\n",
       "      <th>median_budget_box_office_films</th>\n",
       "    </tr>\n",
       "    <tr>\n",
       "      <th>show_start_year</th>\n",
       "      <th></th>\n",
       "      <th></th>\n",
       "    </tr>\n",
       "  </thead>\n",
       "  <tbody>\n",
       "    <tr>\n",
       "      <td>2010</td>\n",
       "      <td>2.313004e+04</td>\n",
       "      <td>1700.0</td>\n",
       "    </tr>\n",
       "    <tr>\n",
       "      <td>2011</td>\n",
       "      <td>1.293832e+05</td>\n",
       "      <td>3000.0</td>\n",
       "    </tr>\n",
       "    <tr>\n",
       "      <td>2012</td>\n",
       "      <td>5.433924e+04</td>\n",
       "      <td>5660.0</td>\n",
       "    </tr>\n",
       "    <tr>\n",
       "      <td>2013</td>\n",
       "      <td>1.619549e+05</td>\n",
       "      <td>3522.5</td>\n",
       "    </tr>\n",
       "    <tr>\n",
       "      <td>2014</td>\n",
       "      <td>2.674359e+07</td>\n",
       "      <td>18137.5</td>\n",
       "    </tr>\n",
       "    <tr>\n",
       "      <td>2015</td>\n",
       "      <td>8.393862e+07</td>\n",
       "      <td>4784781.5</td>\n",
       "    </tr>\n",
       "    <tr>\n",
       "      <td>2016</td>\n",
       "      <td>8.937346e+07</td>\n",
       "      <td>3776087.5</td>\n",
       "    </tr>\n",
       "    <tr>\n",
       "      <td>2017</td>\n",
       "      <td>1.365018e+08</td>\n",
       "      <td>9919415.0</td>\n",
       "    </tr>\n",
       "    <tr>\n",
       "      <td>2018</td>\n",
       "      <td>1.045690e+08</td>\n",
       "      <td>8751896.0</td>\n",
       "    </tr>\n",
       "    <tr>\n",
       "      <td>2019</td>\n",
       "      <td>9.126295e+07</td>\n",
       "      <td>4601033.5</td>\n",
       "    </tr>\n",
       "  </tbody>\n",
       "</table>\n",
       "</div>"
      ],
      "text/plain": [
       "                 mean_budget_box_office_films  median_budget_box_office_films\n",
       "show_start_year                                                              \n",
       "2010                             2.313004e+04                          1700.0\n",
       "2011                             1.293832e+05                          3000.0\n",
       "2012                             5.433924e+04                          5660.0\n",
       "2013                             1.619549e+05                          3522.5\n",
       "2014                             2.674359e+07                         18137.5\n",
       "2015                             8.393862e+07                       4784781.5\n",
       "2016                             8.937346e+07                       3776087.5\n",
       "2017                             1.365018e+08                       9919415.0\n",
       "2018                             1.045690e+08                       8751896.0\n",
       "2019                             9.126295e+07                       4601033.5"
      ]
     },
     "metadata": {},
     "output_type": "display_data"
    }
   ],
   "source": [
    "mean_median_budget_box_office_films = data.pivot_table(index='show_start_year',\n",
    "                                                       values='box_office',\n",
    "                                                       aggfunc=['mean','median'])\n",
    "\n",
    "mean_median_budget_box_office_films.columns = ['mean_budget_box_office_films', 'median_budget_box_office_films']\n",
    "display(mean_median_budget_box_office_films)"
   ]
  },
  {
   "cell_type": "markdown",
   "metadata": {},
   "source": [
    "Из таблицы также видим, что что сумма сборов до 2013 года была меньше всего. В 2015 году наблюдается резкий рост. Максимум приходится на 2018 год"
   ]
  },
  {
   "cell_type": "markdown",
   "metadata": {
    "id": "Ok89WFwJgFyZ"
   },
   "source": [
    "- Определите, влияет ли возрастное ограничение аудитории («6+», «12+», «16+», «18+» и т. д.) на сборы фильма в прокате в период с 2015 по 2019 год? Фильмы с каким возрастным ограничением собрали больше всего денег в прокате? Меняется ли картина в зависимости от года? Если да, предположите, с чем это может быть связано."
   ]
  },
  {
   "cell_type": "code",
   "execution_count": 427,
   "metadata": {
    "id": "jsSbEqfjgFya"
   },
   "outputs": [
    {
     "data": {
      "text/html": [
       "<div>\n",
       "<style scoped>\n",
       "    .dataframe tbody tr th:only-of-type {\n",
       "        vertical-align: middle;\n",
       "    }\n",
       "\n",
       "    .dataframe tbody tr th {\n",
       "        vertical-align: top;\n",
       "    }\n",
       "\n",
       "    .dataframe thead th {\n",
       "        text-align: right;\n",
       "    }\n",
       "</style>\n",
       "<table border=\"1\" class=\"dataframe\">\n",
       "  <thead>\n",
       "    <tr style=\"text-align: right;\">\n",
       "      <th>age_restriction</th>\n",
       "      <th>для детей старше 12 лет</th>\n",
       "      <th>для детей старше 16 лет</th>\n",
       "      <th>для детей старше 6 лет</th>\n",
       "      <th>для любой зрительской аудитории</th>\n",
       "      <th>запрещено для детей</th>\n",
       "    </tr>\n",
       "    <tr>\n",
       "      <th>show_start_year</th>\n",
       "      <th></th>\n",
       "      <th></th>\n",
       "      <th></th>\n",
       "      <th></th>\n",
       "      <th></th>\n",
       "    </tr>\n",
       "  </thead>\n",
       "  <tbody>\n",
       "    <tr>\n",
       "      <td>2010</td>\n",
       "      <td>2650.00</td>\n",
       "      <td>1000.00</td>\n",
       "      <td>NaN</td>\n",
       "      <td>6052.50</td>\n",
       "      <td>915.0</td>\n",
       "    </tr>\n",
       "    <tr>\n",
       "      <td>2011</td>\n",
       "      <td>3741.50</td>\n",
       "      <td>2835.00</td>\n",
       "      <td>450.0</td>\n",
       "      <td>7010.00</td>\n",
       "      <td>520.0</td>\n",
       "    </tr>\n",
       "    <tr>\n",
       "      <td>2012</td>\n",
       "      <td>3685.00</td>\n",
       "      <td>1600.00</td>\n",
       "      <td>6475.0</td>\n",
       "      <td>18067.50</td>\n",
       "      <td>1385.0</td>\n",
       "    </tr>\n",
       "    <tr>\n",
       "      <td>2013</td>\n",
       "      <td>2250.00</td>\n",
       "      <td>3300.00</td>\n",
       "      <td>3457.5</td>\n",
       "      <td>13225.00</td>\n",
       "      <td>1775.0</td>\n",
       "    </tr>\n",
       "    <tr>\n",
       "      <td>2014</td>\n",
       "      <td>6037.50</td>\n",
       "      <td>13420.00</td>\n",
       "      <td>125810.0</td>\n",
       "      <td>190855.00</td>\n",
       "      <td>180108.0</td>\n",
       "    </tr>\n",
       "    <tr>\n",
       "      <td>2015</td>\n",
       "      <td>15144119.00</td>\n",
       "      <td>4321194.50</td>\n",
       "      <td>19513254.0</td>\n",
       "      <td>2943318.75</td>\n",
       "      <td>4654761.5</td>\n",
       "    </tr>\n",
       "    <tr>\n",
       "      <td>2016</td>\n",
       "      <td>4225478.00</td>\n",
       "      <td>5085193.00</td>\n",
       "      <td>3026256.0</td>\n",
       "      <td>2571294.00</td>\n",
       "      <td>6107001.5</td>\n",
       "    </tr>\n",
       "    <tr>\n",
       "      <td>2017</td>\n",
       "      <td>9010548.00</td>\n",
       "      <td>9641408.00</td>\n",
       "      <td>50274984.0</td>\n",
       "      <td>22178956.00</td>\n",
       "      <td>8212677.0</td>\n",
       "    </tr>\n",
       "    <tr>\n",
       "      <td>2018</td>\n",
       "      <td>8931966.00</td>\n",
       "      <td>8751896.00</td>\n",
       "      <td>14458669.0</td>\n",
       "      <td>3616937.25</td>\n",
       "      <td>7179466.0</td>\n",
       "    </tr>\n",
       "    <tr>\n",
       "      <td>2019</td>\n",
       "      <td>3405545.75</td>\n",
       "      <td>3210717.75</td>\n",
       "      <td>12525532.0</td>\n",
       "      <td>3885434.50</td>\n",
       "      <td>5603216.5</td>\n",
       "    </tr>\n",
       "  </tbody>\n",
       "</table>\n",
       "</div>"
      ],
      "text/plain": [
       "age_restriction  для детей старше 12 лет  для детей старше 16 лет  \\\n",
       "show_start_year                                                     \n",
       "2010                             2650.00                  1000.00   \n",
       "2011                             3741.50                  2835.00   \n",
       "2012                             3685.00                  1600.00   \n",
       "2013                             2250.00                  3300.00   \n",
       "2014                             6037.50                 13420.00   \n",
       "2015                         15144119.00               4321194.50   \n",
       "2016                          4225478.00               5085193.00   \n",
       "2017                          9010548.00               9641408.00   \n",
       "2018                          8931966.00               8751896.00   \n",
       "2019                          3405545.75               3210717.75   \n",
       "\n",
       "age_restriction  для детей старше 6 лет  для любой зрительской аудитории  \\\n",
       "show_start_year                                                            \n",
       "2010                                NaN                          6052.50   \n",
       "2011                              450.0                          7010.00   \n",
       "2012                             6475.0                         18067.50   \n",
       "2013                             3457.5                         13225.00   \n",
       "2014                           125810.0                        190855.00   \n",
       "2015                         19513254.0                       2943318.75   \n",
       "2016                          3026256.0                       2571294.00   \n",
       "2017                         50274984.0                      22178956.00   \n",
       "2018                         14458669.0                       3616937.25   \n",
       "2019                         12525532.0                       3885434.50   \n",
       "\n",
       "age_restriction  запрещено для детей  \n",
       "show_start_year                       \n",
       "2010                           915.0  \n",
       "2011                           520.0  \n",
       "2012                          1385.0  \n",
       "2013                          1775.0  \n",
       "2014                        180108.0  \n",
       "2015                       4654761.5  \n",
       "2016                       6107001.5  \n",
       "2017                       8212677.0  \n",
       "2018                       7179466.0  \n",
       "2019                       5603216.5  "
      ]
     },
     "metadata": {},
     "output_type": "display_data"
    }
   ],
   "source": [
    "budget_box_office_films_age = data.pivot_table(index='show_start_year', columns='age_restriction', values='box_office', aggfunc='median')\n",
    "display(budget_box_office_films_age)"
   ]
  },
  {
   "cell_type": "code",
   "execution_count": 428,
   "metadata": {},
   "outputs": [
    {
     "data": {
      "image/png": "[encoded data removed]",
      "text/plain": [
       "<Figure size 1080x720 with 1 Axes>"
      ]
     },
     "metadata": {
      "needs_background": "light"
     },
     "output_type": "display_data"
    }
   ],
   "source": [
    "age_category = data['age_restriction'].unique()\n",
    "\n",
    "for age in age_category:\n",
    "    budget_box_office_films_age[age].plot(grid=True, linestyle='-', marker='o', figsize=(15,10), legend=True)\n",
    "    \n",
    "plt.xlabel('years')\n",
    "plt.ylabel('median budget_box_office_films_per_age')\n",
    "plt.title(\"dynamics of median budget box office films per year by age_restriction category\", fontsize=10);   "
   ]
  },
  {
   "cell_type": "markdown",
   "metadata": {},
   "source": [
    "Исходя из графика видим, что возрастное ограничение аудитории («6+», «12+», «16+», «18+» и т. д.) влияет на сборы фильма в прокате в период с 2015 по 2019 год.  Фильмы с возрастным ограничением «6+» собрали больше всего денег. В 2015 году наиболее популярными были фильмы «6+» и «12+». 2017 год демонстрирует максимальный рост по сборам. Наиболее популярными в этом году стали фильмы «6+» и «0+».\n",
    "Возрастные ограничения, возможно, увеличивают стоимость билета."
   ]
  },
  {
   "cell_type": "markdown",
   "metadata": {
    "id": "l_Kg6Ku4gFya"
   },
   "source": [
    "### Шаг 4. Исследуйте фильмы, которые получили государственную поддержку\n",
    "\n",
    "На этом этапе нет конкретных инструкций и заданий — поищите интересные закономерности в данных. Посмотрите, сколько выделяют средств на поддержку кино. Проверьте, хорошо ли окупаются такие фильмы, какой у них рейтинг."
   ]
  },
  {
   "cell_type": "code",
   "execution_count": 429,
   "metadata": {
    "id": "W9QKpjUdgFyb"
   },
   "outputs": [
    {
     "data": {
      "text/html": [
       "<div>\n",
       "<style scoped>\n",
       "    .dataframe tbody tr th:only-of-type {\n",
       "        vertical-align: middle;\n",
       "    }\n",
       "\n",
       "    .dataframe tbody tr th {\n",
       "        vertical-align: top;\n",
       "    }\n",
       "\n",
       "    .dataframe thead th {\n",
       "        text-align: right;\n",
       "    }\n",
       "</style>\n",
       "<table border=\"1\" class=\"dataframe\">\n",
       "  <thead>\n",
       "    <tr style=\"text-align: right;\">\n",
       "      <th></th>\n",
       "      <th>title</th>\n",
       "      <th>puNumber</th>\n",
       "      <th>show_start_date</th>\n",
       "      <th>type</th>\n",
       "      <th>film_studio</th>\n",
       "      <th>production_country</th>\n",
       "      <th>director</th>\n",
       "      <th>producer</th>\n",
       "      <th>age_restriction</th>\n",
       "      <th>refundable_support</th>\n",
       "      <th>...</th>\n",
       "      <th>financing_source</th>\n",
       "      <th>ratings</th>\n",
       "      <th>genres</th>\n",
       "      <th>box_office</th>\n",
       "      <th>rating_group</th>\n",
       "      <th>total_support</th>\n",
       "      <th>show_start_year</th>\n",
       "      <th>general_genre</th>\n",
       "      <th>general_director</th>\n",
       "      <th>goverment_part_of_budjet</th>\n",
       "    </tr>\n",
       "  </thead>\n",
       "  <tbody>\n",
       "    <tr>\n",
       "      <td>1281</td>\n",
       "      <td>Пока еще жива</td>\n",
       "      <td>111005313</td>\n",
       "      <td>2013-10-11 12:00:00+00:00</td>\n",
       "      <td>Художественный</td>\n",
       "      <td>АНО содействия развитию кинематографии \"Ангел-...</td>\n",
       "      <td>Россия</td>\n",
       "      <td>А.Атанесян</td>\n",
       "      <td>А.Атанесян, М.Бабаханов, Р.Бутко</td>\n",
       "      <td>для детей старше 16 лет</td>\n",
       "      <td>0.0</td>\n",
       "      <td>...</td>\n",
       "      <td>Министерство культуры</td>\n",
       "      <td>8.1</td>\n",
       "      <td>драма,мелодрама</td>\n",
       "      <td>3.653536e+05</td>\n",
       "      <td>высокий рейтинг</td>\n",
       "      <td>26500000.0</td>\n",
       "      <td>2013</td>\n",
       "      <td>драма</td>\n",
       "      <td>А.Атанесян</td>\n",
       "      <td>0.333703</td>\n",
       "    </tr>\n",
       "    <tr>\n",
       "      <td>1448</td>\n",
       "      <td>Бесславные придурки</td>\n",
       "      <td>111003314</td>\n",
       "      <td>2014-03-28 12:00:00+00:00</td>\n",
       "      <td>Художественный</td>\n",
       "      <td>ООО \"Компания \"АТК-Студио\"</td>\n",
       "      <td>Россия</td>\n",
       "      <td>А.Якимчук</td>\n",
       "      <td>А.Тютрюмов</td>\n",
       "      <td>для детей старше 12 лет</td>\n",
       "      <td>0.0</td>\n",
       "      <td>...</td>\n",
       "      <td>Министерство культуры</td>\n",
       "      <td>0.0</td>\n",
       "      <td>unknown</td>\n",
       "      <td>2.814000e+04</td>\n",
       "      <td>низкий рейтинг</td>\n",
       "      <td>26000000.0</td>\n",
       "      <td>2014</td>\n",
       "      <td>unknown</td>\n",
       "      <td>А.Якимчук</td>\n",
       "      <td>0.700000</td>\n",
       "    </tr>\n",
       "    <tr>\n",
       "      <td>1498</td>\n",
       "      <td>Невидимки</td>\n",
       "      <td>111004213</td>\n",
       "      <td>2013-09-10 12:00:00+00:00</td>\n",
       "      <td>Художественный</td>\n",
       "      <td>ООО \"Компания \"РЕАЛ-ДАКОТА\"</td>\n",
       "      <td>Россия</td>\n",
       "      <td>Р.Давлетьяров, С.Комаров</td>\n",
       "      <td>Р.Давлетьяров, А.Котелевский, А.Олейников</td>\n",
       "      <td>для детей старше 12 лет</td>\n",
       "      <td>0.0</td>\n",
       "      <td>...</td>\n",
       "      <td>Фонд кино</td>\n",
       "      <td>5.3</td>\n",
       "      <td>комедия,фантастика</td>\n",
       "      <td>1.995703e+07</td>\n",
       "      <td>средний рейтинг</td>\n",
       "      <td>107847944.0</td>\n",
       "      <td>2013</td>\n",
       "      <td>комедия</td>\n",
       "      <td>Р.Давлетьяров</td>\n",
       "      <td>0.612691</td>\n",
       "    </tr>\n",
       "  </tbody>\n",
       "</table>\n",
       "<p>3 rows × 22 columns</p>\n",
       "</div>"
      ],
      "text/plain": [
       "                    title   puNumber           show_start_date  \\\n",
       "1281        Пока еще жива  111005313 2013-10-11 12:00:00+00:00   \n",
       "1448  Бесславные придурки  111003314 2014-03-28 12:00:00+00:00   \n",
       "1498            Невидимки  111004213 2013-09-10 12:00:00+00:00   \n",
       "\n",
       "                type                                        film_studio  \\\n",
       "1281  Художественный  АНО содействия развитию кинематографии \"Ангел-...   \n",
       "1448  Художественный                         ООО \"Компания \"АТК-Студио\"   \n",
       "1498  Художественный                        ООО \"Компания \"РЕАЛ-ДАКОТА\"   \n",
       "\n",
       "     production_country                  director  \\\n",
       "1281             Россия                А.Атанесян   \n",
       "1448             Россия                 А.Якимчук   \n",
       "1498             Россия  Р.Давлетьяров, С.Комаров   \n",
       "\n",
       "                                       producer          age_restriction  \\\n",
       "1281           А.Атанесян, М.Бабаханов, Р.Бутко  для детей старше 16 лет   \n",
       "1448                                 А.Тютрюмов  для детей старше 12 лет   \n",
       "1498  Р.Давлетьяров, А.Котелевский, А.Олейников  для детей старше 12 лет   \n",
       "\n",
       "      refundable_support  ...       financing_source  ratings  \\\n",
       "1281                 0.0  ...  Министерство культуры      8.1   \n",
       "1448                 0.0  ...  Министерство культуры      0.0   \n",
       "1498                 0.0  ...              Фонд кино      5.3   \n",
       "\n",
       "                  genres    box_office     rating_group  total_support  \\\n",
       "1281     драма,мелодрама  3.653536e+05  высокий рейтинг     26500000.0   \n",
       "1448             unknown  2.814000e+04   низкий рейтинг     26000000.0   \n",
       "1498  комедия,фантастика  1.995703e+07  средний рейтинг    107847944.0   \n",
       "\n",
       "     show_start_year  general_genre  general_director goverment_part_of_budjet  \n",
       "1281            2013          драма        А.Атанесян                 0.333703  \n",
       "1448            2014        unknown         А.Якимчук                 0.700000  \n",
       "1498            2013        комедия     Р.Давлетьяров                 0.612691  \n",
       "\n",
       "[3 rows x 22 columns]"
      ]
     },
     "metadata": {},
     "output_type": "display_data"
    }
   ],
   "source": [
    "goverment_help_films = data[(data['refundable_support'] > 0) | (data['nonrefundable_support'] > 0)]\n",
    "display(goverment_help_films.head(3))"
   ]
  },
  {
   "cell_type": "code",
   "execution_count": 430,
   "metadata": {},
   "outputs": [
    {
     "data": {
      "image/png": "[encoded data removed]",
      "text/plain": [
       "<Figure size 432x288 with 1 Axes>"
      ]
     },
     "metadata": {
      "needs_background": "light"
     },
     "output_type": "display_data"
    }
   ],
   "source": [
    "plt.ylim(0,100000000)\n",
    "goverment_help_films.boxplot(column='nonrefundable_support') \n",
    "plt.show()"
   ]
  },
  {
   "cell_type": "code",
   "execution_count": 431,
   "metadata": {},
   "outputs": [
    {
     "data": {
      "text/html": [
       "<div>\n",
       "<style scoped>\n",
       "    .dataframe tbody tr th:only-of-type {\n",
       "        vertical-align: middle;\n",
       "    }\n",
       "\n",
       "    .dataframe tbody tr th {\n",
       "        vertical-align: top;\n",
       "    }\n",
       "\n",
       "    .dataframe thead th {\n",
       "        text-align: right;\n",
       "    }\n",
       "</style>\n",
       "<table border=\"1\" class=\"dataframe\">\n",
       "  <thead>\n",
       "    <tr style=\"text-align: right;\">\n",
       "      <th></th>\n",
       "      <th>refundable_support_mean</th>\n",
       "      <th>nonrefundable_support_mean</th>\n",
       "      <th>total_support_mean</th>\n",
       "    </tr>\n",
       "    <tr>\n",
       "      <th>show_start_year</th>\n",
       "      <th></th>\n",
       "      <th></th>\n",
       "      <th></th>\n",
       "    </tr>\n",
       "  </thead>\n",
       "  <tbody>\n",
       "    <tr>\n",
       "      <td>2013</td>\n",
       "      <td>67173968.0</td>\n",
       "      <td>0.0</td>\n",
       "      <td>67173968.0</td>\n",
       "    </tr>\n",
       "    <tr>\n",
       "      <td>2014</td>\n",
       "      <td>31866820.0</td>\n",
       "      <td>4733333.5</td>\n",
       "      <td>36600152.0</td>\n",
       "    </tr>\n",
       "    <tr>\n",
       "      <td>2015</td>\n",
       "      <td>33501104.0</td>\n",
       "      <td>6839414.0</td>\n",
       "      <td>40340520.0</td>\n",
       "    </tr>\n",
       "    <tr>\n",
       "      <td>2016</td>\n",
       "      <td>53011300.0</td>\n",
       "      <td>15560345.0</td>\n",
       "      <td>68571648.0</td>\n",
       "    </tr>\n",
       "    <tr>\n",
       "      <td>2017</td>\n",
       "      <td>62169868.0</td>\n",
       "      <td>17290946.0</td>\n",
       "      <td>79460808.0</td>\n",
       "    </tr>\n",
       "    <tr>\n",
       "      <td>2018</td>\n",
       "      <td>48192308.0</td>\n",
       "      <td>11384615.0</td>\n",
       "      <td>59576924.0</td>\n",
       "    </tr>\n",
       "    <tr>\n",
       "      <td>2019</td>\n",
       "      <td>55884056.0</td>\n",
       "      <td>12579710.0</td>\n",
       "      <td>68463768.0</td>\n",
       "    </tr>\n",
       "  </tbody>\n",
       "</table>\n",
       "</div>"
      ],
      "text/plain": [
       "                 refundable_support_mean  nonrefundable_support_mean  \\\n",
       "show_start_year                                                        \n",
       "2013                          67173968.0                         0.0   \n",
       "2014                          31866820.0                   4733333.5   \n",
       "2015                          33501104.0                   6839414.0   \n",
       "2016                          53011300.0                  15560345.0   \n",
       "2017                          62169868.0                  17290946.0   \n",
       "2018                          48192308.0                  11384615.0   \n",
       "2019                          55884056.0                  12579710.0   \n",
       "\n",
       "                 total_support_mean  \n",
       "show_start_year                      \n",
       "2013                     67173968.0  \n",
       "2014                     36600152.0  \n",
       "2015                     40340520.0  \n",
       "2016                     68571648.0  \n",
       "2017                     79460808.0  \n",
       "2018                     59576924.0  \n",
       "2019                     68463768.0  "
      ]
     },
     "metadata": {},
     "output_type": "display_data"
    }
   ],
   "source": [
    "goverment_help_films_mean_support = goverment_help_films.pivot_table(index='show_start_year',\n",
    "                                                                  values=['refundable_support', 'nonrefundable_support', 'total_support'],\n",
    "                                                                  aggfunc='mean')\n",
    "goverment_help_films_mean_support.columns=['refundable_support_mean','nonrefundable_support_mean', 'total_support_mean']\n",
    "\n",
    "display(goverment_help_films_mean_support)"
   ]
  },
  {
   "cell_type": "code",
   "execution_count": 432,
   "metadata": {},
   "outputs": [
    {
     "data": {
      "image/png": "[encoded data removed]",
      "text/plain": [
       "<Figure size 1080x720 with 1 Axes>"
      ]
     },
     "metadata": {
      "needs_background": "light"
     },
     "output_type": "display_data"
    }
   ],
   "source": [
    "support_category = ['refundable_support_mean','nonrefundable_support_mean', 'total_support_mean']\n",
    "\n",
    "for support in support_category:\n",
    "    goverment_help_films_mean_support[support].plot(grid=True, linestyle='-', marker='o', figsize=(15,10), legend=True)\n",
    "    \n",
    "    \n",
    "plt.xlabel('years')\n",
    "plt.ylabel('mean of support')\n",
    "plt.title(\"dynamics of mean support per year by category\", fontsize=10); "
   ]
  },
  {
   "cell_type": "markdown",
   "metadata": {},
   "source": [
    "Из графика видим, что в целом динамика объёма возвратных средств государственной поддержки и объёма невозвратных средств государственной поддержки совпадает. Максимум приходится на 2017 год.\n",
    "\n",
    "Проверим окупаются ли фильмы."
   ]
  },
  {
   "cell_type": "code",
   "execution_count": 433,
   "metadata": {},
   "outputs": [
    {
     "name": "stdout",
     "output_type": "stream",
     "text": [
      "Общая сумма государственной поддержки: 18808720000.0\n",
      "Общая сумма сборов для фильмов с государственной поддержкой: 39340175000.0\n",
      "Окупаемость фильмов с государственной поддержкой : 20531456000.0\n"
     ]
    }
   ],
   "source": [
    "sum_of_total_support = goverment_help_films['total_support'].sum()\n",
    "sum_of_box_office = goverment_help_films['box_office'].sum()\n",
    "print('Общая сумма государственной поддержки:', sum_of_total_support)\n",
    "print('Общая сумма сборов для фильмов с государственной поддержкой:', sum_of_box_office)\n",
    "print('Окупаемость фильмов с государственной поддержкой :', sum_of_box_office - sum_of_total_support)"
   ]
  },
  {
   "cell_type": "markdown",
   "metadata": {},
   "source": [
    "Как видим, фильмы окупаются. Проверим, зависит ли окупаемость фильма от его рейтинга."
   ]
  },
  {
   "cell_type": "code",
   "execution_count": 434,
   "metadata": {},
   "outputs": [
    {
     "name": "stderr",
     "output_type": "stream",
     "text": [
      "/opt/conda/lib/python3.7/site-packages/ipykernel_launcher.py:1: SettingWithCopyWarning: \n",
      "A value is trying to be set on a copy of a slice from a DataFrame.\n",
      "Try using .loc[row_indexer,col_indexer] = value instead\n",
      "\n",
      "See the caveats in the documentation: http://pandas.pydata.org/pandas-docs/stable/user_guide/indexing.html#returning-a-view-versus-a-copy\n",
      "  \"\"\"Entry point for launching an IPython kernel.\n"
     ]
    }
   ],
   "source": [
    "goverment_help_films['payback'] = goverment_help_films['box_office'] - goverment_help_films['total_support']\n"
   ]
  },
  {
   "cell_type": "code",
   "execution_count": 435,
   "metadata": {},
   "outputs": [
    {
     "data": {
      "text/plain": [
       "0.08560346513485015"
      ]
     },
     "execution_count": 435,
     "metadata": {},
     "output_type": "execute_result"
    }
   ],
   "source": [
    "goverment_help_films['payback'].corr(goverment_help_films['ratings'])"
   ]
  },
  {
   "cell_type": "markdown",
   "metadata": {},
   "source": [
    "Коэффициент Пирсона говорит скорее о слабой зависимости. Окупаемость фильма не зависит от рейтинга."
   ]
  },
  {
   "cell_type": "code",
   "execution_count": 436,
   "metadata": {},
   "outputs": [
    {
     "data": {
      "text/plain": [
       "0.12420553031061482"
      ]
     },
     "execution_count": 436,
     "metadata": {},
     "output_type": "execute_result"
    }
   ],
   "source": [
    "goverment_help_films['total_support'].corr(goverment_help_films['ratings'])"
   ]
  },
  {
   "cell_type": "markdown",
   "metadata": {},
   "source": [
    "Зато сумма предоставленных государственных средств, зависит от рейтинга фильма."
   ]
  },
  {
   "cell_type": "code",
   "execution_count": 437,
   "metadata": {},
   "outputs": [
    {
     "data": {
      "image/png": "[encoded data removed]",
      "text/plain": [
       "<Figure size 432x288 with 1 Axes>"
      ]
     },
     "metadata": {
      "needs_background": "light"
     },
     "output_type": "display_data"
    }
   ],
   "source": [
    "goverment_help_films.plot(x='total_support', y='ratings', style='o')\n",
    "    \n",
    "plt.xlabel('total_support')\n",
    "plt.ylabel('ratings')\n",
    "plt.title(\"map of ratings and total government support\", fontsize=10); "
   ]
  },
  {
   "cell_type": "markdown",
   "metadata": {},
   "source": [
    "Фильмы с большей государственной поддержкой имеют средний и высокий рейтинги."
   ]
  },
  {
   "cell_type": "markdown",
   "metadata": {},
   "source": [
    "Рассмотрим как распределилась государственная поддержка фильмов по жанрам."
   ]
  },
  {
   "cell_type": "code",
   "execution_count": 438,
   "metadata": {},
   "outputs": [
    {
     "data": {
      "text/plain": [
       "general_genre\n",
       "история        240000000.0\n",
       "мультфильм      60000000.0\n",
       "детектив        55000000.0\n",
       "реальное ТВ     53000000.0\n",
       "военный         45000000.0\n",
       "спорт           40000000.0\n",
       "приключения     40000000.0\n",
       "криминал        40000000.0\n",
       "мюзикл          37576560.0\n",
       "триллер         37500000.0\n",
       "боевик          35000000.0\n",
       "семейный        35000000.0\n",
       "фэнтези         34000000.0\n",
       "комедия         32500000.0\n",
       "unknown         30000000.0\n",
       "драма           30000000.0\n",
       "ужасы           30000000.0\n",
       "детский         29500000.0\n",
       "мелодрама       27750000.0\n",
       "биография       27510000.0\n",
       "фантастика      27500000.0\n",
       "Name: total_support, dtype: float32"
      ]
     },
     "metadata": {},
     "output_type": "display_data"
    }
   ],
   "source": [
    "goverment_help_films_total_median_genres = goverment_help_films.pivot_table(index='general_genre',\n",
    "                                                                  values=['total_support'],\n",
    "                                                                  aggfunc='median')\n",
    "display(goverment_help_films_total_median_genres['total_support'].sort_values(ascending=False))"
   ]
  },
  {
   "cell_type": "markdown",
   "metadata": {},
   "source": [
    "Больше всего средств государственной поддержки было оказано историческим фильмам и мультфильмам. Меньше всего фильмам в жанре фантастика."
   ]
  },
  {
   "cell_type": "code",
   "execution_count": 439,
   "metadata": {},
   "outputs": [
    {
     "data": {
      "image/png": "[encoded data removed]",
      "text/plain": [
       "<Figure size 720x720 with 1 Axes>"
      ]
     },
     "metadata": {
      "needs_background": "light"
     },
     "output_type": "display_data"
    }
   ],
   "source": [
    "goverment_help_films['general_genre'].value_counts().plot.barh(figsize=(10,10))\n",
    "\n",
    "plt.xlabel('number of films with government support')\n",
    "plt.title(\"number of films with government support by genres\", fontsize=10); "
   ]
  },
  {
   "cell_type": "markdown",
   "metadata": {},
   "source": [
    "По количеству же снятых фильмов чаще всего гос. поддержку оказывают фильмам в жанре драма и комедия."
   ]
  },
  {
   "cell_type": "markdown",
   "metadata": {},
   "source": [
    "Рассмотрим, как распределяется финансирование по источникам."
   ]
  },
  {
   "cell_type": "code",
   "execution_count": 440,
   "metadata": {},
   "outputs": [
    {
     "data": {
      "text/html": [
       "<div>\n",
       "<style scoped>\n",
       "    .dataframe tbody tr th:only-of-type {\n",
       "        vertical-align: middle;\n",
       "    }\n",
       "\n",
       "    .dataframe tbody tr th {\n",
       "        vertical-align: top;\n",
       "    }\n",
       "\n",
       "    .dataframe thead th {\n",
       "        text-align: right;\n",
       "    }\n",
       "</style>\n",
       "<table border=\"1\" class=\"dataframe\">\n",
       "  <thead>\n",
       "    <tr style=\"text-align: right;\">\n",
       "      <th></th>\n",
       "      <th>total_support</th>\n",
       "    </tr>\n",
       "    <tr>\n",
       "      <th>financing_source</th>\n",
       "      <th></th>\n",
       "    </tr>\n",
       "  </thead>\n",
       "  <tbody>\n",
       "    <tr>\n",
       "      <td>Министерство культуры</td>\n",
       "      <td>28000000.0</td>\n",
       "    </tr>\n",
       "    <tr>\n",
       "      <td>Министерство культуры, Фонд кино</td>\n",
       "      <td>49000000.0</td>\n",
       "    </tr>\n",
       "    <tr>\n",
       "      <td>Фонд кино</td>\n",
       "      <td>60000000.0</td>\n",
       "    </tr>\n",
       "  </tbody>\n",
       "</table>\n",
       "</div>"
      ],
      "text/plain": [
       "                                  total_support\n",
       "financing_source                               \n",
       "Министерство культуры                28000000.0\n",
       "Министерство культуры, Фонд кино     49000000.0\n",
       "Фонд кино                            60000000.0"
      ]
     },
     "metadata": {},
     "output_type": "display_data"
    }
   ],
   "source": [
    "goverment_help_films_total_median_sources = goverment_help_films.pivot_table(index='financing_source',\n",
    "                                                                  values=['total_support'],\n",
    "                                                                  aggfunc='median')\n",
    "display(goverment_help_films_total_median_sources)"
   ]
  },
  {
   "cell_type": "markdown",
   "metadata": {},
   "source": [
    "Фонд кино финансирует куда больше, нежели министерство культуры."
   ]
  },
  {
   "cell_type": "markdown",
   "metadata": {
    "id": "V2gYwMcPgFyd"
   },
   "source": [
    "### Шаг 5. Напишите общий вывод"
   ]
  },
  {
   "cell_type": "markdown",
   "metadata": {
    "id": "AYRg3dzXgFye"
   },
   "source": [
    "Итог:\n",
    "\n",
    "- 2015 и 2017 года стали рекордсмена по количеству фильмов, вышедших в прокат;\n",
    "- до 2013 года сумма сборов была минимальной, в 2015 наблюдается резкий рост по данному показателю, максимум был достигнут в 2018 году;\n",
    "- больше всего денег собрали фильмы с возрастным ограничением «6+», возрастные ограничения, возможно, увеличивают стоимость билета, фильмы на общую аудиторию ниже оцениваются зрителями;\n",
    "- в целом динамика объёма возвратных средств государственной поддержки и объёма невозвратных средств государственной поддержки совпадает, максимум приходится на 2017 год;\n",
    "- окупаемость фильма не зависит от рейтинга фильма;\n",
    "- фильмы с большей государственной поддержкой по итогу имели высокие и средние рейтинги;\n",
    "- больше всего средств государственной поддержки было оказано историческим фильмам и мультфильмам, меньше всего фильмам в жанре фантастика;\n",
    "- по количеству же снятых фильмов чаще всего гос. поддержку оказывают фильмам в жанре драма и комедия;\n",
    "- Фонд кино финансирует куда больше средств, нежели Министерство культуры.\n",
    "\n"
   ]
  }
 ],
 "metadata": {
  "ExecuteTimeLog": [
   {
    "duration": 537,
    "start_time": "2021-07-07T10:12:08.634Z"
   },
   {
    "duration": 206,
    "start_time": "2021-07-07T10:12:30.191Z"
   },
   {
    "duration": 227,
    "start_time": "2021-07-07T10:12:33.078Z"
   },
   {
    "duration": 153,
    "start_time": "2021-07-07T10:13:42.146Z"
   },
   {
    "duration": 233,
    "start_time": "2021-07-07T10:30:09.252Z"
   },
   {
    "duration": 19,
    "start_time": "2021-07-07T10:30:15.577Z"
   },
   {
    "duration": 18,
    "start_time": "2021-07-07T10:30:57.348Z"
   },
   {
    "duration": 19,
    "start_time": "2021-07-07T10:31:17.452Z"
   },
   {
    "duration": 21,
    "start_time": "2021-07-07T10:31:32.227Z"
   },
   {
    "duration": 27,
    "start_time": "2021-07-07T10:32:06.588Z"
   },
   {
    "duration": 23,
    "start_time": "2021-07-07T10:32:43.645Z"
   },
   {
    "duration": 24,
    "start_time": "2021-07-07T10:33:06.948Z"
   },
   {
    "duration": 7,
    "start_time": "2021-07-07T10:33:28.558Z"
   },
   {
    "duration": 23,
    "start_time": "2021-07-07T10:33:43.761Z"
   },
   {
    "duration": 28,
    "start_time": "2021-07-07T10:34:13.466Z"
   },
   {
    "duration": 23,
    "start_time": "2021-07-07T10:35:56.187Z"
   },
   {
    "duration": 6,
    "start_time": "2021-07-07T10:36:48.182Z"
   },
   {
    "duration": 14,
    "start_time": "2021-07-07T10:37:49.641Z"
   },
   {
    "duration": 6,
    "start_time": "2021-07-07T10:38:06.694Z"
   },
   {
    "duration": 6,
    "start_time": "2021-07-07T10:38:13.493Z"
   },
   {
    "duration": 19,
    "start_time": "2021-07-07T10:38:44.056Z"
   },
   {
    "duration": 186,
    "start_time": "2021-07-07T10:48:35.618Z"
   },
   {
    "duration": 24,
    "start_time": "2021-07-07T10:48:51.498Z"
   },
   {
    "duration": 20,
    "start_time": "2021-07-07T10:48:59.415Z"
   },
   {
    "duration": 20,
    "start_time": "2021-07-07T10:53:02.195Z"
   },
   {
    "duration": 188,
    "start_time": "2021-07-07T10:54:40.486Z"
   },
   {
    "duration": 115,
    "start_time": "2021-07-07T10:54:52.552Z"
   },
   {
    "duration": 214,
    "start_time": "2021-07-07T10:54:56.354Z"
   },
   {
    "duration": 47,
    "start_time": "2021-07-07T10:54:58.282Z"
   },
   {
    "duration": 217,
    "start_time": "2021-07-07T10:59:16.075Z"
   },
   {
    "duration": 51,
    "start_time": "2021-07-07T10:59:16.243Z"
   },
   {
    "duration": 578,
    "start_time": "2021-07-07T10:59:18.774Z"
   },
   {
    "duration": 161,
    "start_time": "2021-07-07T10:59:21.238Z"
   },
   {
    "duration": 59,
    "start_time": "2021-07-07T10:59:21.453Z"
   },
   {
    "duration": 3,
    "start_time": "2021-07-07T11:02:10.786Z"
   },
   {
    "duration": 13,
    "start_time": "2021-07-07T11:07:07.722Z"
   },
   {
    "duration": 26,
    "start_time": "2021-07-07T11:07:17.958Z"
   },
   {
    "duration": 22,
    "start_time": "2021-07-07T11:08:17.939Z"
   },
   {
    "duration": 212,
    "start_time": "2021-07-07T11:08:19.665Z"
   },
   {
    "duration": 21,
    "start_time": "2021-07-07T11:08:29.945Z"
   },
   {
    "duration": 31,
    "start_time": "2021-07-07T11:08:38.899Z"
   },
   {
    "duration": 23,
    "start_time": "2021-07-07T11:08:54.527Z"
   },
   {
    "duration": 8,
    "start_time": "2021-07-07T11:18:55.974Z"
   },
   {
    "duration": 7,
    "start_time": "2021-07-07T11:19:03.639Z"
   },
   {
    "duration": 7,
    "start_time": "2021-07-07T11:19:06.444Z"
   },
   {
    "duration": 578,
    "start_time": "2021-07-07T12:09:59.576Z"
   },
   {
    "duration": 195,
    "start_time": "2021-07-07T12:10:00.156Z"
   },
   {
    "duration": 115,
    "start_time": "2021-07-07T12:10:00.353Z"
   },
   {
    "duration": 3,
    "start_time": "2021-07-07T12:10:00.470Z"
   },
   {
    "duration": 32,
    "start_time": "2021-07-07T12:10:00.474Z"
   },
   {
    "duration": 23,
    "start_time": "2021-07-07T12:10:00.508Z"
   },
   {
    "duration": 19,
    "start_time": "2021-07-07T12:10:00.533Z"
   },
   {
    "duration": 44,
    "start_time": "2021-07-07T12:10:00.553Z"
   },
   {
    "duration": 7,
    "start_time": "2021-07-07T12:10:00.600Z"
   },
   {
    "duration": 7,
    "start_time": "2021-07-07T12:19:45.761Z"
   },
   {
    "duration": 21,
    "start_time": "2021-07-07T12:21:35.482Z"
   },
   {
    "duration": 21,
    "start_time": "2021-07-07T12:29:23.569Z"
   },
   {
    "duration": 525,
    "start_time": "2021-07-07T12:29:44.542Z"
   },
   {
    "duration": 214,
    "start_time": "2021-07-07T12:29:45.069Z"
   },
   {
    "duration": 92,
    "start_time": "2021-07-07T12:29:45.285Z"
   },
   {
    "duration": 3,
    "start_time": "2021-07-07T12:29:45.379Z"
   },
   {
    "duration": 28,
    "start_time": "2021-07-07T12:29:45.384Z"
   },
   {
    "duration": 23,
    "start_time": "2021-07-07T12:29:45.413Z"
   },
   {
    "duration": 21,
    "start_time": "2021-07-07T12:29:45.437Z"
   },
   {
    "duration": 41,
    "start_time": "2021-07-07T12:29:45.460Z"
   },
   {
    "duration": 7,
    "start_time": "2021-07-07T12:29:45.502Z"
   },
   {
    "duration": 20,
    "start_time": "2021-07-07T12:29:45.511Z"
   },
   {
    "duration": 12,
    "start_time": "2021-07-07T12:34:02.800Z"
   },
   {
    "duration": 7,
    "start_time": "2021-07-07T12:35:10.479Z"
   },
   {
    "duration": 8,
    "start_time": "2021-07-07T12:35:22.440Z"
   },
   {
    "duration": 6,
    "start_time": "2021-07-07T12:35:35.649Z"
   },
   {
    "duration": 6,
    "start_time": "2021-07-07T12:35:43.107Z"
   },
   {
    "duration": 22,
    "start_time": "2021-07-07T12:38:03.029Z"
   },
   {
    "duration": 10,
    "start_time": "2021-07-07T12:38:06.592Z"
   },
   {
    "duration": 563,
    "start_time": "2021-07-07T12:38:46.493Z"
   },
   {
    "duration": 265,
    "start_time": "2021-07-07T12:38:47.058Z"
   },
   {
    "duration": 94,
    "start_time": "2021-07-07T12:38:47.325Z"
   },
   {
    "duration": 3,
    "start_time": "2021-07-07T12:38:47.422Z"
   },
   {
    "duration": 30,
    "start_time": "2021-07-07T12:38:47.427Z"
   },
   {
    "duration": 16,
    "start_time": "2021-07-07T12:38:53.305Z"
   },
   {
    "duration": 10,
    "start_time": "2021-07-07T12:38:53.499Z"
   },
   {
    "duration": 8,
    "start_time": "2021-07-07T12:39:48.161Z"
   },
   {
    "duration": 27,
    "start_time": "2021-07-07T12:41:17.629Z"
   },
   {
    "duration": 17,
    "start_time": "2021-07-07T12:41:17.867Z"
   },
   {
    "duration": 21,
    "start_time": "2021-07-07T12:41:19.310Z"
   },
   {
    "duration": 7,
    "start_time": "2021-07-07T12:41:19.544Z"
   },
   {
    "duration": 20,
    "start_time": "2021-07-07T12:41:20.504Z"
   },
   {
    "duration": 554,
    "start_time": "2021-07-07T12:56:23.696Z"
   },
   {
    "duration": 200,
    "start_time": "2021-07-07T12:56:25.234Z"
   },
   {
    "duration": 119,
    "start_time": "2021-07-07T12:56:25.480Z"
   },
   {
    "duration": 4,
    "start_time": "2021-07-07T12:56:25.762Z"
   },
   {
    "duration": 26,
    "start_time": "2021-07-07T12:56:27.172Z"
   },
   {
    "duration": 12,
    "start_time": "2021-07-07T12:56:29.051Z"
   },
   {
    "duration": 10,
    "start_time": "2021-07-07T12:56:29.291Z"
   },
   {
    "duration": 8,
    "start_time": "2021-07-07T12:56:29.623Z"
   },
   {
    "duration": 28,
    "start_time": "2021-07-07T12:56:32.137Z"
   },
   {
    "duration": 19,
    "start_time": "2021-07-07T12:56:39.785Z"
   },
   {
    "duration": 20,
    "start_time": "2021-07-07T12:56:44.297Z"
   },
   {
    "duration": 7,
    "start_time": "2021-07-07T12:56:45.392Z"
   },
   {
    "duration": 23,
    "start_time": "2021-07-07T12:56:46.615Z"
   },
   {
    "duration": 4,
    "start_time": "2021-07-07T12:57:06.625Z"
   },
   {
    "duration": 32,
    "start_time": "2021-07-07T12:57:36.690Z"
   },
   {
    "duration": 18,
    "start_time": "2021-07-07T12:58:00.149Z"
   },
   {
    "duration": 15,
    "start_time": "2021-07-07T12:59:16.793Z"
   },
   {
    "duration": 7,
    "start_time": "2021-07-07T13:19:22.624Z"
   },
   {
    "duration": 6,
    "start_time": "2021-07-07T14:17:33.527Z"
   },
   {
    "duration": 9,
    "start_time": "2021-07-07T14:17:48.409Z"
   },
   {
    "duration": 8,
    "start_time": "2021-07-07T14:20:13.060Z"
   },
   {
    "duration": 8,
    "start_time": "2021-07-07T14:20:37.957Z"
   },
   {
    "duration": 8,
    "start_time": "2021-07-07T14:20:47.470Z"
   },
   {
    "duration": 9,
    "start_time": "2021-07-07T14:20:54.503Z"
   },
   {
    "duration": 10,
    "start_time": "2021-07-07T14:28:57.763Z"
   },
   {
    "duration": 3,
    "start_time": "2021-07-07T14:30:23.377Z"
   },
   {
    "duration": 3,
    "start_time": "2021-07-07T14:30:36.489Z"
   },
   {
    "duration": 103,
    "start_time": "2021-07-07T14:30:52.351Z"
   },
   {
    "duration": 8,
    "start_time": "2021-07-07T14:30:54.763Z"
   },
   {
    "duration": 8,
    "start_time": "2021-07-07T14:31:29.301Z"
   },
   {
    "duration": 13,
    "start_time": "2021-07-07T14:31:44.516Z"
   },
   {
    "duration": 7,
    "start_time": "2021-07-07T14:33:10.972Z"
   },
   {
    "duration": 11,
    "start_time": "2021-07-07T14:33:27.780Z"
   },
   {
    "duration": 8,
    "start_time": "2021-07-07T14:34:44.588Z"
   },
   {
    "duration": 57,
    "start_time": "2021-07-07T14:35:59.042Z"
   },
   {
    "duration": 3,
    "start_time": "2021-07-07T14:36:28.168Z"
   },
   {
    "duration": 5,
    "start_time": "2021-07-07T14:36:46.254Z"
   },
   {
    "duration": 4,
    "start_time": "2021-07-07T14:36:52.714Z"
   },
   {
    "duration": 3,
    "start_time": "2021-07-07T14:36:56.612Z"
   },
   {
    "duration": 4,
    "start_time": "2021-07-07T14:36:57.049Z"
   },
   {
    "duration": 3,
    "start_time": "2021-07-07T14:39:21.214Z"
   },
   {
    "duration": 7,
    "start_time": "2021-07-07T14:39:52.406Z"
   },
   {
    "duration": 11,
    "start_time": "2021-07-07T14:39:58.576Z"
   },
   {
    "duration": 9,
    "start_time": "2021-07-07T14:40:26.301Z"
   },
   {
    "duration": 10,
    "start_time": "2021-07-07T14:40:31.704Z"
   },
   {
    "duration": 11,
    "start_time": "2021-07-07T14:40:36.249Z"
   },
   {
    "duration": 10,
    "start_time": "2021-07-07T14:40:39.783Z"
   },
   {
    "duration": 9,
    "start_time": "2021-07-07T14:40:48.558Z"
   },
   {
    "duration": 10,
    "start_time": "2021-07-07T14:40:57.143Z"
   },
   {
    "duration": 9,
    "start_time": "2021-07-07T14:41:06.074Z"
   },
   {
    "duration": 4324,
    "start_time": "2021-07-07T14:41:22.004Z"
   },
   {
    "duration": 11,
    "start_time": "2021-07-07T14:41:33.392Z"
   },
   {
    "duration": 9,
    "start_time": "2021-07-07T14:41:39.288Z"
   },
   {
    "duration": 569,
    "start_time": "2021-07-07T14:42:14.387Z"
   },
   {
    "duration": 197,
    "start_time": "2021-07-07T14:42:14.959Z"
   },
   {
    "duration": 84,
    "start_time": "2021-07-07T14:42:16.052Z"
   },
   {
    "duration": 4,
    "start_time": "2021-07-07T14:42:16.900Z"
   },
   {
    "duration": 27,
    "start_time": "2021-07-07T14:42:19.898Z"
   },
   {
    "duration": 12,
    "start_time": "2021-07-07T14:42:21.577Z"
   },
   {
    "duration": 9,
    "start_time": "2021-07-07T14:42:21.813Z"
   },
   {
    "duration": 9,
    "start_time": "2021-07-07T14:42:22.569Z"
   },
   {
    "duration": 29,
    "start_time": "2021-07-07T14:42:25.837Z"
   },
   {
    "duration": 20,
    "start_time": "2021-07-07T14:42:27.003Z"
   },
   {
    "duration": 21,
    "start_time": "2021-07-07T14:42:28.767Z"
   },
   {
    "duration": 7,
    "start_time": "2021-07-07T14:42:29.838Z"
   },
   {
    "duration": 4,
    "start_time": "2021-07-07T14:43:25.493Z"
   },
   {
    "duration": 7,
    "start_time": "2021-07-07T14:43:26.573Z"
   },
   {
    "duration": 10,
    "start_time": "2021-07-07T14:43:31.639Z"
   },
   {
    "duration": 9,
    "start_time": "2021-07-07T14:43:32.046Z"
   },
   {
    "duration": 10,
    "start_time": "2021-07-07T14:43:33.301Z"
   },
   {
    "duration": 12,
    "start_time": "2021-07-07T14:43:33.658Z"
   },
   {
    "duration": 8,
    "start_time": "2021-07-07T14:43:34.552Z"
   },
   {
    "duration": 9,
    "start_time": "2021-07-07T14:43:35.058Z"
   },
   {
    "duration": 12,
    "start_time": "2021-07-07T14:43:35.914Z"
   },
   {
    "duration": 17,
    "start_time": "2021-07-07T14:45:34.368Z"
   },
   {
    "duration": 512,
    "start_time": "2021-07-07T14:51:58.236Z"
   },
   {
    "duration": 223,
    "start_time": "2021-07-07T14:51:58.750Z"
   },
   {
    "duration": 93,
    "start_time": "2021-07-07T14:51:58.977Z"
   },
   {
    "duration": 4,
    "start_time": "2021-07-07T14:51:59.071Z"
   },
   {
    "duration": 37,
    "start_time": "2021-07-07T14:51:59.077Z"
   },
   {
    "duration": 18,
    "start_time": "2021-07-07T14:51:59.116Z"
   },
   {
    "duration": 10,
    "start_time": "2021-07-07T14:51:59.137Z"
   },
   {
    "duration": 8,
    "start_time": "2021-07-07T14:51:59.149Z"
   },
   {
    "duration": 54,
    "start_time": "2021-07-07T14:51:59.158Z"
   },
   {
    "duration": 18,
    "start_time": "2021-07-07T14:51:59.213Z"
   },
   {
    "duration": 22,
    "start_time": "2021-07-07T14:51:59.232Z"
   },
   {
    "duration": 36,
    "start_time": "2021-07-07T14:51:59.255Z"
   },
   {
    "duration": 7,
    "start_time": "2021-07-07T14:51:59.293Z"
   },
   {
    "duration": 10,
    "start_time": "2021-07-07T14:51:59.302Z"
   },
   {
    "duration": 9,
    "start_time": "2021-07-07T14:51:59.313Z"
   },
   {
    "duration": 11,
    "start_time": "2021-07-07T14:51:59.324Z"
   },
   {
    "duration": 8,
    "start_time": "2021-07-07T14:51:59.337Z"
   },
   {
    "duration": 46,
    "start_time": "2021-07-07T14:51:59.347Z"
   },
   {
    "duration": 22,
    "start_time": "2021-07-07T14:51:59.395Z"
   },
   {
    "duration": 24,
    "start_time": "2021-07-07T14:57:32.911Z"
   },
   {
    "duration": 7,
    "start_time": "2021-07-07T14:58:22.070Z"
   },
   {
    "duration": 4,
    "start_time": "2021-07-07T14:59:11.239Z"
   },
   {
    "duration": 25,
    "start_time": "2021-07-07T15:07:22.208Z"
   },
   {
    "duration": 16,
    "start_time": "2021-07-07T15:08:25.560Z"
   },
   {
    "duration": 15,
    "start_time": "2021-07-07T15:08:40.647Z"
   },
   {
    "duration": 14,
    "start_time": "2021-07-07T15:08:46.669Z"
   },
   {
    "duration": 533,
    "start_time": "2021-07-07T15:18:07.440Z"
   },
   {
    "duration": 173,
    "start_time": "2021-07-07T15:18:07.974Z"
   },
   {
    "duration": 84,
    "start_time": "2021-07-07T15:18:08.149Z"
   },
   {
    "duration": 3,
    "start_time": "2021-07-07T15:18:08.235Z"
   },
   {
    "duration": 30,
    "start_time": "2021-07-07T15:18:08.240Z"
   },
   {
    "duration": 22,
    "start_time": "2021-07-07T15:18:08.272Z"
   },
   {
    "duration": 11,
    "start_time": "2021-07-07T15:18:08.295Z"
   },
   {
    "duration": 11,
    "start_time": "2021-07-07T15:18:08.309Z"
   },
   {
    "duration": 40,
    "start_time": "2021-07-07T15:18:08.322Z"
   },
   {
    "duration": 42,
    "start_time": "2021-07-07T15:18:08.364Z"
   },
   {
    "duration": 22,
    "start_time": "2021-07-07T15:18:08.408Z"
   },
   {
    "duration": 5,
    "start_time": "2021-07-07T15:18:08.432Z"
   },
   {
    "duration": 13,
    "start_time": "2021-07-07T15:18:08.439Z"
   },
   {
    "duration": 9,
    "start_time": "2021-07-07T15:18:08.454Z"
   },
   {
    "duration": 32,
    "start_time": "2021-07-07T15:18:08.465Z"
   },
   {
    "duration": 10,
    "start_time": "2021-07-07T15:18:08.501Z"
   },
   {
    "duration": 7,
    "start_time": "2021-07-07T15:18:08.513Z"
   },
   {
    "duration": 11,
    "start_time": "2021-07-07T15:18:08.521Z"
   },
   {
    "duration": 17,
    "start_time": "2021-07-07T15:18:08.534Z"
   },
   {
    "duration": 44,
    "start_time": "2021-07-07T15:18:08.553Z"
   },
   {
    "duration": 22,
    "start_time": "2021-07-07T15:18:08.599Z"
   },
   {
    "duration": 61,
    "start_time": "2021-07-07T15:18:08.622Z"
   },
   {
    "duration": 7,
    "start_time": "2021-07-07T15:18:39.457Z"
   },
   {
    "duration": 5,
    "start_time": "2021-07-07T16:05:17.020Z"
   },
   {
    "duration": 5,
    "start_time": "2021-07-07T16:51:28.794Z"
   },
   {
    "duration": 546,
    "start_time": "2021-07-07T16:52:26.306Z"
   },
   {
    "duration": 203,
    "start_time": "2021-07-07T16:52:27.523Z"
   },
   {
    "duration": 85,
    "start_time": "2021-07-07T16:52:27.736Z"
   },
   {
    "duration": 4,
    "start_time": "2021-07-07T16:52:27.899Z"
   },
   {
    "duration": 25,
    "start_time": "2021-07-07T16:52:28.674Z"
   },
   {
    "duration": 8,
    "start_time": "2021-07-07T16:52:32.956Z"
   },
   {
    "duration": 18,
    "start_time": "2021-07-07T16:52:35.616Z"
   },
   {
    "duration": 6,
    "start_time": "2021-07-07T16:52:36.913Z"
   },
   {
    "duration": 11,
    "start_time": "2021-07-07T16:52:40.258Z"
   },
   {
    "duration": 10,
    "start_time": "2021-07-07T16:52:46.251Z"
   },
   {
    "duration": 8,
    "start_time": "2021-07-07T16:52:47.182Z"
   },
   {
    "duration": 27,
    "start_time": "2021-07-07T16:53:20.391Z"
   },
   {
    "duration": 20,
    "start_time": "2021-07-07T16:53:22.022Z"
   },
   {
    "duration": 23,
    "start_time": "2021-07-07T16:53:23.690Z"
   },
   {
    "duration": 8,
    "start_time": "2021-07-07T16:53:24.261Z"
   },
   {
    "duration": 4,
    "start_time": "2021-07-07T16:53:38.733Z"
   },
   {
    "duration": 7,
    "start_time": "2021-07-07T16:53:40.445Z"
   },
   {
    "duration": 11,
    "start_time": "2021-07-07T16:53:41.348Z"
   },
   {
    "duration": 13,
    "start_time": "2021-07-07T16:53:45.250Z"
   },
   {
    "duration": 12,
    "start_time": "2021-07-07T16:53:45.467Z"
   },
   {
    "duration": 4,
    "start_time": "2021-07-07T16:55:32.704Z"
   },
   {
    "duration": 12,
    "start_time": "2021-07-07T16:55:49.012Z"
   },
   {
    "duration": 18,
    "start_time": "2021-07-07T16:55:49.547Z"
   },
   {
    "duration": 611,
    "start_time": "2021-07-07T16:58:35.156Z"
   },
   {
    "duration": 200,
    "start_time": "2021-07-07T16:58:35.770Z"
   },
   {
    "duration": 86,
    "start_time": "2021-07-07T16:58:35.972Z"
   },
   {
    "duration": 3,
    "start_time": "2021-07-07T16:58:36.060Z"
   },
   {
    "duration": 27,
    "start_time": "2021-07-07T16:58:36.065Z"
   },
   {
    "duration": 8,
    "start_time": "2021-07-07T16:58:36.094Z"
   },
   {
    "duration": 17,
    "start_time": "2021-07-07T16:58:36.103Z"
   },
   {
    "duration": 5,
    "start_time": "2021-07-07T16:58:36.123Z"
   },
   {
    "duration": 11,
    "start_time": "2021-07-07T16:58:36.130Z"
   },
   {
    "duration": 7,
    "start_time": "2021-07-07T16:58:36.143Z"
   },
   {
    "duration": 37,
    "start_time": "2021-07-07T16:58:36.152Z"
   },
   {
    "duration": 27,
    "start_time": "2021-07-07T16:58:36.191Z"
   },
   {
    "duration": 19,
    "start_time": "2021-07-07T16:58:36.219Z"
   },
   {
    "duration": 49,
    "start_time": "2021-07-07T16:58:36.240Z"
   },
   {
    "duration": 6,
    "start_time": "2021-07-07T16:58:36.291Z"
   },
   {
    "duration": 3,
    "start_time": "2021-07-07T16:58:36.299Z"
   },
   {
    "duration": 13,
    "start_time": "2021-07-07T16:58:36.304Z"
   },
   {
    "duration": 10,
    "start_time": "2021-07-07T16:58:36.319Z"
   },
   {
    "duration": 10,
    "start_time": "2021-07-07T16:58:36.331Z"
   },
   {
    "duration": 44,
    "start_time": "2021-07-07T16:58:36.343Z"
   },
   {
    "duration": 4,
    "start_time": "2021-07-07T16:58:36.388Z"
   },
   {
    "duration": 13,
    "start_time": "2021-07-07T16:58:36.394Z"
   },
   {
    "duration": 16,
    "start_time": "2021-07-07T16:58:36.410Z"
   },
   {
    "duration": 8,
    "start_time": "2021-07-07T17:02:31.629Z"
   },
   {
    "duration": 8,
    "start_time": "2021-07-07T17:02:34.308Z"
   },
   {
    "duration": 6,
    "start_time": "2021-07-07T17:05:13.483Z"
   },
   {
    "duration": 17,
    "start_time": "2021-07-07T17:05:20.606Z"
   },
   {
    "duration": 7,
    "start_time": "2021-07-07T17:05:34.638Z"
   },
   {
    "duration": 3,
    "start_time": "2021-07-07T17:06:31.883Z"
   },
   {
    "duration": 570,
    "start_time": "2021-07-07T17:06:37.165Z"
   },
   {
    "duration": 174,
    "start_time": "2021-07-07T17:06:37.737Z"
   },
   {
    "duration": 47,
    "start_time": "2021-07-07T17:06:37.913Z"
   },
   {
    "duration": 3,
    "start_time": "2021-07-07T17:06:37.962Z"
   },
   {
    "duration": 27,
    "start_time": "2021-07-07T17:06:37.967Z"
   },
   {
    "duration": 7,
    "start_time": "2021-07-07T17:06:37.996Z"
   },
   {
    "duration": 16,
    "start_time": "2021-07-07T17:06:38.005Z"
   },
   {
    "duration": 6,
    "start_time": "2021-07-07T17:06:38.024Z"
   },
   {
    "duration": 12,
    "start_time": "2021-07-07T17:06:38.031Z"
   },
   {
    "duration": 41,
    "start_time": "2021-07-07T17:06:38.045Z"
   },
   {
    "duration": 8,
    "start_time": "2021-07-07T17:06:38.088Z"
   },
   {
    "duration": 26,
    "start_time": "2021-07-07T17:06:38.098Z"
   },
   {
    "duration": 17,
    "start_time": "2021-07-07T17:06:38.126Z"
   },
   {
    "duration": 43,
    "start_time": "2021-07-07T17:06:38.144Z"
   },
   {
    "duration": 6,
    "start_time": "2021-07-07T17:06:38.188Z"
   },
   {
    "duration": 5,
    "start_time": "2021-07-07T17:06:38.195Z"
   },
   {
    "duration": 9,
    "start_time": "2021-07-07T17:06:38.201Z"
   },
   {
    "duration": 12,
    "start_time": "2021-07-07T17:06:38.212Z"
   },
   {
    "duration": 11,
    "start_time": "2021-07-07T17:06:38.226Z"
   },
   {
    "duration": 47,
    "start_time": "2021-07-07T17:06:38.239Z"
   },
   {
    "duration": 4,
    "start_time": "2021-07-07T17:06:38.288Z"
   },
   {
    "duration": 13,
    "start_time": "2021-07-07T17:06:38.293Z"
   },
   {
    "duration": 5,
    "start_time": "2021-07-07T17:06:38.309Z"
   },
   {
    "duration": 18,
    "start_time": "2021-07-07T17:06:38.325Z"
   },
   {
    "duration": 20,
    "start_time": "2021-07-07T17:07:02.805Z"
   },
   {
    "duration": 19,
    "start_time": "2021-07-07T17:07:08.527Z"
   },
   {
    "duration": 19,
    "start_time": "2021-07-07T17:07:12.758Z"
   },
   {
    "duration": 22,
    "start_time": "2021-07-07T17:07:17.497Z"
   },
   {
    "duration": 19,
    "start_time": "2021-07-07T17:07:19.645Z"
   },
   {
    "duration": 10,
    "start_time": "2021-07-07T17:07:34.239Z"
   },
   {
    "duration": 17,
    "start_time": "2021-07-07T17:07:54.144Z"
   },
   {
    "duration": 14,
    "start_time": "2021-07-07T17:08:14.357Z"
   },
   {
    "duration": 616,
    "start_time": "2021-07-07T17:08:45.254Z"
   },
   {
    "duration": 178,
    "start_time": "2021-07-07T17:08:45.872Z"
   },
   {
    "duration": 60,
    "start_time": "2021-07-07T17:08:46.054Z"
   },
   {
    "duration": 3,
    "start_time": "2021-07-07T17:08:46.116Z"
   },
   {
    "duration": 26,
    "start_time": "2021-07-07T17:08:46.121Z"
   },
   {
    "duration": 7,
    "start_time": "2021-07-07T17:08:46.149Z"
   },
   {
    "duration": 17,
    "start_time": "2021-07-07T17:08:46.158Z"
   },
   {
    "duration": 14,
    "start_time": "2021-07-07T17:08:46.176Z"
   },
   {
    "duration": 17,
    "start_time": "2021-07-07T17:08:46.193Z"
   },
   {
    "duration": 9,
    "start_time": "2021-07-07T17:08:46.211Z"
   },
   {
    "duration": 21,
    "start_time": "2021-07-07T17:08:46.221Z"
   },
   {
    "duration": 49,
    "start_time": "2021-07-07T17:08:46.244Z"
   },
   {
    "duration": 24,
    "start_time": "2021-07-07T17:08:46.295Z"
   },
   {
    "duration": 22,
    "start_time": "2021-07-07T17:08:46.321Z"
   },
   {
    "duration": 6,
    "start_time": "2021-07-07T17:08:46.345Z"
   },
   {
    "duration": 5,
    "start_time": "2021-07-07T17:08:46.353Z"
   },
   {
    "duration": 13,
    "start_time": "2021-07-07T17:08:46.386Z"
   },
   {
    "duration": 12,
    "start_time": "2021-07-07T17:08:46.402Z"
   },
   {
    "duration": 10,
    "start_time": "2021-07-07T17:08:46.415Z"
   },
   {
    "duration": 7,
    "start_time": "2021-07-07T17:08:46.427Z"
   },
   {
    "duration": 8,
    "start_time": "2021-07-07T17:08:46.435Z"
   },
   {
    "duration": 68,
    "start_time": "2021-07-07T17:08:46.446Z"
   },
   {
    "duration": 13,
    "start_time": "2021-07-07T17:08:46.516Z"
   },
   {
    "duration": 78,
    "start_time": "2021-07-07T17:08:46.530Z"
   },
   {
    "duration": 40,
    "start_time": "2021-07-07T17:09:08.185Z"
   },
   {
    "duration": 16,
    "start_time": "2021-07-07T17:09:19.324Z"
   },
   {
    "duration": 21,
    "start_time": "2021-07-07T17:09:23.290Z"
   },
   {
    "duration": 13,
    "start_time": "2021-07-07T17:09:54.812Z"
   },
   {
    "duration": 13,
    "start_time": "2021-07-07T17:10:02.039Z"
   },
   {
    "duration": 10,
    "start_time": "2021-07-07T17:10:29.632Z"
   },
   {
    "duration": 13,
    "start_time": "2021-07-07T17:10:52.372Z"
   },
   {
    "duration": 13,
    "start_time": "2021-07-07T17:11:17.270Z"
   },
   {
    "duration": 13,
    "start_time": "2021-07-07T17:14:59.284Z"
   },
   {
    "duration": 547,
    "start_time": "2021-07-07T17:18:52.403Z"
   },
   {
    "duration": 163,
    "start_time": "2021-07-07T17:18:52.952Z"
   },
   {
    "duration": 44,
    "start_time": "2021-07-07T17:18:53.117Z"
   },
   {
    "duration": 3,
    "start_time": "2021-07-07T17:18:53.162Z"
   },
   {
    "duration": 26,
    "start_time": "2021-07-07T17:18:53.167Z"
   },
   {
    "duration": 6,
    "start_time": "2021-07-07T17:18:53.195Z"
   },
   {
    "duration": 15,
    "start_time": "2021-07-07T17:18:53.203Z"
   },
   {
    "duration": 5,
    "start_time": "2021-07-07T17:18:53.220Z"
   },
   {
    "duration": 11,
    "start_time": "2021-07-07T17:18:53.228Z"
   },
   {
    "duration": 9,
    "start_time": "2021-07-07T17:18:53.241Z"
   },
   {
    "duration": 41,
    "start_time": "2021-07-07T17:18:53.252Z"
   },
   {
    "duration": 33,
    "start_time": "2021-07-07T17:18:53.295Z"
   },
   {
    "duration": 19,
    "start_time": "2021-07-07T17:18:53.330Z"
   },
   {
    "duration": 49,
    "start_time": "2021-07-07T17:18:53.350Z"
   },
   {
    "duration": 5,
    "start_time": "2021-07-07T17:18:53.401Z"
   },
   {
    "duration": 5,
    "start_time": "2021-07-07T17:18:53.408Z"
   },
   {
    "duration": 11,
    "start_time": "2021-07-07T17:18:53.414Z"
   },
   {
    "duration": 9,
    "start_time": "2021-07-07T17:18:53.427Z"
   },
   {
    "duration": 10,
    "start_time": "2021-07-07T17:18:53.437Z"
   },
   {
    "duration": 39,
    "start_time": "2021-07-07T17:18:53.448Z"
   },
   {
    "duration": 26,
    "start_time": "2021-07-07T17:18:55.799Z"
   },
   {
    "duration": 598,
    "start_time": "2021-07-07T17:20:17.862Z"
   },
   {
    "duration": 161,
    "start_time": "2021-07-07T17:20:18.462Z"
   },
   {
    "duration": 45,
    "start_time": "2021-07-07T17:20:18.626Z"
   },
   {
    "duration": 4,
    "start_time": "2021-07-07T17:20:18.673Z"
   },
   {
    "duration": 38,
    "start_time": "2021-07-07T17:20:26.877Z"
   },
   {
    "duration": 7,
    "start_time": "2021-07-07T17:20:37.405Z"
   },
   {
    "duration": 19,
    "start_time": "2021-07-07T17:20:51.534Z"
   },
   {
    "duration": 5,
    "start_time": "2021-07-07T17:20:57.228Z"
   },
   {
    "duration": 7,
    "start_time": "2021-07-07T17:21:08.235Z"
   },
   {
    "duration": 19,
    "start_time": "2021-07-07T17:21:42.158Z"
   },
   {
    "duration": 14,
    "start_time": "2021-07-07T17:21:50.225Z"
   },
   {
    "duration": 22,
    "start_time": "2021-07-07T17:22:54.104Z"
   },
   {
    "duration": 5,
    "start_time": "2021-07-07T17:22:56.371Z"
   },
   {
    "duration": 14,
    "start_time": "2021-07-07T17:22:58.316Z"
   },
   {
    "duration": 5,
    "start_time": "2021-07-07T17:22:58.493Z"
   },
   {
    "duration": 35,
    "start_time": "2021-07-07T17:22:59.666Z"
   },
   {
    "duration": 6,
    "start_time": "2021-07-07T17:23:02.410Z"
   },
   {
    "duration": 611,
    "start_time": "2021-07-07T17:24:59.664Z"
   },
   {
    "duration": 178,
    "start_time": "2021-07-07T17:25:01.945Z"
   },
   {
    "duration": 47,
    "start_time": "2021-07-07T17:25:02.125Z"
   },
   {
    "duration": 2,
    "start_time": "2021-07-07T17:25:07.903Z"
   },
   {
    "duration": 254,
    "start_time": "2021-07-07T17:25:08.232Z"
   },
   {
    "duration": 182,
    "start_time": "2021-07-07T17:25:08.671Z"
   },
   {
    "duration": 6,
    "start_time": "2021-07-07T17:25:13.104Z"
   },
   {
    "duration": 36,
    "start_time": "2021-07-07T17:25:13.662Z"
   },
   {
    "duration": 7,
    "start_time": "2021-07-07T17:25:14.528Z"
   },
   {
    "duration": 24,
    "start_time": "2021-07-07T17:25:27.982Z"
   },
   {
    "duration": 3,
    "start_time": "2021-07-07T17:25:48.982Z"
   },
   {
    "duration": 165,
    "start_time": "2021-07-07T17:25:48.987Z"
   },
   {
    "duration": 50,
    "start_time": "2021-07-07T17:25:49.154Z"
   },
   {
    "duration": 4,
    "start_time": "2021-07-07T17:25:49.206Z"
   },
   {
    "duration": 26,
    "start_time": "2021-07-07T17:25:49.212Z"
   },
   {
    "duration": 7,
    "start_time": "2021-07-07T17:25:49.240Z"
   },
   {
    "duration": 16,
    "start_time": "2021-07-07T17:25:49.249Z"
   },
   {
    "duration": 22,
    "start_time": "2021-07-07T17:25:49.266Z"
   },
   {
    "duration": 16,
    "start_time": "2021-07-07T17:25:49.291Z"
   },
   {
    "duration": 9,
    "start_time": "2021-07-07T17:25:49.309Z"
   },
   {
    "duration": 7,
    "start_time": "2021-07-07T17:25:49.319Z"
   },
   {
    "duration": 28,
    "start_time": "2021-07-07T17:25:49.328Z"
   },
   {
    "duration": 44,
    "start_time": "2021-07-07T17:25:49.357Z"
   },
   {
    "duration": 22,
    "start_time": "2021-07-07T17:25:49.403Z"
   },
   {
    "duration": 7,
    "start_time": "2021-07-07T17:25:49.427Z"
   },
   {
    "duration": 3,
    "start_time": "2021-07-07T17:25:49.436Z"
   },
   {
    "duration": 44,
    "start_time": "2021-07-07T17:25:49.441Z"
   },
   {
    "duration": 12,
    "start_time": "2021-07-07T17:25:49.488Z"
   },
   {
    "duration": 13,
    "start_time": "2021-07-07T17:25:49.502Z"
   },
   {
    "duration": 10,
    "start_time": "2021-07-07T17:25:49.516Z"
   },
   {
    "duration": 62,
    "start_time": "2021-07-07T17:25:49.527Z"
   },
   {
    "duration": 26,
    "start_time": "2021-07-07T17:26:51.809Z"
   },
   {
    "duration": 26,
    "start_time": "2021-07-07T17:26:55.759Z"
   },
   {
    "duration": 26,
    "start_time": "2021-07-07T17:27:04.501Z"
   },
   {
    "duration": 25,
    "start_time": "2021-07-07T17:28:24.859Z"
   },
   {
    "duration": 21,
    "start_time": "2021-07-07T17:28:55.250Z"
   },
   {
    "duration": 21,
    "start_time": "2021-07-07T17:28:58.885Z"
   },
   {
    "duration": 7,
    "start_time": "2021-07-07T17:45:40.972Z"
   },
   {
    "duration": 13,
    "start_time": "2021-07-07T17:45:42.529Z"
   },
   {
    "duration": 27,
    "start_time": "2021-07-07T17:45:51.026Z"
   },
   {
    "duration": 518,
    "start_time": "2021-07-07T17:46:15.532Z"
   },
   {
    "duration": 235,
    "start_time": "2021-07-07T17:46:16.053Z"
   },
   {
    "duration": 80,
    "start_time": "2021-07-07T17:46:16.292Z"
   },
   {
    "duration": 5,
    "start_time": "2021-07-07T17:46:16.373Z"
   },
   {
    "duration": 26,
    "start_time": "2021-07-07T17:46:16.380Z"
   },
   {
    "duration": 7,
    "start_time": "2021-07-07T17:46:16.408Z"
   },
   {
    "duration": 16,
    "start_time": "2021-07-07T17:46:16.418Z"
   },
   {
    "duration": 5,
    "start_time": "2021-07-07T17:46:16.436Z"
   },
   {
    "duration": 13,
    "start_time": "2021-07-07T17:46:16.442Z"
   },
   {
    "duration": 35,
    "start_time": "2021-07-07T17:46:16.456Z"
   },
   {
    "duration": 8,
    "start_time": "2021-07-07T17:46:16.493Z"
   },
   {
    "duration": 28,
    "start_time": "2021-07-07T17:46:16.502Z"
   },
   {
    "duration": 17,
    "start_time": "2021-07-07T17:46:16.532Z"
   },
   {
    "duration": 44,
    "start_time": "2021-07-07T17:46:16.551Z"
   },
   {
    "duration": 6,
    "start_time": "2021-07-07T17:46:16.597Z"
   },
   {
    "duration": 4,
    "start_time": "2021-07-07T17:46:16.605Z"
   },
   {
    "duration": 9,
    "start_time": "2021-07-07T17:46:16.610Z"
   },
   {
    "duration": 9,
    "start_time": "2021-07-07T17:46:16.621Z"
   },
   {
    "duration": 10,
    "start_time": "2021-07-07T17:46:16.632Z"
   },
   {
    "duration": 43,
    "start_time": "2021-07-07T17:46:16.644Z"
   },
   {
    "duration": 26,
    "start_time": "2021-07-07T17:46:16.689Z"
   },
   {
    "duration": 19,
    "start_time": "2021-07-07T17:46:16.718Z"
   },
   {
    "duration": 8,
    "start_time": "2021-07-07T17:46:16.738Z"
   },
   {
    "duration": 43,
    "start_time": "2021-07-07T17:46:16.747Z"
   },
   {
    "duration": 19,
    "start_time": "2021-07-07T17:46:16.791Z"
   },
   {
    "duration": 9,
    "start_time": "2021-07-07T17:46:16.812Z"
   },
   {
    "duration": 60,
    "start_time": "2021-07-07T17:46:16.822Z"
   },
   {
    "duration": -8,
    "start_time": "2021-07-07T17:46:16.892Z"
   },
   {
    "duration": 12,
    "start_time": "2021-07-07T17:48:47.707Z"
   },
   {
    "duration": 553,
    "start_time": "2021-07-07T18:10:09.350Z"
   },
   {
    "duration": 230,
    "start_time": "2021-07-07T18:10:09.905Z"
   },
   {
    "duration": 97,
    "start_time": "2021-07-07T18:10:10.137Z"
   },
   {
    "duration": 5,
    "start_time": "2021-07-07T18:10:10.236Z"
   },
   {
    "duration": 29,
    "start_time": "2021-07-07T18:10:10.242Z"
   },
   {
    "duration": 7,
    "start_time": "2021-07-07T18:10:10.272Z"
   },
   {
    "duration": 15,
    "start_time": "2021-07-07T18:10:10.281Z"
   },
   {
    "duration": 4,
    "start_time": "2021-07-07T18:10:10.299Z"
   },
   {
    "duration": 14,
    "start_time": "2021-07-07T18:10:10.305Z"
   },
   {
    "duration": 8,
    "start_time": "2021-07-07T18:10:10.321Z"
   },
   {
    "duration": 8,
    "start_time": "2021-07-07T18:10:10.331Z"
   },
   {
    "duration": 56,
    "start_time": "2021-07-07T18:10:10.341Z"
   },
   {
    "duration": 19,
    "start_time": "2021-07-07T18:10:10.399Z"
   },
   {
    "duration": 23,
    "start_time": "2021-07-07T18:10:10.419Z"
   },
   {
    "duration": 6,
    "start_time": "2021-07-07T18:10:10.444Z"
   },
   {
    "duration": 9,
    "start_time": "2021-07-07T18:10:10.451Z"
   },
   {
    "duration": 30,
    "start_time": "2021-07-07T18:10:10.462Z"
   },
   {
    "duration": 9,
    "start_time": "2021-07-07T18:10:10.494Z"
   },
   {
    "duration": 14,
    "start_time": "2021-07-07T18:10:10.505Z"
   },
   {
    "duration": 7,
    "start_time": "2021-07-07T18:10:10.521Z"
   },
   {
    "duration": 26,
    "start_time": "2021-07-07T18:10:10.530Z"
   },
   {
    "duration": 44,
    "start_time": "2021-07-07T18:10:10.558Z"
   },
   {
    "duration": 7,
    "start_time": "2021-07-07T18:10:10.605Z"
   },
   {
    "duration": 11,
    "start_time": "2021-07-07T18:10:10.614Z"
   },
   {
    "duration": 19,
    "start_time": "2021-07-07T18:10:10.626Z"
   },
   {
    "duration": 44,
    "start_time": "2021-07-07T18:10:10.646Z"
   },
   {
    "duration": 516,
    "start_time": "2021-07-07T18:14:00.826Z"
   },
   {
    "duration": 230,
    "start_time": "2021-07-07T18:14:01.344Z"
   },
   {
    "duration": 105,
    "start_time": "2021-07-07T18:14:01.576Z"
   },
   {
    "duration": 5,
    "start_time": "2021-07-07T18:14:01.683Z"
   },
   {
    "duration": 46,
    "start_time": "2021-07-07T18:14:01.690Z"
   },
   {
    "duration": 7,
    "start_time": "2021-07-07T18:14:01.738Z"
   },
   {
    "duration": 20,
    "start_time": "2021-07-07T18:14:01.747Z"
   },
   {
    "duration": 16,
    "start_time": "2021-07-07T18:14:01.769Z"
   },
   {
    "duration": 14,
    "start_time": "2021-07-07T18:14:01.787Z"
   },
   {
    "duration": 15,
    "start_time": "2021-07-07T18:14:01.803Z"
   },
   {
    "duration": 12,
    "start_time": "2021-07-07T18:14:01.820Z"
   },
   {
    "duration": 35,
    "start_time": "2021-07-07T18:14:01.833Z"
   },
   {
    "duration": 31,
    "start_time": "2021-07-07T18:14:01.869Z"
   },
   {
    "duration": 37,
    "start_time": "2021-07-07T18:14:01.902Z"
   },
   {
    "duration": 8,
    "start_time": "2021-07-07T18:14:01.942Z"
   },
   {
    "duration": 16,
    "start_time": "2021-07-07T18:14:01.952Z"
   },
   {
    "duration": 13,
    "start_time": "2021-07-07T18:14:01.970Z"
   },
   {
    "duration": 32,
    "start_time": "2021-07-07T18:14:01.985Z"
   },
   {
    "duration": 11,
    "start_time": "2021-07-07T18:14:02.019Z"
   },
   {
    "duration": 22,
    "start_time": "2021-07-07T18:14:02.031Z"
   },
   {
    "duration": 27,
    "start_time": "2021-07-07T18:14:02.055Z"
   },
   {
    "duration": 18,
    "start_time": "2021-07-07T18:14:02.084Z"
   },
   {
    "duration": 18,
    "start_time": "2021-07-07T18:14:02.106Z"
   },
   {
    "duration": 11,
    "start_time": "2021-07-07T18:14:02.126Z"
   },
   {
    "duration": 21,
    "start_time": "2021-07-07T18:14:02.138Z"
   },
   {
    "duration": 32,
    "start_time": "2021-07-07T18:14:02.161Z"
   },
   {
    "duration": 28,
    "start_time": "2021-07-07T18:14:44.295Z"
   },
   {
    "duration": 6,
    "start_time": "2021-07-07T18:15:05.834Z"
   },
   {
    "duration": 511,
    "start_time": "2021-07-07T18:15:41.541Z"
   },
   {
    "duration": 183,
    "start_time": "2021-07-07T18:15:42.054Z"
   },
   {
    "duration": 50,
    "start_time": "2021-07-07T18:15:42.239Z"
   },
   {
    "duration": 5,
    "start_time": "2021-07-07T18:15:42.291Z"
   },
   {
    "duration": 48,
    "start_time": "2021-07-07T18:15:42.297Z"
   },
   {
    "duration": 8,
    "start_time": "2021-07-07T18:15:42.346Z"
   },
   {
    "duration": 17,
    "start_time": "2021-07-07T18:15:42.356Z"
   },
   {
    "duration": 15,
    "start_time": "2021-07-07T18:15:42.375Z"
   },
   {
    "duration": 12,
    "start_time": "2021-07-07T18:15:42.392Z"
   },
   {
    "duration": 7,
    "start_time": "2021-07-07T18:15:42.406Z"
   },
   {
    "duration": 7,
    "start_time": "2021-07-07T18:15:42.415Z"
   },
   {
    "duration": 29,
    "start_time": "2021-07-07T18:15:42.423Z"
   },
   {
    "duration": 43,
    "start_time": "2021-07-07T18:15:42.453Z"
   },
   {
    "duration": 18,
    "start_time": "2021-07-07T18:15:42.497Z"
   },
   {
    "duration": 6,
    "start_time": "2021-07-07T18:15:42.516Z"
   },
   {
    "duration": 3,
    "start_time": "2021-07-07T18:15:42.523Z"
   },
   {
    "duration": 18,
    "start_time": "2021-07-07T18:15:42.528Z"
   },
   {
    "duration": 10,
    "start_time": "2021-07-07T18:15:42.547Z"
   },
   {
    "duration": 36,
    "start_time": "2021-07-07T18:15:42.559Z"
   },
   {
    "duration": 8,
    "start_time": "2021-07-07T18:15:42.597Z"
   },
   {
    "duration": 28,
    "start_time": "2021-07-07T18:15:42.606Z"
   },
   {
    "duration": 52,
    "start_time": "2021-07-07T18:15:42.635Z"
   },
   {
    "duration": 7,
    "start_time": "2021-07-07T18:15:42.690Z"
   },
   {
    "duration": 10,
    "start_time": "2021-07-07T18:15:42.699Z"
   },
   {
    "duration": 19,
    "start_time": "2021-07-07T18:15:42.711Z"
   },
   {
    "duration": 9,
    "start_time": "2021-07-07T18:15:42.732Z"
   },
   {
    "duration": 5,
    "start_time": "2021-07-07T18:15:42.743Z"
   },
   {
    "duration": 1450,
    "start_time": "2021-07-07T18:15:51.984Z"
   },
   {
    "duration": 161,
    "start_time": "2021-07-07T18:15:53.435Z"
   },
   {
    "duration": 124,
    "start_time": "2021-07-07T18:15:53.598Z"
   },
   {
    "duration": 5,
    "start_time": "2021-07-07T18:15:53.724Z"
   },
   {
    "duration": 34,
    "start_time": "2021-07-07T18:15:53.730Z"
   },
   {
    "duration": 7,
    "start_time": "2021-07-07T18:15:53.765Z"
   },
   {
    "duration": 15,
    "start_time": "2021-07-07T18:15:53.773Z"
   },
   {
    "duration": 5,
    "start_time": "2021-07-07T18:15:53.791Z"
   },
   {
    "duration": 19,
    "start_time": "2021-07-07T18:15:53.798Z"
   },
   {
    "duration": 9,
    "start_time": "2021-07-07T18:15:53.818Z"
   },
   {
    "duration": 19,
    "start_time": "2021-07-07T18:15:53.828Z"
   },
   {
    "duration": 27,
    "start_time": "2021-07-07T18:15:53.848Z"
   },
   {
    "duration": 16,
    "start_time": "2021-07-07T18:15:53.884Z"
   },
   {
    "duration": 29,
    "start_time": "2021-07-07T18:15:53.901Z"
   },
   {
    "duration": 5,
    "start_time": "2021-07-07T18:15:53.932Z"
   },
   {
    "duration": 15,
    "start_time": "2021-07-07T18:15:53.939Z"
   },
   {
    "duration": 13,
    "start_time": "2021-07-07T18:15:53.956Z"
   },
   {
    "duration": 20,
    "start_time": "2021-07-07T18:15:53.971Z"
   },
   {
    "duration": 14,
    "start_time": "2021-07-07T18:15:53.992Z"
   },
   {
    "duration": 9,
    "start_time": "2021-07-07T18:15:54.009Z"
   },
   {
    "duration": 28,
    "start_time": "2021-07-07T18:15:54.020Z"
   },
   {
    "duration": 50,
    "start_time": "2021-07-07T18:15:54.051Z"
   },
   {
    "duration": 8,
    "start_time": "2021-07-07T18:15:54.105Z"
   },
   {
    "duration": 11,
    "start_time": "2021-07-07T18:15:54.115Z"
   },
   {
    "duration": 20,
    "start_time": "2021-07-07T18:15:54.128Z"
   },
   {
    "duration": 13,
    "start_time": "2021-07-07T18:15:54.184Z"
   },
   {
    "duration": 7,
    "start_time": "2021-07-07T18:15:54.199Z"
   },
   {
    "duration": 7,
    "start_time": "2021-07-07T18:17:08.042Z"
   },
   {
    "duration": 8,
    "start_time": "2021-07-07T18:17:21.008Z"
   },
   {
    "duration": 7,
    "start_time": "2021-07-07T18:17:29.003Z"
   },
   {
    "duration": 8,
    "start_time": "2021-07-07T18:17:32.492Z"
   },
   {
    "duration": 9,
    "start_time": "2021-07-07T18:17:41.758Z"
   },
   {
    "duration": 255,
    "start_time": "2021-07-07T18:20:20.897Z"
   },
   {
    "duration": 173,
    "start_time": "2021-07-07T18:20:26.636Z"
   },
   {
    "duration": 7,
    "start_time": "2021-07-07T18:21:47.164Z"
   },
   {
    "duration": 254,
    "start_time": "2021-07-07T18:23:08.703Z"
   },
   {
    "duration": 21,
    "start_time": "2021-07-07T18:23:22.506Z"
   },
   {
    "duration": 315,
    "start_time": "2021-07-07T18:25:54.801Z"
   },
   {
    "duration": 34,
    "start_time": "2021-07-07T18:26:51.817Z"
   },
   {
    "duration": 327,
    "start_time": "2021-07-07T18:26:56.147Z"
   },
   {
    "duration": 342,
    "start_time": "2021-07-07T18:27:15.887Z"
   },
   {
    "duration": 302,
    "start_time": "2021-07-07T18:28:18.569Z"
   },
   {
    "duration": 226,
    "start_time": "2021-07-07T18:29:20.879Z"
   },
   {
    "duration": 207,
    "start_time": "2021-07-07T18:29:58.114Z"
   },
   {
    "duration": 140,
    "start_time": "2021-07-07T18:32:04.372Z"
   },
   {
    "duration": 158,
    "start_time": "2021-07-07T18:32:32.508Z"
   },
   {
    "duration": 145,
    "start_time": "2021-07-07T18:32:41.365Z"
   },
   {
    "duration": 132,
    "start_time": "2021-07-07T18:32:45.199Z"
   },
   {
    "duration": 11,
    "start_time": "2021-07-07T18:35:24.679Z"
   },
   {
    "duration": 268,
    "start_time": "2021-07-07T18:36:16.145Z"
   },
   {
    "duration": 227,
    "start_time": "2021-07-07T18:37:04.918Z"
   },
   {
    "duration": 3,
    "start_time": "2021-07-07T18:37:33.012Z"
   },
   {
    "duration": 671,
    "start_time": "2021-07-07T18:37:38.295Z"
   },
   {
    "duration": 54,
    "start_time": "2021-07-07T18:37:53.406Z"
   },
   {
    "duration": 631,
    "start_time": "2021-07-07T18:37:56.463Z"
   },
   {
    "duration": 19,
    "start_time": "2021-07-07T18:39:40.535Z"
   },
   {
    "duration": 20,
    "start_time": "2021-07-07T18:40:12.236Z"
   },
   {
    "duration": 633,
    "start_time": "2021-07-07T18:42:00.398Z"
   },
   {
    "duration": 218,
    "start_time": "2021-07-07T18:42:01.033Z"
   },
   {
    "duration": 49,
    "start_time": "2021-07-07T18:42:01.253Z"
   },
   {
    "duration": 5,
    "start_time": "2021-07-07T18:42:01.303Z"
   },
   {
    "duration": 27,
    "start_time": "2021-07-07T18:42:01.310Z"
   },
   {
    "duration": 8,
    "start_time": "2021-07-07T18:42:01.339Z"
   },
   {
    "duration": 20,
    "start_time": "2021-07-07T18:42:01.348Z"
   },
   {
    "duration": 6,
    "start_time": "2021-07-07T18:42:01.386Z"
   },
   {
    "duration": 16,
    "start_time": "2021-07-07T18:42:01.394Z"
   },
   {
    "duration": 9,
    "start_time": "2021-07-07T18:42:01.411Z"
   },
   {
    "duration": 11,
    "start_time": "2021-07-07T18:42:01.421Z"
   },
   {
    "duration": 31,
    "start_time": "2021-07-07T18:42:01.434Z"
   },
   {
    "duration": 18,
    "start_time": "2021-07-07T18:42:01.485Z"
   },
   {
    "duration": 23,
    "start_time": "2021-07-07T18:42:01.505Z"
   },
   {
    "duration": 6,
    "start_time": "2021-07-07T18:42:01.530Z"
   },
   {
    "duration": 10,
    "start_time": "2021-07-07T18:42:01.538Z"
   },
   {
    "duration": 13,
    "start_time": "2021-07-07T18:42:01.550Z"
   },
   {
    "duration": 24,
    "start_time": "2021-07-07T18:42:01.564Z"
   },
   {
    "duration": 20,
    "start_time": "2021-07-07T18:42:01.590Z"
   },
   {
    "duration": 8,
    "start_time": "2021-07-07T18:42:01.611Z"
   },
   {
    "duration": 31,
    "start_time": "2021-07-07T18:42:01.620Z"
   },
   {
    "duration": 39,
    "start_time": "2021-07-07T18:42:01.653Z"
   },
   {
    "duration": 8,
    "start_time": "2021-07-07T18:42:01.696Z"
   },
   {
    "duration": 13,
    "start_time": "2021-07-07T18:42:01.705Z"
   },
   {
    "duration": 20,
    "start_time": "2021-07-07T18:42:01.720Z"
   },
   {
    "duration": 12,
    "start_time": "2021-07-07T18:42:01.741Z"
   },
   {
    "duration": 35,
    "start_time": "2021-07-07T18:42:01.755Z"
   },
   {
    "duration": 14,
    "start_time": "2021-07-07T18:42:01.792Z"
   },
   {
    "duration": 188,
    "start_time": "2021-07-07T18:42:01.808Z"
   },
   {
    "duration": 19,
    "start_time": "2021-07-07T18:42:01.998Z"
   },
   {
    "duration": 175,
    "start_time": "2021-07-07T18:42:02.019Z"
   },
   {
    "duration": 134,
    "start_time": "2021-07-07T18:42:02.196Z"
   },
   {
    "duration": 10,
    "start_time": "2021-07-07T18:42:02.331Z"
   },
   {
    "duration": 19,
    "start_time": "2021-07-07T18:42:02.343Z"
   },
   {
    "duration": 628,
    "start_time": "2021-07-07T18:46:30.701Z"
   },
   {
    "duration": 183,
    "start_time": "2021-07-07T18:46:31.331Z"
   },
   {
    "duration": 48,
    "start_time": "2021-07-07T18:46:31.516Z"
   },
   {
    "duration": 5,
    "start_time": "2021-07-07T18:46:31.566Z"
   },
   {
    "duration": 28,
    "start_time": "2021-07-07T18:46:31.572Z"
   },
   {
    "duration": 8,
    "start_time": "2021-07-07T18:46:31.602Z"
   },
   {
    "duration": 19,
    "start_time": "2021-07-07T18:46:31.611Z"
   },
   {
    "duration": 6,
    "start_time": "2021-07-07T18:46:31.633Z"
   },
   {
    "duration": 17,
    "start_time": "2021-07-07T18:46:31.642Z"
   },
   {
    "duration": 10,
    "start_time": "2021-07-07T18:46:31.684Z"
   },
   {
    "duration": 9,
    "start_time": "2021-07-07T18:46:31.695Z"
   },
   {
    "duration": 28,
    "start_time": "2021-07-07T18:46:31.705Z"
   },
   {
    "duration": 18,
    "start_time": "2021-07-07T18:46:31.735Z"
   },
   {
    "duration": 48,
    "start_time": "2021-07-07T18:46:31.755Z"
   },
   {
    "duration": 6,
    "start_time": "2021-07-07T18:46:31.804Z"
   },
   {
    "duration": 4,
    "start_time": "2021-07-07T18:46:31.812Z"
   },
   {
    "duration": 9,
    "start_time": "2021-07-07T18:46:31.817Z"
   },
   {
    "duration": 10,
    "start_time": "2021-07-07T18:46:31.827Z"
   },
   {
    "duration": 12,
    "start_time": "2021-07-07T18:46:31.838Z"
   },
   {
    "duration": 39,
    "start_time": "2021-07-07T18:46:31.851Z"
   },
   {
    "duration": 24,
    "start_time": "2021-07-07T18:46:31.892Z"
   },
   {
    "duration": 15,
    "start_time": "2021-07-07T18:46:31.918Z"
   },
   {
    "duration": 7,
    "start_time": "2021-07-07T18:46:31.936Z"
   },
   {
    "duration": 8,
    "start_time": "2021-07-07T18:46:31.944Z"
   },
   {
    "duration": 19,
    "start_time": "2021-07-07T18:46:31.984Z"
   },
   {
    "duration": 10,
    "start_time": "2021-07-07T18:46:32.004Z"
   },
   {
    "duration": 5,
    "start_time": "2021-07-07T18:46:32.016Z"
   },
   {
    "duration": 9,
    "start_time": "2021-07-07T18:46:32.023Z"
   },
   {
    "duration": 199,
    "start_time": "2021-07-07T18:46:32.033Z"
   },
   {
    "duration": 19,
    "start_time": "2021-07-07T18:46:32.234Z"
   },
   {
    "duration": 159,
    "start_time": "2021-07-07T18:46:32.255Z"
   },
   {
    "duration": 134,
    "start_time": "2021-07-07T18:46:32.416Z"
   },
   {
    "duration": 10,
    "start_time": "2021-07-07T18:46:32.552Z"
   },
   {
    "duration": 34,
    "start_time": "2021-07-07T18:46:32.563Z"
   },
   {
    "duration": 1039,
    "start_time": "2021-07-08T08:41:09.419Z"
   },
   {
    "duration": 333,
    "start_time": "2021-07-08T08:41:10.459Z"
   },
   {
    "duration": 173,
    "start_time": "2021-07-08T08:41:10.794Z"
   },
   {
    "duration": 5,
    "start_time": "2021-07-08T08:41:10.968Z"
   },
   {
    "duration": 25,
    "start_time": "2021-07-08T08:41:10.975Z"
   },
   {
    "duration": 9,
    "start_time": "2021-07-08T08:41:11.002Z"
   },
   {
    "duration": 18,
    "start_time": "2021-07-08T08:41:11.013Z"
   },
   {
    "duration": 6,
    "start_time": "2021-07-08T08:41:11.033Z"
   },
   {
    "duration": 44,
    "start_time": "2021-07-08T08:41:11.042Z"
   },
   {
    "duration": 10,
    "start_time": "2021-07-08T08:41:11.088Z"
   },
   {
    "duration": 9,
    "start_time": "2021-07-08T08:41:11.100Z"
   },
   {
    "duration": 27,
    "start_time": "2021-07-08T08:41:11.111Z"
   },
   {
    "duration": 46,
    "start_time": "2021-07-08T08:41:11.140Z"
   },
   {
    "duration": 17,
    "start_time": "2021-07-08T08:41:11.187Z"
   },
   {
    "duration": 6,
    "start_time": "2021-07-08T08:41:11.206Z"
   },
   {
    "duration": 5,
    "start_time": "2021-07-08T08:41:11.213Z"
   },
   {
    "duration": 10,
    "start_time": "2021-07-08T08:41:11.219Z"
   },
   {
    "duration": 9,
    "start_time": "2021-07-08T08:41:11.230Z"
   },
   {
    "duration": 45,
    "start_time": "2021-07-08T08:41:11.241Z"
   },
   {
    "duration": 7,
    "start_time": "2021-07-08T08:41:11.287Z"
   },
   {
    "duration": 24,
    "start_time": "2021-07-08T08:41:11.296Z"
   },
   {
    "duration": 16,
    "start_time": "2021-07-08T08:41:11.322Z"
   },
   {
    "duration": 7,
    "start_time": "2021-07-08T08:41:11.341Z"
   },
   {
    "duration": 41,
    "start_time": "2021-07-08T08:41:11.349Z"
   },
   {
    "duration": 17,
    "start_time": "2021-07-08T08:41:11.391Z"
   },
   {
    "duration": 9,
    "start_time": "2021-07-08T08:41:11.410Z"
   },
   {
    "duration": 5,
    "start_time": "2021-07-08T08:41:11.421Z"
   },
   {
    "duration": 6,
    "start_time": "2021-07-08T08:41:11.428Z"
   },
   {
    "duration": 198,
    "start_time": "2021-07-08T08:41:11.435Z"
   },
   {
    "duration": 18,
    "start_time": "2021-07-08T08:41:11.635Z"
   },
   {
    "duration": 155,
    "start_time": "2021-07-08T08:41:11.655Z"
   },
   {
    "duration": 138,
    "start_time": "2021-07-08T08:41:11.811Z"
   },
   {
    "duration": 10,
    "start_time": "2021-07-08T08:41:11.950Z"
   },
   {
    "duration": 29,
    "start_time": "2021-07-08T08:41:11.961Z"
   },
   {
    "duration": 171,
    "start_time": "2021-07-08T08:47:44.522Z"
   },
   {
    "duration": 124,
    "start_time": "2021-07-08T08:47:46.872Z"
   },
   {
    "duration": 191,
    "start_time": "2021-07-08T08:47:58.148Z"
   },
   {
    "duration": 191,
    "start_time": "2021-07-08T08:48:07.412Z"
   },
   {
    "duration": 261,
    "start_time": "2021-07-08T08:48:10.385Z"
   },
   {
    "duration": 255,
    "start_time": "2021-07-08T08:48:14.494Z"
   },
   {
    "duration": 219,
    "start_time": "2021-07-08T08:48:22.752Z"
   },
   {
    "duration": 173,
    "start_time": "2021-07-08T08:49:06.395Z"
   },
   {
    "duration": 180,
    "start_time": "2021-07-08T08:49:21.011Z"
   },
   {
    "duration": 6,
    "start_time": "2021-07-08T08:50:31.697Z"
   },
   {
    "duration": 10,
    "start_time": "2021-07-08T08:50:47.394Z"
   },
   {
    "duration": 11,
    "start_time": "2021-07-08T08:53:49.332Z"
   },
   {
    "duration": 171,
    "start_time": "2021-07-08T08:54:28.408Z"
   },
   {
    "duration": 636,
    "start_time": "2021-07-08T09:02:48.385Z"
   },
   {
    "duration": 227,
    "start_time": "2021-07-08T09:02:49.023Z"
   },
   {
    "duration": 104,
    "start_time": "2021-07-08T09:02:49.252Z"
   },
   {
    "duration": 5,
    "start_time": "2021-07-08T09:02:49.358Z"
   },
   {
    "duration": 27,
    "start_time": "2021-07-08T09:02:49.365Z"
   },
   {
    "duration": 8,
    "start_time": "2021-07-08T09:02:49.394Z"
   },
   {
    "duration": 18,
    "start_time": "2021-07-08T09:02:49.404Z"
   },
   {
    "duration": 6,
    "start_time": "2021-07-08T09:02:49.424Z"
   },
   {
    "duration": 11,
    "start_time": "2021-07-08T09:02:49.433Z"
   },
   {
    "duration": 13,
    "start_time": "2021-07-08T09:02:49.485Z"
   },
   {
    "duration": 9,
    "start_time": "2021-07-08T09:02:49.500Z"
   },
   {
    "duration": 38,
    "start_time": "2021-07-08T09:02:49.511Z"
   },
   {
    "duration": 42,
    "start_time": "2021-07-08T09:02:49.551Z"
   },
   {
    "duration": 21,
    "start_time": "2021-07-08T09:02:49.594Z"
   },
   {
    "duration": 6,
    "start_time": "2021-07-08T09:02:49.616Z"
   },
   {
    "duration": 3,
    "start_time": "2021-07-08T09:02:49.623Z"
   },
   {
    "duration": 9,
    "start_time": "2021-07-08T09:02:49.628Z"
   },
   {
    "duration": 52,
    "start_time": "2021-07-08T09:02:49.638Z"
   },
   {
    "duration": 11,
    "start_time": "2021-07-08T09:02:49.692Z"
   },
   {
    "duration": 8,
    "start_time": "2021-07-08T09:02:49.704Z"
   },
   {
    "duration": 27,
    "start_time": "2021-07-08T09:02:49.713Z"
   },
   {
    "duration": 59,
    "start_time": "2021-07-08T09:02:49.741Z"
   },
   {
    "duration": 8,
    "start_time": "2021-07-08T09:02:49.803Z"
   },
   {
    "duration": 14,
    "start_time": "2021-07-08T09:02:49.813Z"
   },
   {
    "duration": 20,
    "start_time": "2021-07-08T09:02:49.829Z"
   },
   {
    "duration": 44,
    "start_time": "2021-07-08T09:02:49.851Z"
   },
   {
    "duration": 14,
    "start_time": "2021-07-08T09:02:49.896Z"
   },
   {
    "duration": 221,
    "start_time": "2021-07-08T09:02:49.912Z"
   },
   {
    "duration": 6,
    "start_time": "2021-07-08T09:02:50.134Z"
   },
   {
    "duration": 206,
    "start_time": "2021-07-08T09:02:50.142Z"
   },
   {
    "duration": 19,
    "start_time": "2021-07-08T09:02:50.350Z"
   },
   {
    "duration": 21,
    "start_time": "2021-07-08T09:02:50.370Z"
   },
   {
    "duration": 20,
    "start_time": "2021-07-08T09:02:50.393Z"
   },
   {
    "duration": 5,
    "start_time": "2021-07-08T09:02:50.414Z"
   },
   {
    "duration": 5,
    "start_time": "2021-07-08T09:03:34.173Z"
   },
   {
    "duration": 6,
    "start_time": "2021-07-08T09:04:49.062Z"
   },
   {
    "duration": 9,
    "start_time": "2021-07-08T09:04:50.118Z"
   },
   {
    "duration": 14,
    "start_time": "2021-07-08T09:04:58.512Z"
   },
   {
    "duration": 9,
    "start_time": "2021-07-08T09:05:10.988Z"
   },
   {
    "duration": 11,
    "start_time": "2021-07-08T09:05:11.743Z"
   },
   {
    "duration": 7,
    "start_time": "2021-07-08T09:05:25.677Z"
   },
   {
    "duration": 13,
    "start_time": "2021-07-08T09:05:47.189Z"
   },
   {
    "duration": 13,
    "start_time": "2021-07-08T09:05:54.755Z"
   },
   {
    "duration": 4,
    "start_time": "2021-07-08T09:06:29.189Z"
   },
   {
    "duration": 244,
    "start_time": "2021-07-08T09:06:29.195Z"
   },
   {
    "duration": 91,
    "start_time": "2021-07-08T09:06:29.441Z"
   },
   {
    "duration": 4,
    "start_time": "2021-07-08T09:06:29.534Z"
   },
   {
    "duration": 28,
    "start_time": "2021-07-08T09:06:29.540Z"
   },
   {
    "duration": 6,
    "start_time": "2021-07-08T09:06:29.570Z"
   },
   {
    "duration": 18,
    "start_time": "2021-07-08T09:06:29.578Z"
   },
   {
    "duration": 5,
    "start_time": "2021-07-08T09:06:29.597Z"
   },
   {
    "duration": 13,
    "start_time": "2021-07-08T09:06:29.605Z"
   },
   {
    "duration": 8,
    "start_time": "2021-07-08T09:06:29.620Z"
   },
   {
    "duration": 7,
    "start_time": "2021-07-08T09:06:29.630Z"
   },
   {
    "duration": 63,
    "start_time": "2021-07-08T09:06:29.639Z"
   },
   {
    "duration": 17,
    "start_time": "2021-07-08T09:06:29.704Z"
   },
   {
    "duration": 20,
    "start_time": "2021-07-08T09:06:29.723Z"
   },
   {
    "duration": 6,
    "start_time": "2021-07-08T09:06:29.745Z"
   },
   {
    "duration": 3,
    "start_time": "2021-07-08T09:06:29.752Z"
   },
   {
    "duration": 7,
    "start_time": "2021-07-08T09:06:29.785Z"
   },
   {
    "duration": 11,
    "start_time": "2021-07-08T09:06:29.794Z"
   },
   {
    "duration": 15,
    "start_time": "2021-07-08T09:06:29.807Z"
   },
   {
    "duration": 8,
    "start_time": "2021-07-08T09:06:29.823Z"
   },
   {
    "duration": 70,
    "start_time": "2021-07-08T09:06:29.832Z"
   },
   {
    "duration": 17,
    "start_time": "2021-07-08T09:06:29.903Z"
   },
   {
    "duration": 9,
    "start_time": "2021-07-08T09:06:29.921Z"
   },
   {
    "duration": 9,
    "start_time": "2021-07-08T09:06:29.932Z"
   },
   {
    "duration": 57,
    "start_time": "2021-07-08T09:06:29.942Z"
   },
   {
    "duration": 11,
    "start_time": "2021-07-08T09:06:30.001Z"
   },
   {
    "duration": 19,
    "start_time": "2021-07-08T09:06:30.016Z"
   },
   {
    "duration": 217,
    "start_time": "2021-07-08T09:06:30.037Z"
   },
   {
    "duration": 6,
    "start_time": "2021-07-08T09:06:30.255Z"
   },
   {
    "duration": 205,
    "start_time": "2021-07-08T09:06:30.263Z"
   },
   {
    "duration": 27,
    "start_time": "2021-07-08T09:06:30.470Z"
   },
   {
    "duration": 11,
    "start_time": "2021-07-08T09:06:30.500Z"
   },
   {
    "duration": 31,
    "start_time": "2021-07-08T09:06:30.513Z"
   },
   {
    "duration": 18,
    "start_time": "2021-07-08T09:06:30.546Z"
   },
   {
    "duration": 11,
    "start_time": "2021-07-08T09:06:30.566Z"
   },
   {
    "duration": 19,
    "start_time": "2021-07-08T09:06:30.579Z"
   },
   {
    "duration": 20,
    "start_time": "2021-07-08T09:06:49.466Z"
   },
   {
    "duration": 9,
    "start_time": "2021-07-08T09:06:51.994Z"
   },
   {
    "duration": 20,
    "start_time": "2021-07-08T09:06:52.273Z"
   },
   {
    "duration": 246,
    "start_time": "2021-07-08T09:10:21.272Z"
   },
   {
    "duration": 84,
    "start_time": "2021-07-08T09:10:21.436Z"
   },
   {
    "duration": 7,
    "start_time": "2021-07-08T09:10:37.608Z"
   },
   {
    "duration": 189,
    "start_time": "2021-07-08T09:10:38.573Z"
   },
   {
    "duration": 185,
    "start_time": "2021-07-08T09:10:53.181Z"
   },
   {
    "duration": 11,
    "start_time": "2021-07-08T09:10:59.549Z"
   },
   {
    "duration": 42,
    "start_time": "2021-07-08T09:10:59.709Z"
   },
   {
    "duration": 12,
    "start_time": "2021-07-08T09:11:02.857Z"
   },
   {
    "duration": 28,
    "start_time": "2021-07-08T09:11:10.062Z"
   },
   {
    "duration": 249,
    "start_time": "2021-07-08T09:11:37.388Z"
   },
   {
    "duration": 232,
    "start_time": "2021-07-08T09:11:49.485Z"
   },
   {
    "duration": 453,
    "start_time": "2021-07-08T09:12:01.546Z"
   },
   {
    "duration": 440,
    "start_time": "2021-07-08T09:12:12.347Z"
   },
   {
    "duration": 213,
    "start_time": "2021-07-08T09:13:32.196Z"
   },
   {
    "duration": 172,
    "start_time": "2021-07-08T09:14:07.400Z"
   },
   {
    "duration": 185,
    "start_time": "2021-07-08T09:14:14.905Z"
   },
   {
    "duration": 209,
    "start_time": "2021-07-08T09:14:40.109Z"
   },
   {
    "duration": 201,
    "start_time": "2021-07-08T09:14:54.506Z"
   },
   {
    "duration": 622,
    "start_time": "2021-07-08T09:18:14.497Z"
   },
   {
    "duration": 220,
    "start_time": "2021-07-08T09:18:15.121Z"
   },
   {
    "duration": 79,
    "start_time": "2021-07-08T09:18:15.343Z"
   },
   {
    "duration": 4,
    "start_time": "2021-07-08T09:18:15.425Z"
   },
   {
    "duration": 24,
    "start_time": "2021-07-08T09:18:15.431Z"
   },
   {
    "duration": 8,
    "start_time": "2021-07-08T09:18:15.457Z"
   },
   {
    "duration": 16,
    "start_time": "2021-07-08T09:18:15.466Z"
   },
   {
    "duration": 5,
    "start_time": "2021-07-08T09:18:15.484Z"
   },
   {
    "duration": 10,
    "start_time": "2021-07-08T09:18:15.493Z"
   },
   {
    "duration": 8,
    "start_time": "2021-07-08T09:18:15.504Z"
   },
   {
    "duration": 7,
    "start_time": "2021-07-08T09:18:15.513Z"
   },
   {
    "duration": 26,
    "start_time": "2021-07-08T09:18:15.522Z"
   },
   {
    "duration": 49,
    "start_time": "2021-07-08T09:18:15.550Z"
   },
   {
    "duration": 21,
    "start_time": "2021-07-08T09:18:15.601Z"
   },
   {
    "duration": 8,
    "start_time": "2021-07-08T09:18:15.624Z"
   },
   {
    "duration": 3,
    "start_time": "2021-07-08T09:18:15.634Z"
   },
   {
    "duration": 8,
    "start_time": "2021-07-08T09:18:15.639Z"
   },
   {
    "duration": 45,
    "start_time": "2021-07-08T09:18:15.649Z"
   },
   {
    "duration": 13,
    "start_time": "2021-07-08T09:18:15.696Z"
   },
   {
    "duration": 10,
    "start_time": "2021-07-08T09:18:15.711Z"
   },
   {
    "duration": 64,
    "start_time": "2021-07-08T09:18:15.722Z"
   },
   {
    "duration": 19,
    "start_time": "2021-07-08T09:18:15.788Z"
   },
   {
    "duration": 9,
    "start_time": "2021-07-08T09:18:15.809Z"
   },
   {
    "duration": 9,
    "start_time": "2021-07-08T09:18:15.820Z"
   },
   {
    "duration": 18,
    "start_time": "2021-07-08T09:18:15.831Z"
   },
   {
    "duration": 43,
    "start_time": "2021-07-08T09:18:15.851Z"
   },
   {
    "duration": 12,
    "start_time": "2021-07-08T09:18:15.897Z"
   },
   {
    "duration": 219,
    "start_time": "2021-07-08T09:18:15.911Z"
   },
   {
    "duration": 8,
    "start_time": "2021-07-08T09:18:16.132Z"
   },
   {
    "duration": 199,
    "start_time": "2021-07-08T09:18:16.141Z"
   },
   {
    "duration": 18,
    "start_time": "2021-07-08T09:18:16.341Z"
   },
   {
    "duration": 24,
    "start_time": "2021-07-08T09:18:16.361Z"
   },
   {
    "duration": 24,
    "start_time": "2021-07-08T09:18:16.387Z"
   },
   {
    "duration": 211,
    "start_time": "2021-07-08T09:18:16.413Z"
   },
   {
    "duration": 18,
    "start_time": "2021-07-08T09:18:16.626Z"
   },
   {
    "duration": 596,
    "start_time": "2021-07-08T10:06:33.623Z"
   },
   {
    "duration": 181,
    "start_time": "2021-07-08T10:06:34.221Z"
   },
   {
    "duration": 176,
    "start_time": "2021-07-08T10:06:34.635Z"
   },
   {
    "duration": 239,
    "start_time": "2021-07-08T10:06:55.572Z"
   },
   {
    "duration": 6,
    "start_time": "2021-07-08T10:06:57.687Z"
   },
   {
    "duration": 4,
    "start_time": "2021-07-08T10:07:03.956Z"
   },
   {
    "duration": 4,
    "start_time": "2021-07-08T10:07:10.376Z"
   },
   {
    "duration": 4,
    "start_time": "2021-07-08T10:17:19.889Z"
   },
   {
    "duration": 3,
    "start_time": "2021-07-08T10:19:19.407Z"
   },
   {
    "duration": 197,
    "start_time": "2021-07-08T10:19:19.412Z"
   },
   {
    "duration": 127,
    "start_time": "2021-07-08T10:19:19.611Z"
   },
   {
    "duration": 4,
    "start_time": "2021-07-08T10:19:19.740Z"
   },
   {
    "duration": 27,
    "start_time": "2021-07-08T10:19:19.746Z"
   },
   {
    "duration": 7,
    "start_time": "2021-07-08T10:19:19.775Z"
   },
   {
    "duration": 30,
    "start_time": "2021-07-08T10:19:19.784Z"
   },
   {
    "duration": 7,
    "start_time": "2021-07-08T10:19:19.817Z"
   },
   {
    "duration": 26,
    "start_time": "2021-07-08T10:19:19.826Z"
   },
   {
    "duration": 18,
    "start_time": "2021-07-08T10:19:19.854Z"
   },
   {
    "duration": 14,
    "start_time": "2021-07-08T10:19:19.874Z"
   },
   {
    "duration": 48,
    "start_time": "2021-07-08T10:19:19.890Z"
   },
   {
    "duration": 17,
    "start_time": "2021-07-08T10:19:19.940Z"
   },
   {
    "duration": 38,
    "start_time": "2021-07-08T10:19:19.959Z"
   },
   {
    "duration": 8,
    "start_time": "2021-07-08T10:19:19.999Z"
   },
   {
    "duration": 15,
    "start_time": "2021-07-08T10:19:20.009Z"
   },
   {
    "duration": 22,
    "start_time": "2021-07-08T10:19:20.026Z"
   },
   {
    "duration": 10,
    "start_time": "2021-07-08T10:19:20.050Z"
   },
   {
    "duration": 10,
    "start_time": "2021-07-08T10:19:20.062Z"
   },
   {
    "duration": 20,
    "start_time": "2021-07-08T10:19:20.073Z"
   },
   {
    "duration": 29,
    "start_time": "2021-07-08T10:19:20.095Z"
   },
   {
    "duration": 17,
    "start_time": "2021-07-08T10:19:20.126Z"
   },
   {
    "duration": 40,
    "start_time": "2021-07-08T10:19:20.146Z"
   },
   {
    "duration": 15,
    "start_time": "2021-07-08T10:19:20.189Z"
   },
   {
    "duration": 19,
    "start_time": "2021-07-08T10:19:20.206Z"
   },
   {
    "duration": 10,
    "start_time": "2021-07-08T10:19:20.226Z"
   },
   {
    "duration": 11,
    "start_time": "2021-07-08T10:19:20.238Z"
   },
   {
    "duration": 297,
    "start_time": "2021-07-08T10:19:20.250Z"
   },
   {
    "duration": 6,
    "start_time": "2021-07-08T10:19:20.549Z"
   },
   {
    "duration": 191,
    "start_time": "2021-07-08T10:19:20.557Z"
   },
   {
    "duration": 19,
    "start_time": "2021-07-08T10:19:20.750Z"
   },
   {
    "duration": 20,
    "start_time": "2021-07-08T10:19:20.771Z"
   },
   {
    "duration": 15,
    "start_time": "2021-07-08T10:19:20.793Z"
   },
   {
    "duration": 222,
    "start_time": "2021-07-08T10:19:20.809Z"
   },
   {
    "duration": 20,
    "start_time": "2021-07-08T10:19:21.033Z"
   },
   {
    "duration": 27,
    "start_time": "2021-07-08T10:45:04.055Z"
   },
   {
    "duration": 8,
    "start_time": "2021-07-08T10:45:08.478Z"
   },
   {
    "duration": 8,
    "start_time": "2021-07-08T10:45:31.982Z"
   },
   {
    "duration": 10,
    "start_time": "2021-07-08T10:46:01.221Z"
   },
   {
    "duration": 17,
    "start_time": "2021-07-08T10:46:40.011Z"
   },
   {
    "duration": 193,
    "start_time": "2021-07-08T10:48:19.471Z"
   },
   {
    "duration": 225,
    "start_time": "2021-07-08T10:49:26.480Z"
   },
   {
    "duration": 204,
    "start_time": "2021-07-08T10:49:59.992Z"
   },
   {
    "duration": 435,
    "start_time": "2021-07-08T10:50:06.779Z"
   },
   {
    "duration": 199,
    "start_time": "2021-07-08T10:50:14.891Z"
   },
   {
    "duration": 204,
    "start_time": "2021-07-08T10:50:18.501Z"
   },
   {
    "duration": 244,
    "start_time": "2021-07-08T10:50:23.359Z"
   },
   {
    "duration": 192,
    "start_time": "2021-07-08T10:50:29.135Z"
   },
   {
    "duration": 218,
    "start_time": "2021-07-08T10:50:33.092Z"
   },
   {
    "duration": 207,
    "start_time": "2021-07-08T10:52:45.381Z"
   },
   {
    "duration": 5,
    "start_time": "2021-07-08T10:53:34.641Z"
   },
   {
    "duration": 196,
    "start_time": "2021-07-08T10:53:41.478Z"
   },
   {
    "duration": 43,
    "start_time": "2021-07-08T10:53:50.335Z"
   },
   {
    "duration": 32,
    "start_time": "2021-07-08T10:53:55.294Z"
   },
   {
    "duration": 55,
    "start_time": "2021-07-08T10:54:09.675Z"
   },
   {
    "duration": 16,
    "start_time": "2021-07-08T10:54:12.260Z"
   },
   {
    "duration": 15,
    "start_time": "2021-07-08T10:54:49.150Z"
   },
   {
    "duration": 20,
    "start_time": "2021-07-08T10:56:07.596Z"
   },
   {
    "duration": 16,
    "start_time": "2021-07-08T10:58:26.276Z"
   },
   {
    "duration": 22,
    "start_time": "2021-07-08T10:59:00.486Z"
   },
   {
    "duration": 18,
    "start_time": "2021-07-08T11:02:09.653Z"
   },
   {
    "duration": 10,
    "start_time": "2021-07-08T11:03:44.331Z"
   },
   {
    "duration": 10,
    "start_time": "2021-07-08T11:03:54.055Z"
   },
   {
    "duration": 12,
    "start_time": "2021-07-08T11:04:41.967Z"
   },
   {
    "duration": 24,
    "start_time": "2021-07-08T11:07:30.732Z"
   },
   {
    "duration": 6,
    "start_time": "2021-07-08T11:07:37.364Z"
   },
   {
    "duration": 16,
    "start_time": "2021-07-08T11:08:01.819Z"
   },
   {
    "duration": 17,
    "start_time": "2021-07-08T11:09:47.488Z"
   },
   {
    "duration": 246,
    "start_time": "2021-07-08T11:10:00.830Z"
   },
   {
    "duration": 18,
    "start_time": "2021-07-08T11:13:55.195Z"
   },
   {
    "duration": 204,
    "start_time": "2021-07-08T11:14:04.951Z"
   },
   {
    "duration": 19,
    "start_time": "2021-07-08T11:15:10.613Z"
   },
   {
    "duration": 680,
    "start_time": "2021-07-08T11:16:25.793Z"
   },
   {
    "duration": 451,
    "start_time": "2021-07-08T11:16:40.313Z"
   },
   {
    "duration": 469,
    "start_time": "2021-07-08T11:17:21.286Z"
   },
   {
    "duration": 20,
    "start_time": "2021-07-08T11:19:12.554Z"
   },
   {
    "duration": 35,
    "start_time": "2021-07-08T11:20:05.484Z"
   },
   {
    "duration": 53,
    "start_time": "2021-07-08T11:21:40.050Z"
   },
   {
    "duration": 13,
    "start_time": "2021-07-08T11:22:26.059Z"
   },
   {
    "duration": 19,
    "start_time": "2021-07-08T11:22:47.419Z"
   },
   {
    "duration": 25,
    "start_time": "2021-07-08T11:23:19.958Z"
   },
   {
    "duration": 29,
    "start_time": "2021-07-08T11:23:25.415Z"
   },
   {
    "duration": 10,
    "start_time": "2021-07-08T11:24:45.138Z"
   },
   {
    "duration": 19,
    "start_time": "2021-07-08T11:24:54.498Z"
   },
   {
    "duration": 12,
    "start_time": "2021-07-08T11:25:32.225Z"
   },
   {
    "duration": 19,
    "start_time": "2021-07-08T11:25:37.092Z"
   },
   {
    "duration": 17,
    "start_time": "2021-07-08T11:25:58.116Z"
   },
   {
    "duration": 15,
    "start_time": "2021-07-08T11:26:02.258Z"
   },
   {
    "duration": 8,
    "start_time": "2021-07-08T11:26:59.682Z"
   },
   {
    "duration": 184,
    "start_time": "2021-07-08T11:27:21.894Z"
   },
   {
    "duration": 8,
    "start_time": "2021-07-08T11:27:23.824Z"
   },
   {
    "duration": 202,
    "start_time": "2021-07-08T11:27:23.962Z"
   },
   {
    "duration": 360,
    "start_time": "2021-07-08T11:28:33.215Z"
   },
   {
    "duration": 231,
    "start_time": "2021-07-08T11:32:05.542Z"
   },
   {
    "duration": 607,
    "start_time": "2021-07-08T11:36:27.854Z"
   },
   {
    "duration": 241,
    "start_time": "2021-07-08T11:36:28.463Z"
   },
   {
    "duration": 67,
    "start_time": "2021-07-08T11:36:28.709Z"
   },
   {
    "duration": 5,
    "start_time": "2021-07-08T11:36:28.778Z"
   },
   {
    "duration": 32,
    "start_time": "2021-07-08T11:36:28.784Z"
   },
   {
    "duration": 11,
    "start_time": "2021-07-08T11:36:28.819Z"
   },
   {
    "duration": 20,
    "start_time": "2021-07-08T11:36:28.834Z"
   },
   {
    "duration": 36,
    "start_time": "2021-07-08T11:36:28.857Z"
   },
   {
    "duration": 16,
    "start_time": "2021-07-08T11:36:28.895Z"
   },
   {
    "duration": 14,
    "start_time": "2021-07-08T11:36:28.913Z"
   },
   {
    "duration": 9,
    "start_time": "2021-07-08T11:36:28.930Z"
   },
   {
    "duration": 55,
    "start_time": "2021-07-08T11:36:28.941Z"
   },
   {
    "duration": 27,
    "start_time": "2021-07-08T11:36:28.999Z"
   },
   {
    "duration": 30,
    "start_time": "2021-07-08T11:36:29.028Z"
   },
   {
    "duration": 31,
    "start_time": "2021-07-08T11:36:29.060Z"
   },
   {
    "duration": 3,
    "start_time": "2021-07-08T11:36:29.093Z"
   },
   {
    "duration": 12,
    "start_time": "2021-07-08T11:36:29.099Z"
   },
   {
    "duration": 11,
    "start_time": "2021-07-08T11:36:29.112Z"
   },
   {
    "duration": 12,
    "start_time": "2021-07-08T11:36:29.125Z"
   },
   {
    "duration": 9,
    "start_time": "2021-07-08T11:36:29.139Z"
   },
   {
    "duration": 31,
    "start_time": "2021-07-08T11:36:29.191Z"
   },
   {
    "duration": 17,
    "start_time": "2021-07-08T11:36:29.226Z"
   },
   {
    "duration": 7,
    "start_time": "2021-07-08T11:36:29.245Z"
   },
   {
    "duration": 10,
    "start_time": "2021-07-08T11:36:29.254Z"
   },
   {
    "duration": 30,
    "start_time": "2021-07-08T11:36:29.292Z"
   },
   {
    "duration": 11,
    "start_time": "2021-07-08T11:36:29.324Z"
   },
   {
    "duration": 11,
    "start_time": "2021-07-08T11:36:29.337Z"
   },
   {
    "duration": 230,
    "start_time": "2021-07-08T11:36:29.349Z"
   },
   {
    "duration": 13,
    "start_time": "2021-07-08T11:36:29.588Z"
   },
   {
    "duration": 205,
    "start_time": "2021-07-08T11:36:29.603Z"
   },
   {
    "duration": 20,
    "start_time": "2021-07-08T11:36:29.810Z"
   },
   {
    "duration": 9,
    "start_time": "2021-07-08T11:36:29.832Z"
   },
   {
    "duration": 16,
    "start_time": "2021-07-08T11:36:29.843Z"
   },
   {
    "duration": 283,
    "start_time": "2021-07-08T11:36:29.861Z"
   },
   {
    "duration": 50,
    "start_time": "2021-07-08T11:36:30.146Z"
   },
   {
    "duration": 14,
    "start_time": "2021-07-08T11:36:30.198Z"
   },
   {
    "duration": 11,
    "start_time": "2021-07-08T11:36:30.214Z"
   },
   {
    "duration": 245,
    "start_time": "2021-07-08T11:36:30.227Z"
   },
   {
    "duration": 439,
    "start_time": "2021-07-08T11:36:30.474Z"
   },
   {
    "duration": 210,
    "start_time": "2021-07-08T11:36:30.915Z"
   },
   {
    "duration": 15,
    "start_time": "2021-07-08T11:36:31.127Z"
   },
   {
    "duration": 17,
    "start_time": "2021-07-08T11:38:20.451Z"
   },
   {
    "duration": 642,
    "start_time": "2021-07-08T11:46:17.881Z"
   },
   {
    "duration": 210,
    "start_time": "2021-07-08T11:46:18.525Z"
   },
   {
    "duration": 104,
    "start_time": "2021-07-08T11:46:18.741Z"
   },
   {
    "duration": 8,
    "start_time": "2021-07-08T11:46:18.847Z"
   },
   {
    "duration": 25,
    "start_time": "2021-07-08T11:46:18.857Z"
   },
   {
    "duration": 14,
    "start_time": "2021-07-08T11:46:18.884Z"
   },
   {
    "duration": 22,
    "start_time": "2021-07-08T11:46:18.900Z"
   },
   {
    "duration": 5,
    "start_time": "2021-07-08T11:46:18.924Z"
   },
   {
    "duration": 13,
    "start_time": "2021-07-08T11:46:18.931Z"
   },
   {
    "duration": 45,
    "start_time": "2021-07-08T11:46:18.946Z"
   },
   {
    "duration": 12,
    "start_time": "2021-07-08T11:46:18.993Z"
   },
   {
    "duration": 38,
    "start_time": "2021-07-08T11:46:19.006Z"
   },
   {
    "duration": 50,
    "start_time": "2021-07-08T11:46:19.046Z"
   },
   {
    "duration": 29,
    "start_time": "2021-07-08T11:46:19.099Z"
   },
   {
    "duration": 7,
    "start_time": "2021-07-08T11:46:19.130Z"
   },
   {
    "duration": 3,
    "start_time": "2021-07-08T11:46:19.139Z"
   },
   {
    "duration": 11,
    "start_time": "2021-07-08T11:46:19.144Z"
   },
   {
    "duration": 40,
    "start_time": "2021-07-08T11:46:19.157Z"
   },
   {
    "duration": 15,
    "start_time": "2021-07-08T11:46:19.199Z"
   },
   {
    "duration": 10,
    "start_time": "2021-07-08T11:46:19.217Z"
   },
   {
    "duration": 68,
    "start_time": "2021-07-08T11:46:19.230Z"
   },
   {
    "duration": 17,
    "start_time": "2021-07-08T11:46:19.301Z"
   },
   {
    "duration": 7,
    "start_time": "2021-07-08T11:46:19.321Z"
   },
   {
    "duration": 11,
    "start_time": "2021-07-08T11:46:19.330Z"
   },
   {
    "duration": 59,
    "start_time": "2021-07-08T11:46:19.343Z"
   },
   {
    "duration": 17,
    "start_time": "2021-07-08T11:46:19.405Z"
   },
   {
    "duration": 16,
    "start_time": "2021-07-08T11:46:19.424Z"
   },
   {
    "duration": 252,
    "start_time": "2021-07-08T11:46:19.443Z"
   },
   {
    "duration": 9,
    "start_time": "2021-07-08T11:46:19.697Z"
   },
   {
    "duration": 224,
    "start_time": "2021-07-08T11:46:19.708Z"
   },
   {
    "duration": 21,
    "start_time": "2021-07-08T11:46:19.934Z"
   },
   {
    "duration": 9,
    "start_time": "2021-07-08T11:46:19.956Z"
   },
   {
    "duration": 32,
    "start_time": "2021-07-08T11:46:19.967Z"
   },
   {
    "duration": 288,
    "start_time": "2021-07-08T11:46:20.004Z"
   },
   {
    "duration": 23,
    "start_time": "2021-07-08T11:46:20.300Z"
   },
   {
    "duration": 11,
    "start_time": "2021-07-08T11:46:20.325Z"
   },
   {
    "duration": 11,
    "start_time": "2021-07-08T11:46:20.339Z"
   },
   {
    "duration": 259,
    "start_time": "2021-07-08T11:46:20.352Z"
   },
   {
    "duration": 438,
    "start_time": "2021-07-08T11:46:20.613Z"
   },
   {
    "duration": 207,
    "start_time": "2021-07-08T11:46:21.054Z"
   },
   {
    "duration": 27,
    "start_time": "2021-07-08T11:46:21.262Z"
   },
   {
    "duration": 19,
    "start_time": "2021-07-08T11:46:21.291Z"
   },
   {
    "duration": 820,
    "start_time": "2021-07-08T11:49:01.655Z"
   },
   {
    "duration": 372,
    "start_time": "2021-07-08T11:49:02.478Z"
   },
   {
    "duration": 98,
    "start_time": "2021-07-08T11:49:02.853Z"
   },
   {
    "duration": 6,
    "start_time": "2021-07-08T11:49:02.953Z"
   },
   {
    "duration": 39,
    "start_time": "2021-07-08T11:49:02.960Z"
   },
   {
    "duration": 9,
    "start_time": "2021-07-08T11:49:03.003Z"
   },
   {
    "duration": 23,
    "start_time": "2021-07-08T11:49:03.014Z"
   },
   {
    "duration": 6,
    "start_time": "2021-07-08T11:49:03.041Z"
   },
   {
    "duration": 20,
    "start_time": "2021-07-08T11:49:03.049Z"
   },
   {
    "duration": 18,
    "start_time": "2021-07-08T11:49:03.084Z"
   },
   {
    "duration": 14,
    "start_time": "2021-07-08T11:49:03.104Z"
   },
   {
    "duration": 39,
    "start_time": "2021-07-08T11:49:03.119Z"
   },
   {
    "duration": 38,
    "start_time": "2021-07-08T11:49:03.160Z"
   },
   {
    "duration": 26,
    "start_time": "2021-07-08T11:49:03.200Z"
   },
   {
    "duration": 7,
    "start_time": "2021-07-08T11:49:03.227Z"
   },
   {
    "duration": 4,
    "start_time": "2021-07-08T11:49:03.236Z"
   },
   {
    "duration": 15,
    "start_time": "2021-07-08T11:49:03.243Z"
   },
   {
    "duration": 21,
    "start_time": "2021-07-08T11:49:03.285Z"
   },
   {
    "duration": 17,
    "start_time": "2021-07-08T11:49:03.309Z"
   },
   {
    "duration": 10,
    "start_time": "2021-07-08T11:49:03.328Z"
   },
   {
    "duration": 65,
    "start_time": "2021-07-08T11:49:03.340Z"
   },
   {
    "duration": 18,
    "start_time": "2021-07-08T11:49:03.407Z"
   },
   {
    "duration": 8,
    "start_time": "2021-07-08T11:49:03.428Z"
   },
   {
    "duration": 15,
    "start_time": "2021-07-08T11:49:03.438Z"
   },
   {
    "duration": 40,
    "start_time": "2021-07-08T11:49:03.455Z"
   },
   {
    "duration": 12,
    "start_time": "2021-07-08T11:49:03.497Z"
   },
   {
    "duration": 29,
    "start_time": "2021-07-08T11:49:03.511Z"
   },
   {
    "duration": 285,
    "start_time": "2021-07-08T11:49:03.542Z"
   },
   {
    "duration": 8,
    "start_time": "2021-07-08T11:49:03.829Z"
   },
   {
    "duration": 227,
    "start_time": "2021-07-08T11:49:03.838Z"
   },
   {
    "duration": 40,
    "start_time": "2021-07-08T11:49:04.066Z"
   },
   {
    "duration": 10,
    "start_time": "2021-07-08T11:49:04.108Z"
   },
   {
    "duration": 26,
    "start_time": "2021-07-08T11:49:04.121Z"
   },
   {
    "duration": 290,
    "start_time": "2021-07-08T11:49:04.149Z"
   },
   {
    "duration": 26,
    "start_time": "2021-07-08T11:49:04.441Z"
   },
   {
    "duration": 31,
    "start_time": "2021-07-08T11:49:04.470Z"
   },
   {
    "duration": 14,
    "start_time": "2021-07-08T11:49:04.503Z"
   },
   {
    "duration": 259,
    "start_time": "2021-07-08T11:49:04.521Z"
   },
   {
    "duration": 480,
    "start_time": "2021-07-08T11:49:04.782Z"
   },
   {
    "duration": 225,
    "start_time": "2021-07-08T11:49:05.264Z"
   },
   {
    "duration": 22,
    "start_time": "2021-07-08T11:49:05.491Z"
   },
   {
    "duration": 24,
    "start_time": "2021-07-08T11:49:05.515Z"
   },
   {
    "duration": 634,
    "start_time": "2021-07-08T11:52:24.960Z"
   },
   {
    "duration": 199,
    "start_time": "2021-07-08T11:52:25.599Z"
   },
   {
    "duration": 106,
    "start_time": "2021-07-08T11:52:25.803Z"
   },
   {
    "duration": 7,
    "start_time": "2021-07-08T11:52:25.911Z"
   },
   {
    "duration": 29,
    "start_time": "2021-07-08T11:52:25.920Z"
   },
   {
    "duration": 7,
    "start_time": "2021-07-08T11:52:25.951Z"
   },
   {
    "duration": 26,
    "start_time": "2021-07-08T11:52:25.961Z"
   },
   {
    "duration": 11,
    "start_time": "2021-07-08T11:52:25.990Z"
   },
   {
    "duration": 29,
    "start_time": "2021-07-08T11:52:26.005Z"
   },
   {
    "duration": 9,
    "start_time": "2021-07-08T11:52:26.036Z"
   },
   {
    "duration": 8,
    "start_time": "2021-07-08T11:52:26.047Z"
   },
   {
    "duration": 63,
    "start_time": "2021-07-08T11:52:26.057Z"
   },
   {
    "duration": 17,
    "start_time": "2021-07-08T11:52:26.122Z"
   },
   {
    "duration": 43,
    "start_time": "2021-07-08T11:52:26.142Z"
   },
   {
    "duration": 17,
    "start_time": "2021-07-08T11:52:26.187Z"
   },
   {
    "duration": 5,
    "start_time": "2021-07-08T11:52:26.206Z"
   },
   {
    "duration": 12,
    "start_time": "2021-07-08T11:52:26.212Z"
   },
   {
    "duration": 11,
    "start_time": "2021-07-08T11:52:26.226Z"
   },
   {
    "duration": 12,
    "start_time": "2021-07-08T11:52:26.238Z"
   },
   {
    "duration": 38,
    "start_time": "2021-07-08T11:52:26.252Z"
   },
   {
    "duration": 40,
    "start_time": "2021-07-08T11:52:26.292Z"
   },
   {
    "duration": 17,
    "start_time": "2021-07-08T11:52:26.336Z"
   },
   {
    "duration": 39,
    "start_time": "2021-07-08T11:52:26.355Z"
   },
   {
    "duration": 11,
    "start_time": "2021-07-08T11:52:26.395Z"
   },
   {
    "duration": 23,
    "start_time": "2021-07-08T11:52:26.408Z"
   },
   {
    "duration": 12,
    "start_time": "2021-07-08T11:52:26.432Z"
   },
   {
    "duration": 41,
    "start_time": "2021-07-08T11:52:26.446Z"
   },
   {
    "duration": 215,
    "start_time": "2021-07-08T11:52:26.493Z"
   },
   {
    "duration": 8,
    "start_time": "2021-07-08T11:52:26.710Z"
   },
   {
    "duration": 228,
    "start_time": "2021-07-08T11:52:26.720Z"
   },
   {
    "duration": 18,
    "start_time": "2021-07-08T11:52:26.950Z"
   },
   {
    "duration": 35,
    "start_time": "2021-07-08T11:52:26.969Z"
   },
   {
    "duration": 23,
    "start_time": "2021-07-08T11:52:27.006Z"
   },
   {
    "duration": 258,
    "start_time": "2021-07-08T11:52:27.030Z"
   },
   {
    "duration": 24,
    "start_time": "2021-07-08T11:52:27.290Z"
   },
   {
    "duration": 12,
    "start_time": "2021-07-08T11:52:27.316Z"
   },
   {
    "duration": 10,
    "start_time": "2021-07-08T11:52:27.329Z"
   },
   {
    "duration": 298,
    "start_time": "2021-07-08T11:52:27.341Z"
   },
   {
    "duration": 436,
    "start_time": "2021-07-08T11:52:27.641Z"
   },
   {
    "duration": 216,
    "start_time": "2021-07-08T11:52:28.079Z"
   },
   {
    "duration": 20,
    "start_time": "2021-07-08T11:52:28.297Z"
   },
   {
    "duration": 17,
    "start_time": "2021-07-08T11:52:28.319Z"
   },
   {
    "duration": 589,
    "start_time": "2021-10-09T15:28:36.184Z"
   },
   {
    "duration": 216,
    "start_time": "2021-10-09T15:29:21.813Z"
   },
   {
    "duration": 89,
    "start_time": "2021-10-09T15:29:26.890Z"
   },
   {
    "duration": 108,
    "start_time": "2021-10-09T17:47:12.022Z"
   },
   {
    "duration": 60,
    "start_time": "2021-10-09T17:48:10.804Z"
   },
   {
    "duration": 66,
    "start_time": "2021-10-09T17:48:32.815Z"
   },
   {
    "duration": 86,
    "start_time": "2021-10-09T17:48:51.023Z"
   },
   {
    "duration": 73,
    "start_time": "2021-10-09T17:49:07.151Z"
   },
   {
    "duration": 54,
    "start_time": "2021-10-09T17:49:19.301Z"
   },
   {
    "duration": 652,
    "start_time": "2021-10-11T16:04:52.626Z"
   },
   {
    "duration": 70,
    "start_time": "2021-10-11T16:04:53.280Z"
   },
   {
    "duration": 41,
    "start_time": "2021-10-11T16:04:53.353Z"
   },
   {
    "duration": 301,
    "start_time": "2021-10-11T16:04:53.396Z"
   },
   {
    "duration": 304,
    "start_time": "2021-10-11T16:42:32.758Z"
   },
   {
    "duration": 988,
    "start_time": "2021-10-11T16:42:41.654Z"
   },
   {
    "duration": 65,
    "start_time": "2021-10-11T16:46:09.234Z"
   },
   {
    "duration": 10,
    "start_time": "2021-10-11T16:46:38.657Z"
   },
   {
    "duration": 15,
    "start_time": "2021-10-11T16:46:52.365Z"
   },
   {
    "duration": 40,
    "start_time": "2021-10-11T16:47:26.427Z"
   },
   {
    "duration": 61,
    "start_time": "2021-10-11T16:47:38.793Z"
   },
   {
    "duration": 48,
    "start_time": "2021-10-11T16:48:03.035Z"
   },
   {
    "duration": 269,
    "start_time": "2021-10-11T16:48:09.643Z"
   },
   {
    "duration": 299,
    "start_time": "2021-10-11T17:02:45.577Z"
   },
   {
    "duration": 1713,
    "start_time": "2021-10-11T17:03:53.598Z"
   },
   {
    "duration": 69,
    "start_time": "2021-10-11T17:04:04.910Z"
   },
   {
    "duration": 48,
    "start_time": "2021-10-11T17:04:10.814Z"
   },
   {
    "duration": 292,
    "start_time": "2021-10-11T17:04:17.111Z"
   },
   {
    "duration": 378,
    "start_time": "2021-10-11T17:12:30.507Z"
   },
   {
    "duration": 275,
    "start_time": "2021-10-12T13:44:12.212Z"
   },
   {
    "duration": 744,
    "start_time": "2021-10-12T13:44:45.889Z"
   },
   {
    "duration": 87,
    "start_time": "2021-10-12T13:44:46.636Z"
   },
   {
    "duration": 67,
    "start_time": "2021-10-12T13:44:46.726Z"
   },
   {
    "duration": 3,
    "start_time": "2021-10-12T13:44:46.795Z"
   },
   {
    "duration": 52,
    "start_time": "2021-10-12T13:53:40.775Z"
   },
   {
    "duration": 47,
    "start_time": "2021-10-12T13:53:46.777Z"
   },
   {
    "duration": 52,
    "start_time": "2021-10-12T13:53:56.941Z"
   },
   {
    "duration": 8,
    "start_time": "2021-10-12T13:54:06.229Z"
   },
   {
    "duration": 120,
    "start_time": "2021-10-12T13:54:25.848Z"
   },
   {
    "duration": 53,
    "start_time": "2021-10-12T13:54:32.186Z"
   },
   {
    "duration": 254,
    "start_time": "2021-10-12T13:54:37.099Z"
   },
   {
    "duration": 4,
    "start_time": "2021-10-12T14:06:20.721Z"
   },
   {
    "duration": 135,
    "start_time": "2021-10-12T14:06:20.732Z"
   },
   {
    "duration": 53,
    "start_time": "2021-10-12T14:06:20.870Z"
   },
   {
    "duration": 115,
    "start_time": "2021-10-12T14:23:36.055Z"
   },
   {
    "duration": 53,
    "start_time": "2021-10-12T14:23:45.023Z"
   },
   {
    "duration": 224,
    "start_time": "2021-10-12T14:28:39.856Z"
   },
   {
    "duration": 86,
    "start_time": "2021-10-12T14:41:07.021Z"
   },
   {
    "duration": 50,
    "start_time": "2021-10-12T14:41:15.119Z"
   },
   {
    "duration": 401,
    "start_time": "2021-10-12T14:41:21.522Z"
   },
   {
    "duration": 43,
    "start_time": "2021-10-12T14:43:13.691Z"
   },
   {
    "duration": 1886,
    "start_time": "2021-10-12T15:23:36.084Z"
   },
   {
    "duration": 88,
    "start_time": "2021-10-12T15:24:17.624Z"
   },
   {
    "duration": 9,
    "start_time": "2021-10-12T15:24:52.497Z"
   },
   {
    "duration": 227,
    "start_time": "2021-10-12T15:25:25.672Z"
   },
   {
    "duration": 12,
    "start_time": "2021-10-12T15:25:32.629Z"
   },
   {
    "duration": 6,
    "start_time": "2021-10-12T15:25:37.567Z"
   },
   {
    "duration": 43,
    "start_time": "2021-10-12T15:26:06.104Z"
   },
   {
    "duration": 43,
    "start_time": "2021-10-12T15:26:15.352Z"
   },
   {
    "duration": 42,
    "start_time": "2021-10-12T15:51:11.516Z"
   },
   {
    "duration": 13,
    "start_time": "2021-10-12T15:51:20.171Z"
   },
   {
    "duration": 11,
    "start_time": "2021-10-12T15:51:25.872Z"
   },
   {
    "duration": 12,
    "start_time": "2021-10-12T16:12:23.519Z"
   },
   {
    "duration": 21,
    "start_time": "2021-10-12T16:12:37.568Z"
   },
   {
    "duration": 73,
    "start_time": "2021-10-12T16:12:48.923Z"
   },
   {
    "duration": 21,
    "start_time": "2021-10-12T16:12:54.046Z"
   },
   {
    "duration": 17,
    "start_time": "2021-10-12T16:13:02.241Z"
   },
   {
    "duration": 29,
    "start_time": "2021-10-12T16:14:04.239Z"
   },
   {
    "duration": 89,
    "start_time": "2021-10-12T16:14:41.156Z"
   },
   {
    "duration": 40,
    "start_time": "2021-10-12T16:14:44.390Z"
   },
   {
    "duration": 8,
    "start_time": "2021-10-12T16:14:45.654Z"
   },
   {
    "duration": 29,
    "start_time": "2021-10-12T16:14:48.592Z"
   },
   {
    "duration": 213,
    "start_time": "2021-10-12T16:17:48.393Z"
   },
   {
    "duration": 230,
    "start_time": "2021-10-12T16:18:01.728Z"
   },
   {
    "duration": 23,
    "start_time": "2021-10-12T16:18:08.292Z"
   },
   {
    "duration": 22,
    "start_time": "2021-10-12T16:27:11.545Z"
   },
   {
    "duration": 22,
    "start_time": "2021-10-12T16:27:25.866Z"
   },
   {
    "duration": 31,
    "start_time": "2021-10-12T16:28:23.507Z"
   },
   {
    "duration": 24,
    "start_time": "2021-10-12T16:28:45.489Z"
   },
   {
    "duration": 4,
    "start_time": "2021-10-12T16:28:49.847Z"
   },
   {
    "duration": 97,
    "start_time": "2021-10-12T16:28:49.858Z"
   },
   {
    "duration": 44,
    "start_time": "2021-10-12T16:28:49.959Z"
   },
   {
    "duration": 8,
    "start_time": "2021-10-12T16:28:50.007Z"
   },
   {
    "duration": 32,
    "start_time": "2021-10-12T16:28:50.017Z"
   },
   {
    "duration": 27,
    "start_time": "2021-10-12T16:29:14.091Z"
   },
   {
    "duration": 33,
    "start_time": "2021-10-12T16:29:25.148Z"
   },
   {
    "duration": 58,
    "start_time": "2021-10-12T16:29:51.714Z"
   },
   {
    "duration": 48,
    "start_time": "2021-10-12T16:39:28.003Z"
   },
   {
    "duration": 112,
    "start_time": "2021-10-12T16:39:53.753Z"
   },
   {
    "duration": 4,
    "start_time": "2021-10-12T16:40:03.832Z"
   },
   {
    "duration": 111,
    "start_time": "2021-10-12T16:40:03.849Z"
   },
   {
    "duration": 50,
    "start_time": "2021-10-12T16:40:03.963Z"
   },
   {
    "duration": 13,
    "start_time": "2021-10-12T16:40:04.016Z"
   },
   {
    "duration": 55,
    "start_time": "2021-10-12T16:40:04.034Z"
   },
   {
    "duration": 289,
    "start_time": "2021-10-12T16:41:25.076Z"
   },
   {
    "duration": 60,
    "start_time": "2021-10-12T16:41:49.916Z"
   },
   {
    "duration": 43,
    "start_time": "2021-10-12T16:42:16.562Z"
   },
   {
    "duration": 64,
    "start_time": "2021-10-12T16:42:26.705Z"
   },
   {
    "duration": 108,
    "start_time": "2021-10-12T16:42:53.454Z"
   },
   {
    "duration": 48,
    "start_time": "2021-10-12T16:42:59.924Z"
   },
   {
    "duration": 53,
    "start_time": "2021-10-12T16:43:05.243Z"
   },
   {
    "duration": 50,
    "start_time": "2021-10-12T16:46:26.143Z"
   },
   {
    "duration": 74,
    "start_time": "2021-10-12T16:49:15.964Z"
   },
   {
    "duration": 5802,
    "start_time": "2021-10-12T16:50:29.579Z"
   },
   {
    "duration": 51,
    "start_time": "2021-10-12T16:53:11.438Z"
   },
   {
    "duration": 8,
    "start_time": "2021-10-12T16:53:19.191Z"
   },
   {
    "duration": 242,
    "start_time": "2021-10-12T16:53:28.439Z"
   },
   {
    "duration": 231,
    "start_time": "2021-10-12T16:55:34.625Z"
   },
   {
    "duration": 46,
    "start_time": "2021-10-12T16:55:46.176Z"
   },
   {
    "duration": 44,
    "start_time": "2021-10-12T16:56:22.479Z"
   },
   {
    "duration": 59,
    "start_time": "2021-10-12T17:04:38.909Z"
   },
   {
    "duration": 19,
    "start_time": "2021-10-12T17:04:45.924Z"
   },
   {
    "duration": 50,
    "start_time": "2021-10-12T17:06:16.815Z"
   },
   {
    "duration": 8,
    "start_time": "2021-10-12T17:06:20.314Z"
   },
   {
    "duration": 62,
    "start_time": "2021-10-12T17:08:21.912Z"
   },
   {
    "duration": 69,
    "start_time": "2021-10-12T17:08:29.494Z"
   },
   {
    "duration": 53,
    "start_time": "2021-10-12T17:08:39.649Z"
   },
   {
    "duration": 26,
    "start_time": "2021-10-12T17:09:36.027Z"
   },
   {
    "duration": 20,
    "start_time": "2021-10-12T17:10:04.839Z"
   },
   {
    "duration": 19,
    "start_time": "2021-10-12T17:10:15.410Z"
   },
   {
    "duration": 235,
    "start_time": "2021-10-12T17:10:20.441Z"
   },
   {
    "duration": 24,
    "start_time": "2021-10-12T17:10:24.629Z"
   },
   {
    "duration": 24,
    "start_time": "2021-10-12T17:11:15.156Z"
   },
   {
    "duration": 25,
    "start_time": "2021-10-12T17:11:29.141Z"
   },
   {
    "duration": 316,
    "start_time": "2021-10-17T13:43:50.312Z"
   },
   {
    "duration": 711,
    "start_time": "2021-10-17T13:43:55.813Z"
   },
   {
    "duration": 142,
    "start_time": "2021-10-17T13:43:56.526Z"
   },
   {
    "duration": 53,
    "start_time": "2021-10-17T13:43:56.671Z"
   },
   {
    "duration": 55,
    "start_time": "2021-10-17T13:43:56.726Z"
   },
   {
    "duration": 298,
    "start_time": "2021-10-17T13:43:56.784Z"
   },
   {
    "duration": 22,
    "start_time": "2021-10-17T13:46:42.240Z"
   },
   {
    "duration": 14,
    "start_time": "2021-10-17T13:46:55.854Z"
   },
   {
    "duration": 295,
    "start_time": "2021-10-17T14:22:57.283Z"
   },
   {
    "duration": 278,
    "start_time": "2021-10-17T14:23:02.134Z"
   },
   {
    "duration": 7,
    "start_time": "2021-10-17T14:23:08.544Z"
   },
   {
    "duration": 299,
    "start_time": "2021-10-17T15:02:12.786Z"
   },
   {
    "duration": 3,
    "start_time": "2021-10-17T15:02:15.475Z"
   },
   {
    "duration": 107,
    "start_time": "2021-10-17T15:02:15.481Z"
   },
   {
    "duration": 51,
    "start_time": "2021-10-17T15:02:15.593Z"
   },
   {
    "duration": 101,
    "start_time": "2021-10-17T15:02:15.648Z"
   },
   {
    "duration": -189,
    "start_time": "2021-10-17T15:02:15.941Z"
   },
   {
    "duration": -188,
    "start_time": "2021-10-17T15:02:15.942Z"
   },
   {
    "duration": -189,
    "start_time": "2021-10-17T15:02:15.945Z"
   },
   {
    "duration": -206,
    "start_time": "2021-10-17T15:02:15.965Z"
   },
   {
    "duration": 86,
    "start_time": "2021-10-17T15:02:39.737Z"
   },
   {
    "duration": 34,
    "start_time": "2021-10-17T15:02:46.226Z"
   },
   {
    "duration": 15,
    "start_time": "2021-10-17T15:02:49.299Z"
   },
   {
    "duration": 12,
    "start_time": "2021-10-17T15:02:51.676Z"
   },
   {
    "duration": 7,
    "start_time": "2021-10-17T15:02:53.380Z"
   },
   {
    "duration": 19,
    "start_time": "2021-10-17T15:03:07.818Z"
   },
   {
    "duration": 6,
    "start_time": "2021-10-17T15:03:31.376Z"
   },
   {
    "duration": 10,
    "start_time": "2021-10-17T15:04:02.407Z"
   },
   {
    "duration": 6,
    "start_time": "2021-10-17T15:04:04.333Z"
   },
   {
    "duration": 15,
    "start_time": "2021-10-17T15:04:04.818Z"
   },
   {
    "duration": 6,
    "start_time": "2021-10-17T15:04:20.729Z"
   },
   {
    "duration": 11,
    "start_time": "2021-10-17T15:04:55.120Z"
   },
   {
    "duration": 7,
    "start_time": "2021-10-17T15:04:55.831Z"
   },
   {
    "duration": 17,
    "start_time": "2021-10-17T15:04:56.425Z"
   },
   {
    "duration": 261,
    "start_time": "2021-10-17T15:05:08.962Z"
   },
   {
    "duration": 8,
    "start_time": "2021-10-17T15:05:15.223Z"
   },
   {
    "duration": 12,
    "start_time": "2021-10-17T15:08:40.946Z"
   },
   {
    "duration": 13,
    "start_time": "2021-10-17T15:08:54.758Z"
   },
   {
    "duration": 2446,
    "start_time": "2021-10-17T15:14:37.112Z"
   },
   {
    "duration": -50,
    "start_time": "2021-10-17T15:14:39.610Z"
   },
   {
    "duration": 16,
    "start_time": "2021-10-17T15:14:39.905Z"
   },
   {
    "duration": 1791,
    "start_time": "2021-10-17T15:14:52.261Z"
   },
   {
    "duration": 12,
    "start_time": "2021-10-17T15:15:04.072Z"
   },
   {
    "duration": 13,
    "start_time": "2021-10-17T15:15:07.568Z"
   },
   {
    "duration": 14,
    "start_time": "2021-10-17T15:15:08.190Z"
   },
   {
    "duration": 6,
    "start_time": "2021-10-17T15:15:37.049Z"
   },
   {
    "duration": 6,
    "start_time": "2021-10-17T16:40:09.406Z"
   },
   {
    "duration": 7,
    "start_time": "2021-10-17T16:42:49.239Z"
   },
   {
    "duration": 13,
    "start_time": "2021-10-17T16:45:15.517Z"
   },
   {
    "duration": 11,
    "start_time": "2021-10-17T16:45:22.857Z"
   },
   {
    "duration": 10,
    "start_time": "2021-10-17T16:45:27.106Z"
   },
   {
    "duration": 11,
    "start_time": "2021-10-17T16:45:50.977Z"
   },
   {
    "duration": 7,
    "start_time": "2021-10-17T16:45:53.791Z"
   },
   {
    "duration": 12,
    "start_time": "2021-10-17T16:46:54.507Z"
   },
   {
    "duration": 6,
    "start_time": "2021-10-17T16:46:55.579Z"
   },
   {
    "duration": 12,
    "start_time": "2021-10-17T16:47:09.341Z"
   },
   {
    "duration": 6,
    "start_time": "2021-10-17T16:47:12.013Z"
   },
   {
    "duration": 9,
    "start_time": "2021-10-17T16:48:28.932Z"
   },
   {
    "duration": 8,
    "start_time": "2021-10-17T16:49:02.197Z"
   },
   {
    "duration": 14,
    "start_time": "2021-10-17T16:49:24.606Z"
   },
   {
    "duration": 7,
    "start_time": "2021-10-17T16:50:39.772Z"
   },
   {
    "duration": 266,
    "start_time": "2021-10-17T16:50:49.654Z"
   },
   {
    "duration": 7,
    "start_time": "2021-10-17T16:50:54.700Z"
   },
   {
    "duration": 6,
    "start_time": "2021-10-17T16:52:51.064Z"
   },
   {
    "duration": 10,
    "start_time": "2021-10-17T16:52:58.768Z"
   },
   {
    "duration": 6,
    "start_time": "2021-10-17T16:53:05.947Z"
   },
   {
    "duration": 4,
    "start_time": "2021-10-17T16:53:24.042Z"
   },
   {
    "duration": 108,
    "start_time": "2021-10-17T16:53:24.049Z"
   },
   {
    "duration": 46,
    "start_time": "2021-10-17T16:53:24.159Z"
   },
   {
    "duration": 53,
    "start_time": "2021-10-17T16:53:24.210Z"
   },
   {
    "duration": 45,
    "start_time": "2021-10-17T16:53:24.266Z"
   },
   {
    "duration": 15,
    "start_time": "2021-10-17T16:53:24.314Z"
   },
   {
    "duration": 54,
    "start_time": "2021-10-17T16:53:24.332Z"
   },
   {
    "duration": 14,
    "start_time": "2021-10-17T16:53:24.389Z"
   },
   {
    "duration": 18,
    "start_time": "2021-10-17T16:53:24.407Z"
   },
   {
    "duration": 10,
    "start_time": "2021-10-17T16:53:24.428Z"
   },
   {
    "duration": 49,
    "start_time": "2021-10-17T16:53:24.441Z"
   },
   {
    "duration": 7,
    "start_time": "2021-10-17T16:53:24.493Z"
   },
   {
    "duration": 14,
    "start_time": "2021-10-17T16:53:24.504Z"
   },
   {
    "duration": 10,
    "start_time": "2021-10-17T16:53:24.521Z"
   },
   {
    "duration": 13,
    "start_time": "2021-10-17T16:54:03.436Z"
   },
   {
    "duration": 7,
    "start_time": "2021-10-17T16:54:04.767Z"
   },
   {
    "duration": 14,
    "start_time": "2021-10-17T16:54:09.939Z"
   },
   {
    "duration": 6,
    "start_time": "2021-10-17T16:54:14.252Z"
   },
   {
    "duration": 13,
    "start_time": "2021-10-17T17:01:22.500Z"
   },
   {
    "duration": 8,
    "start_time": "2021-10-17T17:01:23.727Z"
   },
   {
    "duration": 13,
    "start_time": "2021-10-17T17:01:29.481Z"
   },
   {
    "duration": 6,
    "start_time": "2021-10-17T17:01:30.688Z"
   },
   {
    "duration": 10,
    "start_time": "2021-10-17T17:02:52.441Z"
   },
   {
    "duration": 7,
    "start_time": "2021-10-17T17:02:53.020Z"
   },
   {
    "duration": 10,
    "start_time": "2021-10-17T17:03:02.855Z"
   },
   {
    "duration": 6,
    "start_time": "2021-10-17T17:03:06.373Z"
   },
   {
    "duration": 3,
    "start_time": "2021-10-17T17:09:23.944Z"
   },
   {
    "duration": 100,
    "start_time": "2021-10-17T17:09:23.950Z"
   },
   {
    "duration": 44,
    "start_time": "2021-10-17T17:09:24.053Z"
   },
   {
    "duration": 50,
    "start_time": "2021-10-17T17:09:24.100Z"
   },
   {
    "duration": 42,
    "start_time": "2021-10-17T17:09:24.152Z"
   },
   {
    "duration": 17,
    "start_time": "2021-10-17T17:09:24.196Z"
   },
   {
    "duration": 10,
    "start_time": "2021-10-17T17:09:24.215Z"
   },
   {
    "duration": 15,
    "start_time": "2021-10-17T17:09:24.227Z"
   },
   {
    "duration": 44,
    "start_time": "2021-10-17T17:09:24.246Z"
   },
   {
    "duration": 14,
    "start_time": "2021-10-17T17:09:24.293Z"
   },
   {
    "duration": 15,
    "start_time": "2021-10-17T17:09:24.309Z"
   },
   {
    "duration": 5,
    "start_time": "2021-10-17T17:09:24.326Z"
   },
   {
    "duration": 11,
    "start_time": "2021-10-17T17:09:24.333Z"
   },
   {
    "duration": 38,
    "start_time": "2021-10-17T17:09:24.346Z"
   },
   {
    "duration": 10,
    "start_time": "2021-10-17T17:12:08.596Z"
   },
   {
    "duration": 6,
    "start_time": "2021-10-17T17:12:09.073Z"
   },
   {
    "duration": 10,
    "start_time": "2021-10-17T17:12:19.651Z"
   },
   {
    "duration": 6,
    "start_time": "2021-10-17T17:12:20.354Z"
   },
   {
    "duration": 9,
    "start_time": "2021-10-17T17:12:30.522Z"
   },
   {
    "duration": 6,
    "start_time": "2021-10-17T17:12:31.259Z"
   },
   {
    "duration": 10,
    "start_time": "2021-10-17T17:12:43.741Z"
   },
   {
    "duration": 6,
    "start_time": "2021-10-17T17:12:44.281Z"
   },
   {
    "duration": 6,
    "start_time": "2021-10-17T17:12:51.303Z"
   },
   {
    "duration": 10,
    "start_time": "2021-10-17T17:12:54.016Z"
   },
   {
    "duration": 6,
    "start_time": "2021-10-17T17:12:55.168Z"
   },
   {
    "duration": 6,
    "start_time": "2021-10-17T17:15:37.633Z"
   },
   {
    "duration": 285,
    "start_time": "2021-10-18T16:10:58.587Z"
   },
   {
    "duration": 580,
    "start_time": "2021-10-18T16:11:05.943Z"
   },
   {
    "duration": 81,
    "start_time": "2021-10-18T16:11:06.525Z"
   },
   {
    "duration": 41,
    "start_time": "2021-10-18T16:11:06.608Z"
   },
   {
    "duration": 32,
    "start_time": "2021-10-18T16:11:06.650Z"
   },
   {
    "duration": 12,
    "start_time": "2021-10-18T16:11:06.683Z"
   },
   {
    "duration": 12,
    "start_time": "2021-10-18T16:11:06.696Z"
   },
   {
    "duration": 8,
    "start_time": "2021-10-18T16:11:06.710Z"
   },
   {
    "duration": 10,
    "start_time": "2021-10-18T16:11:06.745Z"
   },
   {
    "duration": 6,
    "start_time": "2021-10-18T16:11:06.758Z"
   },
   {
    "duration": 6,
    "start_time": "2021-10-18T16:11:06.766Z"
   },
   {
    "duration": 10,
    "start_time": "2021-10-18T16:11:06.773Z"
   },
   {
    "duration": 263,
    "start_time": "2021-10-18T16:11:06.785Z"
   },
   {
    "duration": -152,
    "start_time": "2021-10-18T16:11:07.202Z"
   },
   {
    "duration": 8,
    "start_time": "2021-10-18T16:14:34.782Z"
   },
   {
    "duration": 5,
    "start_time": "2021-10-18T16:14:37.713Z"
   },
   {
    "duration": 7,
    "start_time": "2021-10-18T16:14:53.727Z"
   },
   {
    "duration": 4,
    "start_time": "2021-10-18T16:14:57.895Z"
   },
   {
    "duration": 263,
    "start_time": "2021-10-18T16:17:37.048Z"
   },
   {
    "duration": 246,
    "start_time": "2021-10-18T16:17:45.689Z"
   },
   {
    "duration": 7,
    "start_time": "2021-10-18T16:18:04.268Z"
   },
   {
    "duration": 5,
    "start_time": "2021-10-18T16:18:06.127Z"
   },
   {
    "duration": 6,
    "start_time": "2021-10-18T16:18:31.307Z"
   },
   {
    "duration": 7,
    "start_time": "2021-10-18T16:19:14.148Z"
   },
   {
    "duration": 7,
    "start_time": "2021-10-18T16:19:15.071Z"
   },
   {
    "duration": 237,
    "start_time": "2021-10-18T16:19:58.609Z"
   },
   {
    "duration": 4,
    "start_time": "2021-10-18T16:20:07.771Z"
   },
   {
    "duration": 258,
    "start_time": "2021-10-18T16:20:19.954Z"
   },
   {
    "duration": 65,
    "start_time": "2021-10-18T16:31:54.896Z"
   },
   {
    "duration": 14,
    "start_time": "2021-10-18T16:32:02.296Z"
   },
   {
    "duration": 14,
    "start_time": "2021-10-18T16:32:35.280Z"
   },
   {
    "duration": 35,
    "start_time": "2021-10-18T16:32:51.107Z"
   },
   {
    "duration": 275,
    "start_time": "2021-10-18T16:43:52.850Z"
   },
   {
    "duration": 2,
    "start_time": "2021-10-18T16:44:09.205Z"
   },
   {
    "duration": 66,
    "start_time": "2021-10-18T16:44:09.211Z"
   },
   {
    "duration": 14,
    "start_time": "2021-10-18T16:44:09.278Z"
   },
   {
    "duration": 15,
    "start_time": "2021-10-18T16:44:09.294Z"
   },
   {
    "duration": 43,
    "start_time": "2021-10-18T16:44:09.311Z"
   },
   {
    "duration": 33,
    "start_time": "2021-10-18T16:44:09.356Z"
   },
   {
    "duration": 14,
    "start_time": "2021-10-18T16:44:09.390Z"
   },
   {
    "duration": 11,
    "start_time": "2021-10-18T16:44:09.405Z"
   },
   {
    "duration": 31,
    "start_time": "2021-10-18T16:44:09.418Z"
   },
   {
    "duration": 8,
    "start_time": "2021-10-18T16:44:09.451Z"
   },
   {
    "duration": 4,
    "start_time": "2021-10-18T16:44:09.461Z"
   },
   {
    "duration": 7,
    "start_time": "2021-10-18T16:44:09.466Z"
   },
   {
    "duration": 7,
    "start_time": "2021-10-18T16:44:09.474Z"
   },
   {
    "duration": 8,
    "start_time": "2021-10-18T16:44:09.483Z"
   },
   {
    "duration": 6,
    "start_time": "2021-10-18T16:44:09.493Z"
   },
   {
    "duration": 259,
    "start_time": "2021-10-18T16:45:05.280Z"
   },
   {
    "duration": 248,
    "start_time": "2021-10-18T16:45:25.051Z"
   },
   {
    "duration": 13,
    "start_time": "2021-10-18T16:45:32.834Z"
   },
   {
    "duration": 14,
    "start_time": "2021-10-18T16:46:09.802Z"
   },
   {
    "duration": 268,
    "start_time": "2021-10-18T16:46:26.616Z"
   },
   {
    "duration": 2,
    "start_time": "2021-10-18T16:46:45.764Z"
   },
   {
    "duration": 61,
    "start_time": "2021-10-18T16:46:45.770Z"
   },
   {
    "duration": 13,
    "start_time": "2021-10-18T16:46:45.833Z"
   },
   {
    "duration": 16,
    "start_time": "2021-10-18T16:46:45.847Z"
   },
   {
    "duration": 44,
    "start_time": "2021-10-18T16:46:45.865Z"
   },
   {
    "duration": 30,
    "start_time": "2021-10-18T16:46:45.911Z"
   },
   {
    "duration": 14,
    "start_time": "2021-10-18T16:46:45.943Z"
   },
   {
    "duration": 11,
    "start_time": "2021-10-18T16:46:45.958Z"
   },
   {
    "duration": 6,
    "start_time": "2021-10-18T16:46:45.971Z"
   },
   {
    "duration": 7,
    "start_time": "2021-10-18T16:46:45.979Z"
   },
   {
    "duration": 14,
    "start_time": "2021-10-18T16:46:45.988Z"
   },
   {
    "duration": 6,
    "start_time": "2021-10-18T16:46:46.003Z"
   },
   {
    "duration": 34,
    "start_time": "2021-10-18T16:46:46.011Z"
   },
   {
    "duration": 4,
    "start_time": "2021-10-18T16:46:46.046Z"
   },
   {
    "duration": 8,
    "start_time": "2021-10-18T16:46:46.051Z"
   },
   {
    "duration": 15,
    "start_time": "2021-10-18T16:46:46.060Z"
   },
   {
    "duration": 6,
    "start_time": "2021-10-18T16:46:46.076Z"
   },
   {
    "duration": 14,
    "start_time": "2021-10-18T16:47:04.727Z"
   },
   {
    "duration": 7,
    "start_time": "2021-10-18T16:52:06.408Z"
   },
   {
    "duration": 5,
    "start_time": "2021-10-18T16:52:29.404Z"
   },
   {
    "duration": 361,
    "start_time": "2021-10-18T17:04:01.747Z"
   },
   {
    "duration": 347,
    "start_time": "2021-10-18T17:04:15.999Z"
   },
   {
    "duration": 2,
    "start_time": "2021-10-18T17:04:23.275Z"
   },
   {
    "duration": 7096,
    "start_time": "2021-10-18T17:09:48.057Z"
   },
   {
    "duration": 7361,
    "start_time": "2021-10-18T17:10:02.093Z"
   },
   {
    "duration": 265,
    "start_time": "2021-10-18T17:13:20.245Z"
   },
   {
    "duration": 7,
    "start_time": "2021-10-18T17:13:27.367Z"
   },
   {
    "duration": 8,
    "start_time": "2021-10-18T17:13:34.832Z"
   },
   {
    "duration": 5,
    "start_time": "2021-10-18T17:16:43.636Z"
   },
   {
    "duration": 5,
    "start_time": "2021-10-18T17:16:45.147Z"
   },
   {
    "duration": 6,
    "start_time": "2021-10-18T17:16:58.376Z"
   },
   {
    "duration": 5,
    "start_time": "2021-10-18T17:16:59.907Z"
   },
   {
    "duration": 6,
    "start_time": "2021-10-18T17:17:11.812Z"
   },
   {
    "duration": 5,
    "start_time": "2021-10-18T17:17:12.380Z"
   },
   {
    "duration": 5,
    "start_time": "2021-10-18T17:17:40.348Z"
   },
   {
    "duration": 5,
    "start_time": "2021-10-18T17:17:43.216Z"
   },
   {
    "duration": 6,
    "start_time": "2021-10-18T17:17:43.867Z"
   },
   {
    "duration": 5,
    "start_time": "2021-10-18T17:17:58.811Z"
   },
   {
    "duration": 4,
    "start_time": "2021-10-18T17:17:59.775Z"
   },
   {
    "duration": 2,
    "start_time": "2021-10-18T17:18:09.764Z"
   },
   {
    "duration": 73,
    "start_time": "2021-10-18T17:18:09.770Z"
   },
   {
    "duration": 12,
    "start_time": "2021-10-18T17:18:09.845Z"
   },
   {
    "duration": 19,
    "start_time": "2021-10-18T17:18:09.859Z"
   },
   {
    "duration": 54,
    "start_time": "2021-10-18T17:18:09.879Z"
   },
   {
    "duration": 30,
    "start_time": "2021-10-18T17:18:09.935Z"
   },
   {
    "duration": 13,
    "start_time": "2021-10-18T17:18:09.966Z"
   },
   {
    "duration": 14,
    "start_time": "2021-10-18T17:18:09.981Z"
   },
   {
    "duration": 8,
    "start_time": "2021-10-18T17:18:09.998Z"
   },
   {
    "duration": 17,
    "start_time": "2021-10-18T17:18:10.008Z"
   },
   {
    "duration": 29,
    "start_time": "2021-10-18T17:18:10.027Z"
   },
   {
    "duration": 16,
    "start_time": "2021-10-18T17:18:10.058Z"
   },
   {
    "duration": 17,
    "start_time": "2021-10-18T17:18:10.076Z"
   },
   {
    "duration": 8,
    "start_time": "2021-10-18T17:18:10.095Z"
   },
   {
    "duration": 11,
    "start_time": "2021-10-18T17:18:10.105Z"
   },
   {
    "duration": 16,
    "start_time": "2021-10-18T17:18:10.117Z"
   },
   {
    "duration": 20,
    "start_time": "2021-10-18T17:18:10.134Z"
   },
   {
    "duration": 22,
    "start_time": "2021-10-18T17:18:10.156Z"
   },
   {
    "duration": 33,
    "start_time": "2021-10-18T17:18:10.180Z"
   },
   {
    "duration": 5,
    "start_time": "2021-10-18T17:18:43.350Z"
   },
   {
    "duration": 7,
    "start_time": "2021-10-18T17:18:55.364Z"
   },
   {
    "duration": 6,
    "start_time": "2021-10-18T17:22:05.785Z"
   },
   {
    "duration": 5,
    "start_time": "2021-10-18T17:22:06.777Z"
   },
   {
    "duration": 6,
    "start_time": "2021-10-18T17:22:42.589Z"
   },
   {
    "duration": 4,
    "start_time": "2021-10-18T17:22:43.399Z"
   },
   {
    "duration": 9,
    "start_time": "2021-10-18T17:23:27.191Z"
   },
   {
    "duration": 6,
    "start_time": "2021-10-18T17:23:28.218Z"
   },
   {
    "duration": 257,
    "start_time": "2021-10-18T17:23:33.825Z"
   },
   {
    "duration": 398,
    "start_time": "2021-10-18T17:23:45.579Z"
   },
   {
    "duration": 256,
    "start_time": "2021-10-18T17:23:51.791Z"
   },
   {
    "duration": 2,
    "start_time": "2021-10-18T17:24:06.627Z"
   },
   {
    "duration": 61,
    "start_time": "2021-10-18T17:24:06.642Z"
   },
   {
    "duration": 14,
    "start_time": "2021-10-18T17:24:06.705Z"
   },
   {
    "duration": 24,
    "start_time": "2021-10-18T17:24:06.721Z"
   },
   {
    "duration": 50,
    "start_time": "2021-10-18T17:24:06.747Z"
   },
   {
    "duration": 34,
    "start_time": "2021-10-18T17:24:06.798Z"
   },
   {
    "duration": 13,
    "start_time": "2021-10-18T17:24:06.834Z"
   },
   {
    "duration": 13,
    "start_time": "2021-10-18T17:24:06.848Z"
   },
   {
    "duration": 7,
    "start_time": "2021-10-18T17:24:06.863Z"
   },
   {
    "duration": 7,
    "start_time": "2021-10-18T17:24:06.872Z"
   },
   {
    "duration": 14,
    "start_time": "2021-10-18T17:24:06.881Z"
   },
   {
    "duration": 12,
    "start_time": "2021-10-18T17:24:06.896Z"
   },
   {
    "duration": 17,
    "start_time": "2021-10-18T17:24:06.909Z"
   },
   {
    "duration": 18,
    "start_time": "2021-10-18T17:24:06.927Z"
   },
   {
    "duration": 6,
    "start_time": "2021-10-18T17:24:06.946Z"
   },
   {
    "duration": 15,
    "start_time": "2021-10-18T17:24:06.954Z"
   },
   {
    "duration": 8,
    "start_time": "2021-10-18T17:24:06.971Z"
   },
   {
    "duration": 9,
    "start_time": "2021-10-18T17:24:06.981Z"
   },
   {
    "duration": 24,
    "start_time": "2021-10-18T17:24:06.992Z"
   },
   {
    "duration": 11,
    "start_time": "2021-10-18T17:24:37.371Z"
   },
   {
    "duration": 333,
    "start_time": "2021-10-18T17:25:35.828Z"
   },
   {
    "duration": 245,
    "start_time": "2021-10-18T17:25:45.696Z"
   },
   {
    "duration": 2,
    "start_time": "2021-10-18T17:26:04.174Z"
   },
   {
    "duration": 83,
    "start_time": "2021-10-18T17:26:04.179Z"
   },
   {
    "duration": 13,
    "start_time": "2021-10-18T17:26:04.264Z"
   },
   {
    "duration": 26,
    "start_time": "2021-10-18T17:26:04.279Z"
   },
   {
    "duration": 61,
    "start_time": "2021-10-18T17:26:04.307Z"
   },
   {
    "duration": 41,
    "start_time": "2021-10-18T17:26:04.370Z"
   },
   {
    "duration": 18,
    "start_time": "2021-10-18T17:26:04.413Z"
   },
   {
    "duration": 30,
    "start_time": "2021-10-18T17:26:04.433Z"
   },
   {
    "duration": 18,
    "start_time": "2021-10-18T17:26:04.465Z"
   },
   {
    "duration": 14,
    "start_time": "2021-10-18T17:26:04.486Z"
   },
   {
    "duration": 20,
    "start_time": "2021-10-18T17:26:04.502Z"
   },
   {
    "duration": 18,
    "start_time": "2021-10-18T17:26:04.524Z"
   },
   {
    "duration": 17,
    "start_time": "2021-10-18T17:26:04.544Z"
   },
   {
    "duration": 11,
    "start_time": "2021-10-18T17:26:04.563Z"
   },
   {
    "duration": 8,
    "start_time": "2021-10-18T17:26:04.576Z"
   },
   {
    "duration": 10,
    "start_time": "2021-10-18T17:26:04.585Z"
   },
   {
    "duration": 16,
    "start_time": "2021-10-18T17:26:04.597Z"
   },
   {
    "duration": 19,
    "start_time": "2021-10-18T17:26:04.614Z"
   },
   {
    "duration": 7,
    "start_time": "2021-10-18T17:26:04.635Z"
   },
   {
    "duration": 20,
    "start_time": "2021-10-18T17:26:04.644Z"
   },
   {
    "duration": 449,
    "start_time": "2021-10-19T17:55:37.707Z"
   },
   {
    "duration": 801,
    "start_time": "2021-10-19T17:55:43.167Z"
   },
   {
    "duration": 86,
    "start_time": "2021-10-19T17:55:43.972Z"
   },
   {
    "duration": 36,
    "start_time": "2021-10-19T17:55:44.062Z"
   },
   {
    "duration": 22,
    "start_time": "2021-10-19T17:55:44.100Z"
   },
   {
    "duration": 79,
    "start_time": "2021-10-19T17:55:44.124Z"
   },
   {
    "duration": 50,
    "start_time": "2021-10-19T17:55:44.205Z"
   },
   {
    "duration": 27,
    "start_time": "2021-10-19T17:55:44.258Z"
   },
   {
    "duration": 15,
    "start_time": "2021-10-19T17:55:44.289Z"
   },
   {
    "duration": 11,
    "start_time": "2021-10-19T17:55:44.307Z"
   },
   {
    "duration": 52,
    "start_time": "2021-10-19T17:55:44.320Z"
   },
   {
    "duration": 24,
    "start_time": "2021-10-19T17:55:44.374Z"
   },
   {
    "duration": 12,
    "start_time": "2021-10-19T17:55:44.400Z"
   },
   {
    "duration": 417,
    "start_time": "2021-10-19T17:55:44.414Z"
   },
   {
    "duration": -7,
    "start_time": "2021-10-19T17:55:44.842Z"
   },
   {
    "duration": -16,
    "start_time": "2021-10-19T17:55:44.852Z"
   },
   {
    "duration": -23,
    "start_time": "2021-10-19T17:55:44.861Z"
   },
   {
    "duration": -28,
    "start_time": "2021-10-19T17:55:44.869Z"
   },
   {
    "duration": -39,
    "start_time": "2021-10-19T17:55:44.882Z"
   },
   {
    "duration": -46,
    "start_time": "2021-10-19T17:55:44.891Z"
   },
   {
    "duration": -66,
    "start_time": "2021-10-19T17:55:44.913Z"
   },
   {
    "duration": 13,
    "start_time": "2021-10-19T17:56:16.749Z"
   },
   {
    "duration": 14,
    "start_time": "2021-10-19T17:56:19.481Z"
   },
   {
    "duration": 7,
    "start_time": "2021-10-19T17:56:20.046Z"
   },
   {
    "duration": 11,
    "start_time": "2021-10-19T17:56:58.875Z"
   },
   {
    "duration": 7,
    "start_time": "2021-10-19T17:57:00.520Z"
   },
   {
    "duration": 24,
    "start_time": "2021-10-19T17:58:08.303Z"
   },
   {
    "duration": 382,
    "start_time": "2021-10-19T18:00:51.423Z"
   },
   {
    "duration": 4,
    "start_time": "2021-10-19T18:00:57.130Z"
   },
   {
    "duration": 23,
    "start_time": "2021-10-19T18:00:57.725Z"
   },
   {
    "duration": 375,
    "start_time": "2021-10-19T18:00:58.400Z"
   },
   {
    "duration": 368,
    "start_time": "2021-10-19T18:01:17.584Z"
   },
   {
    "duration": 11,
    "start_time": "2021-10-19T18:01:23.862Z"
   },
   {
    "duration": 7,
    "start_time": "2021-10-19T18:01:25.924Z"
   },
   {
    "duration": 1541,
    "start_time": "2021-10-19T18:04:40.827Z"
   },
   {
    "duration": 9,
    "start_time": "2021-10-19T18:04:42.654Z"
   },
   {
    "duration": 28,
    "start_time": "2021-10-19T18:04:57.741Z"
   },
   {
    "duration": 27,
    "start_time": "2021-10-19T18:05:15.463Z"
   },
   {
    "duration": 1460,
    "start_time": "2021-10-19T18:05:21.632Z"
   },
   {
    "duration": 25,
    "start_time": "2021-10-19T18:05:23.095Z"
   },
   {
    "duration": 43,
    "start_time": "2021-10-19T18:05:35.327Z"
   },
   {
    "duration": 1963,
    "start_time": "2021-10-19T18:10:35.837Z"
   },
   {
    "duration": 75,
    "start_time": "2021-10-19T18:10:37.802Z"
   },
   {
    "duration": 8,
    "start_time": "2021-10-19T18:10:46.628Z"
   },
   {
    "duration": 8,
    "start_time": "2021-10-19T18:11:12.018Z"
   },
   {
    "duration": 4,
    "start_time": "2021-10-19T18:20:18.355Z"
   },
   {
    "duration": 90,
    "start_time": "2021-10-19T18:20:18.363Z"
   },
   {
    "duration": 21,
    "start_time": "2021-10-19T18:20:18.455Z"
   },
   {
    "duration": 27,
    "start_time": "2021-10-19T18:20:18.479Z"
   },
   {
    "duration": 110,
    "start_time": "2021-10-19T18:20:18.508Z"
   },
   {
    "duration": 51,
    "start_time": "2021-10-19T18:20:18.620Z"
   },
   {
    "duration": 22,
    "start_time": "2021-10-19T18:20:18.673Z"
   },
   {
    "duration": 18,
    "start_time": "2021-10-19T18:20:18.698Z"
   },
   {
    "duration": 11,
    "start_time": "2021-10-19T18:20:18.720Z"
   },
   {
    "duration": 36,
    "start_time": "2021-10-19T18:20:18.734Z"
   },
   {
    "duration": 25,
    "start_time": "2021-10-19T18:20:18.772Z"
   },
   {
    "duration": 13,
    "start_time": "2021-10-19T18:20:18.799Z"
   },
   {
    "duration": 1495,
    "start_time": "2021-10-19T18:20:18.814Z"
   },
   {
    "duration": 70,
    "start_time": "2021-10-19T18:20:20.312Z"
   },
   {
    "duration": 21,
    "start_time": "2021-10-19T18:20:20.385Z"
   },
   {
    "duration": 8,
    "start_time": "2021-10-19T18:20:20.409Z"
   },
   {
    "duration": 44,
    "start_time": "2021-10-19T18:20:20.420Z"
   },
   {
    "duration": 20,
    "start_time": "2021-10-19T18:20:20.467Z"
   },
   {
    "duration": 11,
    "start_time": "2021-10-19T18:20:20.490Z"
   },
   {
    "duration": 7,
    "start_time": "2021-10-19T18:20:20.504Z"
   },
   {
    "duration": 59,
    "start_time": "2021-10-19T18:20:20.513Z"
   },
   {
    "duration": 368,
    "start_time": "2021-10-23T06:18:25.530Z"
   },
   {
    "duration": 504,
    "start_time": "2021-10-23T06:42:22.635Z"
   },
   {
    "duration": 1187,
    "start_time": "2021-10-23T06:43:08.124Z"
   },
   {
    "duration": 92,
    "start_time": "2021-10-23T06:43:09.314Z"
   },
   {
    "duration": 34,
    "start_time": "2021-10-23T06:43:09.409Z"
   },
   {
    "duration": 23,
    "start_time": "2021-10-23T06:43:09.459Z"
   },
   {
    "duration": 52,
    "start_time": "2021-10-23T06:43:09.485Z"
   },
   {
    "duration": 55,
    "start_time": "2021-10-23T06:43:09.539Z"
   },
   {
    "duration": 23,
    "start_time": "2021-10-23T06:43:09.597Z"
   },
   {
    "duration": 40,
    "start_time": "2021-10-23T06:43:09.627Z"
   },
   {
    "duration": 12,
    "start_time": "2021-10-23T06:43:09.670Z"
   },
   {
    "duration": 11,
    "start_time": "2021-10-23T06:43:09.685Z"
   },
   {
    "duration": 60,
    "start_time": "2021-10-23T06:43:09.699Z"
   },
   {
    "duration": 7,
    "start_time": "2021-10-23T06:43:09.762Z"
   },
   {
    "duration": 1516,
    "start_time": "2021-10-23T06:43:09.772Z"
   },
   {
    "duration": 41,
    "start_time": "2021-10-23T06:43:11.290Z"
   },
   {
    "duration": 32,
    "start_time": "2021-10-23T06:43:11.334Z"
   },
   {
    "duration": 8,
    "start_time": "2021-10-23T06:43:11.370Z"
   },
   {
    "duration": 13,
    "start_time": "2021-10-23T06:43:11.382Z"
   },
   {
    "duration": 18,
    "start_time": "2021-10-23T06:43:11.398Z"
   },
   {
    "duration": 53,
    "start_time": "2021-10-23T06:43:11.418Z"
   },
   {
    "duration": 7,
    "start_time": "2021-10-23T06:43:11.474Z"
   },
   {
    "duration": 30,
    "start_time": "2021-10-23T06:43:11.484Z"
   },
   {
    "duration": 35,
    "start_time": "2021-10-23T06:50:21.446Z"
   },
   {
    "duration": 140,
    "start_time": "2021-10-23T06:51:12.882Z"
   },
   {
    "duration": 25,
    "start_time": "2021-10-23T06:52:08.419Z"
   },
   {
    "duration": 23,
    "start_time": "2021-10-23T06:57:12.091Z"
   },
   {
    "duration": 22,
    "start_time": "2021-10-23T06:57:18.739Z"
   },
   {
    "duration": 3,
    "start_time": "2021-10-23T06:58:05.709Z"
   },
   {
    "duration": 94,
    "start_time": "2021-10-23T06:58:05.715Z"
   },
   {
    "duration": 21,
    "start_time": "2021-10-23T06:58:05.812Z"
   },
   {
    "duration": 69,
    "start_time": "2021-10-23T06:58:05.837Z"
   },
   {
    "duration": 35,
    "start_time": "2021-10-23T06:58:05.909Z"
   },
   {
    "duration": 26,
    "start_time": "2021-10-23T06:58:05.946Z"
   },
   {
    "duration": 18,
    "start_time": "2021-10-23T06:58:05.974Z"
   },
   {
    "duration": 11,
    "start_time": "2021-10-23T06:58:05.996Z"
   },
   {
    "duration": 11,
    "start_time": "2021-10-23T06:58:06.010Z"
   },
   {
    "duration": 47,
    "start_time": "2021-10-23T06:58:06.024Z"
   },
   {
    "duration": 7,
    "start_time": "2021-10-23T06:58:06.073Z"
   },
   {
    "duration": 1594,
    "start_time": "2021-10-23T06:58:06.083Z"
   },
   {
    "duration": 13,
    "start_time": "2021-10-23T06:58:07.680Z"
   },
   {
    "duration": 10,
    "start_time": "2021-10-23T06:58:07.695Z"
   },
   {
    "duration": 9,
    "start_time": "2021-10-23T06:58:07.707Z"
   },
   {
    "duration": 40,
    "start_time": "2021-10-23T06:58:07.718Z"
   },
   {
    "duration": 10,
    "start_time": "2021-10-23T06:58:07.761Z"
   },
   {
    "duration": 6,
    "start_time": "2021-10-23T06:58:07.773Z"
   },
   {
    "duration": 25,
    "start_time": "2021-10-23T06:58:07.781Z"
   },
   {
    "duration": 3,
    "start_time": "2021-10-23T07:08:44.840Z"
   },
   {
    "duration": 93,
    "start_time": "2021-10-23T07:08:44.846Z"
   },
   {
    "duration": 26,
    "start_time": "2021-10-23T07:08:44.942Z"
   },
   {
    "duration": 53,
    "start_time": "2021-10-23T07:08:44.970Z"
   },
   {
    "duration": 42,
    "start_time": "2021-10-23T07:08:45.025Z"
   },
   {
    "duration": 27,
    "start_time": "2021-10-23T07:08:45.069Z"
   },
   {
    "duration": 26,
    "start_time": "2021-10-23T07:08:45.098Z"
   },
   {
    "duration": 34,
    "start_time": "2021-10-23T07:08:45.126Z"
   },
   {
    "duration": 12,
    "start_time": "2021-10-23T07:08:45.164Z"
   },
   {
    "duration": 23,
    "start_time": "2021-10-23T07:08:45.178Z"
   },
   {
    "duration": 8,
    "start_time": "2021-10-23T07:08:45.203Z"
   },
   {
    "duration": 1561,
    "start_time": "2021-10-23T07:08:45.213Z"
   },
   {
    "duration": 16,
    "start_time": "2021-10-23T07:08:46.776Z"
   },
   {
    "duration": 8,
    "start_time": "2021-10-23T07:08:46.794Z"
   },
   {
    "duration": 13,
    "start_time": "2021-10-23T07:08:46.804Z"
   },
   {
    "duration": 38,
    "start_time": "2021-10-23T07:08:46.820Z"
   },
   {
    "duration": 12,
    "start_time": "2021-10-23T07:08:46.861Z"
   },
   {
    "duration": 7,
    "start_time": "2021-10-23T07:08:46.876Z"
   },
   {
    "duration": 25,
    "start_time": "2021-10-23T07:08:46.886Z"
   },
   {
    "duration": 4,
    "start_time": "2021-10-23T07:13:42.039Z"
   },
   {
    "duration": 101,
    "start_time": "2021-10-23T07:13:42.046Z"
   },
   {
    "duration": 23,
    "start_time": "2021-10-23T07:13:42.150Z"
   },
   {
    "duration": 47,
    "start_time": "2021-10-23T07:13:42.177Z"
   },
   {
    "duration": 33,
    "start_time": "2021-10-23T07:13:42.227Z"
   },
   {
    "duration": 25,
    "start_time": "2021-10-23T07:13:42.263Z"
   },
   {
    "duration": 25,
    "start_time": "2021-10-23T07:13:42.290Z"
   },
   {
    "duration": 19,
    "start_time": "2021-10-23T07:13:42.319Z"
   },
   {
    "duration": 12,
    "start_time": "2021-10-23T07:13:42.356Z"
   },
   {
    "duration": 32,
    "start_time": "2021-10-23T07:13:42.370Z"
   },
   {
    "duration": 11,
    "start_time": "2021-10-23T07:13:42.405Z"
   },
   {
    "duration": 1548,
    "start_time": "2021-10-23T07:13:42.418Z"
   },
   {
    "duration": 17,
    "start_time": "2021-10-23T07:13:43.969Z"
   },
   {
    "duration": 8,
    "start_time": "2021-10-23T07:13:43.989Z"
   },
   {
    "duration": 25,
    "start_time": "2021-10-23T07:13:44.000Z"
   },
   {
    "duration": 41,
    "start_time": "2021-10-23T07:13:44.028Z"
   },
   {
    "duration": 22,
    "start_time": "2021-10-23T07:13:44.071Z"
   },
   {
    "duration": 25,
    "start_time": "2021-10-23T07:13:44.096Z"
   },
   {
    "duration": 50,
    "start_time": "2021-10-23T07:13:44.123Z"
   },
   {
    "duration": 15,
    "start_time": "2021-10-23T07:14:08.812Z"
   },
   {
    "duration": 4,
    "start_time": "2021-10-23T07:14:25.345Z"
   },
   {
    "duration": 94,
    "start_time": "2021-10-23T07:14:25.351Z"
   },
   {
    "duration": 22,
    "start_time": "2021-10-23T07:14:25.449Z"
   },
   {
    "duration": 50,
    "start_time": "2021-10-23T07:14:25.474Z"
   },
   {
    "duration": 32,
    "start_time": "2021-10-23T07:14:25.527Z"
   },
   {
    "duration": 25,
    "start_time": "2021-10-23T07:14:25.561Z"
   },
   {
    "duration": 13,
    "start_time": "2021-10-23T07:14:25.590Z"
   },
   {
    "duration": 11,
    "start_time": "2021-10-23T07:14:25.606Z"
   },
   {
    "duration": 43,
    "start_time": "2021-10-23T07:14:25.620Z"
   },
   {
    "duration": 23,
    "start_time": "2021-10-23T07:14:25.665Z"
   },
   {
    "duration": 7,
    "start_time": "2021-10-23T07:14:25.691Z"
   },
   {
    "duration": 1647,
    "start_time": "2021-10-23T07:14:25.700Z"
   },
   {
    "duration": 18,
    "start_time": "2021-10-23T07:14:27.349Z"
   },
   {
    "duration": 7,
    "start_time": "2021-10-23T07:14:27.370Z"
   },
   {
    "duration": 8,
    "start_time": "2021-10-23T07:14:27.380Z"
   },
   {
    "duration": 7,
    "start_time": "2021-10-23T07:14:27.390Z"
   },
   {
    "duration": 13,
    "start_time": "2021-10-23T07:14:27.399Z"
   },
   {
    "duration": 48,
    "start_time": "2021-10-23T07:14:27.415Z"
   },
   {
    "duration": 26,
    "start_time": "2021-10-23T07:14:27.468Z"
   },
   {
    "duration": 13,
    "start_time": "2021-10-23T07:19:08.938Z"
   },
   {
    "duration": 23,
    "start_time": "2021-10-23T07:19:55.104Z"
   },
   {
    "duration": 22,
    "start_time": "2021-10-23T07:20:01.027Z"
   },
   {
    "duration": 18,
    "start_time": "2021-10-23T07:53:10.603Z"
   },
   {
    "duration": 11,
    "start_time": "2021-10-23T08:22:19.483Z"
   },
   {
    "duration": 14,
    "start_time": "2021-10-23T08:22:31.663Z"
   },
   {
    "duration": 27,
    "start_time": "2021-10-23T08:24:11.451Z"
   },
   {
    "duration": 23,
    "start_time": "2021-10-23T08:24:29.983Z"
   },
   {
    "duration": 16,
    "start_time": "2021-10-23T08:25:59.538Z"
   },
   {
    "duration": -70,
    "start_time": "2021-10-23T08:26:21.886Z"
   },
   {
    "duration": 29,
    "start_time": "2021-10-23T08:26:27.895Z"
   },
   {
    "duration": 12,
    "start_time": "2021-10-23T11:00:41.408Z"
   },
   {
    "duration": 386,
    "start_time": "2021-10-23T11:01:36.371Z"
   },
   {
    "duration": 44,
    "start_time": "2021-10-23T11:01:46.638Z"
   },
   {
    "duration": 11,
    "start_time": "2021-10-23T11:02:14.310Z"
   },
   {
    "duration": 423,
    "start_time": "2021-10-23T11:08:23.303Z"
   },
   {
    "duration": 45,
    "start_time": "2021-10-23T11:08:33.601Z"
   },
   {
    "duration": 12,
    "start_time": "2021-10-23T11:09:17.089Z"
   },
   {
    "duration": 413,
    "start_time": "2021-10-23T11:09:28.255Z"
   },
   {
    "duration": 12,
    "start_time": "2021-10-23T11:09:36.061Z"
   },
   {
    "duration": 26,
    "start_time": "2021-10-23T11:21:56.663Z"
   },
   {
    "duration": 8,
    "start_time": "2021-10-23T11:24:04.674Z"
   },
   {
    "duration": 24,
    "start_time": "2021-10-23T11:24:17.126Z"
   },
   {
    "duration": 26,
    "start_time": "2021-10-23T11:30:56.091Z"
   },
   {
    "duration": 28,
    "start_time": "2021-10-23T11:31:36.602Z"
   },
   {
    "duration": 25,
    "start_time": "2021-10-23T11:34:26.856Z"
   },
   {
    "duration": 406,
    "start_time": "2021-10-23T11:35:30.899Z"
   },
   {
    "duration": 395,
    "start_time": "2021-10-23T11:35:45.816Z"
   },
   {
    "duration": 3,
    "start_time": "2021-10-23T11:36:18.874Z"
   },
   {
    "duration": 98,
    "start_time": "2021-10-23T11:36:18.880Z"
   },
   {
    "duration": 21,
    "start_time": "2021-10-23T11:36:18.981Z"
   },
   {
    "duration": 54,
    "start_time": "2021-10-23T11:36:19.005Z"
   },
   {
    "duration": 81,
    "start_time": "2021-10-23T11:36:19.061Z"
   },
   {
    "duration": 34,
    "start_time": "2021-10-23T11:36:19.144Z"
   },
   {
    "duration": 25,
    "start_time": "2021-10-23T11:36:19.180Z"
   },
   {
    "duration": 20,
    "start_time": "2021-10-23T11:36:19.210Z"
   },
   {
    "duration": 10,
    "start_time": "2021-10-23T11:36:19.259Z"
   },
   {
    "duration": 10,
    "start_time": "2021-10-23T11:36:19.272Z"
   },
   {
    "duration": 23,
    "start_time": "2021-10-23T11:36:19.285Z"
   },
   {
    "duration": 11,
    "start_time": "2021-10-23T11:36:19.311Z"
   },
   {
    "duration": 1490,
    "start_time": "2021-10-23T11:36:19.358Z"
   },
   {
    "duration": 14,
    "start_time": "2021-10-23T11:36:20.850Z"
   },
   {
    "duration": 6,
    "start_time": "2021-10-23T11:36:20.867Z"
   },
   {
    "duration": 17,
    "start_time": "2021-10-23T11:36:20.875Z"
   },
   {
    "duration": 15,
    "start_time": "2021-10-23T11:36:20.894Z"
   },
   {
    "duration": 48,
    "start_time": "2021-10-23T11:36:20.911Z"
   },
   {
    "duration": 11,
    "start_time": "2021-10-23T11:36:20.962Z"
   },
   {
    "duration": 44,
    "start_time": "2021-10-23T11:36:20.975Z"
   },
   {
    "duration": 49,
    "start_time": "2021-10-23T11:36:21.021Z"
   },
   {
    "duration": 24,
    "start_time": "2021-10-23T11:36:21.072Z"
   },
   {
    "duration": 410,
    "start_time": "2021-10-23T11:36:21.101Z"
   },
   {
    "duration": -12,
    "start_time": "2021-10-23T11:36:21.525Z"
   },
   {
    "duration": -14,
    "start_time": "2021-10-23T11:36:21.529Z"
   },
   {
    "duration": -16,
    "start_time": "2021-10-23T11:36:21.532Z"
   },
   {
    "duration": -17,
    "start_time": "2021-10-23T11:36:21.534Z"
   },
   {
    "duration": -17,
    "start_time": "2021-10-23T11:36:21.535Z"
   },
   {
    "duration": -17,
    "start_time": "2021-10-23T11:36:21.537Z"
   },
   {
    "duration": -23,
    "start_time": "2021-10-23T11:36:21.544Z"
   },
   {
    "duration": -51,
    "start_time": "2021-10-23T11:36:21.573Z"
   },
   {
    "duration": -55,
    "start_time": "2021-10-23T11:36:21.578Z"
   },
   {
    "duration": 432,
    "start_time": "2021-10-23T11:37:09.584Z"
   },
   {
    "duration": 394,
    "start_time": "2021-10-23T11:37:23.725Z"
   },
   {
    "duration": 3,
    "start_time": "2021-10-23T11:37:46.404Z"
   },
   {
    "duration": 107,
    "start_time": "2021-10-23T11:37:46.410Z"
   },
   {
    "duration": 19,
    "start_time": "2021-10-23T11:37:46.520Z"
   },
   {
    "duration": 22,
    "start_time": "2021-10-23T11:37:46.557Z"
   },
   {
    "duration": 67,
    "start_time": "2021-10-23T11:37:46.581Z"
   },
   {
    "duration": 34,
    "start_time": "2021-10-23T11:37:46.650Z"
   },
   {
    "duration": 24,
    "start_time": "2021-10-23T11:37:46.686Z"
   },
   {
    "duration": 28,
    "start_time": "2021-10-23T11:37:46.712Z"
   },
   {
    "duration": 23,
    "start_time": "2021-10-23T11:37:46.744Z"
   },
   {
    "duration": 20,
    "start_time": "2021-10-23T11:37:46.770Z"
   },
   {
    "duration": 33,
    "start_time": "2021-10-23T11:37:46.792Z"
   },
   {
    "duration": 15,
    "start_time": "2021-10-23T11:37:46.828Z"
   },
   {
    "duration": 1590,
    "start_time": "2021-10-23T11:37:46.845Z"
   },
   {
    "duration": 21,
    "start_time": "2021-10-23T11:37:48.437Z"
   },
   {
    "duration": 6,
    "start_time": "2021-10-23T11:37:48.461Z"
   },
   {
    "duration": 20,
    "start_time": "2021-10-23T11:37:48.469Z"
   },
   {
    "duration": 10,
    "start_time": "2021-10-23T11:37:48.491Z"
   },
   {
    "duration": 15,
    "start_time": "2021-10-23T11:37:48.503Z"
   },
   {
    "duration": 42,
    "start_time": "2021-10-23T11:37:48.520Z"
   },
   {
    "duration": 42,
    "start_time": "2021-10-23T11:37:48.564Z"
   },
   {
    "duration": 23,
    "start_time": "2021-10-23T11:37:48.609Z"
   },
   {
    "duration": 7,
    "start_time": "2021-10-23T11:37:48.658Z"
   },
   {
    "duration": 33,
    "start_time": "2021-10-23T11:37:48.668Z"
   },
   {
    "duration": 14,
    "start_time": "2021-10-23T11:37:48.703Z"
   },
   {
    "duration": 50,
    "start_time": "2021-10-23T11:37:48.719Z"
   },
   {
    "duration": 9,
    "start_time": "2021-10-23T11:37:48.772Z"
   },
   {
    "duration": 7,
    "start_time": "2021-10-23T11:37:48.786Z"
   },
   {
    "duration": 8,
    "start_time": "2021-10-23T11:37:48.796Z"
   },
   {
    "duration": 19,
    "start_time": "2021-10-23T11:37:48.806Z"
   },
   {
    "duration": 30,
    "start_time": "2021-10-23T11:37:48.827Z"
   },
   {
    "duration": 24,
    "start_time": "2021-10-23T11:37:48.860Z"
   },
   {
    "duration": 24,
    "start_time": "2021-10-23T11:39:46.093Z"
   },
   {
    "duration": 37,
    "start_time": "2021-10-23T11:40:00.842Z"
   },
   {
    "duration": 11,
    "start_time": "2021-10-23T12:24:22.633Z"
   },
   {
    "duration": 10138,
    "start_time": "2021-10-23T12:25:22.919Z"
   },
   {
    "duration": 393,
    "start_time": "2021-10-23T12:26:34.066Z"
   },
   {
    "duration": 11,
    "start_time": "2021-10-23T12:26:39.589Z"
   },
   {
    "duration": 8,
    "start_time": "2021-10-23T12:27:54.820Z"
   },
   {
    "duration": 12,
    "start_time": "2021-10-23T12:28:15.846Z"
   },
   {
    "duration": 13,
    "start_time": "2021-10-23T12:28:26.536Z"
   },
   {
    "duration": 7,
    "start_time": "2021-10-23T12:44:59.126Z"
   },
   {
    "duration": 6,
    "start_time": "2021-10-23T12:46:33.355Z"
   },
   {
    "duration": 1907,
    "start_time": "2021-10-23T12:53:03.887Z"
   },
   {
    "duration": 14,
    "start_time": "2021-10-23T12:53:15.131Z"
   },
   {
    "duration": 29,
    "start_time": "2021-10-23T12:53:37.603Z"
   },
   {
    "duration": 9,
    "start_time": "2021-10-23T12:53:59.599Z"
   },
   {
    "duration": 28,
    "start_time": "2021-10-23T12:54:00.832Z"
   },
   {
    "duration": 40,
    "start_time": "2021-10-23T14:13:15.372Z"
   },
   {
    "duration": 30,
    "start_time": "2021-10-23T14:19:34.713Z"
   },
   {
    "duration": 12,
    "start_time": "2021-10-23T14:19:53.012Z"
   },
   {
    "duration": 10,
    "start_time": "2021-10-23T15:04:27.720Z"
   },
   {
    "duration": 10,
    "start_time": "2021-10-23T15:04:46.270Z"
   },
   {
    "duration": 11,
    "start_time": "2021-10-23T15:04:57.417Z"
   },
   {
    "duration": 10,
    "start_time": "2021-10-23T15:06:34.066Z"
   },
   {
    "duration": 9,
    "start_time": "2021-10-23T15:07:28.266Z"
   },
   {
    "duration": 23,
    "start_time": "2021-10-23T15:07:48.365Z"
   },
   {
    "duration": 14,
    "start_time": "2021-10-23T15:08:06.667Z"
   },
   {
    "duration": 6,
    "start_time": "2021-10-23T15:08:13.989Z"
   },
   {
    "duration": 15,
    "start_time": "2021-10-23T15:08:14.441Z"
   },
   {
    "duration": 4,
    "start_time": "2021-10-23T15:08:26.161Z"
   },
   {
    "duration": 117,
    "start_time": "2021-10-23T15:08:26.168Z"
   },
   {
    "duration": 20,
    "start_time": "2021-10-23T15:08:26.288Z"
   },
   {
    "duration": 48,
    "start_time": "2021-10-23T15:08:26.311Z"
   },
   {
    "duration": 74,
    "start_time": "2021-10-23T15:08:26.361Z"
   },
   {
    "duration": 37,
    "start_time": "2021-10-23T15:08:26.437Z"
   },
   {
    "duration": 25,
    "start_time": "2021-10-23T15:08:26.479Z"
   },
   {
    "duration": 15,
    "start_time": "2021-10-23T15:08:26.508Z"
   },
   {
    "duration": 43,
    "start_time": "2021-10-23T15:08:26.526Z"
   },
   {
    "duration": 14,
    "start_time": "2021-10-23T15:08:26.571Z"
   },
   {
    "duration": 23,
    "start_time": "2021-10-23T15:08:26.587Z"
   },
   {
    "duration": 47,
    "start_time": "2021-10-23T15:08:26.614Z"
   },
   {
    "duration": 1597,
    "start_time": "2021-10-23T15:08:26.664Z"
   },
   {
    "duration": 16,
    "start_time": "2021-10-23T15:08:28.264Z"
   },
   {
    "duration": 6,
    "start_time": "2021-10-23T15:08:28.282Z"
   },
   {
    "duration": 14,
    "start_time": "2021-10-23T15:08:28.290Z"
   },
   {
    "duration": 50,
    "start_time": "2021-10-23T15:08:28.307Z"
   },
   {
    "duration": 15,
    "start_time": "2021-10-23T15:08:28.360Z"
   },
   {
    "duration": 13,
    "start_time": "2021-10-23T15:08:28.381Z"
   },
   {
    "duration": 103,
    "start_time": "2021-10-23T15:08:28.398Z"
   },
   {
    "duration": 34,
    "start_time": "2021-10-23T15:08:28.504Z"
   },
   {
    "duration": 29,
    "start_time": "2021-10-23T15:08:28.541Z"
   },
   {
    "duration": 37,
    "start_time": "2021-10-23T15:08:28.573Z"
   },
   {
    "duration": 12,
    "start_time": "2021-10-23T15:08:28.613Z"
   },
   {
    "duration": 53,
    "start_time": "2021-10-23T15:08:28.628Z"
   },
   {
    "duration": 6,
    "start_time": "2021-10-23T15:08:28.684Z"
   },
   {
    "duration": 27,
    "start_time": "2021-10-23T15:08:28.693Z"
   },
   {
    "duration": 37,
    "start_time": "2021-10-23T15:08:28.722Z"
   },
   {
    "duration": 10,
    "start_time": "2021-10-23T15:08:28.761Z"
   },
   {
    "duration": 9,
    "start_time": "2021-10-23T15:08:28.773Z"
   },
   {
    "duration": 10,
    "start_time": "2021-10-23T15:08:28.785Z"
   },
   {
    "duration": 13,
    "start_time": "2021-10-23T15:08:28.798Z"
   },
   {
    "duration": 79,
    "start_time": "2021-10-23T15:08:28.814Z"
   },
   {
    "duration": 12,
    "start_time": "2021-10-23T15:08:28.896Z"
   },
   {
    "duration": 14,
    "start_time": "2021-10-23T15:08:28.911Z"
   },
   {
    "duration": 40,
    "start_time": "2021-10-23T15:08:28.928Z"
   },
   {
    "duration": 24,
    "start_time": "2021-10-23T15:08:28.971Z"
   },
   {
    "duration": 6,
    "start_time": "2021-10-23T15:08:28.997Z"
   },
   {
    "duration": 16,
    "start_time": "2021-10-23T15:08:29.005Z"
   },
   {
    "duration": 13,
    "start_time": "2021-10-23T15:22:03.410Z"
   },
   {
    "duration": 13,
    "start_time": "2021-10-23T15:22:47.516Z"
   },
   {
    "duration": 3,
    "start_time": "2021-10-23T15:22:55.843Z"
   },
   {
    "duration": 108,
    "start_time": "2021-10-23T15:22:55.853Z"
   },
   {
    "duration": 20,
    "start_time": "2021-10-23T15:22:55.964Z"
   },
   {
    "duration": 23,
    "start_time": "2021-10-23T15:22:55.987Z"
   },
   {
    "duration": 111,
    "start_time": "2021-10-23T15:22:56.013Z"
   },
   {
    "duration": 34,
    "start_time": "2021-10-23T15:22:56.127Z"
   },
   {
    "duration": 27,
    "start_time": "2021-10-23T15:22:56.163Z"
   },
   {
    "duration": 33,
    "start_time": "2021-10-23T15:22:56.192Z"
   },
   {
    "duration": 18,
    "start_time": "2021-10-23T15:22:56.229Z"
   },
   {
    "duration": 17,
    "start_time": "2021-10-23T15:22:56.258Z"
   },
   {
    "duration": 31,
    "start_time": "2021-10-23T15:22:56.278Z"
   },
   {
    "duration": 22,
    "start_time": "2021-10-23T15:22:56.311Z"
   },
   {
    "duration": 1522,
    "start_time": "2021-10-23T15:22:56.335Z"
   },
   {
    "duration": 14,
    "start_time": "2021-10-23T15:22:57.860Z"
   },
   {
    "duration": 7,
    "start_time": "2021-10-23T15:22:57.876Z"
   },
   {
    "duration": 14,
    "start_time": "2021-10-23T15:22:57.886Z"
   },
   {
    "duration": 13,
    "start_time": "2021-10-23T15:22:57.903Z"
   },
   {
    "duration": 50,
    "start_time": "2021-10-23T15:22:57.919Z"
   },
   {
    "duration": 13,
    "start_time": "2021-10-23T15:22:57.971Z"
   },
   {
    "duration": 72,
    "start_time": "2021-10-23T15:22:57.987Z"
   },
   {
    "duration": 26,
    "start_time": "2021-10-23T15:22:58.062Z"
   },
   {
    "duration": 10,
    "start_time": "2021-10-23T15:22:58.091Z"
   },
   {
    "duration": 66,
    "start_time": "2021-10-23T15:22:58.104Z"
   },
   {
    "duration": 11,
    "start_time": "2021-10-23T15:22:58.176Z"
   },
   {
    "duration": 28,
    "start_time": "2021-10-23T15:22:58.189Z"
   },
   {
    "duration": 41,
    "start_time": "2021-10-23T15:22:58.219Z"
   },
   {
    "duration": 27,
    "start_time": "2021-10-23T15:22:58.263Z"
   },
   {
    "duration": 11,
    "start_time": "2021-10-23T15:22:58.292Z"
   },
   {
    "duration": 9,
    "start_time": "2021-10-23T15:22:58.306Z"
   },
   {
    "duration": 44,
    "start_time": "2021-10-23T15:22:58.318Z"
   },
   {
    "duration": 8,
    "start_time": "2021-10-23T15:22:58.364Z"
   },
   {
    "duration": 9,
    "start_time": "2021-10-23T15:22:58.374Z"
   },
   {
    "duration": 35,
    "start_time": "2021-10-23T15:22:58.385Z"
   },
   {
    "duration": 42,
    "start_time": "2021-10-23T15:22:58.423Z"
   },
   {
    "duration": 11,
    "start_time": "2021-10-23T15:22:58.467Z"
   },
   {
    "duration": 26,
    "start_time": "2021-10-23T15:22:58.481Z"
   },
   {
    "duration": 13,
    "start_time": "2021-10-23T15:22:58.510Z"
   },
   {
    "duration": 43,
    "start_time": "2021-10-23T15:22:58.525Z"
   },
   {
    "duration": 6,
    "start_time": "2021-10-23T15:22:58.570Z"
   },
   {
    "duration": 16,
    "start_time": "2021-10-23T15:22:58.579Z"
   },
   {
    "duration": 7,
    "start_time": "2021-10-23T15:26:29.280Z"
   },
   {
    "duration": 3,
    "start_time": "2021-10-23T15:26:36.656Z"
   },
   {
    "duration": 84,
    "start_time": "2021-10-23T15:26:36.754Z"
   },
   {
    "duration": 35,
    "start_time": "2021-10-23T15:26:36.841Z"
   },
   {
    "duration": 23,
    "start_time": "2021-10-23T15:26:36.878Z"
   },
   {
    "duration": 78,
    "start_time": "2021-10-23T15:26:36.904Z"
   },
   {
    "duration": 34,
    "start_time": "2021-10-23T15:26:36.984Z"
   },
   {
    "duration": 37,
    "start_time": "2021-10-23T15:26:37.020Z"
   },
   {
    "duration": 14,
    "start_time": "2021-10-23T15:26:37.060Z"
   },
   {
    "duration": 15,
    "start_time": "2021-10-23T15:26:37.077Z"
   },
   {
    "duration": 11,
    "start_time": "2021-10-23T15:26:37.095Z"
   },
   {
    "duration": 57,
    "start_time": "2021-10-23T15:26:37.108Z"
   },
   {
    "duration": 7,
    "start_time": "2021-10-23T15:26:37.167Z"
   },
   {
    "duration": 1499,
    "start_time": "2021-10-23T15:26:37.176Z"
   },
   {
    "duration": 14,
    "start_time": "2021-10-23T15:26:38.678Z"
   },
   {
    "duration": 7,
    "start_time": "2021-10-23T15:26:38.694Z"
   },
   {
    "duration": 12,
    "start_time": "2021-10-23T15:26:38.703Z"
   },
   {
    "duration": 46,
    "start_time": "2021-10-23T15:26:38.718Z"
   },
   {
    "duration": 14,
    "start_time": "2021-10-23T15:26:38.766Z"
   },
   {
    "duration": 13,
    "start_time": "2021-10-23T15:26:38.782Z"
   },
   {
    "duration": 74,
    "start_time": "2021-10-23T15:26:38.798Z"
   },
   {
    "duration": 24,
    "start_time": "2021-10-23T15:26:38.875Z"
   },
   {
    "duration": 10,
    "start_time": "2021-10-23T15:26:38.902Z"
   },
   {
    "duration": 53,
    "start_time": "2021-10-23T15:26:38.914Z"
   },
   {
    "duration": 12,
    "start_time": "2021-10-23T15:26:38.972Z"
   },
   {
    "duration": 28,
    "start_time": "2021-10-23T15:26:38.987Z"
   },
   {
    "duration": 44,
    "start_time": "2021-10-23T15:26:39.017Z"
   },
   {
    "duration": 24,
    "start_time": "2021-10-23T15:26:39.064Z"
   },
   {
    "duration": 9,
    "start_time": "2021-10-23T15:26:39.091Z"
   },
   {
    "duration": 8,
    "start_time": "2021-10-23T15:26:39.102Z"
   },
   {
    "duration": 10,
    "start_time": "2021-10-23T15:26:39.112Z"
   },
   {
    "duration": 7,
    "start_time": "2021-10-23T15:26:39.158Z"
   },
   {
    "duration": 14,
    "start_time": "2021-10-23T15:26:39.167Z"
   },
   {
    "duration": 34,
    "start_time": "2021-10-23T15:26:39.183Z"
   },
   {
    "duration": 39,
    "start_time": "2021-10-23T15:26:39.220Z"
   },
   {
    "duration": 14,
    "start_time": "2021-10-23T15:26:39.262Z"
   },
   {
    "duration": 38,
    "start_time": "2021-10-23T15:26:39.278Z"
   },
   {
    "duration": 12,
    "start_time": "2021-10-23T15:26:39.319Z"
   },
   {
    "duration": 37,
    "start_time": "2021-10-23T15:26:39.358Z"
   },
   {
    "duration": 9,
    "start_time": "2021-10-23T15:26:39.398Z"
   },
   {
    "duration": 23,
    "start_time": "2021-10-23T15:26:39.409Z"
   },
   {
    "duration": 21,
    "start_time": "2021-10-23T15:29:55.995Z"
   },
   {
    "duration": 10,
    "start_time": "2021-10-23T15:30:11.029Z"
   },
   {
    "duration": 26,
    "start_time": "2021-10-23T15:30:15.699Z"
   },
   {
    "duration": 11,
    "start_time": "2021-10-23T15:30:52.585Z"
   },
   {
    "duration": 4,
    "start_time": "2021-10-23T15:31:04.767Z"
   },
   {
    "duration": 110,
    "start_time": "2021-10-23T15:31:04.773Z"
   },
   {
    "duration": 21,
    "start_time": "2021-10-23T15:31:04.886Z"
   },
   {
    "duration": 27,
    "start_time": "2021-10-23T15:31:04.909Z"
   },
   {
    "duration": 86,
    "start_time": "2021-10-23T15:31:04.958Z"
   },
   {
    "duration": 33,
    "start_time": "2021-10-23T15:31:05.046Z"
   },
   {
    "duration": 26,
    "start_time": "2021-10-23T15:31:05.082Z"
   },
   {
    "duration": 13,
    "start_time": "2021-10-23T15:31:05.112Z"
   },
   {
    "duration": 33,
    "start_time": "2021-10-23T15:31:05.128Z"
   },
   {
    "duration": 11,
    "start_time": "2021-10-23T15:31:05.163Z"
   },
   {
    "duration": 23,
    "start_time": "2021-10-23T15:31:05.176Z"
   },
   {
    "duration": 9,
    "start_time": "2021-10-23T15:31:05.201Z"
   },
   {
    "duration": 1794,
    "start_time": "2021-10-23T15:31:05.212Z"
   },
   {
    "duration": 14,
    "start_time": "2021-10-23T15:31:07.009Z"
   },
   {
    "duration": 8,
    "start_time": "2021-10-23T15:31:07.026Z"
   },
   {
    "duration": 31,
    "start_time": "2021-10-23T15:31:07.037Z"
   },
   {
    "duration": 11,
    "start_time": "2021-10-23T15:31:07.071Z"
   },
   {
    "duration": 14,
    "start_time": "2021-10-23T15:31:07.086Z"
   },
   {
    "duration": 61,
    "start_time": "2021-10-23T15:31:07.103Z"
   },
   {
    "duration": 43,
    "start_time": "2021-10-23T15:31:07.167Z"
   },
   {
    "duration": 56,
    "start_time": "2021-10-23T15:31:07.213Z"
   },
   {
    "duration": 7,
    "start_time": "2021-10-23T15:31:07.273Z"
   },
   {
    "duration": 23,
    "start_time": "2021-10-23T15:31:07.286Z"
   },
   {
    "duration": 48,
    "start_time": "2021-10-23T15:31:07.312Z"
   },
   {
    "duration": 27,
    "start_time": "2021-10-23T15:31:07.362Z"
   },
   {
    "duration": 8,
    "start_time": "2021-10-23T15:31:07.391Z"
   },
   {
    "duration": 58,
    "start_time": "2021-10-23T15:31:07.401Z"
   },
   {
    "duration": 8,
    "start_time": "2021-10-23T15:31:07.462Z"
   },
   {
    "duration": 9,
    "start_time": "2021-10-23T15:31:07.473Z"
   },
   {
    "duration": 10,
    "start_time": "2021-10-23T15:31:07.484Z"
   },
   {
    "duration": 8,
    "start_time": "2021-10-23T15:31:07.496Z"
   },
   {
    "duration": 9,
    "start_time": "2021-10-23T15:31:07.507Z"
   },
   {
    "duration": 32,
    "start_time": "2021-10-23T15:31:07.559Z"
   },
   {
    "duration": 12,
    "start_time": "2021-10-23T15:31:07.594Z"
   },
   {
    "duration": 55,
    "start_time": "2021-10-23T15:31:07.608Z"
   },
   {
    "duration": 31,
    "start_time": "2021-10-23T15:31:07.666Z"
   },
   {
    "duration": 30,
    "start_time": "2021-10-23T15:31:07.699Z"
   },
   {
    "duration": 35,
    "start_time": "2021-10-23T15:31:07.731Z"
   },
   {
    "duration": 18,
    "start_time": "2021-10-23T15:31:07.768Z"
   },
   {
    "duration": 8,
    "start_time": "2021-10-23T15:31:07.788Z"
   },
   {
    "duration": 30,
    "start_time": "2021-10-23T15:31:07.798Z"
   },
   {
    "duration": 4,
    "start_time": "2021-10-23T15:31:58.702Z"
   },
   {
    "duration": 91,
    "start_time": "2021-10-23T15:31:58.708Z"
   },
   {
    "duration": 22,
    "start_time": "2021-10-23T15:31:58.802Z"
   },
   {
    "duration": 47,
    "start_time": "2021-10-23T15:31:58.826Z"
   },
   {
    "duration": 68,
    "start_time": "2021-10-23T15:31:58.875Z"
   },
   {
    "duration": 35,
    "start_time": "2021-10-23T15:31:58.945Z"
   },
   {
    "duration": 27,
    "start_time": "2021-10-23T15:31:58.983Z"
   },
   {
    "duration": 45,
    "start_time": "2021-10-23T15:31:59.015Z"
   },
   {
    "duration": 14,
    "start_time": "2021-10-23T15:31:59.064Z"
   },
   {
    "duration": 19,
    "start_time": "2021-10-23T15:31:59.081Z"
   },
   {
    "duration": 24,
    "start_time": "2021-10-23T15:31:59.103Z"
   },
   {
    "duration": 7,
    "start_time": "2021-10-23T15:31:59.159Z"
   },
   {
    "duration": 1613,
    "start_time": "2021-10-23T15:31:59.168Z"
   },
   {
    "duration": 15,
    "start_time": "2021-10-23T15:32:00.783Z"
   },
   {
    "duration": 21,
    "start_time": "2021-10-23T15:32:00.800Z"
   },
   {
    "duration": 22,
    "start_time": "2021-10-23T15:32:00.823Z"
   },
   {
    "duration": 25,
    "start_time": "2021-10-23T15:32:00.847Z"
   },
   {
    "duration": 23,
    "start_time": "2021-10-23T15:32:00.874Z"
   },
   {
    "duration": 18,
    "start_time": "2021-10-23T15:32:00.900Z"
   },
   {
    "duration": 57,
    "start_time": "2021-10-23T15:32:00.921Z"
   },
   {
    "duration": 27,
    "start_time": "2021-10-23T15:32:00.981Z"
   },
   {
    "duration": 27,
    "start_time": "2021-10-23T15:32:01.010Z"
   },
   {
    "duration": 34,
    "start_time": "2021-10-23T15:32:01.042Z"
   },
   {
    "duration": 28,
    "start_time": "2021-10-23T15:32:01.078Z"
   },
   {
    "duration": 41,
    "start_time": "2021-10-23T15:32:01.108Z"
   },
   {
    "duration": 30,
    "start_time": "2021-10-23T15:32:01.152Z"
   },
   {
    "duration": 36,
    "start_time": "2021-10-23T15:32:01.184Z"
   },
   {
    "duration": 22,
    "start_time": "2021-10-23T15:32:01.222Z"
   },
   {
    "duration": 14,
    "start_time": "2021-10-23T15:32:01.246Z"
   },
   {
    "duration": 23,
    "start_time": "2021-10-23T15:32:01.262Z"
   },
   {
    "duration": 23,
    "start_time": "2021-10-23T15:32:01.287Z"
   },
   {
    "duration": 14,
    "start_time": "2021-10-23T15:32:01.312Z"
   },
   {
    "duration": 41,
    "start_time": "2021-10-23T15:32:01.329Z"
   },
   {
    "duration": 10,
    "start_time": "2021-10-23T15:32:01.373Z"
   },
   {
    "duration": 15,
    "start_time": "2021-10-23T15:32:01.385Z"
   },
   {
    "duration": 19,
    "start_time": "2021-10-23T15:32:01.402Z"
   },
   {
    "duration": 22,
    "start_time": "2021-10-23T15:32:01.423Z"
   },
   {
    "duration": 15,
    "start_time": "2021-10-23T15:32:01.447Z"
   },
   {
    "duration": 41,
    "start_time": "2021-10-23T15:32:01.465Z"
   },
   {
    "duration": 20,
    "start_time": "2021-10-23T15:54:02.698Z"
   },
   {
    "duration": 44,
    "start_time": "2021-10-23T15:54:12.838Z"
   },
   {
    "duration": 18,
    "start_time": "2021-10-23T15:54:21.473Z"
   },
   {
    "duration": 29,
    "start_time": "2021-10-23T15:54:22.252Z"
   },
   {
    "duration": 6,
    "start_time": "2021-10-23T16:10:16.057Z"
   },
   {
    "duration": 29,
    "start_time": "2021-10-23T16:10:23.402Z"
   },
   {
    "duration": 29,
    "start_time": "2021-10-23T16:10:30.546Z"
   },
   {
    "duration": 10,
    "start_time": "2021-10-23T16:10:54.080Z"
   },
   {
    "duration": 431,
    "start_time": "2021-10-23T16:11:25.598Z"
   },
   {
    "duration": 34,
    "start_time": "2021-10-23T16:11:33.626Z"
   },
   {
    "duration": 9948,
    "start_time": "2021-10-23T16:12:31.972Z"
   },
   {
    "duration": 31,
    "start_time": "2021-10-23T16:12:56.805Z"
   },
   {
    "duration": 367,
    "start_time": "2021-10-23T16:16:31.404Z"
   },
   {
    "duration": 9,
    "start_time": "2021-10-23T16:16:50.923Z"
   },
   {
    "duration": 8,
    "start_time": "2021-10-23T16:18:13.433Z"
   },
   {
    "duration": 7,
    "start_time": "2021-10-23T16:18:31.307Z"
   },
   {
    "duration": 12,
    "start_time": "2021-10-23T16:18:53.725Z"
   },
   {
    "duration": 15,
    "start_time": "2021-10-23T16:20:26.721Z"
   },
   {
    "duration": 12,
    "start_time": "2021-10-23T16:24:28.620Z"
   },
   {
    "duration": 9,
    "start_time": "2021-10-23T16:24:47.199Z"
   },
   {
    "duration": 957,
    "start_time": "2021-10-23T16:24:58.159Z"
   },
   {
    "duration": 9,
    "start_time": "2021-10-23T16:25:16.325Z"
   },
   {
    "duration": 10,
    "start_time": "2021-10-23T16:25:28.968Z"
   },
   {
    "duration": 8998,
    "start_time": "2021-10-23T16:26:32.568Z"
   },
   {
    "duration": 786,
    "start_time": "2021-10-23T16:27:08.779Z"
   },
   {
    "duration": 4,
    "start_time": "2021-10-23T16:27:55.003Z"
   },
   {
    "duration": 102,
    "start_time": "2021-10-23T16:27:55.011Z"
   },
   {
    "duration": 54,
    "start_time": "2021-10-23T16:27:55.116Z"
   },
   {
    "duration": 24,
    "start_time": "2021-10-23T16:27:55.172Z"
   },
   {
    "duration": 107,
    "start_time": "2021-10-23T16:27:55.198Z"
   },
   {
    "duration": 34,
    "start_time": "2021-10-23T16:27:55.308Z"
   },
   {
    "duration": 26,
    "start_time": "2021-10-23T16:27:55.344Z"
   },
   {
    "duration": 15,
    "start_time": "2021-10-23T16:27:55.373Z"
   },
   {
    "duration": 14,
    "start_time": "2021-10-23T16:27:55.393Z"
   },
   {
    "duration": 48,
    "start_time": "2021-10-23T16:27:55.410Z"
   },
   {
    "duration": 32,
    "start_time": "2021-10-23T16:27:55.461Z"
   },
   {
    "duration": 8,
    "start_time": "2021-10-23T16:27:55.497Z"
   },
   {
    "duration": 1541,
    "start_time": "2021-10-23T16:27:55.508Z"
   },
   {
    "duration": 24,
    "start_time": "2021-10-23T16:27:57.052Z"
   },
   {
    "duration": 6,
    "start_time": "2021-10-23T16:27:57.079Z"
   },
   {
    "duration": 13,
    "start_time": "2021-10-23T16:27:57.088Z"
   },
   {
    "duration": 15,
    "start_time": "2021-10-23T16:27:57.103Z"
   },
   {
    "duration": 46,
    "start_time": "2021-10-23T16:27:57.121Z"
   },
   {
    "duration": 11,
    "start_time": "2021-10-23T16:27:57.170Z"
   },
   {
    "duration": 77,
    "start_time": "2021-10-23T16:27:57.184Z"
   },
   {
    "duration": 25,
    "start_time": "2021-10-23T16:27:57.264Z"
   },
   {
    "duration": 8,
    "start_time": "2021-10-23T16:27:57.291Z"
   },
   {
    "duration": 56,
    "start_time": "2021-10-23T16:27:57.304Z"
   },
   {
    "duration": 12,
    "start_time": "2021-10-23T16:27:57.363Z"
   },
   {
    "duration": 30,
    "start_time": "2021-10-23T16:27:57.378Z"
   },
   {
    "duration": 10,
    "start_time": "2021-10-23T16:27:57.410Z"
   },
   {
    "duration": 59,
    "start_time": "2021-10-23T16:27:57.422Z"
   },
   {
    "duration": 10,
    "start_time": "2021-10-23T16:27:57.484Z"
   },
   {
    "duration": 9,
    "start_time": "2021-10-23T16:27:57.497Z"
   },
   {
    "duration": 17,
    "start_time": "2021-10-23T16:27:57.508Z"
   },
   {
    "duration": 7,
    "start_time": "2021-10-23T16:27:57.558Z"
   },
   {
    "duration": 12,
    "start_time": "2021-10-23T16:27:57.568Z"
   },
   {
    "duration": 32,
    "start_time": "2021-10-23T16:27:57.582Z"
   },
   {
    "duration": 46,
    "start_time": "2021-10-23T16:27:57.616Z"
   },
   {
    "duration": 10,
    "start_time": "2021-10-23T16:27:57.664Z"
   },
   {
    "duration": 11,
    "start_time": "2021-10-23T16:27:57.676Z"
   },
   {
    "duration": 10,
    "start_time": "2021-10-23T16:27:57.689Z"
   },
   {
    "duration": 5,
    "start_time": "2021-10-23T16:27:57.701Z"
   },
   {
    "duration": 25,
    "start_time": "2021-10-23T16:27:57.758Z"
   },
   {
    "duration": 16,
    "start_time": "2021-10-23T16:27:57.785Z"
   },
   {
    "duration": 30,
    "start_time": "2021-10-23T16:27:57.803Z"
   },
   {
    "duration": 6,
    "start_time": "2021-10-23T16:27:57.857Z"
   },
   {
    "duration": 35,
    "start_time": "2021-10-23T16:27:57.865Z"
   },
   {
    "duration": 11,
    "start_time": "2021-10-23T16:27:57.902Z"
   },
   {
    "duration": 417,
    "start_time": "2021-10-23T16:27:57.915Z"
   },
   {
    "duration": 316,
    "start_time": "2021-10-23T16:33:29.048Z"
   },
   {
    "duration": 342,
    "start_time": "2021-10-23T16:34:30.057Z"
   },
   {
    "duration": 306,
    "start_time": "2021-10-23T16:36:08.420Z"
   },
   {
    "duration": 460,
    "start_time": "2021-10-23T16:37:20.734Z"
   },
   {
    "duration": 380,
    "start_time": "2021-10-23T16:43:20.828Z"
   },
   {
    "duration": 9,
    "start_time": "2021-10-23T16:43:26.069Z"
   },
   {
    "duration": 309,
    "start_time": "2021-10-23T16:43:29.974Z"
   },
   {
    "duration": 406,
    "start_time": "2021-10-23T16:44:09.158Z"
   },
   {
    "duration": 14,
    "start_time": "2021-10-23T16:44:25.469Z"
   },
   {
    "duration": 20,
    "start_time": "2021-10-23T16:44:46.315Z"
   },
   {
    "duration": 1511,
    "start_time": "2021-10-23T16:45:22.712Z"
   },
   {
    "duration": 19,
    "start_time": "2021-10-23T16:45:41.860Z"
   },
   {
    "duration": 20,
    "start_time": "2021-10-23T16:45:51.293Z"
   },
   {
    "duration": 19,
    "start_time": "2021-10-23T16:45:59.411Z"
   },
   {
    "duration": 323,
    "start_time": "2021-10-23T16:46:15.405Z"
   },
   {
    "duration": 320,
    "start_time": "2021-10-23T16:47:25.094Z"
   },
   {
    "duration": 22,
    "start_time": "2021-10-23T16:55:07.479Z"
   },
   {
    "duration": 26,
    "start_time": "2021-10-23T16:55:22.383Z"
   },
   {
    "duration": 29,
    "start_time": "2021-10-23T16:56:24.127Z"
   },
   {
    "duration": 133,
    "start_time": "2021-10-23T16:59:22.555Z"
   },
   {
    "duration": 44,
    "start_time": "2021-10-23T17:01:42.580Z"
   },
   {
    "duration": 369,
    "start_time": "2021-10-23T17:05:18.694Z"
   },
   {
    "duration": 346,
    "start_time": "2021-10-23T17:05:23.967Z"
   },
   {
    "duration": 504,
    "start_time": "2021-10-23T17:05:41.829Z"
   },
   {
    "duration": 586,
    "start_time": "2021-10-23T17:05:56.527Z"
   },
   {
    "duration": 621,
    "start_time": "2021-10-23T17:06:07.626Z"
   },
   {
    "duration": 737,
    "start_time": "2021-10-23T17:06:30.362Z"
   },
   {
    "duration": 738,
    "start_time": "2021-10-23T17:07:59.633Z"
   },
   {
    "duration": 7,
    "start_time": "2021-10-23T18:00:53.693Z"
   },
   {
    "duration": 33,
    "start_time": "2021-10-23T18:01:08.583Z"
   },
   {
    "duration": 128,
    "start_time": "2021-10-23T18:06:57.305Z"
   },
   {
    "duration": 14,
    "start_time": "2021-10-23T18:11:28.890Z"
   },
   {
    "duration": 22,
    "start_time": "2021-10-23T18:11:42.746Z"
   },
   {
    "duration": 22,
    "start_time": "2021-10-23T18:12:59.819Z"
   },
   {
    "duration": 28,
    "start_time": "2021-10-23T18:13:59.337Z"
   },
   {
    "duration": 32,
    "start_time": "2021-10-23T18:14:06.794Z"
   },
   {
    "duration": 26,
    "start_time": "2021-10-23T18:14:07.716Z"
   },
   {
    "duration": 573,
    "start_time": "2021-10-23T18:16:29.061Z"
   },
   {
    "duration": 563,
    "start_time": "2021-10-23T18:18:37.764Z"
   },
   {
    "duration": 21,
    "start_time": "2021-10-23T18:19:44.025Z"
   },
   {
    "duration": 561,
    "start_time": "2021-10-23T18:19:54.853Z"
   },
   {
    "duration": 24,
    "start_time": "2021-10-23T18:31:12.026Z"
   },
   {
    "duration": 593,
    "start_time": "2021-10-23T18:31:26.708Z"
   },
   {
    "duration": 9497,
    "start_time": "2021-10-23T18:38:09.775Z"
   },
   {
    "duration": 382,
    "start_time": "2021-10-23T18:38:50.412Z"
   },
   {
    "duration": 470,
    "start_time": "2021-10-23T18:39:03.568Z"
   },
   {
    "duration": 7,
    "start_time": "2021-10-23T18:39:14.422Z"
   },
   {
    "duration": 7,
    "start_time": "2021-10-23T18:39:20.822Z"
   },
   {
    "duration": 8,
    "start_time": "2021-10-23T18:39:59.412Z"
   },
   {
    "duration": 1478,
    "start_time": "2021-10-23T18:47:16.174Z"
   },
   {
    "duration": 4,
    "start_time": "2021-10-23T18:50:57.856Z"
   },
   {
    "duration": 102,
    "start_time": "2021-10-23T18:50:57.862Z"
   },
   {
    "duration": 22,
    "start_time": "2021-10-23T18:50:57.967Z"
   },
   {
    "duration": 23,
    "start_time": "2021-10-23T18:50:57.992Z"
   },
   {
    "duration": 86,
    "start_time": "2021-10-23T18:50:58.017Z"
   },
   {
    "duration": 34,
    "start_time": "2021-10-23T18:50:58.106Z"
   },
   {
    "duration": 25,
    "start_time": "2021-10-23T18:50:58.144Z"
   },
   {
    "duration": 14,
    "start_time": "2021-10-23T18:50:58.173Z"
   },
   {
    "duration": 12,
    "start_time": "2021-10-23T18:50:58.190Z"
   },
   {
    "duration": 12,
    "start_time": "2021-10-23T18:50:58.204Z"
   },
   {
    "duration": 61,
    "start_time": "2021-10-23T18:50:58.219Z"
   },
   {
    "duration": 6,
    "start_time": "2021-10-23T18:50:58.282Z"
   },
   {
    "duration": 1523,
    "start_time": "2021-10-23T18:50:58.290Z"
   },
   {
    "duration": 15,
    "start_time": "2021-10-23T18:50:59.815Z"
   },
   {
    "duration": 25,
    "start_time": "2021-10-23T18:50:59.832Z"
   },
   {
    "duration": 12,
    "start_time": "2021-10-23T18:50:59.860Z"
   },
   {
    "duration": 14,
    "start_time": "2021-10-23T18:50:59.875Z"
   },
   {
    "duration": 15,
    "start_time": "2021-10-23T18:50:59.892Z"
   },
   {
    "duration": 14,
    "start_time": "2021-10-23T18:50:59.959Z"
   },
   {
    "duration": 45,
    "start_time": "2021-10-23T18:50:59.978Z"
   },
   {
    "duration": 57,
    "start_time": "2021-10-23T18:51:00.027Z"
   },
   {
    "duration": 23,
    "start_time": "2021-10-23T18:51:00.087Z"
   },
   {
    "duration": 48,
    "start_time": "2021-10-23T18:51:00.112Z"
   },
   {
    "duration": 15,
    "start_time": "2021-10-23T18:51:00.164Z"
   },
   {
    "duration": 33,
    "start_time": "2021-10-23T18:51:00.181Z"
   },
   {
    "duration": 8,
    "start_time": "2021-10-23T18:51:00.217Z"
   },
   {
    "duration": 55,
    "start_time": "2021-10-23T18:51:00.227Z"
   },
   {
    "duration": 22,
    "start_time": "2021-10-23T18:51:00.284Z"
   },
   {
    "duration": 23,
    "start_time": "2021-10-23T18:51:00.309Z"
   },
   {
    "duration": 24,
    "start_time": "2021-10-23T18:51:00.335Z"
   },
   {
    "duration": 20,
    "start_time": "2021-10-23T18:51:00.363Z"
   },
   {
    "duration": 19,
    "start_time": "2021-10-23T18:51:00.386Z"
   },
   {
    "duration": 45,
    "start_time": "2021-10-23T18:51:00.408Z"
   },
   {
    "duration": 24,
    "start_time": "2021-10-23T18:51:00.458Z"
   },
   {
    "duration": 30,
    "start_time": "2021-10-23T18:51:00.485Z"
   },
   {
    "duration": 31,
    "start_time": "2021-10-23T18:51:00.517Z"
   },
   {
    "duration": 24,
    "start_time": "2021-10-23T18:51:00.550Z"
   },
   {
    "duration": 13,
    "start_time": "2021-10-23T18:51:00.577Z"
   },
   {
    "duration": 35,
    "start_time": "2021-10-23T18:51:00.593Z"
   },
   {
    "duration": 28,
    "start_time": "2021-10-23T18:51:00.630Z"
   },
   {
    "duration": 35,
    "start_time": "2021-10-23T18:51:00.661Z"
   },
   {
    "duration": 24,
    "start_time": "2021-10-23T18:51:00.699Z"
   },
   {
    "duration": 50,
    "start_time": "2021-10-23T18:51:00.726Z"
   },
   {
    "duration": 12,
    "start_time": "2021-10-23T18:51:00.778Z"
   },
   {
    "duration": 328,
    "start_time": "2021-10-23T18:51:00.792Z"
   },
   {
    "duration": 36,
    "start_time": "2021-10-23T18:51:01.122Z"
   },
   {
    "duration": 928,
    "start_time": "2021-10-23T18:51:01.160Z"
   },
   {
    "duration": -144,
    "start_time": "2021-10-23T18:51:02.234Z"
   },
   {
    "duration": -148,
    "start_time": "2021-10-23T18:51:02.240Z"
   },
   {
    "duration": -151,
    "start_time": "2021-10-23T18:51:02.244Z"
   },
   {
    "duration": -151,
    "start_time": "2021-10-23T18:51:02.246Z"
   },
   {
    "duration": -153,
    "start_time": "2021-10-23T18:51:02.249Z"
   },
   {
    "duration": -153,
    "start_time": "2021-10-23T18:51:02.251Z"
   },
   {
    "duration": -159,
    "start_time": "2021-10-23T18:51:02.259Z"
   },
   {
    "duration": -162,
    "start_time": "2021-10-23T18:51:02.263Z"
   },
   {
    "duration": 4,
    "start_time": "2021-10-23T18:51:26.501Z"
   },
   {
    "duration": 97,
    "start_time": "2021-10-23T18:51:26.508Z"
   },
   {
    "duration": 61,
    "start_time": "2021-10-23T18:51:26.608Z"
   },
   {
    "duration": 23,
    "start_time": "2021-10-23T18:51:26.673Z"
   },
   {
    "duration": 45,
    "start_time": "2021-10-23T18:51:26.698Z"
   },
   {
    "duration": 44,
    "start_time": "2021-10-23T18:51:26.746Z"
   },
   {
    "duration": 25,
    "start_time": "2021-10-23T18:51:26.792Z"
   },
   {
    "duration": 39,
    "start_time": "2021-10-23T18:51:26.821Z"
   },
   {
    "duration": 15,
    "start_time": "2021-10-23T18:51:26.867Z"
   },
   {
    "duration": 11,
    "start_time": "2021-10-23T18:51:26.885Z"
   },
   {
    "duration": 23,
    "start_time": "2021-10-23T18:51:26.898Z"
   },
   {
    "duration": 40,
    "start_time": "2021-10-23T18:51:26.924Z"
   },
   {
    "duration": 1633,
    "start_time": "2021-10-23T18:51:26.967Z"
   },
   {
    "duration": 14,
    "start_time": "2021-10-23T18:51:28.602Z"
   },
   {
    "duration": 6,
    "start_time": "2021-10-23T18:51:28.618Z"
   },
   {
    "duration": 48,
    "start_time": "2021-10-23T18:51:28.626Z"
   },
   {
    "duration": 12,
    "start_time": "2021-10-23T18:51:28.677Z"
   },
   {
    "duration": 18,
    "start_time": "2021-10-23T18:51:28.691Z"
   },
   {
    "duration": 11,
    "start_time": "2021-10-23T18:51:28.712Z"
   },
   {
    "duration": 75,
    "start_time": "2021-10-23T18:51:28.726Z"
   },
   {
    "duration": 25,
    "start_time": "2021-10-23T18:51:28.803Z"
   },
   {
    "duration": 35,
    "start_time": "2021-10-23T18:51:28.830Z"
   },
   {
    "duration": 25,
    "start_time": "2021-10-23T18:51:28.873Z"
   },
   {
    "duration": 14,
    "start_time": "2021-10-23T18:51:28.901Z"
   },
   {
    "duration": 60,
    "start_time": "2021-10-23T18:51:28.917Z"
   },
   {
    "duration": 10,
    "start_time": "2021-10-23T18:51:28.979Z"
   },
   {
    "duration": 26,
    "start_time": "2021-10-23T18:51:28.991Z"
   },
   {
    "duration": 9,
    "start_time": "2021-10-23T18:51:29.019Z"
   },
   {
    "duration": 15,
    "start_time": "2021-10-23T18:51:29.059Z"
   },
   {
    "duration": 10,
    "start_time": "2021-10-23T18:51:29.077Z"
   },
   {
    "duration": 9,
    "start_time": "2021-10-23T18:51:29.089Z"
   },
   {
    "duration": 9,
    "start_time": "2021-10-23T18:51:29.101Z"
   },
   {
    "duration": 79,
    "start_time": "2021-10-23T18:51:29.112Z"
   },
   {
    "duration": 11,
    "start_time": "2021-10-23T18:51:29.194Z"
   },
   {
    "duration": 9,
    "start_time": "2021-10-23T18:51:29.207Z"
   },
   {
    "duration": 43,
    "start_time": "2021-10-23T18:51:29.218Z"
   },
   {
    "duration": 13,
    "start_time": "2021-10-23T18:51:29.264Z"
   },
   {
    "duration": 9,
    "start_time": "2021-10-23T18:51:29.279Z"
   },
   {
    "duration": 24,
    "start_time": "2021-10-23T18:51:29.291Z"
   },
   {
    "duration": 54,
    "start_time": "2021-10-23T18:51:29.318Z"
   },
   {
    "duration": 27,
    "start_time": "2021-10-23T18:51:29.375Z"
   },
   {
    "duration": 8,
    "start_time": "2021-10-23T18:51:29.404Z"
   },
   {
    "duration": 67,
    "start_time": "2021-10-23T18:51:29.415Z"
   },
   {
    "duration": 10,
    "start_time": "2021-10-23T18:51:29.485Z"
   },
   {
    "duration": 341,
    "start_time": "2021-10-23T18:51:29.498Z"
   },
   {
    "duration": 36,
    "start_time": "2021-10-23T18:51:29.843Z"
   },
   {
    "duration": 367,
    "start_time": "2021-10-23T18:51:29.882Z"
   },
   {
    "duration": 43,
    "start_time": "2021-10-23T18:51:30.252Z"
   },
   {
    "duration": 34,
    "start_time": "2021-10-23T18:51:30.297Z"
   },
   {
    "duration": 857,
    "start_time": "2021-10-23T18:51:30.334Z"
   },
   {
    "duration": 33,
    "start_time": "2021-10-23T18:51:31.193Z"
   },
   {
    "duration": 52,
    "start_time": "2021-10-23T18:51:31.229Z"
   },
   {
    "duration": 587,
    "start_time": "2021-10-23T18:51:31.284Z"
   },
   {
    "duration": 8,
    "start_time": "2021-10-23T18:51:31.874Z"
   },
   {
    "duration": 9306,
    "start_time": "2021-10-23T18:51:31.885Z"
   },
   {
    "duration": 9361,
    "start_time": "2021-10-23T18:56:42.151Z"
   },
   {
    "duration": 1440,
    "start_time": "2021-10-23T18:57:20.722Z"
   },
   {
    "duration": 408,
    "start_time": "2021-10-23T18:57:38.699Z"
   },
   {
    "duration": 408,
    "start_time": "2021-10-23T18:58:29.143Z"
   },
   {
    "duration": 418,
    "start_time": "2021-10-23T18:58:41.031Z"
   },
   {
    "duration": 10,
    "start_time": "2021-10-23T18:59:06.897Z"
   },
   {
    "duration": 49,
    "start_time": "2021-10-23T18:59:18.450Z"
   },
   {
    "duration": 13,
    "start_time": "2021-10-23T18:59:26.286Z"
   },
   {
    "duration": 385,
    "start_time": "2021-10-23T18:59:44.514Z"
   },
   {
    "duration": 422,
    "start_time": "2021-10-23T19:00:24.880Z"
   },
   {
    "duration": 27,
    "start_time": "2021-10-23T19:00:46.221Z"
   },
   {
    "duration": 130,
    "start_time": "2021-10-23T19:01:47.960Z"
   },
   {
    "duration": 4,
    "start_time": "2021-10-23T19:01:57.609Z"
   },
   {
    "duration": 99,
    "start_time": "2021-10-23T19:01:57.615Z"
   },
   {
    "duration": 21,
    "start_time": "2021-10-23T19:01:57.717Z"
   },
   {
    "duration": 37,
    "start_time": "2021-10-23T19:01:57.741Z"
   },
   {
    "duration": 50,
    "start_time": "2021-10-23T19:01:57.781Z"
   },
   {
    "duration": 35,
    "start_time": "2021-10-23T19:01:57.833Z"
   },
   {
    "duration": 25,
    "start_time": "2021-10-23T19:01:57.872Z"
   },
   {
    "duration": 17,
    "start_time": "2021-10-23T19:01:57.900Z"
   },
   {
    "duration": 40,
    "start_time": "2021-10-23T19:01:57.920Z"
   },
   {
    "duration": 11,
    "start_time": "2021-10-23T19:01:57.962Z"
   },
   {
    "duration": 28,
    "start_time": "2021-10-23T19:01:57.976Z"
   },
   {
    "duration": 20,
    "start_time": "2021-10-23T19:01:58.007Z"
   },
   {
    "duration": 1577,
    "start_time": "2021-10-23T19:01:58.029Z"
   },
   {
    "duration": 18,
    "start_time": "2021-10-23T19:01:59.609Z"
   },
   {
    "duration": 27,
    "start_time": "2021-10-23T19:01:59.630Z"
   },
   {
    "duration": 14,
    "start_time": "2021-10-23T19:01:59.660Z"
   },
   {
    "duration": 11,
    "start_time": "2021-10-23T19:01:59.678Z"
   },
   {
    "duration": 30,
    "start_time": "2021-10-23T19:01:59.692Z"
   },
   {
    "duration": 33,
    "start_time": "2021-10-23T19:01:59.725Z"
   },
   {
    "duration": 46,
    "start_time": "2021-10-23T19:01:59.760Z"
   },
   {
    "duration": 26,
    "start_time": "2021-10-23T19:01:59.808Z"
   },
   {
    "duration": 8,
    "start_time": "2021-10-23T19:01:59.858Z"
   },
   {
    "duration": 26,
    "start_time": "2021-10-23T19:01:59.869Z"
   },
   {
    "duration": 24,
    "start_time": "2021-10-23T19:01:59.898Z"
   },
   {
    "duration": 55,
    "start_time": "2021-10-23T19:01:59.925Z"
   },
   {
    "duration": 21,
    "start_time": "2021-10-23T19:01:59.983Z"
   },
   {
    "duration": 43,
    "start_time": "2021-10-23T19:02:00.006Z"
   },
   {
    "duration": 30,
    "start_time": "2021-10-23T19:02:00.051Z"
   },
   {
    "duration": 24,
    "start_time": "2021-10-23T19:02:00.083Z"
   },
   {
    "duration": 20,
    "start_time": "2021-10-23T19:02:00.109Z"
   },
   {
    "duration": 38,
    "start_time": "2021-10-23T19:02:00.132Z"
   },
   {
    "duration": 19,
    "start_time": "2021-10-23T19:02:00.172Z"
   },
   {
    "duration": 39,
    "start_time": "2021-10-23T19:02:00.193Z"
   },
   {
    "duration": 57,
    "start_time": "2021-10-23T19:02:00.234Z"
   },
   {
    "duration": 13,
    "start_time": "2021-10-23T19:02:00.293Z"
   },
   {
    "duration": 37,
    "start_time": "2021-10-23T19:02:00.308Z"
   },
   {
    "duration": 29,
    "start_time": "2021-10-23T19:02:00.348Z"
   },
   {
    "duration": 22,
    "start_time": "2021-10-23T19:02:00.379Z"
   },
   {
    "duration": 27,
    "start_time": "2021-10-23T19:02:00.404Z"
   },
   {
    "duration": 37,
    "start_time": "2021-10-23T19:02:00.434Z"
   },
   {
    "duration": 32,
    "start_time": "2021-10-23T19:02:00.474Z"
   },
   {
    "duration": 36,
    "start_time": "2021-10-23T19:02:00.509Z"
   },
   {
    "duration": 26,
    "start_time": "2021-10-23T19:02:00.547Z"
   },
   {
    "duration": 71,
    "start_time": "2021-10-23T19:02:00.575Z"
   },
   {
    "duration": 10,
    "start_time": "2021-10-23T19:02:00.649Z"
   },
   {
    "duration": 403,
    "start_time": "2021-10-23T19:02:00.665Z"
   },
   {
    "duration": 21,
    "start_time": "2021-10-23T19:02:01.071Z"
   },
   {
    "duration": 348,
    "start_time": "2021-10-23T19:02:01.094Z"
   },
   {
    "duration": 38,
    "start_time": "2021-10-23T19:02:01.444Z"
   },
   {
    "duration": 31,
    "start_time": "2021-10-23T19:02:01.484Z"
   },
   {
    "duration": 693,
    "start_time": "2021-10-23T19:02:01.517Z"
   },
   {
    "duration": 54,
    "start_time": "2021-10-23T19:02:02.212Z"
   },
   {
    "duration": 51,
    "start_time": "2021-10-23T19:02:02.269Z"
   },
   {
    "duration": 698,
    "start_time": "2021-10-23T19:02:02.322Z"
   },
   {
    "duration": 7,
    "start_time": "2021-10-23T19:02:03.022Z"
   },
   {
    "duration": 69,
    "start_time": "2021-10-23T19:02:03.031Z"
   },
   {
    "duration": 25,
    "start_time": "2021-10-23T19:02:03.102Z"
   },
   {
    "duration": 39,
    "start_time": "2021-10-23T19:05:57.156Z"
   },
   {
    "duration": 29,
    "start_time": "2021-10-23T19:14:47.911Z"
   },
   {
    "duration": 22,
    "start_time": "2021-10-23T19:15:38.602Z"
   },
   {
    "duration": 21,
    "start_time": "2021-10-23T19:21:42.102Z"
   },
   {
    "duration": 7,
    "start_time": "2021-10-23T19:24:24.985Z"
   },
   {
    "duration": 4,
    "start_time": "2021-10-23T19:24:33.206Z"
   },
   {
    "duration": 93,
    "start_time": "2021-10-23T19:24:33.214Z"
   },
   {
    "duration": 50,
    "start_time": "2021-10-23T19:24:33.310Z"
   },
   {
    "duration": 33,
    "start_time": "2021-10-23T19:24:33.363Z"
   },
   {
    "duration": 55,
    "start_time": "2021-10-23T19:24:33.398Z"
   },
   {
    "duration": 47,
    "start_time": "2021-10-23T19:24:33.456Z"
   },
   {
    "duration": 26,
    "start_time": "2021-10-23T19:24:33.506Z"
   },
   {
    "duration": 29,
    "start_time": "2021-10-23T19:24:33.538Z"
   },
   {
    "duration": 24,
    "start_time": "2021-10-23T19:24:33.570Z"
   },
   {
    "duration": 23,
    "start_time": "2021-10-23T19:24:33.597Z"
   },
   {
    "duration": 32,
    "start_time": "2021-10-23T19:24:33.623Z"
   },
   {
    "duration": 12,
    "start_time": "2021-10-23T19:24:33.659Z"
   },
   {
    "duration": 1850,
    "start_time": "2021-10-23T19:24:33.674Z"
   },
   {
    "duration": 13,
    "start_time": "2021-10-23T19:24:35.526Z"
   },
   {
    "duration": 19,
    "start_time": "2021-10-23T19:24:35.541Z"
   },
   {
    "duration": 30,
    "start_time": "2021-10-23T19:24:35.562Z"
   },
   {
    "duration": 23,
    "start_time": "2021-10-23T19:24:35.595Z"
   },
   {
    "duration": 30,
    "start_time": "2021-10-23T19:24:35.620Z"
   },
   {
    "duration": 19,
    "start_time": "2021-10-23T19:24:35.652Z"
   },
   {
    "duration": 55,
    "start_time": "2021-10-23T19:24:35.674Z"
   },
   {
    "duration": 29,
    "start_time": "2021-10-23T19:24:35.731Z"
   },
   {
    "duration": 23,
    "start_time": "2021-10-23T19:24:35.762Z"
   },
   {
    "duration": 29,
    "start_time": "2021-10-23T19:24:35.790Z"
   },
   {
    "duration": 28,
    "start_time": "2021-10-23T19:24:35.822Z"
   },
   {
    "duration": 41,
    "start_time": "2021-10-23T19:24:35.853Z"
   },
   {
    "duration": 23,
    "start_time": "2021-10-23T19:24:35.897Z"
   },
   {
    "duration": 38,
    "start_time": "2021-10-23T19:24:35.922Z"
   },
   {
    "duration": 22,
    "start_time": "2021-10-23T19:24:35.962Z"
   },
   {
    "duration": 29,
    "start_time": "2021-10-23T19:24:35.987Z"
   },
   {
    "duration": 23,
    "start_time": "2021-10-23T19:24:36.019Z"
   },
   {
    "duration": 17,
    "start_time": "2021-10-23T19:24:36.045Z"
   },
   {
    "duration": 15,
    "start_time": "2021-10-23T19:24:36.064Z"
   },
   {
    "duration": 27,
    "start_time": "2021-10-23T19:24:36.081Z"
   },
   {
    "duration": 58,
    "start_time": "2021-10-23T19:24:36.110Z"
   },
   {
    "duration": 11,
    "start_time": "2021-10-23T19:24:36.171Z"
   },
   {
    "duration": 26,
    "start_time": "2021-10-23T19:24:36.185Z"
   },
   {
    "duration": 14,
    "start_time": "2021-10-23T19:24:36.214Z"
   },
   {
    "duration": 27,
    "start_time": "2021-10-23T19:24:36.230Z"
   },
   {
    "duration": 14,
    "start_time": "2021-10-23T19:24:36.260Z"
   },
   {
    "duration": 39,
    "start_time": "2021-10-23T19:24:36.276Z"
   },
   {
    "duration": 21,
    "start_time": "2021-10-23T19:24:36.317Z"
   },
   {
    "duration": 35,
    "start_time": "2021-10-23T19:24:36.340Z"
   },
   {
    "duration": 17,
    "start_time": "2021-10-23T19:24:36.377Z"
   },
   {
    "duration": 55,
    "start_time": "2021-10-23T19:24:36.396Z"
   },
   {
    "duration": 10,
    "start_time": "2021-10-23T19:24:36.453Z"
   },
   {
    "duration": 311,
    "start_time": "2021-10-23T19:24:36.465Z"
   },
   {
    "duration": 21,
    "start_time": "2021-10-23T19:24:36.779Z"
   },
   {
    "duration": 341,
    "start_time": "2021-10-23T19:24:36.803Z"
   },
   {
    "duration": 38,
    "start_time": "2021-10-23T19:24:37.147Z"
   },
   {
    "duration": 33,
    "start_time": "2021-10-23T19:24:37.187Z"
   },
   {
    "duration": 686,
    "start_time": "2021-10-23T19:24:37.222Z"
   },
   {
    "duration": 54,
    "start_time": "2021-10-23T19:24:37.911Z"
   },
   {
    "duration": 23,
    "start_time": "2021-10-23T19:24:37.968Z"
   },
   {
    "duration": 572,
    "start_time": "2021-10-23T19:24:37.993Z"
   },
   {
    "duration": 8,
    "start_time": "2021-10-23T19:24:38.567Z"
   },
   {
    "duration": 23,
    "start_time": "2021-10-23T19:24:38.577Z"
   },
   {
    "duration": 29,
    "start_time": "2021-10-23T19:24:38.603Z"
   },
   {
    "duration": 22,
    "start_time": "2021-10-23T19:24:38.635Z"
   },
   {
    "duration": 8,
    "start_time": "2021-10-23T19:27:07.526Z"
   },
   {
    "duration": 16938,
    "start_time": "2021-10-23T19:27:27.025Z"
   },
   {
    "duration": 10877,
    "start_time": "2021-10-23T19:28:10.899Z"
   },
   {
    "duration": 6,
    "start_time": "2021-10-23T19:29:03.008Z"
   },
   {
    "duration": 37,
    "start_time": "2021-10-23T19:29:46.810Z"
   },
   {
    "duration": 11,
    "start_time": "2021-10-23T19:30:19.939Z"
   },
   {
    "duration": 117,
    "start_time": "2021-10-23T19:31:01.036Z"
   },
   {
    "duration": 41,
    "start_time": "2021-10-23T19:31:03.313Z"
   },
   {
    "duration": 5,
    "start_time": "2021-10-23T19:31:44.814Z"
   },
   {
    "duration": 410,
    "start_time": "2021-10-23T19:32:07.608Z"
   },
   {
    "duration": 39,
    "start_time": "2021-10-23T19:32:23.591Z"
   },
   {
    "duration": 37,
    "start_time": "2021-10-23T19:37:55.160Z"
   },
   {
    "duration": 6,
    "start_time": "2021-10-23T19:38:18.817Z"
   },
   {
    "duration": 37,
    "start_time": "2021-10-23T19:39:32.029Z"
   },
   {
    "duration": 18,
    "start_time": "2021-10-23T19:40:22.961Z"
   },
   {
    "duration": 19,
    "start_time": "2021-10-23T19:41:07.332Z"
   },
   {
    "duration": 20,
    "start_time": "2021-10-23T19:41:54.789Z"
   },
   {
    "duration": 18,
    "start_time": "2021-10-23T19:42:38.683Z"
   },
   {
    "duration": 6,
    "start_time": "2021-10-23T19:42:57.605Z"
   },
   {
    "duration": 38,
    "start_time": "2021-10-23T19:43:05.506Z"
   },
   {
    "duration": 4,
    "start_time": "2021-10-23T19:43:16.454Z"
   },
   {
    "duration": 114,
    "start_time": "2021-10-23T19:43:16.462Z"
   },
   {
    "duration": 21,
    "start_time": "2021-10-23T19:43:16.579Z"
   },
   {
    "duration": 59,
    "start_time": "2021-10-23T19:43:16.603Z"
   },
   {
    "duration": 75,
    "start_time": "2021-10-23T19:43:16.665Z"
   },
   {
    "duration": 34,
    "start_time": "2021-10-23T19:43:16.743Z"
   },
   {
    "duration": 26,
    "start_time": "2021-10-23T19:43:16.780Z"
   },
   {
    "duration": 15,
    "start_time": "2021-10-23T19:43:16.810Z"
   },
   {
    "duration": 12,
    "start_time": "2021-10-23T19:43:16.859Z"
   },
   {
    "duration": 11,
    "start_time": "2021-10-23T19:43:16.873Z"
   },
   {
    "duration": 23,
    "start_time": "2021-10-23T19:43:16.886Z"
   },
   {
    "duration": 47,
    "start_time": "2021-10-23T19:43:16.911Z"
   },
   {
    "duration": 1666,
    "start_time": "2021-10-23T19:43:16.961Z"
   },
   {
    "duration": 34,
    "start_time": "2021-10-23T19:43:18.630Z"
   },
   {
    "duration": 9,
    "start_time": "2021-10-23T19:43:18.667Z"
   },
   {
    "duration": 20,
    "start_time": "2021-10-23T19:43:18.680Z"
   },
   {
    "duration": 15,
    "start_time": "2021-10-23T19:43:18.703Z"
   },
   {
    "duration": 22,
    "start_time": "2021-10-23T19:43:18.757Z"
   },
   {
    "duration": 15,
    "start_time": "2021-10-23T19:43:18.782Z"
   },
   {
    "duration": 77,
    "start_time": "2021-10-23T19:43:18.800Z"
   },
   {
    "duration": 26,
    "start_time": "2021-10-23T19:43:18.880Z"
   },
   {
    "duration": 12,
    "start_time": "2021-10-23T19:43:18.909Z"
   },
   {
    "duration": 52,
    "start_time": "2021-10-23T19:43:18.927Z"
   },
   {
    "duration": 16,
    "start_time": "2021-10-23T19:43:18.983Z"
   },
   {
    "duration": 58,
    "start_time": "2021-10-23T19:43:19.002Z"
   },
   {
    "duration": 10,
    "start_time": "2021-10-23T19:43:19.063Z"
   },
   {
    "duration": 44,
    "start_time": "2021-10-23T19:43:19.076Z"
   },
   {
    "duration": 47,
    "start_time": "2021-10-23T19:43:19.122Z"
   },
   {
    "duration": 12,
    "start_time": "2021-10-23T19:43:19.173Z"
   },
   {
    "duration": 10,
    "start_time": "2021-10-23T19:43:19.188Z"
   },
   {
    "duration": 8,
    "start_time": "2021-10-23T19:43:19.201Z"
   },
   {
    "duration": 57,
    "start_time": "2021-10-23T19:43:19.212Z"
   },
   {
    "duration": 13,
    "start_time": "2021-10-23T19:43:19.272Z"
   },
   {
    "duration": 37,
    "start_time": "2021-10-23T19:43:19.290Z"
   },
   {
    "duration": 12,
    "start_time": "2021-10-23T19:43:19.358Z"
   },
   {
    "duration": 12,
    "start_time": "2021-10-23T19:43:19.373Z"
   },
   {
    "duration": 13,
    "start_time": "2021-10-23T19:43:19.388Z"
   },
   {
    "duration": 14,
    "start_time": "2021-10-23T19:43:19.403Z"
   },
   {
    "duration": 10,
    "start_time": "2021-10-23T19:43:19.459Z"
   },
   {
    "duration": 37,
    "start_time": "2021-10-23T19:43:19.472Z"
   },
   {
    "duration": 55,
    "start_time": "2021-10-23T19:43:19.512Z"
   },
   {
    "duration": 38,
    "start_time": "2021-10-23T19:43:19.570Z"
   },
   {
    "duration": 8,
    "start_time": "2021-10-23T19:43:19.612Z"
   },
   {
    "duration": 66,
    "start_time": "2021-10-23T19:43:19.624Z"
   },
   {
    "duration": 10,
    "start_time": "2021-10-23T19:43:19.692Z"
   },
   {
    "duration": 500,
    "start_time": "2021-10-23T19:43:19.705Z"
   },
   {
    "duration": 27,
    "start_time": "2021-10-23T19:43:20.207Z"
   },
   {
    "duration": 373,
    "start_time": "2021-10-23T19:43:20.237Z"
   },
   {
    "duration": 51,
    "start_time": "2021-10-23T19:43:20.613Z"
   },
   {
    "duration": 32,
    "start_time": "2021-10-23T19:43:20.667Z"
   },
   {
    "duration": 815,
    "start_time": "2021-10-23T19:43:20.701Z"
   },
   {
    "duration": 78,
    "start_time": "2021-10-23T19:43:21.518Z"
   },
   {
    "duration": 31,
    "start_time": "2021-10-23T19:43:21.599Z"
   },
   {
    "duration": 674,
    "start_time": "2021-10-23T19:43:21.633Z"
   },
   {
    "duration": 7,
    "start_time": "2021-10-23T19:43:22.309Z"
   },
   {
    "duration": 494,
    "start_time": "2021-10-23T19:43:22.318Z"
   },
   {
    "duration": -7,
    "start_time": "2021-10-23T19:43:22.823Z"
   },
   {
    "duration": -9,
    "start_time": "2021-10-23T19:43:22.826Z"
   },
   {
    "duration": -13,
    "start_time": "2021-10-23T19:43:22.832Z"
   },
   {
    "duration": 9875,
    "start_time": "2021-10-23T19:45:35.620Z"
   },
   {
    "duration": 377,
    "start_time": "2021-10-23T19:46:14.046Z"
   },
   {
    "duration": 19,
    "start_time": "2021-10-23T19:46:35.918Z"
   },
   {
    "duration": 386,
    "start_time": "2021-10-23T19:47:15.494Z"
   },
   {
    "duration": 20,
    "start_time": "2021-10-23T19:47:39.370Z"
   },
   {
    "duration": 11463,
    "start_time": "2021-10-23T19:47:42.507Z"
   },
   {
    "duration": 4,
    "start_time": "2021-10-23T19:48:02.305Z"
   },
   {
    "duration": 149,
    "start_time": "2021-10-23T19:48:02.311Z"
   },
   {
    "duration": 22,
    "start_time": "2021-10-23T19:48:02.462Z"
   },
   {
    "duration": 28,
    "start_time": "2021-10-23T19:48:02.487Z"
   },
   {
    "duration": 65,
    "start_time": "2021-10-23T19:48:02.517Z"
   },
   {
    "duration": 34,
    "start_time": "2021-10-23T19:48:02.584Z"
   },
   {
    "duration": 25,
    "start_time": "2021-10-23T19:48:02.620Z"
   },
   {
    "duration": 27,
    "start_time": "2021-10-23T19:48:02.658Z"
   },
   {
    "duration": 16,
    "start_time": "2021-10-23T19:48:02.688Z"
   },
   {
    "duration": 15,
    "start_time": "2021-10-23T19:48:02.706Z"
   },
   {
    "duration": 27,
    "start_time": "2021-10-23T19:48:02.723Z"
   },
   {
    "duration": 15,
    "start_time": "2021-10-23T19:48:02.758Z"
   },
   {
    "duration": 1574,
    "start_time": "2021-10-23T19:48:02.775Z"
   },
   {
    "duration": 19,
    "start_time": "2021-10-23T19:48:04.352Z"
   },
   {
    "duration": 39,
    "start_time": "2021-10-23T19:48:04.375Z"
   },
   {
    "duration": 22,
    "start_time": "2021-10-23T19:48:04.417Z"
   },
   {
    "duration": 18,
    "start_time": "2021-10-23T19:48:04.442Z"
   },
   {
    "duration": 25,
    "start_time": "2021-10-23T19:48:04.462Z"
   },
   {
    "duration": 16,
    "start_time": "2021-10-23T19:48:04.489Z"
   },
   {
    "duration": 76,
    "start_time": "2021-10-23T19:48:04.507Z"
   },
   {
    "duration": 25,
    "start_time": "2021-10-23T19:48:04.585Z"
   },
   {
    "duration": 29,
    "start_time": "2021-10-23T19:48:04.612Z"
   },
   {
    "duration": 55,
    "start_time": "2021-10-23T19:48:04.648Z"
   },
   {
    "duration": 30,
    "start_time": "2021-10-23T19:48:04.706Z"
   },
   {
    "duration": 55,
    "start_time": "2021-10-23T19:48:04.738Z"
   },
   {
    "duration": 10,
    "start_time": "2021-10-23T19:48:04.796Z"
   },
   {
    "duration": 36,
    "start_time": "2021-10-23T19:48:04.808Z"
   },
   {
    "duration": 22,
    "start_time": "2021-10-23T19:48:04.847Z"
   },
   {
    "duration": 21,
    "start_time": "2021-10-23T19:48:04.872Z"
   },
   {
    "duration": 34,
    "start_time": "2021-10-23T19:48:04.895Z"
   },
   {
    "duration": 18,
    "start_time": "2021-10-23T19:48:04.932Z"
   },
   {
    "duration": 14,
    "start_time": "2021-10-23T19:48:04.953Z"
   },
   {
    "duration": 14,
    "start_time": "2021-10-23T19:48:04.969Z"
   },
   {
    "duration": 49,
    "start_time": "2021-10-23T19:48:04.985Z"
   },
   {
    "duration": 14,
    "start_time": "2021-10-23T19:48:05.037Z"
   },
   {
    "duration": 31,
    "start_time": "2021-10-23T19:48:05.057Z"
   },
   {
    "duration": 28,
    "start_time": "2021-10-23T19:48:05.091Z"
   },
   {
    "duration": 38,
    "start_time": "2021-10-23T19:48:05.122Z"
   },
   {
    "duration": 17,
    "start_time": "2021-10-23T19:48:05.162Z"
   },
   {
    "duration": 40,
    "start_time": "2021-10-23T19:48:05.181Z"
   },
   {
    "duration": 16,
    "start_time": "2021-10-23T19:48:05.223Z"
   },
   {
    "duration": 42,
    "start_time": "2021-10-23T19:48:05.241Z"
   },
   {
    "duration": 5,
    "start_time": "2021-10-23T19:48:05.286Z"
   },
   {
    "duration": 63,
    "start_time": "2021-10-23T19:48:05.294Z"
   },
   {
    "duration": 12,
    "start_time": "2021-10-23T19:48:05.360Z"
   },
   {
    "duration": 338,
    "start_time": "2021-10-23T19:48:05.375Z"
   },
   {
    "duration": 20,
    "start_time": "2021-10-23T19:48:05.716Z"
   },
   {
    "duration": 422,
    "start_time": "2021-10-23T19:48:05.739Z"
   },
   {
    "duration": 28,
    "start_time": "2021-10-23T19:48:06.164Z"
   },
   {
    "duration": 36,
    "start_time": "2021-10-23T19:48:06.195Z"
   },
   {
    "duration": 700,
    "start_time": "2021-10-23T19:48:06.233Z"
   },
   {
    "duration": 53,
    "start_time": "2021-10-23T19:48:06.936Z"
   },
   {
    "duration": 26,
    "start_time": "2021-10-23T19:48:06.991Z"
   },
   {
    "duration": 579,
    "start_time": "2021-10-23T19:48:07.021Z"
   },
   {
    "duration": 7,
    "start_time": "2021-10-23T19:48:07.603Z"
   },
   {
    "duration": 20,
    "start_time": "2021-10-23T19:48:07.612Z"
   },
   {
    "duration": 25,
    "start_time": "2021-10-23T19:48:07.659Z"
   },
   {
    "duration": 9336,
    "start_time": "2021-10-23T19:48:07.687Z"
   },
   {
    "duration": -52,
    "start_time": "2021-10-23T19:48:17.077Z"
   },
   {
    "duration": 467,
    "start_time": "2021-10-23T19:50:10.196Z"
   },
   {
    "duration": 43,
    "start_time": "2021-10-23T19:50:19.252Z"
   },
   {
    "duration": 42,
    "start_time": "2021-10-23T19:50:32.035Z"
   },
   {
    "duration": 14,
    "start_time": "2021-10-23T19:51:26.791Z"
   },
   {
    "duration": 21,
    "start_time": "2021-10-23T19:51:41.790Z"
   },
   {
    "duration": 122,
    "start_time": "2021-10-23T19:53:23.899Z"
   },
   {
    "duration": 4,
    "start_time": "2021-10-23T20:01:28.715Z"
   },
   {
    "duration": 135,
    "start_time": "2021-10-23T20:01:28.722Z"
   },
   {
    "duration": 28,
    "start_time": "2021-10-23T20:01:28.860Z"
   },
   {
    "duration": 41,
    "start_time": "2021-10-23T20:01:28.891Z"
   },
   {
    "duration": 46,
    "start_time": "2021-10-23T20:01:28.957Z"
   },
   {
    "duration": 38,
    "start_time": "2021-10-23T20:01:29.006Z"
   },
   {
    "duration": 28,
    "start_time": "2021-10-23T20:01:29.047Z"
   },
   {
    "duration": 23,
    "start_time": "2021-10-23T20:01:29.079Z"
   },
   {
    "duration": 13,
    "start_time": "2021-10-23T20:01:29.104Z"
   },
   {
    "duration": 11,
    "start_time": "2021-10-23T20:01:29.120Z"
   },
   {
    "duration": 44,
    "start_time": "2021-10-23T20:01:29.133Z"
   },
   {
    "duration": 15,
    "start_time": "2021-10-23T20:01:29.180Z"
   },
   {
    "duration": 1750,
    "start_time": "2021-10-23T20:01:29.198Z"
   },
   {
    "duration": 17,
    "start_time": "2021-10-23T20:01:30.950Z"
   },
   {
    "duration": 13,
    "start_time": "2021-10-23T20:01:30.969Z"
   },
   {
    "duration": 34,
    "start_time": "2021-10-23T20:01:30.985Z"
   },
   {
    "duration": 30,
    "start_time": "2021-10-23T20:01:31.023Z"
   },
   {
    "duration": 49,
    "start_time": "2021-10-23T20:01:31.056Z"
   },
   {
    "duration": 30,
    "start_time": "2021-10-23T20:01:31.111Z"
   },
   {
    "duration": 62,
    "start_time": "2021-10-23T20:01:31.145Z"
   },
   {
    "duration": 27,
    "start_time": "2021-10-23T20:01:31.210Z"
   },
   {
    "duration": 26,
    "start_time": "2021-10-23T20:01:31.240Z"
   },
   {
    "duration": 46,
    "start_time": "2021-10-23T20:01:31.268Z"
   },
   {
    "duration": 21,
    "start_time": "2021-10-23T20:01:31.317Z"
   },
   {
    "duration": 39,
    "start_time": "2021-10-23T20:01:31.340Z"
   },
   {
    "duration": 10,
    "start_time": "2021-10-23T20:01:31.382Z"
   },
   {
    "duration": 33,
    "start_time": "2021-10-23T20:01:31.394Z"
   },
   {
    "duration": 31,
    "start_time": "2021-10-23T20:01:31.429Z"
   },
   {
    "duration": 23,
    "start_time": "2021-10-23T20:01:31.463Z"
   },
   {
    "duration": 27,
    "start_time": "2021-10-23T20:01:31.488Z"
   },
   {
    "duration": 30,
    "start_time": "2021-10-23T20:01:31.517Z"
   },
   {
    "duration": 11,
    "start_time": "2021-10-23T20:01:31.550Z"
   },
   {
    "duration": 40,
    "start_time": "2021-10-23T20:01:31.564Z"
   },
   {
    "duration": 56,
    "start_time": "2021-10-23T20:01:31.607Z"
   },
   {
    "duration": 12,
    "start_time": "2021-10-23T20:01:31.667Z"
   },
   {
    "duration": 19,
    "start_time": "2021-10-23T20:01:31.683Z"
   },
   {
    "duration": 20,
    "start_time": "2021-10-23T20:01:31.705Z"
   },
   {
    "duration": 37,
    "start_time": "2021-10-23T20:01:31.727Z"
   },
   {
    "duration": 19,
    "start_time": "2021-10-23T20:01:31.767Z"
   },
   {
    "duration": 41,
    "start_time": "2021-10-23T20:01:31.788Z"
   },
   {
    "duration": 16,
    "start_time": "2021-10-23T20:01:31.831Z"
   },
   {
    "duration": 53,
    "start_time": "2021-10-23T20:01:31.849Z"
   },
   {
    "duration": 7,
    "start_time": "2021-10-23T20:01:31.905Z"
   },
   {
    "duration": 56,
    "start_time": "2021-10-23T20:01:31.915Z"
   },
   {
    "duration": 13,
    "start_time": "2021-10-23T20:01:31.974Z"
   },
   {
    "duration": 357,
    "start_time": "2021-10-23T20:01:31.990Z"
   },
   {
    "duration": 29,
    "start_time": "2021-10-23T20:01:32.350Z"
   },
   {
    "duration": 372,
    "start_time": "2021-10-23T20:01:32.381Z"
   },
   {
    "duration": 35,
    "start_time": "2021-10-23T20:01:32.758Z"
   },
   {
    "duration": 32,
    "start_time": "2021-10-23T20:01:32.796Z"
   },
   {
    "duration": 757,
    "start_time": "2021-10-23T20:01:32.830Z"
   },
   {
    "duration": 44,
    "start_time": "2021-10-23T20:01:33.590Z"
   },
   {
    "duration": 28,
    "start_time": "2021-10-23T20:01:33.657Z"
   },
   {
    "duration": 624,
    "start_time": "2021-10-23T20:01:33.688Z"
   },
   {
    "duration": 7,
    "start_time": "2021-10-23T20:01:34.321Z"
   },
   {
    "duration": 45,
    "start_time": "2021-10-23T20:01:34.332Z"
   },
   {
    "duration": 23,
    "start_time": "2021-10-23T20:01:34.380Z"
   },
   {
    "duration": 21,
    "start_time": "2021-10-23T20:01:34.406Z"
   },
   {
    "duration": 862,
    "start_time": "2021-10-24T18:14:58.623Z"
   },
   {
    "duration": 96,
    "start_time": "2021-10-24T18:14:59.487Z"
   },
   {
    "duration": 26,
    "start_time": "2021-10-24T18:14:59.586Z"
   },
   {
    "duration": 53,
    "start_time": "2021-10-24T18:14:59.615Z"
   },
   {
    "duration": 80,
    "start_time": "2021-10-24T18:14:59.671Z"
   },
   {
    "duration": 36,
    "start_time": "2021-10-24T18:14:59.753Z"
   },
   {
    "duration": 25,
    "start_time": "2021-10-24T18:14:59.792Z"
   },
   {
    "duration": 46,
    "start_time": "2021-10-24T18:14:59.821Z"
   },
   {
    "duration": 12,
    "start_time": "2021-10-24T18:14:59.870Z"
   },
   {
    "duration": 11,
    "start_time": "2021-10-24T18:14:59.884Z"
   },
   {
    "duration": 25,
    "start_time": "2021-10-24T18:14:59.897Z"
   },
   {
    "duration": 16,
    "start_time": "2021-10-24T18:14:59.924Z"
   },
   {
    "duration": 1576,
    "start_time": "2021-10-24T18:14:59.968Z"
   },
   {
    "duration": 23,
    "start_time": "2021-10-24T18:15:01.546Z"
   },
   {
    "duration": 7,
    "start_time": "2021-10-24T18:15:01.572Z"
   },
   {
    "duration": 25,
    "start_time": "2021-10-24T18:15:01.582Z"
   },
   {
    "duration": 11,
    "start_time": "2021-10-24T18:15:01.610Z"
   },
   {
    "duration": 46,
    "start_time": "2021-10-24T18:15:01.623Z"
   },
   {
    "duration": 12,
    "start_time": "2021-10-24T18:15:01.671Z"
   },
   {
    "duration": 51,
    "start_time": "2021-10-24T18:15:01.686Z"
   },
   {
    "duration": 50,
    "start_time": "2021-10-24T18:15:01.740Z"
   },
   {
    "duration": 20,
    "start_time": "2021-10-24T18:15:01.792Z"
   },
   {
    "duration": 33,
    "start_time": "2021-10-24T18:15:01.818Z"
   },
   {
    "duration": 28,
    "start_time": "2021-10-24T18:15:01.855Z"
   },
   {
    "duration": 43,
    "start_time": "2021-10-24T18:15:01.886Z"
   },
   {
    "duration": 16,
    "start_time": "2021-10-24T18:15:01.932Z"
   },
   {
    "duration": 35,
    "start_time": "2021-10-24T18:15:01.950Z"
   },
   {
    "duration": 22,
    "start_time": "2021-10-24T18:15:01.989Z"
   },
   {
    "duration": 25,
    "start_time": "2021-10-24T18:15:02.014Z"
   },
   {
    "duration": 27,
    "start_time": "2021-10-24T18:15:02.041Z"
   },
   {
    "duration": 17,
    "start_time": "2021-10-24T18:15:02.071Z"
   },
   {
    "duration": 21,
    "start_time": "2021-10-24T18:15:02.091Z"
   },
   {
    "duration": 379,
    "start_time": "2021-10-24T18:15:02.114Z"
   },
   {
    "duration": -161,
    "start_time": "2021-10-24T18:15:02.656Z"
   },
   {
    "duration": -182,
    "start_time": "2021-10-24T18:15:02.679Z"
   },
   {
    "duration": -186,
    "start_time": "2021-10-24T18:15:02.684Z"
   },
   {
    "duration": -186,
    "start_time": "2021-10-24T18:15:02.686Z"
   },
   {
    "duration": -188,
    "start_time": "2021-10-24T18:15:02.689Z"
   },
   {
    "duration": -189,
    "start_time": "2021-10-24T18:15:02.691Z"
   },
   {
    "duration": -189,
    "start_time": "2021-10-24T18:15:02.693Z"
   },
   {
    "duration": -191,
    "start_time": "2021-10-24T18:15:02.696Z"
   },
   {
    "duration": -191,
    "start_time": "2021-10-24T18:15:02.698Z"
   },
   {
    "duration": -192,
    "start_time": "2021-10-24T18:15:02.700Z"
   },
   {
    "duration": -193,
    "start_time": "2021-10-24T18:15:02.703Z"
   },
   {
    "duration": -194,
    "start_time": "2021-10-24T18:15:02.705Z"
   },
   {
    "duration": -195,
    "start_time": "2021-10-24T18:15:02.708Z"
   },
   {
    "duration": -197,
    "start_time": "2021-10-24T18:15:02.711Z"
   },
   {
    "duration": -199,
    "start_time": "2021-10-24T18:15:02.714Z"
   },
   {
    "duration": -199,
    "start_time": "2021-10-24T18:15:02.716Z"
   },
   {
    "duration": -200,
    "start_time": "2021-10-24T18:15:02.719Z"
   },
   {
    "duration": -201,
    "start_time": "2021-10-24T18:15:02.722Z"
   },
   {
    "duration": -203,
    "start_time": "2021-10-24T18:15:02.725Z"
   },
   {
    "duration": -204,
    "start_time": "2021-10-24T18:15:02.727Z"
   },
   {
    "duration": -204,
    "start_time": "2021-10-24T18:15:02.729Z"
   },
   {
    "duration": -206,
    "start_time": "2021-10-24T18:15:02.732Z"
   },
   {
    "duration": -206,
    "start_time": "2021-10-24T18:15:02.734Z"
   },
   {
    "duration": -208,
    "start_time": "2021-10-24T18:15:02.737Z"
   },
   {
    "duration": -208,
    "start_time": "2021-10-24T18:15:02.739Z"
   },
   {
    "duration": 259,
    "start_time": "2021-10-24T18:45:37.929Z"
   },
   {
    "duration": 9,
    "start_time": "2021-10-24T18:46:27.363Z"
   },
   {
    "duration": 34,
    "start_time": "2021-10-24T18:46:29.424Z"
   },
   {
    "duration": 11,
    "start_time": "2021-10-24T18:46:29.566Z"
   },
   {
    "duration": 11,
    "start_time": "2021-10-24T18:46:29.678Z"
   },
   {
    "duration": 11,
    "start_time": "2021-10-24T18:46:29.931Z"
   },
   {
    "duration": 10,
    "start_time": "2021-10-24T18:46:30.050Z"
   },
   {
    "duration": 6,
    "start_time": "2021-10-24T18:46:30.421Z"
   },
   {
    "duration": 25,
    "start_time": "2021-10-24T18:46:30.549Z"
   },
   {
    "duration": 16,
    "start_time": "2021-10-24T18:46:30.795Z"
   },
   {
    "duration": 28,
    "start_time": "2021-10-24T18:46:30.895Z"
   },
   {
    "duration": 5,
    "start_time": "2021-10-24T18:46:31.151Z"
   },
   {
    "duration": 44,
    "start_time": "2021-10-24T18:46:31.284Z"
   },
   {
    "duration": 11,
    "start_time": "2021-10-24T18:46:31.688Z"
   },
   {
    "duration": 344,
    "start_time": "2021-10-24T18:46:31.958Z"
   },
   {
    "duration": 20,
    "start_time": "2021-10-24T18:46:32.305Z"
   },
   {
    "duration": 392,
    "start_time": "2021-10-24T18:46:32.366Z"
   },
   {
    "duration": 30,
    "start_time": "2021-10-24T18:46:32.767Z"
   },
   {
    "duration": 35,
    "start_time": "2021-10-24T18:46:33.196Z"
   },
   {
    "duration": 731,
    "start_time": "2021-10-24T18:46:33.337Z"
   },
   {
    "duration": 39,
    "start_time": "2021-10-24T18:46:34.071Z"
   },
   {
    "duration": 24,
    "start_time": "2021-10-24T18:46:34.113Z"
   },
   {
    "duration": 590,
    "start_time": "2021-10-24T18:46:34.189Z"
   },
   {
    "duration": 7,
    "start_time": "2021-10-24T18:46:34.782Z"
   },
   {
    "duration": 21,
    "start_time": "2021-10-24T18:46:34.792Z"
   },
   {
    "duration": 22,
    "start_time": "2021-10-24T18:46:35.204Z"
   },
   {
    "duration": 22,
    "start_time": "2021-10-24T18:46:35.618Z"
   },
   {
    "duration": 266,
    "start_time": "2021-10-25T03:04:39.058Z"
   },
   {
    "duration": 665,
    "start_time": "2021-10-25T03:04:43.663Z"
   },
   {
    "duration": 69,
    "start_time": "2021-10-25T03:04:44.330Z"
   },
   {
    "duration": 16,
    "start_time": "2021-10-25T03:04:44.401Z"
   },
   {
    "duration": 19,
    "start_time": "2021-10-25T03:04:44.418Z"
   },
   {
    "duration": 43,
    "start_time": "2021-10-25T03:04:44.439Z"
   },
   {
    "duration": 25,
    "start_time": "2021-10-25T03:04:44.483Z"
   },
   {
    "duration": 15,
    "start_time": "2021-10-25T03:04:44.509Z"
   },
   {
    "duration": 16,
    "start_time": "2021-10-25T03:04:44.526Z"
   },
   {
    "duration": 13,
    "start_time": "2021-10-25T03:04:44.544Z"
   },
   {
    "duration": 14,
    "start_time": "2021-10-25T03:04:44.559Z"
   },
   {
    "duration": 18,
    "start_time": "2021-10-25T03:04:44.575Z"
   },
   {
    "duration": 13,
    "start_time": "2021-10-25T03:04:44.594Z"
   },
   {
    "duration": 693,
    "start_time": "2021-10-25T03:04:44.609Z"
   },
   {
    "duration": 11,
    "start_time": "2021-10-25T03:04:45.303Z"
   },
   {
    "duration": 15,
    "start_time": "2021-10-25T03:04:45.315Z"
   },
   {
    "duration": 36,
    "start_time": "2021-10-25T03:04:45.332Z"
   },
   {
    "duration": 18,
    "start_time": "2021-10-25T03:04:45.370Z"
   },
   {
    "duration": 23,
    "start_time": "2021-10-25T03:04:45.390Z"
   },
   {
    "duration": 32,
    "start_time": "2021-10-25T03:04:45.414Z"
   },
   {
    "duration": 40,
    "start_time": "2021-10-25T03:04:45.448Z"
   },
   {
    "duration": 15,
    "start_time": "2021-10-25T03:04:45.490Z"
   },
   {
    "duration": 15,
    "start_time": "2021-10-25T03:04:45.507Z"
   },
   {
    "duration": 31,
    "start_time": "2021-10-25T03:04:45.526Z"
   },
   {
    "duration": 35,
    "start_time": "2021-10-25T03:04:45.560Z"
   },
   {
    "duration": 27,
    "start_time": "2021-10-25T03:04:45.597Z"
   },
   {
    "duration": 12,
    "start_time": "2021-10-25T03:04:45.626Z"
   },
   {
    "duration": 35,
    "start_time": "2021-10-25T03:04:45.640Z"
   },
   {
    "duration": 32,
    "start_time": "2021-10-25T03:04:45.677Z"
   },
   {
    "duration": 23,
    "start_time": "2021-10-25T03:04:45.711Z"
   },
   {
    "duration": 23,
    "start_time": "2021-10-25T03:04:45.736Z"
   },
   {
    "duration": 21,
    "start_time": "2021-10-25T03:04:45.760Z"
   },
   {
    "duration": 13,
    "start_time": "2021-10-25T03:04:45.783Z"
   },
   {
    "duration": 28,
    "start_time": "2021-10-25T03:04:45.798Z"
   },
   {
    "duration": 20,
    "start_time": "2021-10-25T03:04:45.828Z"
   },
   {
    "duration": 29,
    "start_time": "2021-10-25T03:04:45.850Z"
   },
   {
    "duration": 8,
    "start_time": "2021-10-25T03:04:45.881Z"
   },
   {
    "duration": 28,
    "start_time": "2021-10-25T03:04:45.891Z"
   },
   {
    "duration": 34,
    "start_time": "2021-10-25T03:04:45.921Z"
   },
   {
    "duration": 16,
    "start_time": "2021-10-25T03:04:45.957Z"
   },
   {
    "duration": 22,
    "start_time": "2021-10-25T03:04:45.974Z"
   },
   {
    "duration": 45,
    "start_time": "2021-10-25T03:04:45.997Z"
   },
   {
    "duration": 16,
    "start_time": "2021-10-25T03:04:46.044Z"
   },
   {
    "duration": 36,
    "start_time": "2021-10-25T03:04:46.062Z"
   },
   {
    "duration": 27,
    "start_time": "2021-10-25T03:04:46.100Z"
   },
   {
    "duration": 39,
    "start_time": "2021-10-25T03:04:46.129Z"
   },
   {
    "duration": 8,
    "start_time": "2021-10-25T03:04:46.170Z"
   },
   {
    "duration": 203,
    "start_time": "2021-10-25T03:04:46.180Z"
   },
   {
    "duration": 14,
    "start_time": "2021-10-25T03:04:46.385Z"
   },
   {
    "duration": 245,
    "start_time": "2021-10-25T03:04:46.400Z"
   },
   {
    "duration": 28,
    "start_time": "2021-10-25T03:04:46.647Z"
   },
   {
    "duration": 20,
    "start_time": "2021-10-25T03:04:46.676Z"
   },
   {
    "duration": 415,
    "start_time": "2021-10-25T03:04:46.698Z"
   },
   {
    "duration": 23,
    "start_time": "2021-10-25T03:04:47.115Z"
   },
   {
    "duration": 32,
    "start_time": "2021-10-25T03:04:47.140Z"
   },
   {
    "duration": 333,
    "start_time": "2021-10-25T03:04:47.174Z"
   },
   {
    "duration": 4,
    "start_time": "2021-10-25T03:04:47.509Z"
   },
   {
    "duration": 20,
    "start_time": "2021-10-25T03:04:47.515Z"
   },
   {
    "duration": 27,
    "start_time": "2021-10-25T03:04:47.537Z"
   },
   {
    "duration": 13,
    "start_time": "2021-10-25T03:04:47.566Z"
   },
   {
    "duration": 20,
    "start_time": "2021-10-25T03:21:23.083Z"
   },
   {
    "duration": 3,
    "start_time": "2021-10-25T03:26:40.876Z"
   },
   {
    "duration": 73,
    "start_time": "2021-10-25T03:26:40.881Z"
   },
   {
    "duration": 26,
    "start_time": "2021-10-25T03:26:40.956Z"
   },
   {
    "duration": 14,
    "start_time": "2021-10-25T03:26:40.985Z"
   },
   {
    "duration": 44,
    "start_time": "2021-10-25T03:26:41.001Z"
   },
   {
    "duration": 31,
    "start_time": "2021-10-25T03:26:41.047Z"
   },
   {
    "duration": 16,
    "start_time": "2021-10-25T03:26:41.079Z"
   },
   {
    "duration": 11,
    "start_time": "2021-10-25T03:26:41.538Z"
   },
   {
    "duration": 14,
    "start_time": "2021-10-25T03:26:43.269Z"
   },
   {
    "duration": 9,
    "start_time": "2021-10-25T03:26:43.285Z"
   },
   {
    "duration": 14,
    "start_time": "2021-10-25T03:26:43.297Z"
   },
   {
    "duration": 6,
    "start_time": "2021-10-25T03:26:43.313Z"
   },
   {
    "duration": 914,
    "start_time": "2021-10-25T03:26:43.321Z"
   },
   {
    "duration": 11,
    "start_time": "2021-10-25T03:26:44.237Z"
   },
   {
    "duration": 23,
    "start_time": "2021-10-25T03:26:44.250Z"
   },
   {
    "duration": 12,
    "start_time": "2021-10-25T03:26:44.276Z"
   },
   {
    "duration": 8,
    "start_time": "2021-10-25T03:26:44.291Z"
   },
   {
    "duration": 21,
    "start_time": "2021-10-25T03:26:44.302Z"
   },
   {
    "duration": 8,
    "start_time": "2021-10-25T03:26:44.325Z"
   },
   {
    "duration": 53,
    "start_time": "2021-10-25T03:26:44.335Z"
   },
   {
    "duration": 15,
    "start_time": "2021-10-25T03:26:44.390Z"
   },
   {
    "duration": 7,
    "start_time": "2021-10-25T03:26:44.407Z"
   },
   {
    "duration": 16,
    "start_time": "2021-10-25T03:26:44.415Z"
   },
   {
    "duration": 33,
    "start_time": "2021-10-25T03:26:44.433Z"
   },
   {
    "duration": 23,
    "start_time": "2021-10-25T03:26:44.469Z"
   },
   {
    "duration": 8,
    "start_time": "2021-10-25T03:26:44.494Z"
   },
   {
    "duration": 20,
    "start_time": "2021-10-25T03:26:44.503Z"
   },
   {
    "duration": 6,
    "start_time": "2021-10-25T03:26:44.525Z"
   },
   {
    "duration": 41,
    "start_time": "2021-10-25T03:26:44.532Z"
   },
   {
    "duration": 7,
    "start_time": "2021-10-25T03:26:44.577Z"
   },
   {
    "duration": 12,
    "start_time": "2021-10-25T03:26:44.586Z"
   },
   {
    "duration": 19,
    "start_time": "2021-10-25T03:26:44.599Z"
   },
   {
    "duration": 7,
    "start_time": "2021-10-25T03:26:45.430Z"
   },
   {
    "duration": 12,
    "start_time": "2021-10-25T03:26:45.439Z"
   },
   {
    "duration": 39,
    "start_time": "2021-10-25T03:26:45.453Z"
   },
   {
    "duration": 8,
    "start_time": "2021-10-25T03:26:45.494Z"
   },
   {
    "duration": 17,
    "start_time": "2021-10-25T03:26:45.504Z"
   },
   {
    "duration": 7,
    "start_time": "2021-10-25T03:26:45.523Z"
   },
   {
    "duration": 8,
    "start_time": "2021-10-25T03:26:45.531Z"
   },
   {
    "duration": 11,
    "start_time": "2021-10-25T03:26:45.540Z"
   },
   {
    "duration": 29,
    "start_time": "2021-10-25T03:26:45.553Z"
   },
   {
    "duration": 11,
    "start_time": "2021-10-25T03:26:45.819Z"
   },
   {
    "duration": 27,
    "start_time": "2021-10-25T03:26:45.831Z"
   },
   {
    "duration": 10,
    "start_time": "2021-10-25T03:26:45.861Z"
   },
   {
    "duration": 41,
    "start_time": "2021-10-25T03:26:45.873Z"
   },
   {
    "duration": 7,
    "start_time": "2021-10-25T03:26:45.916Z"
   },
   {
    "duration": 222,
    "start_time": "2021-10-25T03:26:45.925Z"
   },
   {
    "duration": 25,
    "start_time": "2021-10-25T03:26:46.149Z"
   },
   {
    "duration": 216,
    "start_time": "2021-10-25T03:26:46.177Z"
   },
   {
    "duration": 21,
    "start_time": "2021-10-25T03:26:46.396Z"
   },
   {
    "duration": 19,
    "start_time": "2021-10-25T03:26:46.419Z"
   },
   {
    "duration": 436,
    "start_time": "2021-10-25T03:26:46.440Z"
   },
   {
    "duration": 26,
    "start_time": "2021-10-25T03:26:46.878Z"
   },
   {
    "duration": 16,
    "start_time": "2021-10-25T03:26:47.475Z"
   },
   {
    "duration": 355,
    "start_time": "2021-10-25T03:26:47.897Z"
   },
   {
    "duration": 13,
    "start_time": "2021-10-25T03:26:48.255Z"
   },
   {
    "duration": 14,
    "start_time": "2021-10-25T03:26:49.881Z"
   },
   {
    "duration": 16,
    "start_time": "2021-10-25T03:26:49.897Z"
   },
   {
    "duration": 14,
    "start_time": "2021-10-25T03:26:50.090Z"
   },
   {
    "duration": 1031,
    "start_time": "2021-10-25T17:07:06.681Z"
   },
   {
    "duration": 146,
    "start_time": "2021-10-25T17:07:07.715Z"
   },
   {
    "duration": 35,
    "start_time": "2021-10-25T17:07:07.865Z"
   },
   {
    "duration": 51,
    "start_time": "2021-10-25T17:07:07.906Z"
   },
   {
    "duration": 65,
    "start_time": "2021-10-25T17:07:07.960Z"
   },
   {
    "duration": 40,
    "start_time": "2021-10-25T17:07:08.028Z"
   },
   {
    "duration": 52,
    "start_time": "2021-10-25T17:07:08.071Z"
   },
   {
    "duration": 23,
    "start_time": "2021-10-25T17:07:08.126Z"
   },
   {
    "duration": 17,
    "start_time": "2021-10-25T17:07:08.156Z"
   },
   {
    "duration": 56,
    "start_time": "2021-10-25T17:07:08.177Z"
   },
   {
    "duration": 34,
    "start_time": "2021-10-25T17:07:08.237Z"
   },
   {
    "duration": 13,
    "start_time": "2021-10-25T17:07:08.274Z"
   },
   {
    "duration": 1556,
    "start_time": "2021-10-25T17:07:08.323Z"
   },
   {
    "duration": 14,
    "start_time": "2021-10-25T17:07:09.881Z"
   },
   {
    "duration": 27,
    "start_time": "2021-10-25T17:07:09.898Z"
   },
   {
    "duration": 35,
    "start_time": "2021-10-25T17:07:09.928Z"
   },
   {
    "duration": 12,
    "start_time": "2021-10-25T17:07:09.968Z"
   },
   {
    "duration": 17,
    "start_time": "2021-10-25T17:07:09.983Z"
   },
   {
    "duration": 32,
    "start_time": "2021-10-25T17:07:10.003Z"
   },
   {
    "duration": 92,
    "start_time": "2021-10-25T17:07:10.038Z"
   },
   {
    "duration": 36,
    "start_time": "2021-10-25T17:07:10.133Z"
   },
   {
    "duration": 9,
    "start_time": "2021-10-25T17:07:10.173Z"
   },
   {
    "duration": 62,
    "start_time": "2021-10-25T17:07:10.185Z"
   },
   {
    "duration": 13,
    "start_time": "2021-10-25T17:07:10.250Z"
   },
   {
    "duration": 59,
    "start_time": "2021-10-25T17:07:10.265Z"
   },
   {
    "duration": 8,
    "start_time": "2021-10-25T17:07:10.327Z"
   },
   {
    "duration": 26,
    "start_time": "2021-10-25T17:07:10.341Z"
   },
   {
    "duration": 10,
    "start_time": "2021-10-25T17:07:10.370Z"
   },
   {
    "duration": 49,
    "start_time": "2021-10-25T17:07:10.382Z"
   },
   {
    "duration": 20,
    "start_time": "2021-10-25T17:07:10.434Z"
   },
   {
    "duration": 9,
    "start_time": "2021-10-25T17:07:10.457Z"
   },
   {
    "duration": 9,
    "start_time": "2021-10-25T17:07:10.469Z"
   },
   {
    "duration": 51,
    "start_time": "2021-10-25T17:07:10.481Z"
   },
   {
    "duration": 38,
    "start_time": "2021-10-25T17:07:10.535Z"
   },
   {
    "duration": 14,
    "start_time": "2021-10-25T17:07:10.577Z"
   },
   {
    "duration": 12,
    "start_time": "2021-10-25T17:07:10.624Z"
   },
   {
    "duration": 15,
    "start_time": "2021-10-25T17:07:10.639Z"
   },
   {
    "duration": 14,
    "start_time": "2021-10-25T17:07:10.658Z"
   },
   {
    "duration": 49,
    "start_time": "2021-10-25T17:07:10.675Z"
   },
   {
    "duration": 37,
    "start_time": "2021-10-25T17:07:10.727Z"
   },
   {
    "duration": 24,
    "start_time": "2021-10-25T17:07:10.766Z"
   },
   {
    "duration": 52,
    "start_time": "2021-10-25T17:07:10.793Z"
   },
   {
    "duration": 6,
    "start_time": "2021-10-25T17:07:10.848Z"
   },
   {
    "duration": 69,
    "start_time": "2021-10-25T17:07:10.857Z"
   },
   {
    "duration": 13,
    "start_time": "2021-10-25T17:07:10.929Z"
   },
   {
    "duration": 377,
    "start_time": "2021-10-25T17:07:10.944Z"
   },
   {
    "duration": 29,
    "start_time": "2021-10-25T17:07:11.325Z"
   },
   {
    "duration": 574,
    "start_time": "2021-10-25T17:07:11.357Z"
   },
   {
    "duration": 45,
    "start_time": "2021-10-25T17:07:11.934Z"
   },
   {
    "duration": 73,
    "start_time": "2021-10-25T17:07:11.981Z"
   },
   {
    "duration": 969,
    "start_time": "2021-10-25T17:07:12.057Z"
   },
   {
    "duration": 60,
    "start_time": "2021-10-25T17:07:13.029Z"
   },
   {
    "duration": 60,
    "start_time": "2021-10-25T17:07:13.092Z"
   },
   {
    "duration": 844,
    "start_time": "2021-10-25T17:07:13.156Z"
   },
   {
    "duration": 8,
    "start_time": "2021-10-25T17:07:14.004Z"
   },
   {
    "duration": 22,
    "start_time": "2021-10-25T17:07:14.023Z"
   },
   {
    "duration": 20,
    "start_time": "2021-10-25T17:07:14.048Z"
   },
   {
    "duration": 64,
    "start_time": "2021-10-25T17:07:14.070Z"
   },
   {
    "duration": 359,
    "start_time": "2021-10-25T17:27:56.501Z"
   },
   {
    "duration": 5,
    "start_time": "2021-10-25T17:28:01.057Z"
   },
   {
    "duration": 36,
    "start_time": "2021-10-25T17:28:16.410Z"
   },
   {
    "duration": 4,
    "start_time": "2021-10-25T17:37:22.543Z"
   },
   {
    "duration": 95,
    "start_time": "2021-10-25T17:37:22.550Z"
   },
   {
    "duration": 20,
    "start_time": "2021-10-25T17:37:22.649Z"
   },
   {
    "duration": 53,
    "start_time": "2021-10-25T17:37:22.671Z"
   },
   {
    "duration": 50,
    "start_time": "2021-10-25T17:37:22.726Z"
   },
   {
    "duration": 36,
    "start_time": "2021-10-25T17:37:22.778Z"
   },
   {
    "duration": 26,
    "start_time": "2021-10-25T17:37:22.822Z"
   },
   {
    "duration": 16,
    "start_time": "2021-10-25T17:37:22.851Z"
   },
   {
    "duration": 13,
    "start_time": "2021-10-25T17:37:22.870Z"
   },
   {
    "duration": 43,
    "start_time": "2021-10-25T17:37:22.886Z"
   },
   {
    "duration": 23,
    "start_time": "2021-10-25T17:37:22.931Z"
   },
   {
    "duration": 9,
    "start_time": "2021-10-25T17:37:22.956Z"
   },
   {
    "duration": 1574,
    "start_time": "2021-10-25T17:37:22.967Z"
   },
   {
    "duration": 13,
    "start_time": "2021-10-25T17:37:24.544Z"
   },
   {
    "duration": 16,
    "start_time": "2021-10-25T17:37:24.559Z"
   },
   {
    "duration": 15,
    "start_time": "2021-10-25T17:37:24.577Z"
   },
   {
    "duration": 11,
    "start_time": "2021-10-25T17:37:24.623Z"
   },
   {
    "duration": 18,
    "start_time": "2021-10-25T17:37:24.636Z"
   },
   {
    "duration": 11,
    "start_time": "2021-10-25T17:37:24.660Z"
   },
   {
    "duration": 75,
    "start_time": "2021-10-25T17:37:24.675Z"
   },
   {
    "duration": 23,
    "start_time": "2021-10-25T17:37:24.752Z"
   },
   {
    "duration": 8,
    "start_time": "2021-10-25T17:37:24.778Z"
   },
   {
    "duration": 48,
    "start_time": "2021-10-25T17:37:24.789Z"
   },
   {
    "duration": 10,
    "start_time": "2021-10-25T17:37:24.840Z"
   },
   {
    "duration": 28,
    "start_time": "2021-10-25T17:37:24.853Z"
   },
   {
    "duration": 42,
    "start_time": "2021-10-25T17:37:24.883Z"
   },
   {
    "duration": 25,
    "start_time": "2021-10-25T17:37:24.928Z"
   },
   {
    "duration": 9,
    "start_time": "2021-10-25T17:37:24.956Z"
   },
   {
    "duration": 13,
    "start_time": "2021-10-25T17:37:24.968Z"
   },
   {
    "duration": 48,
    "start_time": "2021-10-25T17:37:24.984Z"
   },
   {
    "duration": 9,
    "start_time": "2021-10-25T17:37:25.034Z"
   },
   {
    "duration": 9,
    "start_time": "2021-10-25T17:37:25.045Z"
   },
   {
    "duration": 21,
    "start_time": "2021-10-25T17:37:25.057Z"
   },
   {
    "duration": 5,
    "start_time": "2021-10-25T17:37:25.081Z"
   },
   {
    "duration": 63,
    "start_time": "2021-10-25T17:37:25.088Z"
   },
   {
    "duration": 10,
    "start_time": "2021-10-25T17:37:25.154Z"
   },
   {
    "duration": 12,
    "start_time": "2021-10-25T17:37:25.166Z"
   },
   {
    "duration": 42,
    "start_time": "2021-10-25T17:37:25.180Z"
   },
   {
    "duration": 10,
    "start_time": "2021-10-25T17:37:25.225Z"
   },
   {
    "duration": 14,
    "start_time": "2021-10-25T17:37:25.237Z"
   },
   {
    "duration": 26,
    "start_time": "2021-10-25T17:37:25.253Z"
   },
   {
    "duration": 42,
    "start_time": "2021-10-25T17:37:25.281Z"
   },
   {
    "duration": 38,
    "start_time": "2021-10-25T17:37:25.326Z"
   },
   {
    "duration": 5,
    "start_time": "2021-10-25T17:37:25.367Z"
   },
   {
    "duration": 72,
    "start_time": "2021-10-25T17:37:25.374Z"
   },
   {
    "duration": 10,
    "start_time": "2021-10-25T17:37:25.448Z"
   },
   {
    "duration": 334,
    "start_time": "2021-10-25T17:37:25.460Z"
   },
   {
    "duration": 32,
    "start_time": "2021-10-25T17:37:25.796Z"
   },
   {
    "duration": 344,
    "start_time": "2021-10-25T17:37:25.830Z"
   },
   {
    "duration": 46,
    "start_time": "2021-10-25T17:37:26.176Z"
   },
   {
    "duration": 29,
    "start_time": "2021-10-25T17:37:26.225Z"
   },
   {
    "duration": 774,
    "start_time": "2021-10-25T17:37:26.256Z"
   },
   {
    "duration": 42,
    "start_time": "2021-10-25T17:37:27.033Z"
   },
   {
    "duration": 58,
    "start_time": "2021-10-25T17:37:27.078Z"
   },
   {
    "duration": 679,
    "start_time": "2021-10-25T17:37:27.144Z"
   },
   {
    "duration": 8,
    "start_time": "2021-10-25T17:37:27.826Z"
   },
   {
    "duration": 18,
    "start_time": "2021-10-25T17:37:27.838Z"
   },
   {
    "duration": 22,
    "start_time": "2021-10-25T17:37:27.859Z"
   },
   {
    "duration": 54,
    "start_time": "2021-10-25T17:37:27.884Z"
   },
   {
    "duration": 640,
    "start_time": "2021-10-25T17:51:56.445Z"
   },
   {
    "duration": 1124,
    "start_time": "2021-10-25T17:54:29.826Z"
   },
   {
    "duration": 23,
    "start_time": "2021-10-25T17:54:54.497Z"
   },
   {
    "duration": 21,
    "start_time": "2021-10-25T17:55:18.060Z"
   },
   {
    "duration": 705,
    "start_time": "2021-10-25T17:57:31.180Z"
   },
   {
    "duration": 32,
    "start_time": "2021-10-25T17:57:53.847Z"
   },
   {
    "duration": 653,
    "start_time": "2021-10-25T17:57:55.141Z"
   },
   {
    "duration": 32,
    "start_time": "2021-10-25T17:58:19.121Z"
   },
   {
    "duration": 648,
    "start_time": "2021-10-25T17:58:19.954Z"
   },
   {
    "duration": 24,
    "start_time": "2021-10-25T17:59:35.857Z"
   },
   {
    "duration": 7694,
    "start_time": "2021-10-25T18:01:10.009Z"
   },
   {
    "duration": 7016,
    "start_time": "2021-10-25T18:01:49.592Z"
   },
   {
    "duration": 574,
    "start_time": "2021-10-25T18:02:11.163Z"
   },
   {
    "duration": 191,
    "start_time": "2021-10-25T18:03:38.389Z"
   },
   {
    "duration": 229,
    "start_time": "2021-10-25T18:03:49.914Z"
   },
   {
    "duration": 199,
    "start_time": "2021-10-25T18:04:10.135Z"
   },
   {
    "duration": 196,
    "start_time": "2021-10-25T18:04:17.770Z"
   },
   {
    "duration": 247,
    "start_time": "2021-10-25T18:04:37.588Z"
   },
   {
    "duration": 196,
    "start_time": "2021-10-25T18:04:41.729Z"
   },
   {
    "duration": 199,
    "start_time": "2021-10-25T18:04:47.282Z"
   },
   {
    "duration": 273,
    "start_time": "2021-10-25T18:04:57.198Z"
   },
   {
    "duration": 196,
    "start_time": "2021-10-25T18:05:25.090Z"
   },
   {
    "duration": 7022,
    "start_time": "2021-10-25T18:11:29.650Z"
   },
   {
    "duration": 533,
    "start_time": "2021-10-25T18:11:53.982Z"
   },
   {
    "duration": 282,
    "start_time": "2021-10-25T18:12:02.579Z"
   },
   {
    "duration": 321,
    "start_time": "2021-10-25T18:12:16.292Z"
   },
   {
    "duration": 313,
    "start_time": "2021-10-25T18:12:22.076Z"
   },
   {
    "duration": 273,
    "start_time": "2021-10-25T18:12:53.157Z"
   },
   {
    "duration": 292,
    "start_time": "2021-10-25T18:12:58.205Z"
   },
   {
    "duration": 298,
    "start_time": "2021-10-25T18:13:08.526Z"
   },
   {
    "duration": 261,
    "start_time": "2021-10-25T18:13:16.480Z"
   },
   {
    "duration": 23,
    "start_time": "2021-10-25T18:14:13.472Z"
   },
   {
    "duration": 22,
    "start_time": "2021-10-25T18:14:23.071Z"
   },
   {
    "duration": 4,
    "start_time": "2021-10-25T18:14:31.933Z"
   },
   {
    "duration": 97,
    "start_time": "2021-10-25T18:14:31.939Z"
   },
   {
    "duration": 20,
    "start_time": "2021-10-25T18:14:32.039Z"
   },
   {
    "duration": 64,
    "start_time": "2021-10-25T18:14:32.062Z"
   },
   {
    "duration": 53,
    "start_time": "2021-10-25T18:14:32.128Z"
   },
   {
    "duration": 95,
    "start_time": "2021-10-25T18:14:32.184Z"
   },
   {
    "duration": 40,
    "start_time": "2021-10-25T18:14:32.282Z"
   },
   {
    "duration": 14,
    "start_time": "2021-10-25T18:14:32.326Z"
   },
   {
    "duration": 11,
    "start_time": "2021-10-25T18:14:32.343Z"
   },
   {
    "duration": 11,
    "start_time": "2021-10-25T18:14:32.356Z"
   },
   {
    "duration": 60,
    "start_time": "2021-10-25T18:14:32.370Z"
   },
   {
    "duration": 15,
    "start_time": "2021-10-25T18:14:32.433Z"
   },
   {
    "duration": 1564,
    "start_time": "2021-10-25T18:14:32.450Z"
   },
   {
    "duration": 14,
    "start_time": "2021-10-25T18:14:34.017Z"
   },
   {
    "duration": 10,
    "start_time": "2021-10-25T18:14:34.033Z"
   },
   {
    "duration": 21,
    "start_time": "2021-10-25T18:14:34.045Z"
   },
   {
    "duration": 20,
    "start_time": "2021-10-25T18:14:34.068Z"
   },
   {
    "duration": 32,
    "start_time": "2021-10-25T18:14:34.090Z"
   },
   {
    "duration": 11,
    "start_time": "2021-10-25T18:14:34.125Z"
   },
   {
    "duration": 53,
    "start_time": "2021-10-25T18:14:34.138Z"
   },
   {
    "duration": 40,
    "start_time": "2021-10-25T18:14:34.194Z"
   },
   {
    "duration": 25,
    "start_time": "2021-10-25T18:14:34.236Z"
   },
   {
    "duration": 22,
    "start_time": "2021-10-25T18:14:34.267Z"
   },
   {
    "duration": 29,
    "start_time": "2021-10-25T18:14:34.293Z"
   },
   {
    "duration": 28,
    "start_time": "2021-10-25T18:14:34.325Z"
   },
   {
    "duration": 8,
    "start_time": "2021-10-25T18:14:34.355Z"
   },
   {
    "duration": 34,
    "start_time": "2021-10-25T18:14:34.365Z"
   },
   {
    "duration": 9,
    "start_time": "2021-10-25T18:14:34.422Z"
   },
   {
    "duration": 17,
    "start_time": "2021-10-25T18:14:34.433Z"
   },
   {
    "duration": 17,
    "start_time": "2021-10-25T18:14:34.452Z"
   },
   {
    "duration": 19,
    "start_time": "2021-10-25T18:14:34.472Z"
   },
   {
    "duration": 10,
    "start_time": "2021-10-25T18:14:34.494Z"
   },
   {
    "duration": 26,
    "start_time": "2021-10-25T18:14:34.506Z"
   },
   {
    "duration": 10,
    "start_time": "2021-10-25T18:14:34.535Z"
   },
   {
    "duration": 39,
    "start_time": "2021-10-25T18:14:34.548Z"
   },
   {
    "duration": 9,
    "start_time": "2021-10-25T18:14:34.590Z"
   },
   {
    "duration": 27,
    "start_time": "2021-10-25T18:14:34.602Z"
   },
   {
    "duration": 15,
    "start_time": "2021-10-25T18:14:34.631Z"
   },
   {
    "duration": 20,
    "start_time": "2021-10-25T18:14:34.649Z"
   },
   {
    "duration": 18,
    "start_time": "2021-10-25T18:14:34.671Z"
   },
   {
    "duration": 38,
    "start_time": "2021-10-25T18:14:34.691Z"
   },
   {
    "duration": 21,
    "start_time": "2021-10-25T18:14:34.732Z"
   },
   {
    "duration": 44,
    "start_time": "2021-10-25T18:14:34.755Z"
   },
   {
    "duration": 5,
    "start_time": "2021-10-25T18:14:34.802Z"
   },
   {
    "duration": 69,
    "start_time": "2021-10-25T18:14:34.809Z"
   },
   {
    "duration": 10,
    "start_time": "2021-10-25T18:14:34.881Z"
   },
   {
    "duration": 334,
    "start_time": "2021-10-25T18:14:34.893Z"
   },
   {
    "duration": 19,
    "start_time": "2021-10-25T18:14:35.229Z"
   },
   {
    "duration": 376,
    "start_time": "2021-10-25T18:14:35.251Z"
   },
   {
    "duration": 30,
    "start_time": "2021-10-25T18:14:35.629Z"
   },
   {
    "duration": 62,
    "start_time": "2021-10-25T18:14:35.662Z"
   },
   {
    "duration": 646,
    "start_time": "2021-10-25T18:14:35.728Z"
   },
   {
    "duration": 54,
    "start_time": "2021-10-25T18:14:36.376Z"
   },
   {
    "duration": 25,
    "start_time": "2021-10-25T18:14:36.432Z"
   },
   {
    "duration": 215,
    "start_time": "2021-10-25T18:14:36.459Z"
   },
   {
    "duration": 571,
    "start_time": "2021-10-25T18:14:36.677Z"
   },
   {
    "duration": 8,
    "start_time": "2021-10-25T18:14:37.250Z"
   },
   {
    "duration": 27,
    "start_time": "2021-10-25T18:14:37.261Z"
   },
   {
    "duration": 47,
    "start_time": "2021-10-25T18:14:37.290Z"
   },
   {
    "duration": 21,
    "start_time": "2021-10-25T18:14:37.339Z"
   },
   {
    "duration": 23,
    "start_time": "2021-10-25T18:15:03.519Z"
   },
   {
    "duration": 7050,
    "start_time": "2021-10-25T18:15:52.648Z"
   },
   {
    "duration": 649,
    "start_time": "2021-10-25T18:16:09.100Z"
   },
   {
    "duration": 21,
    "start_time": "2021-10-25T18:19:53.119Z"
   },
   {
    "duration": 613,
    "start_time": "2021-10-25T18:19:57.929Z"
   },
   {
    "duration": 7,
    "start_time": "2021-10-25T18:22:18.862Z"
   },
   {
    "duration": 20,
    "start_time": "2021-10-25T18:30:26.964Z"
   },
   {
    "duration": 275,
    "start_time": "2021-10-25T18:31:04.282Z"
   },
   {
    "duration": 19,
    "start_time": "2021-10-25T18:31:20.533Z"
   },
   {
    "duration": 293,
    "start_time": "2021-10-25T18:31:57.574Z"
   },
   {
    "duration": 20,
    "start_time": "2021-10-25T18:32:02.881Z"
   },
   {
    "duration": 364,
    "start_time": "2021-10-25T18:33:50.527Z"
   },
   {
    "duration": 19,
    "start_time": "2021-10-25T18:33:58.208Z"
   },
   {
    "duration": 6,
    "start_time": "2021-10-25T18:36:45.662Z"
   },
   {
    "duration": 38,
    "start_time": "2021-10-25T18:37:08.511Z"
   },
   {
    "duration": 6,
    "start_time": "2021-10-25T18:37:37.964Z"
   },
   {
    "duration": 4,
    "start_time": "2021-10-25T18:38:43.138Z"
   },
   {
    "duration": 105,
    "start_time": "2021-10-25T18:38:43.146Z"
   },
   {
    "duration": 24,
    "start_time": "2021-10-25T18:38:43.254Z"
   },
   {
    "duration": 64,
    "start_time": "2021-10-25T18:38:43.281Z"
   },
   {
    "duration": 66,
    "start_time": "2021-10-25T18:38:43.348Z"
   },
   {
    "duration": 47,
    "start_time": "2021-10-25T18:38:43.416Z"
   },
   {
    "duration": 29,
    "start_time": "2021-10-25T18:38:43.467Z"
   },
   {
    "duration": 36,
    "start_time": "2021-10-25T18:38:43.499Z"
   },
   {
    "duration": 18,
    "start_time": "2021-10-25T18:38:43.537Z"
   },
   {
    "duration": 24,
    "start_time": "2021-10-25T18:38:43.557Z"
   },
   {
    "duration": 38,
    "start_time": "2021-10-25T18:38:43.583Z"
   },
   {
    "duration": 18,
    "start_time": "2021-10-25T18:38:43.624Z"
   },
   {
    "duration": 1831,
    "start_time": "2021-10-25T18:38:43.644Z"
   },
   {
    "duration": 14,
    "start_time": "2021-10-25T18:38:45.477Z"
   },
   {
    "duration": 30,
    "start_time": "2021-10-25T18:38:45.494Z"
   },
   {
    "duration": 12,
    "start_time": "2021-10-25T18:38:45.526Z"
   },
   {
    "duration": 12,
    "start_time": "2021-10-25T18:38:45.540Z"
   },
   {
    "duration": 13,
    "start_time": "2021-10-25T18:38:45.554Z"
   },
   {
    "duration": 52,
    "start_time": "2021-10-25T18:38:45.572Z"
   },
   {
    "duration": 42,
    "start_time": "2021-10-25T18:38:45.628Z"
   },
   {
    "duration": 26,
    "start_time": "2021-10-25T18:38:45.672Z"
   },
   {
    "duration": 7,
    "start_time": "2021-10-25T18:38:45.723Z"
   },
   {
    "duration": 24,
    "start_time": "2021-10-25T18:38:45.733Z"
   },
   {
    "duration": 14,
    "start_time": "2021-10-25T18:38:45.760Z"
   },
   {
    "duration": 63,
    "start_time": "2021-10-25T18:38:45.777Z"
   },
   {
    "duration": 9,
    "start_time": "2021-10-25T18:38:45.843Z"
   },
   {
    "duration": 27,
    "start_time": "2021-10-25T18:38:45.855Z"
   },
   {
    "duration": 46,
    "start_time": "2021-10-25T18:38:45.884Z"
   },
   {
    "duration": 7,
    "start_time": "2021-10-25T18:38:45.933Z"
   },
   {
    "duration": 14,
    "start_time": "2021-10-25T18:38:45.942Z"
   },
   {
    "duration": 10,
    "start_time": "2021-10-25T18:38:45.958Z"
   },
   {
    "duration": 9,
    "start_time": "2021-10-25T18:38:45.970Z"
   },
   {
    "duration": 47,
    "start_time": "2021-10-25T18:38:45.981Z"
   },
   {
    "duration": 8,
    "start_time": "2021-10-25T18:38:46.030Z"
   },
   {
    "duration": 36,
    "start_time": "2021-10-25T18:38:46.040Z"
   },
   {
    "duration": 10,
    "start_time": "2021-10-25T18:38:46.078Z"
   },
   {
    "duration": 39,
    "start_time": "2021-10-25T18:38:46.090Z"
   },
   {
    "duration": 10,
    "start_time": "2021-10-25T18:38:46.132Z"
   },
   {
    "duration": 10,
    "start_time": "2021-10-25T18:38:46.144Z"
   },
   {
    "duration": 8,
    "start_time": "2021-10-25T18:38:46.156Z"
   },
   {
    "duration": 62,
    "start_time": "2021-10-25T18:38:46.167Z"
   },
   {
    "duration": 16,
    "start_time": "2021-10-25T18:38:46.231Z"
   },
   {
    "duration": 35,
    "start_time": "2021-10-25T18:38:46.249Z"
   },
   {
    "duration": 5,
    "start_time": "2021-10-25T18:38:46.286Z"
   },
   {
    "duration": 69,
    "start_time": "2021-10-25T18:38:46.293Z"
   },
   {
    "duration": 11,
    "start_time": "2021-10-25T18:38:46.364Z"
   },
   {
    "duration": 348,
    "start_time": "2021-10-25T18:38:46.377Z"
   },
   {
    "duration": 21,
    "start_time": "2021-10-25T18:38:46.727Z"
   },
   {
    "duration": 358,
    "start_time": "2021-10-25T18:38:46.751Z"
   },
   {
    "duration": 34,
    "start_time": "2021-10-25T18:38:47.113Z"
   },
   {
    "duration": 30,
    "start_time": "2021-10-25T18:38:47.149Z"
   },
   {
    "duration": 679,
    "start_time": "2021-10-25T18:38:47.182Z"
   },
   {
    "duration": 60,
    "start_time": "2021-10-25T18:38:47.864Z"
   },
   {
    "duration": 208,
    "start_time": "2021-10-25T18:38:47.927Z"
   },
   {
    "duration": 20,
    "start_time": "2021-10-25T18:38:48.142Z"
   },
   {
    "duration": 619,
    "start_time": "2021-10-25T18:38:48.165Z"
   },
   {
    "duration": 7,
    "start_time": "2021-10-25T18:38:48.786Z"
   },
   {
    "duration": 28,
    "start_time": "2021-10-25T18:38:48.796Z"
   },
   {
    "duration": 89,
    "start_time": "2021-10-25T18:38:48.826Z"
   },
   {
    "duration": -2,
    "start_time": "2021-10-25T18:38:48.919Z"
   },
   {
    "duration": -5,
    "start_time": "2021-10-25T18:38:48.924Z"
   },
   {
    "duration": 4,
    "start_time": "2021-10-25T18:39:49.671Z"
   },
   {
    "duration": 7,
    "start_time": "2021-10-25T18:40:32.299Z"
   },
   {
    "duration": 6,
    "start_time": "2021-10-25T18:44:23.999Z"
   },
   {
    "duration": 115,
    "start_time": "2021-10-25T18:45:21.646Z"
   },
   {
    "duration": 269,
    "start_time": "2021-10-25T18:46:04.893Z"
   },
   {
    "duration": 292,
    "start_time": "2021-10-25T18:47:50.077Z"
   },
   {
    "duration": 7,
    "start_time": "2021-10-25T18:49:08.956Z"
   },
   {
    "duration": 6,
    "start_time": "2021-10-25T18:50:05.092Z"
   },
   {
    "duration": 255,
    "start_time": "2021-10-25T18:50:18.245Z"
   },
   {
    "duration": 87,
    "start_time": "2021-10-25T18:50:59.854Z"
   },
   {
    "duration": 18,
    "start_time": "2021-10-25T18:53:44.634Z"
   },
   {
    "duration": 18,
    "start_time": "2021-10-25T18:54:58.117Z"
   },
   {
    "duration": 489,
    "start_time": "2021-10-25T18:57:07.602Z"
   },
   {
    "duration": 6502,
    "start_time": "2021-10-25T18:59:50.834Z"
   },
   {
    "duration": 21,
    "start_time": "2021-10-25T19:00:45.245Z"
   },
   {
    "duration": 20,
    "start_time": "2021-10-25T19:01:16.068Z"
   },
   {
    "duration": 20,
    "start_time": "2021-10-25T19:01:19.637Z"
   },
   {
    "duration": 18,
    "start_time": "2021-10-25T19:01:27.132Z"
   },
   {
    "duration": 7340,
    "start_time": "2021-10-25T19:04:44.317Z"
   },
   {
    "duration": 791,
    "start_time": "2021-10-25T19:05:01.402Z"
   },
   {
    "duration": 4,
    "start_time": "2021-10-25T19:07:57.954Z"
   },
   {
    "duration": 99,
    "start_time": "2021-10-25T19:07:57.961Z"
   },
   {
    "duration": 22,
    "start_time": "2021-10-25T19:07:58.063Z"
   },
   {
    "duration": 55,
    "start_time": "2021-10-25T19:07:58.088Z"
   },
   {
    "duration": 58,
    "start_time": "2021-10-25T19:07:58.146Z"
   },
   {
    "duration": 34,
    "start_time": "2021-10-25T19:07:58.207Z"
   },
   {
    "duration": 25,
    "start_time": "2021-10-25T19:07:58.244Z"
   },
   {
    "duration": 20,
    "start_time": "2021-10-25T19:07:58.272Z"
   },
   {
    "duration": 34,
    "start_time": "2021-10-25T19:07:58.296Z"
   },
   {
    "duration": 12,
    "start_time": "2021-10-25T19:07:58.333Z"
   },
   {
    "duration": 30,
    "start_time": "2021-10-25T19:07:58.347Z"
   },
   {
    "duration": 13,
    "start_time": "2021-10-25T19:07:58.379Z"
   },
   {
    "duration": 1761,
    "start_time": "2021-10-25T19:07:58.395Z"
   },
   {
    "duration": 14,
    "start_time": "2021-10-25T19:08:00.158Z"
   },
   {
    "duration": 14,
    "start_time": "2021-10-25T19:08:00.174Z"
   },
   {
    "duration": 32,
    "start_time": "2021-10-25T19:08:00.190Z"
   },
   {
    "duration": 12,
    "start_time": "2021-10-25T19:08:00.224Z"
   },
   {
    "duration": 25,
    "start_time": "2021-10-25T19:08:00.238Z"
   },
   {
    "duration": 18,
    "start_time": "2021-10-25T19:08:00.266Z"
   },
   {
    "duration": 82,
    "start_time": "2021-10-25T19:08:00.286Z"
   },
   {
    "duration": 51,
    "start_time": "2021-10-25T19:08:00.371Z"
   },
   {
    "duration": 9,
    "start_time": "2021-10-25T19:08:00.425Z"
   },
   {
    "duration": 40,
    "start_time": "2021-10-25T19:08:00.436Z"
   },
   {
    "duration": 15,
    "start_time": "2021-10-25T19:08:00.482Z"
   },
   {
    "duration": 45,
    "start_time": "2021-10-25T19:08:00.501Z"
   },
   {
    "duration": 12,
    "start_time": "2021-10-25T19:08:00.549Z"
   },
   {
    "duration": 27,
    "start_time": "2021-10-25T19:08:00.563Z"
   },
   {
    "duration": 36,
    "start_time": "2021-10-25T19:08:00.593Z"
   },
   {
    "duration": 15,
    "start_time": "2021-10-25T19:08:00.632Z"
   },
   {
    "duration": 24,
    "start_time": "2021-10-25T19:08:00.649Z"
   },
   {
    "duration": 16,
    "start_time": "2021-10-25T19:08:00.676Z"
   },
   {
    "duration": 10,
    "start_time": "2021-10-25T19:08:00.694Z"
   },
   {
    "duration": 23,
    "start_time": "2021-10-25T19:08:00.706Z"
   },
   {
    "duration": 30,
    "start_time": "2021-10-25T19:08:00.731Z"
   },
   {
    "duration": 58,
    "start_time": "2021-10-25T19:08:00.763Z"
   },
   {
    "duration": 11,
    "start_time": "2021-10-25T19:08:00.823Z"
   },
   {
    "duration": 22,
    "start_time": "2021-10-25T19:08:00.836Z"
   },
   {
    "duration": 12,
    "start_time": "2021-10-25T19:08:00.861Z"
   },
   {
    "duration": 11,
    "start_time": "2021-10-25T19:08:00.875Z"
   },
   {
    "duration": 34,
    "start_time": "2021-10-25T19:08:00.888Z"
   },
   {
    "duration": 27,
    "start_time": "2021-10-25T19:08:00.925Z"
   },
   {
    "duration": 24,
    "start_time": "2021-10-25T19:08:00.954Z"
   },
   {
    "duration": 55,
    "start_time": "2021-10-25T19:08:00.980Z"
   },
   {
    "duration": 5,
    "start_time": "2021-10-25T19:08:01.038Z"
   },
   {
    "duration": 50,
    "start_time": "2021-10-25T19:08:01.046Z"
   },
   {
    "duration": 14,
    "start_time": "2021-10-25T19:08:01.121Z"
   },
   {
    "duration": 354,
    "start_time": "2021-10-25T19:08:01.138Z"
   },
   {
    "duration": 32,
    "start_time": "2021-10-25T19:08:01.494Z"
   },
   {
    "duration": 332,
    "start_time": "2021-10-25T19:08:01.528Z"
   },
   {
    "duration": 29,
    "start_time": "2021-10-25T19:08:01.862Z"
   },
   {
    "duration": 55,
    "start_time": "2021-10-25T19:08:01.893Z"
   },
   {
    "duration": 663,
    "start_time": "2021-10-25T19:08:01.950Z"
   },
   {
    "duration": 40,
    "start_time": "2021-10-25T19:08:02.623Z"
   },
   {
    "duration": 229,
    "start_time": "2021-10-25T19:08:02.665Z"
   },
   {
    "duration": 27,
    "start_time": "2021-10-25T19:08:02.896Z"
   },
   {
    "duration": 618,
    "start_time": "2021-10-25T19:08:02.926Z"
   },
   {
    "duration": 7,
    "start_time": "2021-10-25T19:08:03.546Z"
   },
   {
    "duration": 27,
    "start_time": "2021-10-25T19:08:03.555Z"
   },
   {
    "duration": 14,
    "start_time": "2021-10-25T19:08:03.584Z"
   },
   {
    "duration": 27,
    "start_time": "2021-10-25T19:08:03.600Z"
   },
   {
    "duration": 278,
    "start_time": "2021-10-25T19:08:03.630Z"
   },
   {
    "duration": 24,
    "start_time": "2021-10-25T19:08:03.910Z"
   },
   {
    "duration": 540,
    "start_time": "2021-10-25T19:08:03.937Z"
   },
   {
    "duration": 19,
    "start_time": "2021-10-25T19:08:04.480Z"
   },
   {
    "duration": 267,
    "start_time": "2021-10-25T19:11:48.350Z"
   },
   {
    "duration": 507,
    "start_time": "2021-10-25T19:13:11.477Z"
   },
   {
    "duration": 490,
    "start_time": "2021-10-25T19:13:20.274Z"
   },
   {
    "duration": 367,
    "start_time": "2021-10-25T19:13:36.160Z"
   },
   {
    "duration": 4,
    "start_time": "2021-10-25T19:14:05.556Z"
   },
   {
    "duration": 98,
    "start_time": "2021-10-25T19:14:05.563Z"
   },
   {
    "duration": 21,
    "start_time": "2021-10-25T19:14:05.664Z"
   },
   {
    "duration": 23,
    "start_time": "2021-10-25T19:14:05.722Z"
   },
   {
    "duration": 68,
    "start_time": "2021-10-25T19:14:05.747Z"
   },
   {
    "duration": 35,
    "start_time": "2021-10-25T19:14:05.818Z"
   },
   {
    "duration": 26,
    "start_time": "2021-10-25T19:14:05.856Z"
   },
   {
    "duration": 15,
    "start_time": "2021-10-25T19:14:05.885Z"
   },
   {
    "duration": 12,
    "start_time": "2021-10-25T19:14:05.923Z"
   },
   {
    "duration": 17,
    "start_time": "2021-10-25T19:14:05.938Z"
   },
   {
    "duration": 33,
    "start_time": "2021-10-25T19:14:05.958Z"
   },
   {
    "duration": 28,
    "start_time": "2021-10-25T19:14:05.994Z"
   },
   {
    "duration": 1616,
    "start_time": "2021-10-25T19:14:06.025Z"
   },
   {
    "duration": 13,
    "start_time": "2021-10-25T19:14:07.644Z"
   },
   {
    "duration": 11,
    "start_time": "2021-10-25T19:14:07.660Z"
   },
   {
    "duration": 22,
    "start_time": "2021-10-25T19:14:07.674Z"
   },
   {
    "duration": 14,
    "start_time": "2021-10-25T19:14:07.724Z"
   },
   {
    "duration": 25,
    "start_time": "2021-10-25T19:14:07.740Z"
   },
   {
    "duration": 15,
    "start_time": "2021-10-25T19:14:07.767Z"
   },
   {
    "duration": 72,
    "start_time": "2021-10-25T19:14:07.784Z"
   },
   {
    "duration": 25,
    "start_time": "2021-10-25T19:14:07.858Z"
   },
   {
    "duration": 36,
    "start_time": "2021-10-25T19:14:07.886Z"
   },
   {
    "duration": 23,
    "start_time": "2021-10-25T19:14:07.929Z"
   },
   {
    "duration": 20,
    "start_time": "2021-10-25T19:14:07.956Z"
   },
   {
    "duration": 47,
    "start_time": "2021-10-25T19:14:07.978Z"
   },
   {
    "duration": 17,
    "start_time": "2021-10-25T19:14:08.028Z"
   },
   {
    "duration": 30,
    "start_time": "2021-10-25T19:14:08.047Z"
   },
   {
    "duration": 11,
    "start_time": "2021-10-25T19:14:08.079Z"
   },
   {
    "duration": 9,
    "start_time": "2021-10-25T19:14:08.092Z"
   },
   {
    "duration": 8,
    "start_time": "2021-10-25T19:14:08.122Z"
   },
   {
    "duration": 19,
    "start_time": "2021-10-25T19:14:08.132Z"
   },
   {
    "duration": 14,
    "start_time": "2021-10-25T19:14:08.154Z"
   },
   {
    "duration": 15,
    "start_time": "2021-10-25T19:14:08.170Z"
   },
   {
    "duration": 9,
    "start_time": "2021-10-25T19:14:08.188Z"
   },
   {
    "duration": 49,
    "start_time": "2021-10-25T19:14:08.200Z"
   },
   {
    "duration": 16,
    "start_time": "2021-10-25T19:14:08.252Z"
   },
   {
    "duration": 14,
    "start_time": "2021-10-25T19:14:08.270Z"
   },
   {
    "duration": 45,
    "start_time": "2021-10-25T19:14:08.287Z"
   },
   {
    "duration": 19,
    "start_time": "2021-10-25T19:14:08.334Z"
   },
   {
    "duration": 13,
    "start_time": "2021-10-25T19:14:08.356Z"
   },
   {
    "duration": 50,
    "start_time": "2021-10-25T19:14:08.372Z"
   },
   {
    "duration": 16,
    "start_time": "2021-10-25T19:14:08.425Z"
   },
   {
    "duration": 41,
    "start_time": "2021-10-25T19:14:08.444Z"
   },
   {
    "duration": 5,
    "start_time": "2021-10-25T19:14:08.488Z"
   },
   {
    "duration": 44,
    "start_time": "2021-10-25T19:14:08.523Z"
   },
   {
    "duration": 12,
    "start_time": "2021-10-25T19:14:08.570Z"
   },
   {
    "duration": 349,
    "start_time": "2021-10-25T19:14:08.585Z"
   },
   {
    "duration": 22,
    "start_time": "2021-10-25T19:14:08.936Z"
   },
   {
    "duration": 365,
    "start_time": "2021-10-25T19:14:08.961Z"
   },
   {
    "duration": 29,
    "start_time": "2021-10-25T19:14:09.328Z"
   },
   {
    "duration": 28,
    "start_time": "2021-10-25T19:14:09.360Z"
   },
   {
    "duration": 678,
    "start_time": "2021-10-25T19:14:09.390Z"
   },
   {
    "duration": 60,
    "start_time": "2021-10-25T19:14:10.071Z"
   },
   {
    "duration": 208,
    "start_time": "2021-10-25T19:14:10.134Z"
   },
   {
    "duration": 23,
    "start_time": "2021-10-25T19:14:10.345Z"
   },
   {
    "duration": 618,
    "start_time": "2021-10-25T19:14:10.371Z"
   },
   {
    "duration": 9,
    "start_time": "2021-10-25T19:14:10.992Z"
   },
   {
    "duration": 8,
    "start_time": "2021-10-25T19:14:11.028Z"
   },
   {
    "duration": 12,
    "start_time": "2021-10-25T19:14:11.039Z"
   },
   {
    "duration": 10,
    "start_time": "2021-10-25T19:14:11.054Z"
   },
   {
    "duration": 303,
    "start_time": "2021-10-25T19:14:11.066Z"
   },
   {
    "duration": 18,
    "start_time": "2021-10-25T19:14:11.372Z"
   },
   {
    "duration": 516,
    "start_time": "2021-10-25T19:14:11.393Z"
   },
   {
    "duration": 25,
    "start_time": "2021-10-25T19:14:11.912Z"
   }
  ],
  "colab": {
   "name": "DA+. Сборный проект 1. Шаблон (1).ipynb",
   "provenance": []
  },
  "kernelspec": {
   "display_name": "Python 3 (ipykernel)",
   "language": "python",
   "name": "python3"
  },
  "language_info": {
   "codemirror_mode": {
    "name": "ipython",
    "version": 3
   },
   "file_extension": ".py",
   "mimetype": "text/x-python",
   "name": "python",
   "nbconvert_exporter": "python",
   "pygments_lexer": "ipython3",
   "version": "3.9.7"
  },
  "toc": {
   "base_numbering": 1,
   "nav_menu": {},
   "number_sections": true,
   "sideBar": true,
   "skip_h1_title": true,
   "title_cell": "Table of Contents",
   "title_sidebar": "Contents",
   "toc_cell": false,
   "toc_position": {
    "height": "calc(100% - 180px)",
    "left": "10px",
    "top": "150px",
    "width": "375.391px"
   },
   "toc_section_display": true,
   "toc_window_display": false
  }
 },
 "nbformat": 4,
 "nbformat_minor": 1
}
